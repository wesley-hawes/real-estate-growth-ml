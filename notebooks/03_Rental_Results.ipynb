{
 "cells": [
  {
   "cell_type": "code",
   "execution_count": 1,
   "id": "804ebc08-65c6-4aa9-b17d-0229f1c24522",
   "metadata": {
    "scrolled": true
   },
   "outputs": [
    {
     "name": "stdout",
     "output_type": "stream",
     "text": [
      "Requirement already satisfied: geopandas in c:\\users\\wesle\\anaconda3\\lib\\site-packages (1.1.1)\n",
      "Requirement already satisfied: numpy>=1.24 in c:\\users\\wesle\\anaconda3\\lib\\site-packages (from geopandas) (1.26.4)\n",
      "Requirement already satisfied: pyogrio>=0.7.2 in c:\\users\\wesle\\anaconda3\\lib\\site-packages (from geopandas) (0.11.1)\n",
      "Requirement already satisfied: packaging in c:\\users\\wesle\\anaconda3\\lib\\site-packages (from geopandas) (24.1)\n",
      "Requirement already satisfied: pandas>=2.0.0 in c:\\users\\wesle\\anaconda3\\lib\\site-packages (from geopandas) (2.2.2)\n",
      "Requirement already satisfied: pyproj>=3.5.0 in c:\\users\\wesle\\anaconda3\\lib\\site-packages (from geopandas) (3.7.2)\n",
      "Requirement already satisfied: shapely>=2.0.0 in c:\\users\\wesle\\anaconda3\\lib\\site-packages (from geopandas) (2.1.1)\n",
      "Requirement already satisfied: python-dateutil>=2.8.2 in c:\\users\\wesle\\anaconda3\\lib\\site-packages (from pandas>=2.0.0->geopandas) (2.9.0.post0)\n",
      "Requirement already satisfied: pytz>=2020.1 in c:\\users\\wesle\\anaconda3\\lib\\site-packages (from pandas>=2.0.0->geopandas) (2024.1)\n",
      "Requirement already satisfied: tzdata>=2022.7 in c:\\users\\wesle\\anaconda3\\lib\\site-packages (from pandas>=2.0.0->geopandas) (2023.3)\n",
      "Requirement already satisfied: certifi in c:\\users\\wesle\\anaconda3\\lib\\site-packages (from pyogrio>=0.7.2->geopandas) (2025.4.26)\n",
      "Requirement already satisfied: six>=1.5 in c:\\users\\wesle\\anaconda3\\lib\\site-packages (from python-dateutil>=2.8.2->pandas>=2.0.0->geopandas) (1.16.0)\n"
     ]
    }
   ],
   "source": [
    "!pip install geopandas"
   ]
  },
  {
   "cell_type": "code",
   "execution_count": 13,
   "id": "8edae2e9-1dc5-4b6b-af3a-1581e06e24c2",
   "metadata": {},
   "outputs": [
    {
     "name": "stdout",
     "output_type": "stream",
     "text": [
      "Saved FIPS lookup to data/fips_lookup.csv\n"
     ]
    },
    {
     "data": {
      "text/html": [
       "<div>\n",
       "<style scoped>\n",
       "    .dataframe tbody tr th:only-of-type {\n",
       "        vertical-align: middle;\n",
       "    }\n",
       "\n",
       "    .dataframe tbody tr th {\n",
       "        vertical-align: top;\n",
       "    }\n",
       "\n",
       "    .dataframe thead th {\n",
       "        text-align: right;\n",
       "    }\n",
       "</style>\n",
       "<table border=\"1\" class=\"dataframe\">\n",
       "  <thead>\n",
       "    <tr style=\"text-align: right;\">\n",
       "      <th></th>\n",
       "      <th>county_fips</th>\n",
       "      <th>county_name</th>\n",
       "      <th>state_abbr</th>\n",
       "    </tr>\n",
       "  </thead>\n",
       "  <tbody>\n",
       "    <tr>\n",
       "      <th>0</th>\n",
       "      <td>01001</td>\n",
       "      <td>Autauga County</td>\n",
       "      <td>AL</td>\n",
       "    </tr>\n",
       "    <tr>\n",
       "      <th>1</th>\n",
       "      <td>01003</td>\n",
       "      <td>Baldwin County</td>\n",
       "      <td>AL</td>\n",
       "    </tr>\n",
       "    <tr>\n",
       "      <th>2</th>\n",
       "      <td>01005</td>\n",
       "      <td>Barbour County</td>\n",
       "      <td>AL</td>\n",
       "    </tr>\n",
       "    <tr>\n",
       "      <th>3</th>\n",
       "      <td>01007</td>\n",
       "      <td>Bibb County</td>\n",
       "      <td>AL</td>\n",
       "    </tr>\n",
       "    <tr>\n",
       "      <th>4</th>\n",
       "      <td>01009</td>\n",
       "      <td>Blount County</td>\n",
       "      <td>AL</td>\n",
       "    </tr>\n",
       "  </tbody>\n",
       "</table>\n",
       "</div>"
      ],
      "text/plain": [
       "  county_fips     county_name state_abbr\n",
       "0       01001  Autauga County         AL\n",
       "1       01003  Baldwin County         AL\n",
       "2       01005  Barbour County         AL\n",
       "3       01007     Bibb County         AL\n",
       "4       01009   Blount County         AL"
      ]
     },
     "execution_count": 13,
     "metadata": {},
     "output_type": "execute_result"
    }
   ],
   "source": [
    "import pandas as pd\n",
    "import requests\n",
    "\n",
    "# Download HUD crosswalk file (FIPS to county name/state)\n",
    "url = \"https://www2.census.gov/geo/docs/reference/codes/files/national_county.txt\"\n",
    "\n",
    "# This file has format: state_abbr | state_fips | county_fips | county_name | class\n",
    "df_lookup = pd.read_csv(url, header=None, dtype=str)\n",
    "df_lookup.columns = [\"state_abbr\", \"state_fips\", \"county_fips3\", \"county_name\", \"class\"]\n",
    "\n",
    "# Build 5-digit FIPS code\n",
    "df_lookup[\"county_fips\"] = df_lookup[\"state_fips\"].str.zfill(2) + df_lookup[\"county_fips3\"].str.zfill(3)\n",
    "df_lookup = df_lookup[[\"county_fips\", \"county_name\", \"state_abbr\"]]\n",
    "\n",
    "# Save once for reuse\n",
    "import os\n",
    "os.makedirs(\"data\", exist_ok=True)\n",
    "df_lookup.to_csv(\"data/fips_lookup.csv\", index=False)\n",
    "\n",
    "print(\"Saved FIPS lookup to data/fips_lookup.csv\")\n",
    "df_lookup.head()\n"
   ]
  },
  {
   "cell_type": "code",
   "execution_count": 33,
   "id": "481b4327-be89-494a-ae5a-0ad24ebf8681",
   "metadata": {},
   "outputs": [
    {
     "data": {
      "application/vnd.plotly.v1+json": {
       "config": {
        "plotlyServerURL": "https://plot.ly"
       },
       "data": [
        {
         "coloraxis": "coloraxis",
         "customdata": [
          [
           "Autauga County, AL"
          ],
          [
           "Baldwin County, AL"
          ],
          [
           "Barbour County, AL"
          ],
          [
           "Bibb County, AL"
          ],
          [
           "Blount County, AL"
          ],
          [
           "Bullock County, AL"
          ],
          [
           "Butler County, AL"
          ],
          [
           "Calhoun County, AL"
          ],
          [
           "Chambers County, AL"
          ],
          [
           "Cherokee County, AL"
          ],
          [
           "Chilton County, AL"
          ],
          [
           "Choctaw County, AL"
          ],
          [
           "Clarke County, AL"
          ],
          [
           "Clay County, AL"
          ],
          [
           "Cleburne County, AL"
          ],
          [
           "Coffee County, AL"
          ],
          [
           "Colbert County, AL"
          ],
          [
           "Conecuh County, AL"
          ],
          [
           "Coosa County, AL"
          ],
          [
           "Covington County, AL"
          ],
          [
           "Crenshaw County, AL"
          ],
          [
           "Cullman County, AL"
          ],
          [
           "Dale County, AL"
          ],
          [
           "Dallas County, AL"
          ],
          [
           "DeKalb County, AL"
          ],
          [
           "Elmore County, AL"
          ],
          [
           "Escambia County, AL"
          ],
          [
           "Etowah County, AL"
          ],
          [
           "Fayette County, AL"
          ],
          [
           "Franklin County, AL"
          ],
          [
           "Geneva County, AL"
          ],
          [
           "Greene County, AL"
          ],
          [
           "Hale County, AL"
          ],
          [
           "Henry County, AL"
          ],
          [
           "Houston County, AL"
          ],
          [
           "Jackson County, AL"
          ],
          [
           "Jefferson County, AL"
          ],
          [
           "Lamar County, AL"
          ],
          [
           "Lauderdale County, AL"
          ],
          [
           "Lawrence County, AL"
          ],
          [
           "Lee County, AL"
          ],
          [
           "Limestone County, AL"
          ],
          [
           "Lowndes County, AL"
          ],
          [
           "Macon County, AL"
          ],
          [
           "Madison County, AL"
          ],
          [
           "Marengo County, AL"
          ],
          [
           "Marion County, AL"
          ],
          [
           "Marshall County, AL"
          ],
          [
           "Mobile County, AL"
          ],
          [
           "Monroe County, AL"
          ],
          [
           "Montgomery County, AL"
          ],
          [
           "Morgan County, AL"
          ],
          [
           "Perry County, AL"
          ],
          [
           "Pickens County, AL"
          ],
          [
           "Pike County, AL"
          ],
          [
           "Randolph County, AL"
          ],
          [
           "Russell County, AL"
          ],
          [
           "St. Clair County, AL"
          ],
          [
           "Shelby County, AL"
          ],
          [
           "Sumter County, AL"
          ],
          [
           "Talladega County, AL"
          ],
          [
           "Tallapoosa County, AL"
          ],
          [
           "Tuscaloosa County, AL"
          ],
          [
           "Walker County, AL"
          ],
          [
           "Washington County, AL"
          ],
          [
           "Wilcox County, AL"
          ],
          [
           "Winston County, AL"
          ],
          [
           "Anchorage Borough, AK"
          ],
          [
           "Fairbanks North Star Borough, AK"
          ],
          [
           "Haines Borough, AK"
          ],
          [
           "Juneau Borough, AK"
          ],
          [
           "Kenai Peninsula Borough, AK"
          ],
          [
           "Ketchikan Gateway Borough, AK"
          ],
          [
           "Kodiak Island Borough, AK"
          ],
          [
           "Matanuska-Susitna Borough, AK"
          ],
          [
           "North Slope Borough, AK"
          ],
          [
           "Petersburg Borough, AK"
          ],
          [
           "Sitka Borough, AK"
          ],
          [
           "Southeast Fairbanks Borough, AK"
          ],
          [
           "Wrangell Borough, AK"
          ],
          [
           "Apache County, AZ"
          ],
          [
           "Cochise County, AZ"
          ],
          [
           "Coconino County, AZ"
          ],
          [
           "Gila County, AZ"
          ],
          [
           "Graham County, AZ"
          ],
          [
           "Greenlee County, AZ"
          ],
          [
           "La Paz County, AZ"
          ],
          [
           "Maricopa County, AZ"
          ],
          [
           "Mohave County, AZ"
          ],
          [
           "Navajo County, AZ"
          ],
          [
           "Pima County, AZ"
          ],
          [
           "Pinal County, AZ"
          ],
          [
           "Santa Cruz County, AZ"
          ],
          [
           "Yavapai County, AZ"
          ],
          [
           "Yuma County, AZ"
          ],
          [
           "Arkansas County, AR"
          ],
          [
           "Ashley County, AR"
          ],
          [
           "Baxter County, AR"
          ],
          [
           "Benton County, AR"
          ],
          [
           "Boone County, AR"
          ],
          [
           "Bradley County, AR"
          ],
          [
           "Calhoun County, AR"
          ],
          [
           "Carroll County, AR"
          ],
          [
           "Chicot County, AR"
          ],
          [
           "Clark County, AR"
          ],
          [
           "Clay County, AR"
          ],
          [
           "Cleburne County, AR"
          ],
          [
           "Cleveland County, AR"
          ],
          [
           "Columbia County, AR"
          ],
          [
           "Conway County, AR"
          ],
          [
           "Craighead County, AR"
          ],
          [
           "Crawford County, AR"
          ],
          [
           "Crittenden County, AR"
          ],
          [
           "Cross County, AR"
          ],
          [
           "Dallas County, AR"
          ],
          [
           "Desha County, AR"
          ],
          [
           "Drew County, AR"
          ],
          [
           "Faulkner County, AR"
          ],
          [
           "Franklin County, AR"
          ],
          [
           "Fulton County, AR"
          ],
          [
           "Garland County, AR"
          ],
          [
           "Grant County, AR"
          ],
          [
           "Greene County, AR"
          ],
          [
           "Hempstead County, AR"
          ],
          [
           "Hot Spring County, AR"
          ],
          [
           "Howard County, AR"
          ],
          [
           "Independence County, AR"
          ],
          [
           "Izard County, AR"
          ],
          [
           "Jackson County, AR"
          ],
          [
           "Jefferson County, AR"
          ],
          [
           "Johnson County, AR"
          ],
          [
           "Lafayette County, AR"
          ],
          [
           "Lawrence County, AR"
          ],
          [
           "Lee County, AR"
          ],
          [
           "Lincoln County, AR"
          ],
          [
           "Little River County, AR"
          ],
          [
           "Logan County, AR"
          ],
          [
           "Lonoke County, AR"
          ],
          [
           "Madison County, AR"
          ],
          [
           "Marion County, AR"
          ],
          [
           "Miller County, AR"
          ],
          [
           "Mississippi County, AR"
          ],
          [
           "Monroe County, AR"
          ],
          [
           "Montgomery County, AR"
          ],
          [
           "Newton County, AR"
          ],
          [
           "Ouachita County, AR"
          ],
          [
           "Perry County, AR"
          ],
          [
           "Phillips County, AR"
          ],
          [
           "Pike County, AR"
          ],
          [
           "Poinsett County, AR"
          ],
          [
           "Polk County, AR"
          ],
          [
           "Pope County, AR"
          ],
          [
           "Prairie County, AR"
          ],
          [
           "Pulaski County, AR"
          ],
          [
           "Randolph County, AR"
          ],
          [
           "St. Francis County, AR"
          ],
          [
           "Saline County, AR"
          ],
          [
           "Scott County, AR"
          ],
          [
           "Searcy County, AR"
          ],
          [
           "Sebastian County, AR"
          ],
          [
           "Sevier County, AR"
          ],
          [
           "Sharp County, AR"
          ],
          [
           "Stone County, AR"
          ],
          [
           "Union County, AR"
          ],
          [
           "Van Buren County, AR"
          ],
          [
           "Washington County, AR"
          ],
          [
           "White County, AR"
          ],
          [
           "Woodruff County, AR"
          ],
          [
           "Yell County, AR"
          ],
          [
           "Alameda County, CA"
          ],
          [
           "Alpine County, CA"
          ],
          [
           "Amador County, CA"
          ],
          [
           "Butte County, CA"
          ],
          [
           "Calaveras County, CA"
          ],
          [
           "Colusa County, CA"
          ],
          [
           "Contra Costa County, CA"
          ],
          [
           "Del Norte County, CA"
          ],
          [
           "El Dorado County, CA"
          ],
          [
           "Fresno County, CA"
          ],
          [
           "Glenn County, CA"
          ],
          [
           "Humboldt County, CA"
          ],
          [
           "Imperial County, CA"
          ],
          [
           "Inyo County, CA"
          ],
          [
           "Kern County, CA"
          ],
          [
           "Kings County, CA"
          ],
          [
           "Lake County, CA"
          ],
          [
           "Lassen County, CA"
          ],
          [
           "Los Angeles County, CA"
          ],
          [
           "Madera County, CA"
          ],
          [
           "Marin County, CA"
          ],
          [
           "Mariposa County, CA"
          ],
          [
           "Mendocino County, CA"
          ],
          [
           "Merced County, CA"
          ],
          [
           "Modoc County, CA"
          ],
          [
           "Mono County, CA"
          ],
          [
           "Monterey County, CA"
          ],
          [
           "Napa County, CA"
          ],
          [
           "Nevada County, CA"
          ],
          [
           "Orange County, CA"
          ],
          [
           "Placer County, CA"
          ],
          [
           "Plumas County, CA"
          ],
          [
           "Riverside County, CA"
          ],
          [
           "Sacramento County, CA"
          ],
          [
           "San Benito County, CA"
          ],
          [
           "San Bernardino County, CA"
          ],
          [
           "San Diego County, CA"
          ],
          [
           "San Francisco County, CA"
          ],
          [
           "San Joaquin County, CA"
          ],
          [
           "San Luis Obispo County, CA"
          ],
          [
           "San Mateo County, CA"
          ],
          [
           "Santa Barbara County, CA"
          ],
          [
           "Santa Clara County, CA"
          ],
          [
           "Santa Cruz County, CA"
          ],
          [
           "Shasta County, CA"
          ],
          [
           "Sierra County, CA"
          ],
          [
           "Siskiyou County, CA"
          ],
          [
           "Solano County, CA"
          ],
          [
           "Sonoma County, CA"
          ],
          [
           "Stanislaus County, CA"
          ],
          [
           "Sutter County, CA"
          ],
          [
           "Tehama County, CA"
          ],
          [
           "Trinity County, CA"
          ],
          [
           "Tulare County, CA"
          ],
          [
           "Tuolumne County, CA"
          ],
          [
           "Ventura County, CA"
          ],
          [
           "Yolo County, CA"
          ],
          [
           "Yuba County, CA"
          ],
          [
           "Adams County, CO"
          ],
          [
           "Alamosa County, CO"
          ],
          [
           "Arapahoe County, CO"
          ],
          [
           "Archuleta County, CO"
          ],
          [
           "Bent County, CO"
          ],
          [
           "Boulder County, CO"
          ],
          [
           "Broomfield County, CO"
          ],
          [
           "Chaffee County, CO"
          ],
          [
           "Cheyenne County, CO"
          ],
          [
           "Clear Creek County, CO"
          ],
          [
           "Conejos County, CO"
          ],
          [
           "Costilla County, CO"
          ],
          [
           "Crowley County, CO"
          ],
          [
           "Custer County, CO"
          ],
          [
           "Delta County, CO"
          ],
          [
           "Denver County, CO"
          ],
          [
           "Dolores County, CO"
          ],
          [
           "Douglas County, CO"
          ],
          [
           "Eagle County, CO"
          ],
          [
           "Elbert County, CO"
          ],
          [
           "El Paso County, CO"
          ],
          [
           "Fremont County, CO"
          ],
          [
           "Garfield County, CO"
          ],
          [
           "Gilpin County, CO"
          ],
          [
           "Grand County, CO"
          ],
          [
           "Gunnison County, CO"
          ],
          [
           "Hinsdale County, CO"
          ],
          [
           "Huerfano County, CO"
          ],
          [
           "Jefferson County, CO"
          ],
          [
           "Kiowa County, CO"
          ],
          [
           "Kit Carson County, CO"
          ],
          [
           "Lake County, CO"
          ],
          [
           "La Plata County, CO"
          ],
          [
           "Larimer County, CO"
          ],
          [
           "Las Animas County, CO"
          ],
          [
           "Lincoln County, CO"
          ],
          [
           "Logan County, CO"
          ],
          [
           "Mesa County, CO"
          ],
          [
           "Mineral County, CO"
          ],
          [
           "Moffat County, CO"
          ],
          [
           "Montezuma County, CO"
          ],
          [
           "Montrose County, CO"
          ],
          [
           "Morgan County, CO"
          ],
          [
           "Otero County, CO"
          ],
          [
           "Ouray County, CO"
          ],
          [
           "Park County, CO"
          ],
          [
           "Phillips County, CO"
          ],
          [
           "Pitkin County, CO"
          ],
          [
           "Prowers County, CO"
          ],
          [
           "Pueblo County, CO"
          ],
          [
           "Rio Blanco County, CO"
          ],
          [
           "Rio Grande County, CO"
          ],
          [
           "Routt County, CO"
          ],
          [
           "Saguache County, CO"
          ],
          [
           "San Juan County, CO"
          ],
          [
           "San Miguel County, CO"
          ],
          [
           "Sedgwick County, CO"
          ],
          [
           "Summit County, CO"
          ],
          [
           "Teller County, CO"
          ],
          [
           "Washington County, CO"
          ],
          [
           "Weld County, CO"
          ],
          [
           "Yuma County, CO"
          ],
          [
           "Fairfield County, CT"
          ],
          [
           "Hartford County, CT"
          ],
          [
           "Litchfield County, CT"
          ],
          [
           "Middlesex County, CT"
          ],
          [
           "New Haven County, CT"
          ],
          [
           "New London County, CT"
          ],
          [
           "Tolland County, CT"
          ],
          [
           "Windham County, CT"
          ],
          [
           "Kent County, DE"
          ],
          [
           "New Castle County, DE"
          ],
          [
           "Sussex County, DE"
          ],
          [
           "District of Columbia, DC"
          ],
          [
           "Alachua County, FL"
          ],
          [
           "Baker County, FL"
          ],
          [
           "Bay County, FL"
          ],
          [
           "Bradford County, FL"
          ],
          [
           "Brevard County, FL"
          ],
          [
           "Broward County, FL"
          ],
          [
           "Calhoun County, FL"
          ],
          [
           "Charlotte County, FL"
          ],
          [
           "Citrus County, FL"
          ],
          [
           "Clay County, FL"
          ],
          [
           "Collier County, FL"
          ],
          [
           "Columbia County, FL"
          ],
          [
           "DeSoto County, FL"
          ],
          [
           "Dixie County, FL"
          ],
          [
           "Duval County, FL"
          ],
          [
           "Escambia County, FL"
          ],
          [
           "Flagler County, FL"
          ],
          [
           "Franklin County, FL"
          ],
          [
           "Gadsden County, FL"
          ],
          [
           "Gilchrist County, FL"
          ],
          [
           "Glades County, FL"
          ],
          [
           "Gulf County, FL"
          ],
          [
           "Hamilton County, FL"
          ],
          [
           "Hardee County, FL"
          ],
          [
           "Hendry County, FL"
          ],
          [
           "Hernando County, FL"
          ],
          [
           "Highlands County, FL"
          ],
          [
           "Hillsborough County, FL"
          ],
          [
           "Holmes County, FL"
          ],
          [
           "Indian River County, FL"
          ],
          [
           "Jackson County, FL"
          ],
          [
           "Jefferson County, FL"
          ],
          [
           "Lafayette County, FL"
          ],
          [
           "Lake County, FL"
          ],
          [
           "Lee County, FL"
          ],
          [
           "Leon County, FL"
          ],
          [
           "Levy County, FL"
          ],
          [
           "Liberty County, FL"
          ],
          [
           "Madison County, FL"
          ],
          [
           "Manatee County, FL"
          ],
          [
           "Marion County, FL"
          ],
          [
           "Martin County, FL"
          ],
          [
           "Miami-Dade County, FL"
          ],
          [
           "Monroe County, FL"
          ],
          [
           "Nassau County, FL"
          ],
          [
           "Okaloosa County, FL"
          ],
          [
           "Okeechobee County, FL"
          ],
          [
           "Orange County, FL"
          ],
          [
           "Osceola County, FL"
          ],
          [
           "Palm Beach County, FL"
          ],
          [
           "Pasco County, FL"
          ],
          [
           "Pinellas County, FL"
          ],
          [
           "Polk County, FL"
          ],
          [
           "Putnam County, FL"
          ],
          [
           "St. Johns County, FL"
          ],
          [
           "St. Lucie County, FL"
          ],
          [
           "Santa Rosa County, FL"
          ],
          [
           "Sarasota County, FL"
          ],
          [
           "Seminole County, FL"
          ],
          [
           "Sumter County, FL"
          ],
          [
           "Suwannee County, FL"
          ],
          [
           "Taylor County, FL"
          ],
          [
           "Union County, FL"
          ],
          [
           "Volusia County, FL"
          ],
          [
           "Wakulla County, FL"
          ],
          [
           "Walton County, FL"
          ],
          [
           "Washington County, FL"
          ],
          [
           "Appling County, GA"
          ],
          [
           "Atkinson County, GA"
          ],
          [
           "Bacon County, GA"
          ],
          [
           "Baker County, GA"
          ],
          [
           "Baldwin County, GA"
          ],
          [
           "Banks County, GA"
          ],
          [
           "Barrow County, GA"
          ],
          [
           "Bartow County, GA"
          ],
          [
           "Ben Hill County, GA"
          ],
          [
           "Berrien County, GA"
          ],
          [
           "Bibb County, GA"
          ],
          [
           "Bleckley County, GA"
          ],
          [
           "Brantley County, GA"
          ],
          [
           "Brooks County, GA"
          ],
          [
           "Bryan County, GA"
          ],
          [
           "Bulloch County, GA"
          ],
          [
           "Burke County, GA"
          ],
          [
           "Butts County, GA"
          ],
          [
           "Calhoun County, GA"
          ],
          [
           "Camden County, GA"
          ],
          [
           "Candler County, GA"
          ],
          [
           "Carroll County, GA"
          ],
          [
           "Catoosa County, GA"
          ],
          [
           "Charlton County, GA"
          ],
          [
           "Chatham County, GA"
          ],
          [
           "Chattahoochee County, GA"
          ],
          [
           "Chattooga County, GA"
          ],
          [
           "Cherokee County, GA"
          ],
          [
           "Clarke County, GA"
          ],
          [
           "Clay County, GA"
          ],
          [
           "Clayton County, GA"
          ],
          [
           "Clinch County, GA"
          ],
          [
           "Cobb County, GA"
          ],
          [
           "Coffee County, GA"
          ],
          [
           "Colquitt County, GA"
          ],
          [
           "Columbia County, GA"
          ],
          [
           "Cook County, GA"
          ],
          [
           "Coweta County, GA"
          ],
          [
           "Crawford County, GA"
          ],
          [
           "Crisp County, GA"
          ],
          [
           "Dade County, GA"
          ],
          [
           "Dawson County, GA"
          ],
          [
           "Decatur County, GA"
          ],
          [
           "DeKalb County, GA"
          ],
          [
           "Dodge County, GA"
          ],
          [
           "Dooly County, GA"
          ],
          [
           "Dougherty County, GA"
          ],
          [
           "Douglas County, GA"
          ],
          [
           "Early County, GA"
          ],
          [
           "Echols County, GA"
          ],
          [
           "Effingham County, GA"
          ],
          [
           "Elbert County, GA"
          ],
          [
           "Emanuel County, GA"
          ],
          [
           "Evans County, GA"
          ],
          [
           "Fannin County, GA"
          ],
          [
           "Fayette County, GA"
          ],
          [
           "Floyd County, GA"
          ],
          [
           "Forsyth County, GA"
          ],
          [
           "Franklin County, GA"
          ],
          [
           "Fulton County, GA"
          ],
          [
           "Gilmer County, GA"
          ],
          [
           "Glascock County, GA"
          ],
          [
           "Glynn County, GA"
          ],
          [
           "Gordon County, GA"
          ],
          [
           "Grady County, GA"
          ],
          [
           "Greene County, GA"
          ],
          [
           "Gwinnett County, GA"
          ],
          [
           "Habersham County, GA"
          ],
          [
           "Hall County, GA"
          ],
          [
           "Hancock County, GA"
          ],
          [
           "Haralson County, GA"
          ],
          [
           "Harris County, GA"
          ],
          [
           "Hart County, GA"
          ],
          [
           "Heard County, GA"
          ],
          [
           "Henry County, GA"
          ],
          [
           "Houston County, GA"
          ],
          [
           "Irwin County, GA"
          ],
          [
           "Jackson County, GA"
          ],
          [
           "Jasper County, GA"
          ],
          [
           "Jeff Davis County, GA"
          ],
          [
           "Jefferson County, GA"
          ],
          [
           "Jenkins County, GA"
          ],
          [
           "Johnson County, GA"
          ],
          [
           "Jones County, GA"
          ],
          [
           "Lamar County, GA"
          ],
          [
           "Lanier County, GA"
          ],
          [
           "Laurens County, GA"
          ],
          [
           "Lee County, GA"
          ],
          [
           "Liberty County, GA"
          ],
          [
           "Lincoln County, GA"
          ],
          [
           "Long County, GA"
          ],
          [
           "Lowndes County, GA"
          ],
          [
           "Lumpkin County, GA"
          ],
          [
           "McDuffie County, GA"
          ],
          [
           "McIntosh County, GA"
          ],
          [
           "Macon County, GA"
          ],
          [
           "Madison County, GA"
          ],
          [
           "Marion County, GA"
          ],
          [
           "Meriwether County, GA"
          ],
          [
           "Miller County, GA"
          ],
          [
           "Mitchell County, GA"
          ],
          [
           "Monroe County, GA"
          ],
          [
           "Montgomery County, GA"
          ],
          [
           "Morgan County, GA"
          ],
          [
           "Murray County, GA"
          ],
          [
           "Muscogee County, GA"
          ],
          [
           "Newton County, GA"
          ],
          [
           "Oconee County, GA"
          ],
          [
           "Oglethorpe County, GA"
          ],
          [
           "Paulding County, GA"
          ],
          [
           "Peach County, GA"
          ],
          [
           "Pickens County, GA"
          ],
          [
           "Pierce County, GA"
          ],
          [
           "Pike County, GA"
          ],
          [
           "Polk County, GA"
          ],
          [
           "Pulaski County, GA"
          ],
          [
           "Putnam County, GA"
          ],
          [
           "Quitman County, GA"
          ],
          [
           "Rabun County, GA"
          ],
          [
           "Randolph County, GA"
          ],
          [
           "Richmond County, GA"
          ],
          [
           "Rockdale County, GA"
          ],
          [
           "Schley County, GA"
          ],
          [
           "Screven County, GA"
          ],
          [
           "Seminole County, GA"
          ],
          [
           "Spalding County, GA"
          ],
          [
           "Stephens County, GA"
          ],
          [
           "Stewart County, GA"
          ],
          [
           "Sumter County, GA"
          ],
          [
           "Talbot County, GA"
          ],
          [
           "Taliaferro County, GA"
          ],
          [
           "Tattnall County, GA"
          ],
          [
           "Taylor County, GA"
          ],
          [
           "Telfair County, GA"
          ],
          [
           "Terrell County, GA"
          ],
          [
           "Thomas County, GA"
          ],
          [
           "Tift County, GA"
          ],
          [
           "Toombs County, GA"
          ],
          [
           "Towns County, GA"
          ],
          [
           "Treutlen County, GA"
          ],
          [
           "Troup County, GA"
          ],
          [
           "Turner County, GA"
          ],
          [
           "Twiggs County, GA"
          ],
          [
           "Union County, GA"
          ],
          [
           "Upson County, GA"
          ],
          [
           "Walker County, GA"
          ],
          [
           "Walton County, GA"
          ],
          [
           "Ware County, GA"
          ],
          [
           "Warren County, GA"
          ],
          [
           "Washington County, GA"
          ],
          [
           "Wayne County, GA"
          ],
          [
           "Webster County, GA"
          ],
          [
           "Wheeler County, GA"
          ],
          [
           "White County, GA"
          ],
          [
           "Whitfield County, GA"
          ],
          [
           "Wilcox County, GA"
          ],
          [
           "Wilkes County, GA"
          ],
          [
           "Wilkinson County, GA"
          ],
          [
           "Worth County, GA"
          ],
          [
           "Hawaii County, HI"
          ],
          [
           "Honolulu County, HI"
          ],
          [
           "Kauai County, HI"
          ],
          [
           "Maui County, HI"
          ],
          [
           "Ada County, ID"
          ],
          [
           "Adams County, ID"
          ],
          [
           "Bannock County, ID"
          ],
          [
           "Bear Lake County, ID"
          ],
          [
           "Benewah County, ID"
          ],
          [
           "Bingham County, ID"
          ],
          [
           "Blaine County, ID"
          ],
          [
           "Boise County, ID"
          ],
          [
           "Bonner County, ID"
          ],
          [
           "Bonneville County, ID"
          ],
          [
           "Boundary County, ID"
          ],
          [
           "Camas County, ID"
          ],
          [
           "Canyon County, ID"
          ],
          [
           "Caribou County, ID"
          ],
          [
           "Cassia County, ID"
          ],
          [
           "Clark County, ID"
          ],
          [
           "Clearwater County, ID"
          ],
          [
           "Custer County, ID"
          ],
          [
           "Elmore County, ID"
          ],
          [
           "Franklin County, ID"
          ],
          [
           "Fremont County, ID"
          ],
          [
           "Gem County, ID"
          ],
          [
           "Gooding County, ID"
          ],
          [
           "Idaho County, ID"
          ],
          [
           "Jefferson County, ID"
          ],
          [
           "Jerome County, ID"
          ],
          [
           "Kootenai County, ID"
          ],
          [
           "Latah County, ID"
          ],
          [
           "Lemhi County, ID"
          ],
          [
           "Lewis County, ID"
          ],
          [
           "Lincoln County, ID"
          ],
          [
           "Madison County, ID"
          ],
          [
           "Minidoka County, ID"
          ],
          [
           "Nez Perce County, ID"
          ],
          [
           "Oneida County, ID"
          ],
          [
           "Owyhee County, ID"
          ],
          [
           "Payette County, ID"
          ],
          [
           "Power County, ID"
          ],
          [
           "Shoshone County, ID"
          ],
          [
           "Teton County, ID"
          ],
          [
           "Twin Falls County, ID"
          ],
          [
           "Valley County, ID"
          ],
          [
           "Washington County, ID"
          ],
          [
           "Adams County, IL"
          ],
          [
           "Alexander County, IL"
          ],
          [
           "Bond County, IL"
          ],
          [
           "Boone County, IL"
          ],
          [
           "Brown County, IL"
          ],
          [
           "Bureau County, IL"
          ],
          [
           "Calhoun County, IL"
          ],
          [
           "Carroll County, IL"
          ],
          [
           "Cass County, IL"
          ],
          [
           "Champaign County, IL"
          ],
          [
           "Christian County, IL"
          ],
          [
           "Clark County, IL"
          ],
          [
           "Clay County, IL"
          ],
          [
           "Clinton County, IL"
          ],
          [
           "Coles County, IL"
          ],
          [
           "Cook County, IL"
          ],
          [
           "Crawford County, IL"
          ],
          [
           "Cumberland County, IL"
          ],
          [
           "DeKalb County, IL"
          ],
          [
           "De Witt County, IL"
          ],
          [
           "Douglas County, IL"
          ],
          [
           "DuPage County, IL"
          ],
          [
           "Edgar County, IL"
          ],
          [
           "Edwards County, IL"
          ],
          [
           "Effingham County, IL"
          ],
          [
           "Fayette County, IL"
          ],
          [
           "Ford County, IL"
          ],
          [
           "Franklin County, IL"
          ],
          [
           "Fulton County, IL"
          ],
          [
           "Gallatin County, IL"
          ],
          [
           "Greene County, IL"
          ],
          [
           "Grundy County, IL"
          ],
          [
           "Hamilton County, IL"
          ],
          [
           "Hancock County, IL"
          ],
          [
           "Hardin County, IL"
          ],
          [
           "Henderson County, IL"
          ],
          [
           "Henry County, IL"
          ],
          [
           "Iroquois County, IL"
          ],
          [
           "Jackson County, IL"
          ],
          [
           "Jasper County, IL"
          ],
          [
           "Jefferson County, IL"
          ],
          [
           "Jersey County, IL"
          ],
          [
           "Jo Daviess County, IL"
          ],
          [
           "Johnson County, IL"
          ],
          [
           "Kane County, IL"
          ],
          [
           "Kankakee County, IL"
          ],
          [
           "Kendall County, IL"
          ],
          [
           "Knox County, IL"
          ],
          [
           "Lake County, IL"
          ],
          [
           "LaSalle County, IL"
          ],
          [
           "Lawrence County, IL"
          ],
          [
           "Lee County, IL"
          ],
          [
           "Livingston County, IL"
          ],
          [
           "Logan County, IL"
          ],
          [
           "McDonough County, IL"
          ],
          [
           "McHenry County, IL"
          ],
          [
           "McLean County, IL"
          ],
          [
           "Macon County, IL"
          ],
          [
           "Macoupin County, IL"
          ],
          [
           "Madison County, IL"
          ],
          [
           "Marion County, IL"
          ],
          [
           "Marshall County, IL"
          ],
          [
           "Mason County, IL"
          ],
          [
           "Massac County, IL"
          ],
          [
           "Menard County, IL"
          ],
          [
           "Mercer County, IL"
          ],
          [
           "Monroe County, IL"
          ],
          [
           "Montgomery County, IL"
          ],
          [
           "Morgan County, IL"
          ],
          [
           "Moultrie County, IL"
          ],
          [
           "Ogle County, IL"
          ],
          [
           "Peoria County, IL"
          ],
          [
           "Perry County, IL"
          ],
          [
           "Piatt County, IL"
          ],
          [
           "Pike County, IL"
          ],
          [
           "Pope County, IL"
          ],
          [
           "Pulaski County, IL"
          ],
          [
           "Putnam County, IL"
          ],
          [
           "Randolph County, IL"
          ],
          [
           "Richland County, IL"
          ],
          [
           "Rock Island County, IL"
          ],
          [
           "St. Clair County, IL"
          ],
          [
           "Saline County, IL"
          ],
          [
           "Sangamon County, IL"
          ],
          [
           "Schuyler County, IL"
          ],
          [
           "Scott County, IL"
          ],
          [
           "Shelby County, IL"
          ],
          [
           "Stark County, IL"
          ],
          [
           "Stephenson County, IL"
          ],
          [
           "Tazewell County, IL"
          ],
          [
           "Union County, IL"
          ],
          [
           "Vermilion County, IL"
          ],
          [
           "Wabash County, IL"
          ],
          [
           "Warren County, IL"
          ],
          [
           "Washington County, IL"
          ],
          [
           "Wayne County, IL"
          ],
          [
           "White County, IL"
          ],
          [
           "Whiteside County, IL"
          ],
          [
           "Will County, IL"
          ],
          [
           "Williamson County, IL"
          ],
          [
           "Winnebago County, IL"
          ],
          [
           "Woodford County, IL"
          ],
          [
           "Adams County, IN"
          ],
          [
           "Allen County, IN"
          ],
          [
           "Bartholomew County, IN"
          ],
          [
           "Benton County, IN"
          ],
          [
           "Blackford County, IN"
          ],
          [
           "Boone County, IN"
          ],
          [
           "Brown County, IN"
          ],
          [
           "Carroll County, IN"
          ],
          [
           "Cass County, IN"
          ],
          [
           "Clark County, IN"
          ],
          [
           "Clay County, IN"
          ],
          [
           "Clinton County, IN"
          ],
          [
           "Crawford County, IN"
          ],
          [
           "Daviess County, IN"
          ],
          [
           "Dearborn County, IN"
          ],
          [
           "Decatur County, IN"
          ],
          [
           "DeKalb County, IN"
          ],
          [
           "Delaware County, IN"
          ],
          [
           "Dubois County, IN"
          ],
          [
           "Elkhart County, IN"
          ],
          [
           "Fayette County, IN"
          ],
          [
           "Floyd County, IN"
          ],
          [
           "Fountain County, IN"
          ],
          [
           "Franklin County, IN"
          ],
          [
           "Fulton County, IN"
          ],
          [
           "Gibson County, IN"
          ],
          [
           "Grant County, IN"
          ],
          [
           "Greene County, IN"
          ],
          [
           "Hamilton County, IN"
          ],
          [
           "Hancock County, IN"
          ],
          [
           "Harrison County, IN"
          ],
          [
           "Hendricks County, IN"
          ],
          [
           "Henry County, IN"
          ],
          [
           "Howard County, IN"
          ],
          [
           "Huntington County, IN"
          ],
          [
           "Jackson County, IN"
          ],
          [
           "Jasper County, IN"
          ],
          [
           "Jay County, IN"
          ],
          [
           "Jefferson County, IN"
          ],
          [
           "Jennings County, IN"
          ],
          [
           "Johnson County, IN"
          ],
          [
           "Knox County, IN"
          ],
          [
           "Kosciusko County, IN"
          ],
          [
           "LaGrange County, IN"
          ],
          [
           "Lake County, IN"
          ],
          [
           "LaPorte County, IN"
          ],
          [
           "Lawrence County, IN"
          ],
          [
           "Madison County, IN"
          ],
          [
           "Marion County, IN"
          ],
          [
           "Marshall County, IN"
          ],
          [
           "Martin County, IN"
          ],
          [
           "Miami County, IN"
          ],
          [
           "Monroe County, IN"
          ],
          [
           "Montgomery County, IN"
          ],
          [
           "Morgan County, IN"
          ],
          [
           "Newton County, IN"
          ],
          [
           "Noble County, IN"
          ],
          [
           "Ohio County, IN"
          ],
          [
           "Orange County, IN"
          ],
          [
           "Owen County, IN"
          ],
          [
           "Parke County, IN"
          ],
          [
           "Perry County, IN"
          ],
          [
           "Pike County, IN"
          ],
          [
           "Porter County, IN"
          ],
          [
           "Posey County, IN"
          ],
          [
           "Pulaski County, IN"
          ],
          [
           "Putnam County, IN"
          ],
          [
           "Randolph County, IN"
          ],
          [
           "Ripley County, IN"
          ],
          [
           "Rush County, IN"
          ],
          [
           "St. Joseph County, IN"
          ],
          [
           "Scott County, IN"
          ],
          [
           "Shelby County, IN"
          ],
          [
           "Spencer County, IN"
          ],
          [
           "Starke County, IN"
          ],
          [
           "Steuben County, IN"
          ],
          [
           "Sullivan County, IN"
          ],
          [
           "Switzerland County, IN"
          ],
          [
           "Tippecanoe County, IN"
          ],
          [
           "Tipton County, IN"
          ],
          [
           "Union County, IN"
          ],
          [
           "Vanderburgh County, IN"
          ],
          [
           "Vermillion County, IN"
          ],
          [
           "Vigo County, IN"
          ],
          [
           "Wabash County, IN"
          ],
          [
           "Warren County, IN"
          ],
          [
           "Warrick County, IN"
          ],
          [
           "Washington County, IN"
          ],
          [
           "Wayne County, IN"
          ],
          [
           "Wells County, IN"
          ],
          [
           "White County, IN"
          ],
          [
           "Whitley County, IN"
          ],
          [
           "Adair County, IA"
          ],
          [
           "Adams County, IA"
          ],
          [
           "Allamakee County, IA"
          ],
          [
           "Appanoose County, IA"
          ],
          [
           "Audubon County, IA"
          ],
          [
           "Benton County, IA"
          ],
          [
           "Black Hawk County, IA"
          ],
          [
           "Boone County, IA"
          ],
          [
           "Bremer County, IA"
          ],
          [
           "Buchanan County, IA"
          ],
          [
           "Buena Vista County, IA"
          ],
          [
           "Butler County, IA"
          ],
          [
           "Calhoun County, IA"
          ],
          [
           "Carroll County, IA"
          ],
          [
           "Cass County, IA"
          ],
          [
           "Cedar County, IA"
          ],
          [
           "Cerro Gordo County, IA"
          ],
          [
           "Cherokee County, IA"
          ],
          [
           "Chickasaw County, IA"
          ],
          [
           "Clarke County, IA"
          ],
          [
           "Clay County, IA"
          ],
          [
           "Clayton County, IA"
          ],
          [
           "Clinton County, IA"
          ],
          [
           "Crawford County, IA"
          ],
          [
           "Dallas County, IA"
          ],
          [
           "Davis County, IA"
          ],
          [
           "Decatur County, IA"
          ],
          [
           "Delaware County, IA"
          ],
          [
           "Des Moines County, IA"
          ],
          [
           "Dickinson County, IA"
          ],
          [
           "Dubuque County, IA"
          ],
          [
           "Emmet County, IA"
          ],
          [
           "Fayette County, IA"
          ],
          [
           "Floyd County, IA"
          ],
          [
           "Franklin County, IA"
          ],
          [
           "Fremont County, IA"
          ],
          [
           "Greene County, IA"
          ],
          [
           "Grundy County, IA"
          ],
          [
           "Guthrie County, IA"
          ],
          [
           "Hamilton County, IA"
          ],
          [
           "Hancock County, IA"
          ],
          [
           "Hardin County, IA"
          ],
          [
           "Harrison County, IA"
          ],
          [
           "Henry County, IA"
          ],
          [
           "Howard County, IA"
          ],
          [
           "Humboldt County, IA"
          ],
          [
           "Ida County, IA"
          ],
          [
           "Iowa County, IA"
          ],
          [
           "Jackson County, IA"
          ],
          [
           "Jasper County, IA"
          ],
          [
           "Jefferson County, IA"
          ],
          [
           "Johnson County, IA"
          ],
          [
           "Jones County, IA"
          ],
          [
           "Keokuk County, IA"
          ],
          [
           "Kossuth County, IA"
          ],
          [
           "Lee County, IA"
          ],
          [
           "Linn County, IA"
          ],
          [
           "Louisa County, IA"
          ],
          [
           "Lucas County, IA"
          ],
          [
           "Lyon County, IA"
          ],
          [
           "Madison County, IA"
          ],
          [
           "Mahaska County, IA"
          ],
          [
           "Marion County, IA"
          ],
          [
           "Marshall County, IA"
          ],
          [
           "Mills County, IA"
          ],
          [
           "Mitchell County, IA"
          ],
          [
           "Monona County, IA"
          ],
          [
           "Monroe County, IA"
          ],
          [
           "Montgomery County, IA"
          ],
          [
           "Muscatine County, IA"
          ],
          [
           "O'Brien County, IA"
          ],
          [
           "Osceola County, IA"
          ],
          [
           "Page County, IA"
          ],
          [
           "Palo Alto County, IA"
          ],
          [
           "Plymouth County, IA"
          ],
          [
           "Pocahontas County, IA"
          ],
          [
           "Polk County, IA"
          ],
          [
           "Pottawattamie County, IA"
          ],
          [
           "Poweshiek County, IA"
          ],
          [
           "Ringgold County, IA"
          ],
          [
           "Sac County, IA"
          ],
          [
           "Scott County, IA"
          ],
          [
           "Shelby County, IA"
          ],
          [
           "Sioux County, IA"
          ],
          [
           "Story County, IA"
          ],
          [
           "Tama County, IA"
          ],
          [
           "Taylor County, IA"
          ],
          [
           "Union County, IA"
          ],
          [
           "Van Buren County, IA"
          ],
          [
           "Wapello County, IA"
          ],
          [
           "Warren County, IA"
          ],
          [
           "Washington County, IA"
          ],
          [
           "Wayne County, IA"
          ],
          [
           "Webster County, IA"
          ],
          [
           "Winnebago County, IA"
          ],
          [
           "Winneshiek County, IA"
          ],
          [
           "Woodbury County, IA"
          ],
          [
           "Worth County, IA"
          ],
          [
           "Wright County, IA"
          ],
          [
           "Allen County, KS"
          ],
          [
           "Anderson County, KS"
          ],
          [
           "Atchison County, KS"
          ],
          [
           "Barber County, KS"
          ],
          [
           "Barton County, KS"
          ],
          [
           "Bourbon County, KS"
          ],
          [
           "Brown County, KS"
          ],
          [
           "Butler County, KS"
          ],
          [
           "Chase County, KS"
          ],
          [
           "Chautauqua County, KS"
          ],
          [
           "Cherokee County, KS"
          ],
          [
           "Cheyenne County, KS"
          ],
          [
           "Clark County, KS"
          ],
          [
           "Clay County, KS"
          ],
          [
           "Cloud County, KS"
          ],
          [
           "Coffey County, KS"
          ],
          [
           "Comanche County, KS"
          ],
          [
           "Cowley County, KS"
          ],
          [
           "Crawford County, KS"
          ],
          [
           "Decatur County, KS"
          ],
          [
           "Dickinson County, KS"
          ],
          [
           "Doniphan County, KS"
          ],
          [
           "Douglas County, KS"
          ],
          [
           "Edwards County, KS"
          ],
          [
           "Elk County, KS"
          ],
          [
           "Ellis County, KS"
          ],
          [
           "Ellsworth County, KS"
          ],
          [
           "Finney County, KS"
          ],
          [
           "Ford County, KS"
          ],
          [
           "Franklin County, KS"
          ],
          [
           "Geary County, KS"
          ],
          [
           "Gove County, KS"
          ],
          [
           "Graham County, KS"
          ],
          [
           "Grant County, KS"
          ],
          [
           "Gray County, KS"
          ],
          [
           "Greeley County, KS"
          ],
          [
           "Greenwood County, KS"
          ],
          [
           "Hamilton County, KS"
          ],
          [
           "Harper County, KS"
          ],
          [
           "Harvey County, KS"
          ],
          [
           "Haskell County, KS"
          ],
          [
           "Hodgeman County, KS"
          ],
          [
           "Jackson County, KS"
          ],
          [
           "Jefferson County, KS"
          ],
          [
           "Jewell County, KS"
          ],
          [
           "Johnson County, KS"
          ],
          [
           "Kearny County, KS"
          ],
          [
           "Kingman County, KS"
          ],
          [
           "Kiowa County, KS"
          ],
          [
           "Labette County, KS"
          ],
          [
           "Lane County, KS"
          ],
          [
           "Leavenworth County, KS"
          ],
          [
           "Lincoln County, KS"
          ],
          [
           "Linn County, KS"
          ],
          [
           "Logan County, KS"
          ],
          [
           "Lyon County, KS"
          ],
          [
           "McPherson County, KS"
          ],
          [
           "Marion County, KS"
          ],
          [
           "Marshall County, KS"
          ],
          [
           "Meade County, KS"
          ],
          [
           "Miami County, KS"
          ],
          [
           "Mitchell County, KS"
          ],
          [
           "Montgomery County, KS"
          ],
          [
           "Morris County, KS"
          ],
          [
           "Morton County, KS"
          ],
          [
           "Nemaha County, KS"
          ],
          [
           "Neosho County, KS"
          ],
          [
           "Ness County, KS"
          ],
          [
           "Norton County, KS"
          ],
          [
           "Osage County, KS"
          ],
          [
           "Osborne County, KS"
          ],
          [
           "Ottawa County, KS"
          ],
          [
           "Pawnee County, KS"
          ],
          [
           "Phillips County, KS"
          ],
          [
           "Pottawatomie County, KS"
          ],
          [
           "Pratt County, KS"
          ],
          [
           "Rawlins County, KS"
          ],
          [
           "Reno County, KS"
          ],
          [
           "Republic County, KS"
          ],
          [
           "Rice County, KS"
          ],
          [
           "Riley County, KS"
          ],
          [
           "Rooks County, KS"
          ],
          [
           "Rush County, KS"
          ],
          [
           "Russell County, KS"
          ],
          [
           "Saline County, KS"
          ],
          [
           "Scott County, KS"
          ],
          [
           "Sedgwick County, KS"
          ],
          [
           "Seward County, KS"
          ],
          [
           "Shawnee County, KS"
          ],
          [
           "Sheridan County, KS"
          ],
          [
           "Sherman County, KS"
          ],
          [
           "Smith County, KS"
          ],
          [
           "Stafford County, KS"
          ],
          [
           "Stanton County, KS"
          ],
          [
           "Stevens County, KS"
          ],
          [
           "Sumner County, KS"
          ],
          [
           "Thomas County, KS"
          ],
          [
           "Trego County, KS"
          ],
          [
           "Wabaunsee County, KS"
          ],
          [
           "Wallace County, KS"
          ],
          [
           "Washington County, KS"
          ],
          [
           "Wichita County, KS"
          ],
          [
           "Wilson County, KS"
          ],
          [
           "Woodson County, KS"
          ],
          [
           "Wyandotte County, KS"
          ],
          [
           "Adair County, KY"
          ],
          [
           "Allen County, KY"
          ],
          [
           "Anderson County, KY"
          ],
          [
           "Ballard County, KY"
          ],
          [
           "Barren County, KY"
          ],
          [
           "Bath County, KY"
          ],
          [
           "Bell County, KY"
          ],
          [
           "Boone County, KY"
          ],
          [
           "Bourbon County, KY"
          ],
          [
           "Boyd County, KY"
          ],
          [
           "Boyle County, KY"
          ],
          [
           "Bracken County, KY"
          ],
          [
           "Breathitt County, KY"
          ],
          [
           "Breckinridge County, KY"
          ],
          [
           "Bullitt County, KY"
          ],
          [
           "Butler County, KY"
          ],
          [
           "Caldwell County, KY"
          ],
          [
           "Calloway County, KY"
          ],
          [
           "Campbell County, KY"
          ],
          [
           "Carlisle County, KY"
          ],
          [
           "Carroll County, KY"
          ],
          [
           "Carter County, KY"
          ],
          [
           "Casey County, KY"
          ],
          [
           "Christian County, KY"
          ],
          [
           "Clark County, KY"
          ],
          [
           "Clay County, KY"
          ],
          [
           "Clinton County, KY"
          ],
          [
           "Crittenden County, KY"
          ],
          [
           "Cumberland County, KY"
          ],
          [
           "Daviess County, KY"
          ],
          [
           "Edmonson County, KY"
          ],
          [
           "Elliott County, KY"
          ],
          [
           "Estill County, KY"
          ],
          [
           "Fayette County, KY"
          ],
          [
           "Fleming County, KY"
          ],
          [
           "Floyd County, KY"
          ],
          [
           "Franklin County, KY"
          ],
          [
           "Fulton County, KY"
          ],
          [
           "Gallatin County, KY"
          ],
          [
           "Garrard County, KY"
          ],
          [
           "Grant County, KY"
          ],
          [
           "Graves County, KY"
          ],
          [
           "Grayson County, KY"
          ],
          [
           "Green County, KY"
          ],
          [
           "Greenup County, KY"
          ],
          [
           "Hancock County, KY"
          ],
          [
           "Hardin County, KY"
          ],
          [
           "Harlan County, KY"
          ],
          [
           "Harrison County, KY"
          ],
          [
           "Hart County, KY"
          ],
          [
           "Henderson County, KY"
          ],
          [
           "Henry County, KY"
          ],
          [
           "Hickman County, KY"
          ],
          [
           "Hopkins County, KY"
          ],
          [
           "Jackson County, KY"
          ],
          [
           "Jefferson County, KY"
          ],
          [
           "Jessamine County, KY"
          ],
          [
           "Johnson County, KY"
          ],
          [
           "Kenton County, KY"
          ],
          [
           "Knott County, KY"
          ],
          [
           "Knox County, KY"
          ],
          [
           "Larue County, KY"
          ],
          [
           "Laurel County, KY"
          ],
          [
           "Lawrence County, KY"
          ],
          [
           "Lee County, KY"
          ],
          [
           "Leslie County, KY"
          ],
          [
           "Letcher County, KY"
          ],
          [
           "Lewis County, KY"
          ],
          [
           "Lincoln County, KY"
          ],
          [
           "Livingston County, KY"
          ],
          [
           "Logan County, KY"
          ],
          [
           "Lyon County, KY"
          ],
          [
           "McCracken County, KY"
          ],
          [
           "McCreary County, KY"
          ],
          [
           "McLean County, KY"
          ],
          [
           "Madison County, KY"
          ],
          [
           "Magoffin County, KY"
          ],
          [
           "Marion County, KY"
          ],
          [
           "Marshall County, KY"
          ],
          [
           "Martin County, KY"
          ],
          [
           "Mason County, KY"
          ],
          [
           "Meade County, KY"
          ],
          [
           "Menifee County, KY"
          ],
          [
           "Mercer County, KY"
          ],
          [
           "Metcalfe County, KY"
          ],
          [
           "Monroe County, KY"
          ],
          [
           "Montgomery County, KY"
          ],
          [
           "Morgan County, KY"
          ],
          [
           "Muhlenberg County, KY"
          ],
          [
           "Nelson County, KY"
          ],
          [
           "Nicholas County, KY"
          ],
          [
           "Ohio County, KY"
          ],
          [
           "Oldham County, KY"
          ],
          [
           "Owen County, KY"
          ],
          [
           "Owsley County, KY"
          ],
          [
           "Pendleton County, KY"
          ],
          [
           "Perry County, KY"
          ],
          [
           "Pike County, KY"
          ],
          [
           "Powell County, KY"
          ],
          [
           "Pulaski County, KY"
          ],
          [
           "Robertson County, KY"
          ],
          [
           "Rockcastle County, KY"
          ],
          [
           "Rowan County, KY"
          ],
          [
           "Russell County, KY"
          ],
          [
           "Scott County, KY"
          ],
          [
           "Shelby County, KY"
          ],
          [
           "Simpson County, KY"
          ],
          [
           "Spencer County, KY"
          ],
          [
           "Taylor County, KY"
          ],
          [
           "Todd County, KY"
          ],
          [
           "Trigg County, KY"
          ],
          [
           "Trimble County, KY"
          ],
          [
           "Union County, KY"
          ],
          [
           "Warren County, KY"
          ],
          [
           "Washington County, KY"
          ],
          [
           "Wayne County, KY"
          ],
          [
           "Webster County, KY"
          ],
          [
           "Whitley County, KY"
          ],
          [
           "Wolfe County, KY"
          ],
          [
           "Woodford County, KY"
          ],
          [
           "Acadia Parish, LA"
          ],
          [
           "Allen Parish, LA"
          ],
          [
           "Ascension Parish, LA"
          ],
          [
           "Assumption Parish, LA"
          ],
          [
           "Avoyelles Parish, LA"
          ],
          [
           "Beauregard Parish, LA"
          ],
          [
           "Bienville Parish, LA"
          ],
          [
           "Bossier Parish, LA"
          ],
          [
           "Caddo Parish, LA"
          ],
          [
           "Calcasieu Parish, LA"
          ],
          [
           "Caldwell Parish, LA"
          ],
          [
           "Cameron Parish, LA"
          ],
          [
           "Catahoula Parish, LA"
          ],
          [
           "Claiborne Parish, LA"
          ],
          [
           "Concordia Parish, LA"
          ],
          [
           "De Soto Parish, LA"
          ],
          [
           "East Baton Rouge Parish, LA"
          ],
          [
           "East Feliciana Parish, LA"
          ],
          [
           "Evangeline Parish, LA"
          ],
          [
           "Franklin Parish, LA"
          ],
          [
           "Grant Parish, LA"
          ],
          [
           "Iberia Parish, LA"
          ],
          [
           "Iberville Parish, LA"
          ],
          [
           "Jackson Parish, LA"
          ],
          [
           "Jefferson Parish, LA"
          ],
          [
           "Jefferson Davis Parish, LA"
          ],
          [
           "Lafayette Parish, LA"
          ],
          [
           "Lafourche Parish, LA"
          ],
          [
           "La Salle Parish, LA"
          ],
          [
           "Lincoln Parish, LA"
          ],
          [
           "Livingston Parish, LA"
          ],
          [
           "Morehouse Parish, LA"
          ],
          [
           "Natchitoches Parish, LA"
          ],
          [
           "Orleans Parish, LA"
          ],
          [
           "Ouachita Parish, LA"
          ],
          [
           "Plaquemines Parish, LA"
          ],
          [
           "Pointe Coupee Parish, LA"
          ],
          [
           "Rapides Parish, LA"
          ],
          [
           "Red River Parish, LA"
          ],
          [
           "Richland Parish, LA"
          ],
          [
           "Sabine Parish, LA"
          ],
          [
           "St. Bernard Parish, LA"
          ],
          [
           "St. Charles Parish, LA"
          ],
          [
           "St. Helena Parish, LA"
          ],
          [
           "St. James Parish, LA"
          ],
          [
           "St. John the Baptist Parish, LA"
          ],
          [
           "St. Landry Parish, LA"
          ],
          [
           "St. Martin Parish, LA"
          ],
          [
           "St. Mary Parish, LA"
          ],
          [
           "St. Tammany Parish, LA"
          ],
          [
           "Tangipahoa Parish, LA"
          ],
          [
           "Tensas Parish, LA"
          ],
          [
           "Terrebonne Parish, LA"
          ],
          [
           "Union Parish, LA"
          ],
          [
           "Vermilion Parish, LA"
          ],
          [
           "Vernon Parish, LA"
          ],
          [
           "Washington Parish, LA"
          ],
          [
           "Webster Parish, LA"
          ],
          [
           "West Baton Rouge Parish, LA"
          ],
          [
           "West Carroll Parish, LA"
          ],
          [
           "West Feliciana Parish, LA"
          ],
          [
           "Winn Parish, LA"
          ],
          [
           "Androscoggin County, ME"
          ],
          [
           "Aroostook County, ME"
          ],
          [
           "Cumberland County, ME"
          ],
          [
           "Franklin County, ME"
          ],
          [
           "Hancock County, ME"
          ],
          [
           "Kennebec County, ME"
          ],
          [
           "Knox County, ME"
          ],
          [
           "Lincoln County, ME"
          ],
          [
           "Oxford County, ME"
          ],
          [
           "Penobscot County, ME"
          ],
          [
           "Piscataquis County, ME"
          ],
          [
           "Sagadahoc County, ME"
          ],
          [
           "Somerset County, ME"
          ],
          [
           "Waldo County, ME"
          ],
          [
           "Washington County, ME"
          ],
          [
           "York County, ME"
          ],
          [
           "Allegany County, MD"
          ],
          [
           "Anne Arundel County, MD"
          ],
          [
           "Baltimore County, MD"
          ],
          [
           "Calvert County, MD"
          ],
          [
           "Caroline County, MD"
          ],
          [
           "Carroll County, MD"
          ],
          [
           "Cecil County, MD"
          ],
          [
           "Charles County, MD"
          ],
          [
           "Dorchester County, MD"
          ],
          [
           "Frederick County, MD"
          ],
          [
           "Garrett County, MD"
          ],
          [
           "Harford County, MD"
          ],
          [
           "Howard County, MD"
          ],
          [
           "Kent County, MD"
          ],
          [
           "Montgomery County, MD"
          ],
          [
           "Prince George's County, MD"
          ],
          [
           "Queen Anne's County, MD"
          ],
          [
           "St. Mary's County, MD"
          ],
          [
           "Somerset County, MD"
          ],
          [
           "Talbot County, MD"
          ],
          [
           "Washington County, MD"
          ],
          [
           "Wicomico County, MD"
          ],
          [
           "Worcester County, MD"
          ],
          [
           "Baltimore County, MD"
          ],
          [
           "Barnstable County, MA"
          ],
          [
           "Berkshire County, MA"
          ],
          [
           "Bristol County, MA"
          ],
          [
           "Dukes County, MA"
          ],
          [
           "Essex County, MA"
          ],
          [
           "Franklin County, MA"
          ],
          [
           "Hampden County, MA"
          ],
          [
           "Hampshire County, MA"
          ],
          [
           "Middlesex County, MA"
          ],
          [
           "Nantucket County, MA"
          ],
          [
           "Norfolk County, MA"
          ],
          [
           "Plymouth County, MA"
          ],
          [
           "Suffolk County, MA"
          ],
          [
           "Worcester County, MA"
          ],
          [
           "Alcona County, MI"
          ],
          [
           "Alger County, MI"
          ],
          [
           "Allegan County, MI"
          ],
          [
           "Alpena County, MI"
          ],
          [
           "Antrim County, MI"
          ],
          [
           "Arenac County, MI"
          ],
          [
           "Baraga County, MI"
          ],
          [
           "Barry County, MI"
          ],
          [
           "Bay County, MI"
          ],
          [
           "Benzie County, MI"
          ],
          [
           "Berrien County, MI"
          ],
          [
           "Branch County, MI"
          ],
          [
           "Calhoun County, MI"
          ],
          [
           "Cass County, MI"
          ],
          [
           "Charlevoix County, MI"
          ],
          [
           "Cheboygan County, MI"
          ],
          [
           "Chippewa County, MI"
          ],
          [
           "Clare County, MI"
          ],
          [
           "Clinton County, MI"
          ],
          [
           "Crawford County, MI"
          ],
          [
           "Delta County, MI"
          ],
          [
           "Dickinson County, MI"
          ],
          [
           "Eaton County, MI"
          ],
          [
           "Emmet County, MI"
          ],
          [
           "Genesee County, MI"
          ],
          [
           "Gladwin County, MI"
          ],
          [
           "Gogebic County, MI"
          ],
          [
           "Grand Traverse County, MI"
          ],
          [
           "Gratiot County, MI"
          ],
          [
           "Hillsdale County, MI"
          ],
          [
           "Houghton County, MI"
          ],
          [
           "Huron County, MI"
          ],
          [
           "Ingham County, MI"
          ],
          [
           "Ionia County, MI"
          ],
          [
           "Iosco County, MI"
          ],
          [
           "Iron County, MI"
          ],
          [
           "Isabella County, MI"
          ],
          [
           "Jackson County, MI"
          ],
          [
           "Kalamazoo County, MI"
          ],
          [
           "Kalkaska County, MI"
          ],
          [
           "Kent County, MI"
          ],
          [
           "Keweenaw County, MI"
          ],
          [
           "Lake County, MI"
          ],
          [
           "Lapeer County, MI"
          ],
          [
           "Leelanau County, MI"
          ],
          [
           "Lenawee County, MI"
          ],
          [
           "Livingston County, MI"
          ],
          [
           "Luce County, MI"
          ],
          [
           "Mackinac County, MI"
          ],
          [
           "Macomb County, MI"
          ],
          [
           "Manistee County, MI"
          ],
          [
           "Marquette County, MI"
          ],
          [
           "Mason County, MI"
          ],
          [
           "Mecosta County, MI"
          ],
          [
           "Menominee County, MI"
          ],
          [
           "Midland County, MI"
          ],
          [
           "Missaukee County, MI"
          ],
          [
           "Monroe County, MI"
          ],
          [
           "Montcalm County, MI"
          ],
          [
           "Montmorency County, MI"
          ],
          [
           "Muskegon County, MI"
          ],
          [
           "Newaygo County, MI"
          ],
          [
           "Oakland County, MI"
          ],
          [
           "Oceana County, MI"
          ],
          [
           "Ogemaw County, MI"
          ],
          [
           "Ontonagon County, MI"
          ],
          [
           "Osceola County, MI"
          ],
          [
           "Oscoda County, MI"
          ],
          [
           "Otsego County, MI"
          ],
          [
           "Ottawa County, MI"
          ],
          [
           "Presque Isle County, MI"
          ],
          [
           "Roscommon County, MI"
          ],
          [
           "Saginaw County, MI"
          ],
          [
           "St. Clair County, MI"
          ],
          [
           "St. Joseph County, MI"
          ],
          [
           "Sanilac County, MI"
          ],
          [
           "Schoolcraft County, MI"
          ],
          [
           "Shiawassee County, MI"
          ],
          [
           "Tuscola County, MI"
          ],
          [
           "Van Buren County, MI"
          ],
          [
           "Washtenaw County, MI"
          ],
          [
           "Wayne County, MI"
          ],
          [
           "Wexford County, MI"
          ],
          [
           "Aitkin County, MN"
          ],
          [
           "Anoka County, MN"
          ],
          [
           "Becker County, MN"
          ],
          [
           "Beltrami County, MN"
          ],
          [
           "Benton County, MN"
          ],
          [
           "Big Stone County, MN"
          ],
          [
           "Blue Earth County, MN"
          ],
          [
           "Brown County, MN"
          ],
          [
           "Carlton County, MN"
          ],
          [
           "Carver County, MN"
          ],
          [
           "Cass County, MN"
          ],
          [
           "Chippewa County, MN"
          ],
          [
           "Chisago County, MN"
          ],
          [
           "Clay County, MN"
          ],
          [
           "Clearwater County, MN"
          ],
          [
           "Cook County, MN"
          ],
          [
           "Cottonwood County, MN"
          ],
          [
           "Crow Wing County, MN"
          ],
          [
           "Dakota County, MN"
          ],
          [
           "Dodge County, MN"
          ],
          [
           "Douglas County, MN"
          ],
          [
           "Faribault County, MN"
          ],
          [
           "Fillmore County, MN"
          ],
          [
           "Freeborn County, MN"
          ],
          [
           "Goodhue County, MN"
          ],
          [
           "Grant County, MN"
          ],
          [
           "Hennepin County, MN"
          ],
          [
           "Houston County, MN"
          ],
          [
           "Hubbard County, MN"
          ],
          [
           "Isanti County, MN"
          ],
          [
           "Itasca County, MN"
          ],
          [
           "Jackson County, MN"
          ],
          [
           "Kanabec County, MN"
          ],
          [
           "Kandiyohi County, MN"
          ],
          [
           "Kittson County, MN"
          ],
          [
           "Koochiching County, MN"
          ],
          [
           "Lac qui Parle County, MN"
          ],
          [
           "Lake County, MN"
          ],
          [
           "Lake of the Woods County, MN"
          ],
          [
           "Le Sueur County, MN"
          ],
          [
           "Lincoln County, MN"
          ],
          [
           "Lyon County, MN"
          ],
          [
           "McLeod County, MN"
          ],
          [
           "Mahnomen County, MN"
          ],
          [
           "Marshall County, MN"
          ],
          [
           "Martin County, MN"
          ],
          [
           "Meeker County, MN"
          ],
          [
           "Mille Lacs County, MN"
          ],
          [
           "Morrison County, MN"
          ],
          [
           "Mower County, MN"
          ],
          [
           "Murray County, MN"
          ],
          [
           "Nicollet County, MN"
          ],
          [
           "Nobles County, MN"
          ],
          [
           "Norman County, MN"
          ],
          [
           "Olmsted County, MN"
          ],
          [
           "Otter Tail County, MN"
          ],
          [
           "Pennington County, MN"
          ],
          [
           "Pine County, MN"
          ],
          [
           "Pipestone County, MN"
          ],
          [
           "Polk County, MN"
          ],
          [
           "Pope County, MN"
          ],
          [
           "Ramsey County, MN"
          ],
          [
           "Red Lake County, MN"
          ],
          [
           "Redwood County, MN"
          ],
          [
           "Renville County, MN"
          ],
          [
           "Rice County, MN"
          ],
          [
           "Rock County, MN"
          ],
          [
           "Roseau County, MN"
          ],
          [
           "St. Louis County, MN"
          ],
          [
           "Scott County, MN"
          ],
          [
           "Sherburne County, MN"
          ],
          [
           "Sibley County, MN"
          ],
          [
           "Stearns County, MN"
          ],
          [
           "Steele County, MN"
          ],
          [
           "Stevens County, MN"
          ],
          [
           "Swift County, MN"
          ],
          [
           "Todd County, MN"
          ],
          [
           "Traverse County, MN"
          ],
          [
           "Wabasha County, MN"
          ],
          [
           "Wadena County, MN"
          ],
          [
           "Waseca County, MN"
          ],
          [
           "Washington County, MN"
          ],
          [
           "Watonwan County, MN"
          ],
          [
           "Wilkin County, MN"
          ],
          [
           "Winona County, MN"
          ],
          [
           "Wright County, MN"
          ],
          [
           "Yellow Medicine County, MN"
          ],
          [
           "Adams County, MS"
          ],
          [
           "Alcorn County, MS"
          ],
          [
           "Amite County, MS"
          ],
          [
           "Attala County, MS"
          ],
          [
           "Benton County, MS"
          ],
          [
           "Bolivar County, MS"
          ],
          [
           "Calhoun County, MS"
          ],
          [
           "Carroll County, MS"
          ],
          [
           "Chickasaw County, MS"
          ],
          [
           "Choctaw County, MS"
          ],
          [
           "Claiborne County, MS"
          ],
          [
           "Clarke County, MS"
          ],
          [
           "Clay County, MS"
          ],
          [
           "Coahoma County, MS"
          ],
          [
           "Copiah County, MS"
          ],
          [
           "Covington County, MS"
          ],
          [
           "DeSoto County, MS"
          ],
          [
           "Forrest County, MS"
          ],
          [
           "Franklin County, MS"
          ],
          [
           "George County, MS"
          ],
          [
           "Greene County, MS"
          ],
          [
           "Grenada County, MS"
          ],
          [
           "Hancock County, MS"
          ],
          [
           "Harrison County, MS"
          ],
          [
           "Hinds County, MS"
          ],
          [
           "Holmes County, MS"
          ],
          [
           "Humphreys County, MS"
          ],
          [
           "Itawamba County, MS"
          ],
          [
           "Jackson County, MS"
          ],
          [
           "Jasper County, MS"
          ],
          [
           "Jefferson County, MS"
          ],
          [
           "Jefferson Davis County, MS"
          ],
          [
           "Jones County, MS"
          ],
          [
           "Kemper County, MS"
          ],
          [
           "Lafayette County, MS"
          ],
          [
           "Lamar County, MS"
          ],
          [
           "Lauderdale County, MS"
          ],
          [
           "Lawrence County, MS"
          ],
          [
           "Leake County, MS"
          ],
          [
           "Lee County, MS"
          ],
          [
           "Leflore County, MS"
          ],
          [
           "Lincoln County, MS"
          ],
          [
           "Lowndes County, MS"
          ],
          [
           "Madison County, MS"
          ],
          [
           "Marion County, MS"
          ],
          [
           "Marshall County, MS"
          ],
          [
           "Monroe County, MS"
          ],
          [
           "Montgomery County, MS"
          ],
          [
           "Neshoba County, MS"
          ],
          [
           "Newton County, MS"
          ],
          [
           "Noxubee County, MS"
          ],
          [
           "Oktibbeha County, MS"
          ],
          [
           "Panola County, MS"
          ],
          [
           "Pearl River County, MS"
          ],
          [
           "Perry County, MS"
          ],
          [
           "Pike County, MS"
          ],
          [
           "Pontotoc County, MS"
          ],
          [
           "Prentiss County, MS"
          ],
          [
           "Rankin County, MS"
          ],
          [
           "Scott County, MS"
          ],
          [
           "Sharkey County, MS"
          ],
          [
           "Simpson County, MS"
          ],
          [
           "Smith County, MS"
          ],
          [
           "Stone County, MS"
          ],
          [
           "Sunflower County, MS"
          ],
          [
           "Tallahatchie County, MS"
          ],
          [
           "Tate County, MS"
          ],
          [
           "Tippah County, MS"
          ],
          [
           "Tishomingo County, MS"
          ],
          [
           "Tunica County, MS"
          ],
          [
           "Union County, MS"
          ],
          [
           "Walthall County, MS"
          ],
          [
           "Warren County, MS"
          ],
          [
           "Washington County, MS"
          ],
          [
           "Wayne County, MS"
          ],
          [
           "Webster County, MS"
          ],
          [
           "Wilkinson County, MS"
          ],
          [
           "Winston County, MS"
          ],
          [
           "Yalobusha County, MS"
          ],
          [
           "Yazoo County, MS"
          ],
          [
           "Adair County, MO"
          ],
          [
           "Andrew County, MO"
          ],
          [
           "Atchison County, MO"
          ],
          [
           "Audrain County, MO"
          ],
          [
           "Barry County, MO"
          ],
          [
           "Barton County, MO"
          ],
          [
           "Bates County, MO"
          ],
          [
           "Benton County, MO"
          ],
          [
           "Bollinger County, MO"
          ],
          [
           "Boone County, MO"
          ],
          [
           "Buchanan County, MO"
          ],
          [
           "Butler County, MO"
          ],
          [
           "Caldwell County, MO"
          ],
          [
           "Callaway County, MO"
          ],
          [
           "Camden County, MO"
          ],
          [
           "Cape Girardeau County, MO"
          ],
          [
           "Carroll County, MO"
          ],
          [
           "Carter County, MO"
          ],
          [
           "Cass County, MO"
          ],
          [
           "Cedar County, MO"
          ],
          [
           "Chariton County, MO"
          ],
          [
           "Christian County, MO"
          ],
          [
           "Clark County, MO"
          ],
          [
           "Clay County, MO"
          ],
          [
           "Clinton County, MO"
          ],
          [
           "Cole County, MO"
          ],
          [
           "Cooper County, MO"
          ],
          [
           "Crawford County, MO"
          ],
          [
           "Dade County, MO"
          ],
          [
           "Dallas County, MO"
          ],
          [
           "Daviess County, MO"
          ],
          [
           "DeKalb County, MO"
          ],
          [
           "Dent County, MO"
          ],
          [
           "Douglas County, MO"
          ],
          [
           "Dunklin County, MO"
          ],
          [
           "Franklin County, MO"
          ],
          [
           "Gasconade County, MO"
          ],
          [
           "Gentry County, MO"
          ],
          [
           "Greene County, MO"
          ],
          [
           "Grundy County, MO"
          ],
          [
           "Harrison County, MO"
          ],
          [
           "Henry County, MO"
          ],
          [
           "Hickory County, MO"
          ],
          [
           "Howard County, MO"
          ],
          [
           "Howell County, MO"
          ],
          [
           "Iron County, MO"
          ],
          [
           "Jackson County, MO"
          ],
          [
           "Jasper County, MO"
          ],
          [
           "Jefferson County, MO"
          ],
          [
           "Johnson County, MO"
          ],
          [
           "Knox County, MO"
          ],
          [
           "Laclede County, MO"
          ],
          [
           "Lafayette County, MO"
          ],
          [
           "Lawrence County, MO"
          ],
          [
           "Lewis County, MO"
          ],
          [
           "Lincoln County, MO"
          ],
          [
           "Linn County, MO"
          ],
          [
           "Livingston County, MO"
          ],
          [
           "McDonald County, MO"
          ],
          [
           "Macon County, MO"
          ],
          [
           "Madison County, MO"
          ],
          [
           "Maries County, MO"
          ],
          [
           "Marion County, MO"
          ],
          [
           "Mercer County, MO"
          ],
          [
           "Miller County, MO"
          ],
          [
           "Mississippi County, MO"
          ],
          [
           "Moniteau County, MO"
          ],
          [
           "Monroe County, MO"
          ],
          [
           "Montgomery County, MO"
          ],
          [
           "Morgan County, MO"
          ],
          [
           "New Madrid County, MO"
          ],
          [
           "Newton County, MO"
          ],
          [
           "Nodaway County, MO"
          ],
          [
           "Oregon County, MO"
          ],
          [
           "Osage County, MO"
          ],
          [
           "Ozark County, MO"
          ],
          [
           "Pemiscot County, MO"
          ],
          [
           "Perry County, MO"
          ],
          [
           "Pettis County, MO"
          ],
          [
           "Phelps County, MO"
          ],
          [
           "Pike County, MO"
          ],
          [
           "Platte County, MO"
          ],
          [
           "Polk County, MO"
          ],
          [
           "Pulaski County, MO"
          ],
          [
           "Putnam County, MO"
          ],
          [
           "Ralls County, MO"
          ],
          [
           "Randolph County, MO"
          ],
          [
           "Ray County, MO"
          ],
          [
           "Reynolds County, MO"
          ],
          [
           "Ripley County, MO"
          ],
          [
           "St. Charles County, MO"
          ],
          [
           "St. Clair County, MO"
          ],
          [
           "Ste. Genevieve County, MO"
          ],
          [
           "St. Francois County, MO"
          ],
          [
           "St. Louis County, MO"
          ],
          [
           "Saline County, MO"
          ],
          [
           "Schuyler County, MO"
          ],
          [
           "Scotland County, MO"
          ],
          [
           "Scott County, MO"
          ],
          [
           "Shannon County, MO"
          ],
          [
           "Shelby County, MO"
          ],
          [
           "Stoddard County, MO"
          ],
          [
           "Stone County, MO"
          ],
          [
           "Sullivan County, MO"
          ],
          [
           "Taney County, MO"
          ],
          [
           "Texas County, MO"
          ],
          [
           "Vernon County, MO"
          ],
          [
           "Warren County, MO"
          ],
          [
           "Washington County, MO"
          ],
          [
           "Wayne County, MO"
          ],
          [
           "Webster County, MO"
          ],
          [
           "Wright County, MO"
          ],
          [
           "St. Louis County, MO"
          ],
          [
           "Beaverhead County, MT"
          ],
          [
           "Big Horn County, MT"
          ],
          [
           "Blaine County, MT"
          ],
          [
           "Broadwater County, MT"
          ],
          [
           "Carbon County, MT"
          ],
          [
           "Carter County, MT"
          ],
          [
           "Cascade County, MT"
          ],
          [
           "Chouteau County, MT"
          ],
          [
           "Custer County, MT"
          ],
          [
           "Daniels County, MT"
          ],
          [
           "Dawson County, MT"
          ],
          [
           "Deer Lodge County, MT"
          ],
          [
           "Fallon County, MT"
          ],
          [
           "Fergus County, MT"
          ],
          [
           "Flathead County, MT"
          ],
          [
           "Gallatin County, MT"
          ],
          [
           "Garfield County, MT"
          ],
          [
           "Glacier County, MT"
          ],
          [
           "Golden Valley County, MT"
          ],
          [
           "Granite County, MT"
          ],
          [
           "Hill County, MT"
          ],
          [
           "Jefferson County, MT"
          ],
          [
           "Judith Basin County, MT"
          ],
          [
           "Lake County, MT"
          ],
          [
           "Lewis and Clark County, MT"
          ],
          [
           "Liberty County, MT"
          ],
          [
           "Lincoln County, MT"
          ],
          [
           "McCone County, MT"
          ],
          [
           "Madison County, MT"
          ],
          [
           "Meagher County, MT"
          ],
          [
           "Mineral County, MT"
          ],
          [
           "Missoula County, MT"
          ],
          [
           "Musselshell County, MT"
          ],
          [
           "Park County, MT"
          ],
          [
           "Petroleum County, MT"
          ],
          [
           "Phillips County, MT"
          ],
          [
           "Pondera County, MT"
          ],
          [
           "Powder River County, MT"
          ],
          [
           "Powell County, MT"
          ],
          [
           "Prairie County, MT"
          ],
          [
           "Ravalli County, MT"
          ],
          [
           "Richland County, MT"
          ],
          [
           "Roosevelt County, MT"
          ],
          [
           "Rosebud County, MT"
          ],
          [
           "Sanders County, MT"
          ],
          [
           "Sheridan County, MT"
          ],
          [
           "Silver Bow County, MT"
          ],
          [
           "Stillwater County, MT"
          ],
          [
           "Sweet Grass County, MT"
          ],
          [
           "Teton County, MT"
          ],
          [
           "Toole County, MT"
          ],
          [
           "Treasure County, MT"
          ],
          [
           "Valley County, MT"
          ],
          [
           "Wheatland County, MT"
          ],
          [
           "Wibaux County, MT"
          ],
          [
           "Yellowstone County, MT"
          ],
          [
           "Adams County, NE"
          ],
          [
           "Antelope County, NE"
          ],
          [
           "Banner County, NE"
          ],
          [
           "Boone County, NE"
          ],
          [
           "Box Butte County, NE"
          ],
          [
           "Boyd County, NE"
          ],
          [
           "Brown County, NE"
          ],
          [
           "Buffalo County, NE"
          ],
          [
           "Burt County, NE"
          ],
          [
           "Butler County, NE"
          ],
          [
           "Cass County, NE"
          ],
          [
           "Cedar County, NE"
          ],
          [
           "Chase County, NE"
          ],
          [
           "Cherry County, NE"
          ],
          [
           "Cheyenne County, NE"
          ],
          [
           "Clay County, NE"
          ],
          [
           "Colfax County, NE"
          ],
          [
           "Cuming County, NE"
          ],
          [
           "Custer County, NE"
          ],
          [
           "Dakota County, NE"
          ],
          [
           "Dawes County, NE"
          ],
          [
           "Dawson County, NE"
          ],
          [
           "Deuel County, NE"
          ],
          [
           "Dixon County, NE"
          ],
          [
           "Dodge County, NE"
          ],
          [
           "Douglas County, NE"
          ],
          [
           "Dundy County, NE"
          ],
          [
           "Fillmore County, NE"
          ],
          [
           "Franklin County, NE"
          ],
          [
           "Frontier County, NE"
          ],
          [
           "Furnas County, NE"
          ],
          [
           "Gage County, NE"
          ],
          [
           "Garden County, NE"
          ],
          [
           "Garfield County, NE"
          ],
          [
           "Gosper County, NE"
          ],
          [
           "Greeley County, NE"
          ],
          [
           "Hall County, NE"
          ],
          [
           "Hamilton County, NE"
          ],
          [
           "Harlan County, NE"
          ],
          [
           "Hayes County, NE"
          ],
          [
           "Hitchcock County, NE"
          ],
          [
           "Holt County, NE"
          ],
          [
           "Hooker County, NE"
          ],
          [
           "Howard County, NE"
          ],
          [
           "Jefferson County, NE"
          ],
          [
           "Johnson County, NE"
          ],
          [
           "Kearney County, NE"
          ],
          [
           "Keith County, NE"
          ],
          [
           "Keya Paha County, NE"
          ],
          [
           "Kimball County, NE"
          ],
          [
           "Knox County, NE"
          ],
          [
           "Lancaster County, NE"
          ],
          [
           "Lincoln County, NE"
          ],
          [
           "McPherson County, NE"
          ],
          [
           "Madison County, NE"
          ],
          [
           "Merrick County, NE"
          ],
          [
           "Morrill County, NE"
          ],
          [
           "Nance County, NE"
          ],
          [
           "Nemaha County, NE"
          ],
          [
           "Nuckolls County, NE"
          ],
          [
           "Otoe County, NE"
          ],
          [
           "Pawnee County, NE"
          ],
          [
           "Perkins County, NE"
          ],
          [
           "Phelps County, NE"
          ],
          [
           "Pierce County, NE"
          ],
          [
           "Platte County, NE"
          ],
          [
           "Polk County, NE"
          ],
          [
           "Red Willow County, NE"
          ],
          [
           "Richardson County, NE"
          ],
          [
           "Rock County, NE"
          ],
          [
           "Saline County, NE"
          ],
          [
           "Sarpy County, NE"
          ],
          [
           "Saunders County, NE"
          ],
          [
           "Scotts Bluff County, NE"
          ],
          [
           "Seward County, NE"
          ],
          [
           "Sheridan County, NE"
          ],
          [
           "Sherman County, NE"
          ],
          [
           "Sioux County, NE"
          ],
          [
           "Stanton County, NE"
          ],
          [
           "Thayer County, NE"
          ],
          [
           "Thurston County, NE"
          ],
          [
           "Valley County, NE"
          ],
          [
           "Washington County, NE"
          ],
          [
           "Wayne County, NE"
          ],
          [
           "Webster County, NE"
          ],
          [
           "Wheeler County, NE"
          ],
          [
           "York County, NE"
          ],
          [
           "Churchill County, NV"
          ],
          [
           "Clark County, NV"
          ],
          [
           "Douglas County, NV"
          ],
          [
           "Elko County, NV"
          ],
          [
           "Eureka County, NV"
          ],
          [
           "Humboldt County, NV"
          ],
          [
           "Lander County, NV"
          ],
          [
           "Lincoln County, NV"
          ],
          [
           "Lyon County, NV"
          ],
          [
           "Mineral County, NV"
          ],
          [
           "Nye County, NV"
          ],
          [
           "Pershing County, NV"
          ],
          [
           "Storey County, NV"
          ],
          [
           "Washoe County, NV"
          ],
          [
           "White Pine County, NV"
          ],
          [
           "Carson City County, NV"
          ],
          [
           "Belknap County, NH"
          ],
          [
           "Carroll County, NH"
          ],
          [
           "Cheshire County, NH"
          ],
          [
           "Coos County, NH"
          ],
          [
           "Grafton County, NH"
          ],
          [
           "Hillsborough County, NH"
          ],
          [
           "Merrimack County, NH"
          ],
          [
           "Rockingham County, NH"
          ],
          [
           "Strafford County, NH"
          ],
          [
           "Sullivan County, NH"
          ],
          [
           "Atlantic County, NJ"
          ],
          [
           "Bergen County, NJ"
          ],
          [
           "Burlington County, NJ"
          ],
          [
           "Camden County, NJ"
          ],
          [
           "Cape May County, NJ"
          ],
          [
           "Cumberland County, NJ"
          ],
          [
           "Essex County, NJ"
          ],
          [
           "Gloucester County, NJ"
          ],
          [
           "Hudson County, NJ"
          ],
          [
           "Hunterdon County, NJ"
          ],
          [
           "Mercer County, NJ"
          ],
          [
           "Middlesex County, NJ"
          ],
          [
           "Monmouth County, NJ"
          ],
          [
           "Morris County, NJ"
          ],
          [
           "Ocean County, NJ"
          ],
          [
           "Passaic County, NJ"
          ],
          [
           "Salem County, NJ"
          ],
          [
           "Somerset County, NJ"
          ],
          [
           "Sussex County, NJ"
          ],
          [
           "Union County, NJ"
          ],
          [
           "Warren County, NJ"
          ],
          [
           "Bernalillo County, NM"
          ],
          [
           "Catron County, NM"
          ],
          [
           "Chaves County, NM"
          ],
          [
           "Cibola County, NM"
          ],
          [
           "Colfax County, NM"
          ],
          [
           "Curry County, NM"
          ],
          [
           "De Baca County, NM"
          ],
          [
           "Doña Ana County, NM"
          ],
          [
           "Eddy County, NM"
          ],
          [
           "Grant County, NM"
          ],
          [
           "Lea County, NM"
          ],
          [
           "Lincoln County, NM"
          ],
          [
           "Los Alamos County, NM"
          ],
          [
           "Luna County, NM"
          ],
          [
           "McKinley County, NM"
          ],
          [
           "Otero County, NM"
          ],
          [
           "Quay County, NM"
          ],
          [
           "Rio Arriba County, NM"
          ],
          [
           "Roosevelt County, NM"
          ],
          [
           "Sandoval County, NM"
          ],
          [
           "San Juan County, NM"
          ],
          [
           "San Miguel County, NM"
          ],
          [
           "Santa Fe County, NM"
          ],
          [
           "Sierra County, NM"
          ],
          [
           "Socorro County, NM"
          ],
          [
           "Taos County, NM"
          ],
          [
           "Torrance County, NM"
          ],
          [
           "Union County, NM"
          ],
          [
           "Valencia County, NM"
          ],
          [
           "Albany County, NY"
          ],
          [
           "Allegany County, NY"
          ],
          [
           "Bronx County, NY"
          ],
          [
           "Broome County, NY"
          ],
          [
           "Cattaraugus County, NY"
          ],
          [
           "Cayuga County, NY"
          ],
          [
           "Chautauqua County, NY"
          ],
          [
           "Chemung County, NY"
          ],
          [
           "Chenango County, NY"
          ],
          [
           "Clinton County, NY"
          ],
          [
           "Columbia County, NY"
          ],
          [
           "Cortland County, NY"
          ],
          [
           "Delaware County, NY"
          ],
          [
           "Dutchess County, NY"
          ],
          [
           "Erie County, NY"
          ],
          [
           "Essex County, NY"
          ],
          [
           "Franklin County, NY"
          ],
          [
           "Fulton County, NY"
          ],
          [
           "Genesee County, NY"
          ],
          [
           "Greene County, NY"
          ],
          [
           "Hamilton County, NY"
          ],
          [
           "Herkimer County, NY"
          ],
          [
           "Jefferson County, NY"
          ],
          [
           "Kings County, NY"
          ],
          [
           "Lewis County, NY"
          ],
          [
           "Livingston County, NY"
          ],
          [
           "Madison County, NY"
          ],
          [
           "Monroe County, NY"
          ],
          [
           "Montgomery County, NY"
          ],
          [
           "Nassau County, NY"
          ],
          [
           "New York County, NY"
          ],
          [
           "Niagara County, NY"
          ],
          [
           "Oneida County, NY"
          ],
          [
           "Onondaga County, NY"
          ],
          [
           "Ontario County, NY"
          ],
          [
           "Orange County, NY"
          ],
          [
           "Orleans County, NY"
          ],
          [
           "Oswego County, NY"
          ],
          [
           "Otsego County, NY"
          ],
          [
           "Putnam County, NY"
          ],
          [
           "Queens County, NY"
          ],
          [
           "Rensselaer County, NY"
          ],
          [
           "Richmond County, NY"
          ],
          [
           "Rockland County, NY"
          ],
          [
           "St. Lawrence County, NY"
          ],
          [
           "Saratoga County, NY"
          ],
          [
           "Schenectady County, NY"
          ],
          [
           "Schoharie County, NY"
          ],
          [
           "Schuyler County, NY"
          ],
          [
           "Seneca County, NY"
          ],
          [
           "Steuben County, NY"
          ],
          [
           "Suffolk County, NY"
          ],
          [
           "Sullivan County, NY"
          ],
          [
           "Tioga County, NY"
          ],
          [
           "Tompkins County, NY"
          ],
          [
           "Ulster County, NY"
          ],
          [
           "Warren County, NY"
          ],
          [
           "Washington County, NY"
          ],
          [
           "Wayne County, NY"
          ],
          [
           "Westchester County, NY"
          ],
          [
           "Wyoming County, NY"
          ],
          [
           "Yates County, NY"
          ],
          [
           "Alamance County, NC"
          ],
          [
           "Alexander County, NC"
          ],
          [
           "Alleghany County, NC"
          ],
          [
           "Anson County, NC"
          ],
          [
           "Ashe County, NC"
          ],
          [
           "Avery County, NC"
          ],
          [
           "Beaufort County, NC"
          ],
          [
           "Bertie County, NC"
          ],
          [
           "Bladen County, NC"
          ],
          [
           "Brunswick County, NC"
          ],
          [
           "Buncombe County, NC"
          ],
          [
           "Burke County, NC"
          ],
          [
           "Cabarrus County, NC"
          ],
          [
           "Caldwell County, NC"
          ],
          [
           "Camden County, NC"
          ],
          [
           "Carteret County, NC"
          ],
          [
           "Caswell County, NC"
          ],
          [
           "Catawba County, NC"
          ],
          [
           "Chatham County, NC"
          ],
          [
           "Cherokee County, NC"
          ],
          [
           "Chowan County, NC"
          ],
          [
           "Clay County, NC"
          ],
          [
           "Cleveland County, NC"
          ],
          [
           "Columbus County, NC"
          ],
          [
           "Craven County, NC"
          ],
          [
           "Cumberland County, NC"
          ],
          [
           "Currituck County, NC"
          ],
          [
           "Dare County, NC"
          ],
          [
           "Davidson County, NC"
          ],
          [
           "Davie County, NC"
          ],
          [
           "Duplin County, NC"
          ],
          [
           "Durham County, NC"
          ],
          [
           "Edgecombe County, NC"
          ],
          [
           "Forsyth County, NC"
          ],
          [
           "Franklin County, NC"
          ],
          [
           "Gaston County, NC"
          ],
          [
           "Gates County, NC"
          ],
          [
           "Graham County, NC"
          ],
          [
           "Granville County, NC"
          ],
          [
           "Greene County, NC"
          ],
          [
           "Guilford County, NC"
          ],
          [
           "Halifax County, NC"
          ],
          [
           "Harnett County, NC"
          ],
          [
           "Haywood County, NC"
          ],
          [
           "Henderson County, NC"
          ],
          [
           "Hertford County, NC"
          ],
          [
           "Hoke County, NC"
          ],
          [
           "Hyde County, NC"
          ],
          [
           "Iredell County, NC"
          ],
          [
           "Jackson County, NC"
          ],
          [
           "Johnston County, NC"
          ],
          [
           "Jones County, NC"
          ],
          [
           "Lee County, NC"
          ],
          [
           "Lenoir County, NC"
          ],
          [
           "Lincoln County, NC"
          ],
          [
           "McDowell County, NC"
          ],
          [
           "Macon County, NC"
          ],
          [
           "Madison County, NC"
          ],
          [
           "Martin County, NC"
          ],
          [
           "Mecklenburg County, NC"
          ],
          [
           "Mitchell County, NC"
          ],
          [
           "Montgomery County, NC"
          ],
          [
           "Moore County, NC"
          ],
          [
           "Nash County, NC"
          ],
          [
           "New Hanover County, NC"
          ],
          [
           "Northampton County, NC"
          ],
          [
           "Onslow County, NC"
          ],
          [
           "Orange County, NC"
          ],
          [
           "Pamlico County, NC"
          ],
          [
           "Pasquotank County, NC"
          ],
          [
           "Pender County, NC"
          ],
          [
           "Perquimans County, NC"
          ],
          [
           "Person County, NC"
          ],
          [
           "Pitt County, NC"
          ],
          [
           "Polk County, NC"
          ],
          [
           "Randolph County, NC"
          ],
          [
           "Richmond County, NC"
          ],
          [
           "Robeson County, NC"
          ],
          [
           "Rockingham County, NC"
          ],
          [
           "Rowan County, NC"
          ],
          [
           "Rutherford County, NC"
          ],
          [
           "Sampson County, NC"
          ],
          [
           "Scotland County, NC"
          ],
          [
           "Stanly County, NC"
          ],
          [
           "Stokes County, NC"
          ],
          [
           "Surry County, NC"
          ],
          [
           "Swain County, NC"
          ],
          [
           "Transylvania County, NC"
          ],
          [
           "Tyrrell County, NC"
          ],
          [
           "Union County, NC"
          ],
          [
           "Vance County, NC"
          ],
          [
           "Wake County, NC"
          ],
          [
           "Warren County, NC"
          ],
          [
           "Washington County, NC"
          ],
          [
           "Watauga County, NC"
          ],
          [
           "Wayne County, NC"
          ],
          [
           "Wilkes County, NC"
          ],
          [
           "Wilson County, NC"
          ],
          [
           "Yadkin County, NC"
          ],
          [
           "Yancey County, NC"
          ],
          [
           "Adams County, ND"
          ],
          [
           "Barnes County, ND"
          ],
          [
           "Benson County, ND"
          ],
          [
           "Bottineau County, ND"
          ],
          [
           "Bowman County, ND"
          ],
          [
           "Burke County, ND"
          ],
          [
           "Burleigh County, ND"
          ],
          [
           "Cass County, ND"
          ],
          [
           "Cavalier County, ND"
          ],
          [
           "Dickey County, ND"
          ],
          [
           "Dunn County, ND"
          ],
          [
           "Eddy County, ND"
          ],
          [
           "Emmons County, ND"
          ],
          [
           "Foster County, ND"
          ],
          [
           "Golden Valley County, ND"
          ],
          [
           "Grand Forks County, ND"
          ],
          [
           "Hettinger County, ND"
          ],
          [
           "Kidder County, ND"
          ],
          [
           "LaMoure County, ND"
          ],
          [
           "McHenry County, ND"
          ],
          [
           "McKenzie County, ND"
          ],
          [
           "McLean County, ND"
          ],
          [
           "Mercer County, ND"
          ],
          [
           "Morton County, ND"
          ],
          [
           "Mountrail County, ND"
          ],
          [
           "Nelson County, ND"
          ],
          [
           "Oliver County, ND"
          ],
          [
           "Pembina County, ND"
          ],
          [
           "Ramsey County, ND"
          ],
          [
           "Ransom County, ND"
          ],
          [
           "Renville County, ND"
          ],
          [
           "Richland County, ND"
          ],
          [
           "Sargent County, ND"
          ],
          [
           "Sheridan County, ND"
          ],
          [
           "Stark County, ND"
          ],
          [
           "Stutsman County, ND"
          ],
          [
           "Towner County, ND"
          ],
          [
           "Traill County, ND"
          ],
          [
           "Walsh County, ND"
          ],
          [
           "Ward County, ND"
          ],
          [
           "Wells County, ND"
          ],
          [
           "Williams County, ND"
          ],
          [
           "Adams County, OH"
          ],
          [
           "Allen County, OH"
          ],
          [
           "Ashland County, OH"
          ],
          [
           "Ashtabula County, OH"
          ],
          [
           "Athens County, OH"
          ],
          [
           "Auglaize County, OH"
          ],
          [
           "Belmont County, OH"
          ],
          [
           "Brown County, OH"
          ],
          [
           "Butler County, OH"
          ],
          [
           "Carroll County, OH"
          ],
          [
           "Champaign County, OH"
          ],
          [
           "Clark County, OH"
          ],
          [
           "Clermont County, OH"
          ],
          [
           "Clinton County, OH"
          ],
          [
           "Columbiana County, OH"
          ],
          [
           "Coshocton County, OH"
          ],
          [
           "Crawford County, OH"
          ],
          [
           "Cuyahoga County, OH"
          ],
          [
           "Darke County, OH"
          ],
          [
           "Defiance County, OH"
          ],
          [
           "Delaware County, OH"
          ],
          [
           "Erie County, OH"
          ],
          [
           "Fairfield County, OH"
          ],
          [
           "Fayette County, OH"
          ],
          [
           "Franklin County, OH"
          ],
          [
           "Fulton County, OH"
          ],
          [
           "Gallia County, OH"
          ],
          [
           "Geauga County, OH"
          ],
          [
           "Greene County, OH"
          ],
          [
           "Guernsey County, OH"
          ],
          [
           "Hamilton County, OH"
          ],
          [
           "Hancock County, OH"
          ],
          [
           "Hardin County, OH"
          ],
          [
           "Harrison County, OH"
          ],
          [
           "Henry County, OH"
          ],
          [
           "Highland County, OH"
          ],
          [
           "Hocking County, OH"
          ],
          [
           "Holmes County, OH"
          ],
          [
           "Huron County, OH"
          ],
          [
           "Jackson County, OH"
          ],
          [
           "Jefferson County, OH"
          ],
          [
           "Knox County, OH"
          ],
          [
           "Lake County, OH"
          ],
          [
           "Lawrence County, OH"
          ],
          [
           "Licking County, OH"
          ],
          [
           "Logan County, OH"
          ],
          [
           "Lorain County, OH"
          ],
          [
           "Lucas County, OH"
          ],
          [
           "Madison County, OH"
          ],
          [
           "Mahoning County, OH"
          ],
          [
           "Marion County, OH"
          ],
          [
           "Medina County, OH"
          ],
          [
           "Meigs County, OH"
          ],
          [
           "Mercer County, OH"
          ],
          [
           "Miami County, OH"
          ],
          [
           "Monroe County, OH"
          ],
          [
           "Montgomery County, OH"
          ],
          [
           "Morgan County, OH"
          ],
          [
           "Morrow County, OH"
          ],
          [
           "Muskingum County, OH"
          ],
          [
           "Noble County, OH"
          ],
          [
           "Ottawa County, OH"
          ],
          [
           "Paulding County, OH"
          ],
          [
           "Perry County, OH"
          ],
          [
           "Pickaway County, OH"
          ],
          [
           "Pike County, OH"
          ],
          [
           "Portage County, OH"
          ],
          [
           "Preble County, OH"
          ],
          [
           "Putnam County, OH"
          ],
          [
           "Richland County, OH"
          ],
          [
           "Ross County, OH"
          ],
          [
           "Sandusky County, OH"
          ],
          [
           "Scioto County, OH"
          ],
          [
           "Seneca County, OH"
          ],
          [
           "Shelby County, OH"
          ],
          [
           "Stark County, OH"
          ],
          [
           "Summit County, OH"
          ],
          [
           "Trumbull County, OH"
          ],
          [
           "Tuscarawas County, OH"
          ],
          [
           "Union County, OH"
          ],
          [
           "Van Wert County, OH"
          ],
          [
           "Vinton County, OH"
          ],
          [
           "Warren County, OH"
          ],
          [
           "Washington County, OH"
          ],
          [
           "Wayne County, OH"
          ],
          [
           "Williams County, OH"
          ],
          [
           "Wood County, OH"
          ],
          [
           "Wyandot County, OH"
          ],
          [
           "Adair County, OK"
          ],
          [
           "Alfalfa County, OK"
          ],
          [
           "Atoka County, OK"
          ],
          [
           "Beaver County, OK"
          ],
          [
           "Beckham County, OK"
          ],
          [
           "Blaine County, OK"
          ],
          [
           "Bryan County, OK"
          ],
          [
           "Caddo County, OK"
          ],
          [
           "Canadian County, OK"
          ],
          [
           "Carter County, OK"
          ],
          [
           "Cherokee County, OK"
          ],
          [
           "Choctaw County, OK"
          ],
          [
           "Cimarron County, OK"
          ],
          [
           "Cleveland County, OK"
          ],
          [
           "Coal County, OK"
          ],
          [
           "Comanche County, OK"
          ],
          [
           "Cotton County, OK"
          ],
          [
           "Craig County, OK"
          ],
          [
           "Creek County, OK"
          ],
          [
           "Custer County, OK"
          ],
          [
           "Delaware County, OK"
          ],
          [
           "Dewey County, OK"
          ],
          [
           "Ellis County, OK"
          ],
          [
           "Garfield County, OK"
          ],
          [
           "Garvin County, OK"
          ],
          [
           "Grady County, OK"
          ],
          [
           "Grant County, OK"
          ],
          [
           "Greer County, OK"
          ],
          [
           "Harmon County, OK"
          ],
          [
           "Harper County, OK"
          ],
          [
           "Haskell County, OK"
          ],
          [
           "Hughes County, OK"
          ],
          [
           "Jackson County, OK"
          ],
          [
           "Jefferson County, OK"
          ],
          [
           "Johnston County, OK"
          ],
          [
           "Kay County, OK"
          ],
          [
           "Kingfisher County, OK"
          ],
          [
           "Kiowa County, OK"
          ],
          [
           "Latimer County, OK"
          ],
          [
           "Le Flore County, OK"
          ],
          [
           "Lincoln County, OK"
          ],
          [
           "Logan County, OK"
          ],
          [
           "Love County, OK"
          ],
          [
           "McClain County, OK"
          ],
          [
           "McCurtain County, OK"
          ],
          [
           "McIntosh County, OK"
          ],
          [
           "Major County, OK"
          ],
          [
           "Marshall County, OK"
          ],
          [
           "Mayes County, OK"
          ],
          [
           "Murray County, OK"
          ],
          [
           "Muskogee County, OK"
          ],
          [
           "Noble County, OK"
          ],
          [
           "Nowata County, OK"
          ],
          [
           "Okfuskee County, OK"
          ],
          [
           "Oklahoma County, OK"
          ],
          [
           "Okmulgee County, OK"
          ],
          [
           "Osage County, OK"
          ],
          [
           "Ottawa County, OK"
          ],
          [
           "Pawnee County, OK"
          ],
          [
           "Payne County, OK"
          ],
          [
           "Pittsburg County, OK"
          ],
          [
           "Pontotoc County, OK"
          ],
          [
           "Pottawatomie County, OK"
          ],
          [
           "Pushmataha County, OK"
          ],
          [
           "Roger Mills County, OK"
          ],
          [
           "Rogers County, OK"
          ],
          [
           "Seminole County, OK"
          ],
          [
           "Sequoyah County, OK"
          ],
          [
           "Stephens County, OK"
          ],
          [
           "Texas County, OK"
          ],
          [
           "Tillman County, OK"
          ],
          [
           "Tulsa County, OK"
          ],
          [
           "Wagoner County, OK"
          ],
          [
           "Washington County, OK"
          ],
          [
           "Washita County, OK"
          ],
          [
           "Woods County, OK"
          ],
          [
           "Woodward County, OK"
          ],
          [
           "Baker County, OR"
          ],
          [
           "Benton County, OR"
          ],
          [
           "Clackamas County, OR"
          ],
          [
           "Clatsop County, OR"
          ],
          [
           "Columbia County, OR"
          ],
          [
           "Coos County, OR"
          ],
          [
           "Crook County, OR"
          ],
          [
           "Curry County, OR"
          ],
          [
           "Deschutes County, OR"
          ],
          [
           "Douglas County, OR"
          ],
          [
           "Gilliam County, OR"
          ],
          [
           "Grant County, OR"
          ],
          [
           "Harney County, OR"
          ],
          [
           "Hood River County, OR"
          ],
          [
           "Jackson County, OR"
          ],
          [
           "Jefferson County, OR"
          ],
          [
           "Josephine County, OR"
          ],
          [
           "Klamath County, OR"
          ],
          [
           "Lake County, OR"
          ],
          [
           "Lane County, OR"
          ],
          [
           "Lincoln County, OR"
          ],
          [
           "Linn County, OR"
          ],
          [
           "Malheur County, OR"
          ],
          [
           "Marion County, OR"
          ],
          [
           "Morrow County, OR"
          ],
          [
           "Multnomah County, OR"
          ],
          [
           "Polk County, OR"
          ],
          [
           "Sherman County, OR"
          ],
          [
           "Tillamook County, OR"
          ],
          [
           "Umatilla County, OR"
          ],
          [
           "Union County, OR"
          ],
          [
           "Wallowa County, OR"
          ],
          [
           "Wasco County, OR"
          ],
          [
           "Washington County, OR"
          ],
          [
           "Wheeler County, OR"
          ],
          [
           "Yamhill County, OR"
          ],
          [
           "Adams County, PA"
          ],
          [
           "Allegheny County, PA"
          ],
          [
           "Armstrong County, PA"
          ],
          [
           "Beaver County, PA"
          ],
          [
           "Bedford County, PA"
          ],
          [
           "Berks County, PA"
          ],
          [
           "Blair County, PA"
          ],
          [
           "Bradford County, PA"
          ],
          [
           "Bucks County, PA"
          ],
          [
           "Butler County, PA"
          ],
          [
           "Cambria County, PA"
          ],
          [
           "Cameron County, PA"
          ],
          [
           "Carbon County, PA"
          ],
          [
           "Centre County, PA"
          ],
          [
           "Chester County, PA"
          ],
          [
           "Clarion County, PA"
          ],
          [
           "Clearfield County, PA"
          ],
          [
           "Clinton County, PA"
          ],
          [
           "Columbia County, PA"
          ],
          [
           "Crawford County, PA"
          ],
          [
           "Cumberland County, PA"
          ],
          [
           "Dauphin County, PA"
          ],
          [
           "Delaware County, PA"
          ],
          [
           "Elk County, PA"
          ],
          [
           "Erie County, PA"
          ],
          [
           "Fayette County, PA"
          ],
          [
           "Forest County, PA"
          ],
          [
           "Franklin County, PA"
          ],
          [
           "Fulton County, PA"
          ],
          [
           "Greene County, PA"
          ],
          [
           "Huntingdon County, PA"
          ],
          [
           "Indiana County, PA"
          ],
          [
           "Jefferson County, PA"
          ],
          [
           "Juniata County, PA"
          ],
          [
           "Lackawanna County, PA"
          ],
          [
           "Lancaster County, PA"
          ],
          [
           "Lawrence County, PA"
          ],
          [
           "Lebanon County, PA"
          ],
          [
           "Lehigh County, PA"
          ],
          [
           "Luzerne County, PA"
          ],
          [
           "Lycoming County, PA"
          ],
          [
           "McKean County, PA"
          ],
          [
           "Mercer County, PA"
          ],
          [
           "Mifflin County, PA"
          ],
          [
           "Monroe County, PA"
          ],
          [
           "Montgomery County, PA"
          ],
          [
           "Montour County, PA"
          ],
          [
           "Northampton County, PA"
          ],
          [
           "Northumberland County, PA"
          ],
          [
           "Perry County, PA"
          ],
          [
           "Philadelphia County, PA"
          ],
          [
           "Pike County, PA"
          ],
          [
           "Potter County, PA"
          ],
          [
           "Schuylkill County, PA"
          ],
          [
           "Snyder County, PA"
          ],
          [
           "Somerset County, PA"
          ],
          [
           "Sullivan County, PA"
          ],
          [
           "Susquehanna County, PA"
          ],
          [
           "Tioga County, PA"
          ],
          [
           "Union County, PA"
          ],
          [
           "Venango County, PA"
          ],
          [
           "Warren County, PA"
          ],
          [
           "Washington County, PA"
          ],
          [
           "Wayne County, PA"
          ],
          [
           "Westmoreland County, PA"
          ],
          [
           "Wyoming County, PA"
          ],
          [
           "York County, PA"
          ],
          [
           "Bristol County, RI"
          ],
          [
           "Kent County, RI"
          ],
          [
           "Newport County, RI"
          ],
          [
           "Providence County, RI"
          ],
          [
           "Washington County, RI"
          ],
          [
           "Abbeville County, SC"
          ],
          [
           "Aiken County, SC"
          ],
          [
           "Allendale County, SC"
          ],
          [
           "Anderson County, SC"
          ],
          [
           "Bamberg County, SC"
          ],
          [
           "Barnwell County, SC"
          ],
          [
           "Beaufort County, SC"
          ],
          [
           "Berkeley County, SC"
          ],
          [
           "Calhoun County, SC"
          ],
          [
           "Charleston County, SC"
          ],
          [
           "Cherokee County, SC"
          ],
          [
           "Chester County, SC"
          ],
          [
           "Chesterfield County, SC"
          ],
          [
           "Clarendon County, SC"
          ],
          [
           "Colleton County, SC"
          ],
          [
           "Darlington County, SC"
          ],
          [
           "Dillon County, SC"
          ],
          [
           "Dorchester County, SC"
          ],
          [
           "Edgefield County, SC"
          ],
          [
           "Fairfield County, SC"
          ],
          [
           "Florence County, SC"
          ],
          [
           "Georgetown County, SC"
          ],
          [
           "Greenville County, SC"
          ],
          [
           "Greenwood County, SC"
          ],
          [
           "Hampton County, SC"
          ],
          [
           "Horry County, SC"
          ],
          [
           "Jasper County, SC"
          ],
          [
           "Kershaw County, SC"
          ],
          [
           "Lancaster County, SC"
          ],
          [
           "Laurens County, SC"
          ],
          [
           "Lee County, SC"
          ],
          [
           "Lexington County, SC"
          ],
          [
           "McCormick County, SC"
          ],
          [
           "Marion County, SC"
          ],
          [
           "Marlboro County, SC"
          ],
          [
           "Newberry County, SC"
          ],
          [
           "Oconee County, SC"
          ],
          [
           "Orangeburg County, SC"
          ],
          [
           "Pickens County, SC"
          ],
          [
           "Richland County, SC"
          ],
          [
           "Saluda County, SC"
          ],
          [
           "Spartanburg County, SC"
          ],
          [
           "Sumter County, SC"
          ],
          [
           "Union County, SC"
          ],
          [
           "Williamsburg County, SC"
          ],
          [
           "York County, SC"
          ],
          [
           "Beadle County, SD"
          ],
          [
           "Bon Homme County, SD"
          ],
          [
           "Brookings County, SD"
          ],
          [
           "Brown County, SD"
          ],
          [
           "Brule County, SD"
          ],
          [
           "Butte County, SD"
          ],
          [
           "Campbell County, SD"
          ],
          [
           "Charles Mix County, SD"
          ],
          [
           "Clark County, SD"
          ],
          [
           "Clay County, SD"
          ],
          [
           "Codington County, SD"
          ],
          [
           "Corson County, SD"
          ],
          [
           "Custer County, SD"
          ],
          [
           "Davison County, SD"
          ],
          [
           "Day County, SD"
          ],
          [
           "Deuel County, SD"
          ],
          [
           "Edmunds County, SD"
          ],
          [
           "Fall River County, SD"
          ],
          [
           "Grant County, SD"
          ],
          [
           "Hamlin County, SD"
          ],
          [
           "Hand County, SD"
          ],
          [
           "Harding County, SD"
          ],
          [
           "Hughes County, SD"
          ],
          [
           "Hutchinson County, SD"
          ],
          [
           "Jackson County, SD"
          ],
          [
           "Jerauld County, SD"
          ],
          [
           "Kingsbury County, SD"
          ],
          [
           "Lake County, SD"
          ],
          [
           "Lawrence County, SD"
          ],
          [
           "Lincoln County, SD"
          ],
          [
           "McCook County, SD"
          ],
          [
           "Marshall County, SD"
          ],
          [
           "Meade County, SD"
          ],
          [
           "Miner County, SD"
          ],
          [
           "Minnehaha County, SD"
          ],
          [
           "Moody County, SD"
          ],
          [
           "Pennington County, SD"
          ],
          [
           "Perkins County, SD"
          ],
          [
           "Roberts County, SD"
          ],
          [
           "Sanborn County, SD"
          ],
          [
           "Spink County, SD"
          ],
          [
           "Stanley County, SD"
          ],
          [
           "Tripp County, SD"
          ],
          [
           "Turner County, SD"
          ],
          [
           "Union County, SD"
          ],
          [
           "Walworth County, SD"
          ],
          [
           "Yankton County, SD"
          ],
          [
           "Anderson County, TN"
          ],
          [
           "Bedford County, TN"
          ],
          [
           "Benton County, TN"
          ],
          [
           "Bledsoe County, TN"
          ],
          [
           "Blount County, TN"
          ],
          [
           "Bradley County, TN"
          ],
          [
           "Campbell County, TN"
          ],
          [
           "Cannon County, TN"
          ],
          [
           "Carroll County, TN"
          ],
          [
           "Carter County, TN"
          ],
          [
           "Cheatham County, TN"
          ],
          [
           "Chester County, TN"
          ],
          [
           "Claiborne County, TN"
          ],
          [
           "Clay County, TN"
          ],
          [
           "Cocke County, TN"
          ],
          [
           "Coffee County, TN"
          ],
          [
           "Crockett County, TN"
          ],
          [
           "Cumberland County, TN"
          ],
          [
           "Davidson County, TN"
          ],
          [
           "Decatur County, TN"
          ],
          [
           "DeKalb County, TN"
          ],
          [
           "Dickson County, TN"
          ],
          [
           "Dyer County, TN"
          ],
          [
           "Fayette County, TN"
          ],
          [
           "Fentress County, TN"
          ],
          [
           "Franklin County, TN"
          ],
          [
           "Gibson County, TN"
          ],
          [
           "Giles County, TN"
          ],
          [
           "Grainger County, TN"
          ],
          [
           "Greene County, TN"
          ],
          [
           "Grundy County, TN"
          ],
          [
           "Hamblen County, TN"
          ],
          [
           "Hamilton County, TN"
          ],
          [
           "Hancock County, TN"
          ],
          [
           "Hardeman County, TN"
          ],
          [
           "Hardin County, TN"
          ],
          [
           "Hawkins County, TN"
          ],
          [
           "Haywood County, TN"
          ],
          [
           "Henderson County, TN"
          ],
          [
           "Henry County, TN"
          ],
          [
           "Hickman County, TN"
          ],
          [
           "Houston County, TN"
          ],
          [
           "Humphreys County, TN"
          ],
          [
           "Jackson County, TN"
          ],
          [
           "Jefferson County, TN"
          ],
          [
           "Johnson County, TN"
          ],
          [
           "Knox County, TN"
          ],
          [
           "Lake County, TN"
          ],
          [
           "Lauderdale County, TN"
          ],
          [
           "Lawrence County, TN"
          ],
          [
           "Lewis County, TN"
          ],
          [
           "Lincoln County, TN"
          ],
          [
           "Loudon County, TN"
          ],
          [
           "McMinn County, TN"
          ],
          [
           "McNairy County, TN"
          ],
          [
           "Macon County, TN"
          ],
          [
           "Madison County, TN"
          ],
          [
           "Marion County, TN"
          ],
          [
           "Marshall County, TN"
          ],
          [
           "Maury County, TN"
          ],
          [
           "Meigs County, TN"
          ],
          [
           "Monroe County, TN"
          ],
          [
           "Montgomery County, TN"
          ],
          [
           "Moore County, TN"
          ],
          [
           "Morgan County, TN"
          ],
          [
           "Obion County, TN"
          ],
          [
           "Overton County, TN"
          ],
          [
           "Perry County, TN"
          ],
          [
           "Pickett County, TN"
          ],
          [
           "Polk County, TN"
          ],
          [
           "Putnam County, TN"
          ],
          [
           "Rhea County, TN"
          ],
          [
           "Roane County, TN"
          ],
          [
           "Robertson County, TN"
          ],
          [
           "Rutherford County, TN"
          ],
          [
           "Scott County, TN"
          ],
          [
           "Sequatchie County, TN"
          ],
          [
           "Sevier County, TN"
          ],
          [
           "Shelby County, TN"
          ],
          [
           "Smith County, TN"
          ],
          [
           "Stewart County, TN"
          ],
          [
           "Sullivan County, TN"
          ],
          [
           "Sumner County, TN"
          ],
          [
           "Tipton County, TN"
          ],
          [
           "Trousdale County, TN"
          ],
          [
           "Unicoi County, TN"
          ],
          [
           "Union County, TN"
          ],
          [
           "Van Buren County, TN"
          ],
          [
           "Warren County, TN"
          ],
          [
           "Washington County, TN"
          ],
          [
           "Wayne County, TN"
          ],
          [
           "Weakley County, TN"
          ],
          [
           "White County, TN"
          ],
          [
           "Williamson County, TN"
          ],
          [
           "Wilson County, TN"
          ],
          [
           "Anderson County, TX"
          ],
          [
           "Andrews County, TX"
          ],
          [
           "Angelina County, TX"
          ],
          [
           "Aransas County, TX"
          ],
          [
           "Archer County, TX"
          ],
          [
           "Armstrong County, TX"
          ],
          [
           "Atascosa County, TX"
          ],
          [
           "Austin County, TX"
          ],
          [
           "Bailey County, TX"
          ],
          [
           "Bandera County, TX"
          ],
          [
           "Bastrop County, TX"
          ],
          [
           "Baylor County, TX"
          ],
          [
           "Bee County, TX"
          ],
          [
           "Bell County, TX"
          ],
          [
           "Bexar County, TX"
          ],
          [
           "Blanco County, TX"
          ],
          [
           "Bosque County, TX"
          ],
          [
           "Bowie County, TX"
          ],
          [
           "Brazoria County, TX"
          ],
          [
           "Brazos County, TX"
          ],
          [
           "Brewster County, TX"
          ],
          [
           "Briscoe County, TX"
          ],
          [
           "Brooks County, TX"
          ],
          [
           "Brown County, TX"
          ],
          [
           "Burleson County, TX"
          ],
          [
           "Burnet County, TX"
          ],
          [
           "Caldwell County, TX"
          ],
          [
           "Calhoun County, TX"
          ],
          [
           "Callahan County, TX"
          ],
          [
           "Cameron County, TX"
          ],
          [
           "Camp County, TX"
          ],
          [
           "Carson County, TX"
          ],
          [
           "Cass County, TX"
          ],
          [
           "Castro County, TX"
          ],
          [
           "Chambers County, TX"
          ],
          [
           "Cherokee County, TX"
          ],
          [
           "Childress County, TX"
          ],
          [
           "Clay County, TX"
          ],
          [
           "Cochran County, TX"
          ],
          [
           "Coke County, TX"
          ],
          [
           "Coleman County, TX"
          ],
          [
           "Collin County, TX"
          ],
          [
           "Collingsworth County, TX"
          ],
          [
           "Colorado County, TX"
          ],
          [
           "Comal County, TX"
          ],
          [
           "Comanche County, TX"
          ],
          [
           "Concho County, TX"
          ],
          [
           "Cooke County, TX"
          ],
          [
           "Coryell County, TX"
          ],
          [
           "Cottle County, TX"
          ],
          [
           "Crane County, TX"
          ],
          [
           "Crockett County, TX"
          ],
          [
           "Crosby County, TX"
          ],
          [
           "Culberson County, TX"
          ],
          [
           "Dallam County, TX"
          ],
          [
           "Dallas County, TX"
          ],
          [
           "Dawson County, TX"
          ],
          [
           "Deaf Smith County, TX"
          ],
          [
           "Delta County, TX"
          ],
          [
           "Denton County, TX"
          ],
          [
           "DeWitt County, TX"
          ],
          [
           "Dickens County, TX"
          ],
          [
           "Dimmit County, TX"
          ],
          [
           "Donley County, TX"
          ],
          [
           "Duval County, TX"
          ],
          [
           "Eastland County, TX"
          ],
          [
           "Ector County, TX"
          ],
          [
           "Ellis County, TX"
          ],
          [
           "El Paso County, TX"
          ],
          [
           "Erath County, TX"
          ],
          [
           "Falls County, TX"
          ],
          [
           "Fannin County, TX"
          ],
          [
           "Fayette County, TX"
          ],
          [
           "Fisher County, TX"
          ],
          [
           "Floyd County, TX"
          ],
          [
           "Foard County, TX"
          ],
          [
           "Fort Bend County, TX"
          ],
          [
           "Franklin County, TX"
          ],
          [
           "Freestone County, TX"
          ],
          [
           "Frio County, TX"
          ],
          [
           "Gaines County, TX"
          ],
          [
           "Galveston County, TX"
          ],
          [
           "Garza County, TX"
          ],
          [
           "Gillespie County, TX"
          ],
          [
           "Glasscock County, TX"
          ],
          [
           "Goliad County, TX"
          ],
          [
           "Gonzales County, TX"
          ],
          [
           "Gray County, TX"
          ],
          [
           "Grayson County, TX"
          ],
          [
           "Gregg County, TX"
          ],
          [
           "Grimes County, TX"
          ],
          [
           "Guadalupe County, TX"
          ],
          [
           "Hale County, TX"
          ],
          [
           "Hall County, TX"
          ],
          [
           "Hamilton County, TX"
          ],
          [
           "Hansford County, TX"
          ],
          [
           "Hardeman County, TX"
          ],
          [
           "Hardin County, TX"
          ],
          [
           "Harris County, TX"
          ],
          [
           "Harrison County, TX"
          ],
          [
           "Hartley County, TX"
          ],
          [
           "Haskell County, TX"
          ],
          [
           "Hays County, TX"
          ],
          [
           "Hemphill County, TX"
          ],
          [
           "Henderson County, TX"
          ],
          [
           "Hidalgo County, TX"
          ],
          [
           "Hill County, TX"
          ],
          [
           "Hockley County, TX"
          ],
          [
           "Hood County, TX"
          ],
          [
           "Hopkins County, TX"
          ],
          [
           "Houston County, TX"
          ],
          [
           "Howard County, TX"
          ],
          [
           "Hunt County, TX"
          ],
          [
           "Hutchinson County, TX"
          ],
          [
           "Irion County, TX"
          ],
          [
           "Jack County, TX"
          ],
          [
           "Jackson County, TX"
          ],
          [
           "Jasper County, TX"
          ],
          [
           "Jeff Davis County, TX"
          ],
          [
           "Jefferson County, TX"
          ],
          [
           "Jim Hogg County, TX"
          ],
          [
           "Jim Wells County, TX"
          ],
          [
           "Johnson County, TX"
          ],
          [
           "Jones County, TX"
          ],
          [
           "Karnes County, TX"
          ],
          [
           "Kaufman County, TX"
          ],
          [
           "Kendall County, TX"
          ],
          [
           "Kerr County, TX"
          ],
          [
           "Kimble County, TX"
          ],
          [
           "Kinney County, TX"
          ],
          [
           "Kleberg County, TX"
          ],
          [
           "Knox County, TX"
          ],
          [
           "Lamar County, TX"
          ],
          [
           "Lamb County, TX"
          ],
          [
           "Lampasas County, TX"
          ],
          [
           "La Salle County, TX"
          ],
          [
           "Lavaca County, TX"
          ],
          [
           "Lee County, TX"
          ],
          [
           "Leon County, TX"
          ],
          [
           "Liberty County, TX"
          ],
          [
           "Limestone County, TX"
          ],
          [
           "Lipscomb County, TX"
          ],
          [
           "Live Oak County, TX"
          ],
          [
           "Llano County, TX"
          ],
          [
           "Lubbock County, TX"
          ],
          [
           "Lynn County, TX"
          ],
          [
           "McCulloch County, TX"
          ],
          [
           "McLennan County, TX"
          ],
          [
           "Madison County, TX"
          ],
          [
           "Marion County, TX"
          ],
          [
           "Martin County, TX"
          ],
          [
           "Mason County, TX"
          ],
          [
           "Matagorda County, TX"
          ],
          [
           "Maverick County, TX"
          ],
          [
           "Medina County, TX"
          ],
          [
           "Menard County, TX"
          ],
          [
           "Midland County, TX"
          ],
          [
           "Milam County, TX"
          ],
          [
           "Mills County, TX"
          ],
          [
           "Mitchell County, TX"
          ],
          [
           "Montague County, TX"
          ],
          [
           "Montgomery County, TX"
          ],
          [
           "Moore County, TX"
          ],
          [
           "Morris County, TX"
          ],
          [
           "Motley County, TX"
          ],
          [
           "Nacogdoches County, TX"
          ],
          [
           "Navarro County, TX"
          ],
          [
           "Newton County, TX"
          ],
          [
           "Nolan County, TX"
          ],
          [
           "Nueces County, TX"
          ],
          [
           "Ochiltree County, TX"
          ],
          [
           "Orange County, TX"
          ],
          [
           "Palo Pinto County, TX"
          ],
          [
           "Panola County, TX"
          ],
          [
           "Parker County, TX"
          ],
          [
           "Parmer County, TX"
          ],
          [
           "Pecos County, TX"
          ],
          [
           "Polk County, TX"
          ],
          [
           "Potter County, TX"
          ],
          [
           "Presidio County, TX"
          ],
          [
           "Rains County, TX"
          ],
          [
           "Randall County, TX"
          ],
          [
           "Reagan County, TX"
          ],
          [
           "Real County, TX"
          ],
          [
           "Red River County, TX"
          ],
          [
           "Reeves County, TX"
          ],
          [
           "Refugio County, TX"
          ],
          [
           "Robertson County, TX"
          ],
          [
           "Rockwall County, TX"
          ],
          [
           "Runnels County, TX"
          ],
          [
           "Rusk County, TX"
          ],
          [
           "Sabine County, TX"
          ],
          [
           "San Augustine County, TX"
          ],
          [
           "San Jacinto County, TX"
          ],
          [
           "San Patricio County, TX"
          ],
          [
           "San Saba County, TX"
          ],
          [
           "Scurry County, TX"
          ],
          [
           "Shackelford County, TX"
          ],
          [
           "Shelby County, TX"
          ],
          [
           "Sherman County, TX"
          ],
          [
           "Smith County, TX"
          ],
          [
           "Somervell County, TX"
          ],
          [
           "Starr County, TX"
          ],
          [
           "Stephens County, TX"
          ],
          [
           "Sterling County, TX"
          ],
          [
           "Stonewall County, TX"
          ],
          [
           "Sutton County, TX"
          ],
          [
           "Swisher County, TX"
          ],
          [
           "Tarrant County, TX"
          ],
          [
           "Taylor County, TX"
          ],
          [
           "Terrell County, TX"
          ],
          [
           "Terry County, TX"
          ],
          [
           "Throckmorton County, TX"
          ],
          [
           "Titus County, TX"
          ],
          [
           "Tom Green County, TX"
          ],
          [
           "Travis County, TX"
          ],
          [
           "Trinity County, TX"
          ],
          [
           "Tyler County, TX"
          ],
          [
           "Upshur County, TX"
          ],
          [
           "Upton County, TX"
          ],
          [
           "Uvalde County, TX"
          ],
          [
           "Val Verde County, TX"
          ],
          [
           "Van Zandt County, TX"
          ],
          [
           "Victoria County, TX"
          ],
          [
           "Walker County, TX"
          ],
          [
           "Waller County, TX"
          ],
          [
           "Ward County, TX"
          ],
          [
           "Washington County, TX"
          ],
          [
           "Webb County, TX"
          ],
          [
           "Wharton County, TX"
          ],
          [
           "Wheeler County, TX"
          ],
          [
           "Wichita County, TX"
          ],
          [
           "Wilbarger County, TX"
          ],
          [
           "Willacy County, TX"
          ],
          [
           "Williamson County, TX"
          ],
          [
           "Wilson County, TX"
          ],
          [
           "Winkler County, TX"
          ],
          [
           "Wise County, TX"
          ],
          [
           "Wood County, TX"
          ],
          [
           "Yoakum County, TX"
          ],
          [
           "Young County, TX"
          ],
          [
           "Zapata County, TX"
          ],
          [
           "Zavala County, TX"
          ],
          [
           "Beaver County, UT"
          ],
          [
           "Box Elder County, UT"
          ],
          [
           "Cache County, UT"
          ],
          [
           "Carbon County, UT"
          ],
          [
           "Davis County, UT"
          ],
          [
           "Duchesne County, UT"
          ],
          [
           "Garfield County, UT"
          ],
          [
           "Grand County, UT"
          ],
          [
           "Iron County, UT"
          ],
          [
           "Juab County, UT"
          ],
          [
           "Kane County, UT"
          ],
          [
           "Millard County, UT"
          ],
          [
           "Morgan County, UT"
          ],
          [
           "Rich County, UT"
          ],
          [
           "Salt Lake County, UT"
          ],
          [
           "San Juan County, UT"
          ],
          [
           "Sanpete County, UT"
          ],
          [
           "Sevier County, UT"
          ],
          [
           "Summit County, UT"
          ],
          [
           "Tooele County, UT"
          ],
          [
           "Uintah County, UT"
          ],
          [
           "Utah County, UT"
          ],
          [
           "Wasatch County, UT"
          ],
          [
           "Washington County, UT"
          ],
          [
           "Wayne County, UT"
          ],
          [
           "Weber County, UT"
          ],
          [
           "Addison County, VT"
          ],
          [
           "Bennington County, VT"
          ],
          [
           "Caledonia County, VT"
          ],
          [
           "Chittenden County, VT"
          ],
          [
           "Essex County, VT"
          ],
          [
           "Franklin County, VT"
          ],
          [
           "Grand Isle County, VT"
          ],
          [
           "Lamoille County, VT"
          ],
          [
           "Orange County, VT"
          ],
          [
           "Orleans County, VT"
          ],
          [
           "Rutland County, VT"
          ],
          [
           "Washington County, VT"
          ],
          [
           "Windham County, VT"
          ],
          [
           "Windsor County, VT"
          ],
          [
           "Accomack County, VA"
          ],
          [
           "Albemarle County, VA"
          ],
          [
           "Alleghany County, VA"
          ],
          [
           "Amelia County, VA"
          ],
          [
           "Amherst County, VA"
          ],
          [
           "Appomattox County, VA"
          ],
          [
           "Arlington County, VA"
          ],
          [
           "Augusta County, VA"
          ],
          [
           "Bath County, VA"
          ],
          [
           "Bedford County, VA"
          ],
          [
           "Bland County, VA"
          ],
          [
           "Botetourt County, VA"
          ],
          [
           "Brunswick County, VA"
          ],
          [
           "Buchanan County, VA"
          ],
          [
           "Buckingham County, VA"
          ],
          [
           "Campbell County, VA"
          ],
          [
           "Caroline County, VA"
          ],
          [
           "Carroll County, VA"
          ],
          [
           "Charles City County, VA"
          ],
          [
           "Charlotte County, VA"
          ],
          [
           "Chesterfield County, VA"
          ],
          [
           "Clarke County, VA"
          ],
          [
           "Craig County, VA"
          ],
          [
           "Culpeper County, VA"
          ],
          [
           "Cumberland County, VA"
          ],
          [
           "Dickenson County, VA"
          ],
          [
           "Dinwiddie County, VA"
          ],
          [
           "Essex County, VA"
          ],
          [
           "Fairfax County, VA"
          ],
          [
           "Fauquier County, VA"
          ],
          [
           "Floyd County, VA"
          ],
          [
           "Fluvanna County, VA"
          ],
          [
           "Franklin County, VA"
          ],
          [
           "Frederick County, VA"
          ],
          [
           "Giles County, VA"
          ],
          [
           "Gloucester County, VA"
          ],
          [
           "Goochland County, VA"
          ],
          [
           "Grayson County, VA"
          ],
          [
           "Greene County, VA"
          ],
          [
           "Greensville County, VA"
          ],
          [
           "Halifax County, VA"
          ],
          [
           "Hanover County, VA"
          ],
          [
           "Henrico County, VA"
          ],
          [
           "Henry County, VA"
          ],
          [
           "Highland County, VA"
          ],
          [
           "Isle of Wight County, VA"
          ],
          [
           "James City County, VA"
          ],
          [
           "King and Queen County, VA"
          ],
          [
           "King George County, VA"
          ],
          [
           "King William County, VA"
          ],
          [
           "Lancaster County, VA"
          ],
          [
           "Lee County, VA"
          ],
          [
           "Loudoun County, VA"
          ],
          [
           "Louisa County, VA"
          ],
          [
           "Lunenburg County, VA"
          ],
          [
           "Madison County, VA"
          ],
          [
           "Mathews County, VA"
          ],
          [
           "Mecklenburg County, VA"
          ],
          [
           "Middlesex County, VA"
          ],
          [
           "Montgomery County, VA"
          ],
          [
           "Nelson County, VA"
          ],
          [
           "New Kent County, VA"
          ],
          [
           "Northampton County, VA"
          ],
          [
           "Northumberland County, VA"
          ],
          [
           "Nottoway County, VA"
          ],
          [
           "Orange County, VA"
          ],
          [
           "Page County, VA"
          ],
          [
           "Patrick County, VA"
          ],
          [
           "Pittsylvania County, VA"
          ],
          [
           "Powhatan County, VA"
          ],
          [
           "Prince Edward County, VA"
          ],
          [
           "Prince George County, VA"
          ],
          [
           "Prince William County, VA"
          ],
          [
           "Pulaski County, VA"
          ],
          [
           "Rappahannock County, VA"
          ],
          [
           "Richmond County, VA"
          ],
          [
           "Roanoke County, VA"
          ],
          [
           "Rockbridge County, VA"
          ],
          [
           "Rockingham County, VA"
          ],
          [
           "Russell County, VA"
          ],
          [
           "Scott County, VA"
          ],
          [
           "Shenandoah County, VA"
          ],
          [
           "Smyth County, VA"
          ],
          [
           "Southampton County, VA"
          ],
          [
           "Spotsylvania County, VA"
          ],
          [
           "Stafford County, VA"
          ],
          [
           "Surry County, VA"
          ],
          [
           "Sussex County, VA"
          ],
          [
           "Tazewell County, VA"
          ],
          [
           "Warren County, VA"
          ],
          [
           "Washington County, VA"
          ],
          [
           "Westmoreland County, VA"
          ],
          [
           "Wise County, VA"
          ],
          [
           "Wythe County, VA"
          ],
          [
           "York County, VA"
          ],
          [
           "Alexandria County, VA"
          ],
          [
           "Bristol County, VA"
          ],
          [
           "Buena Vista County, VA"
          ],
          [
           "Charlottesville County, VA"
          ],
          [
           "Chesapeake County, VA"
          ],
          [
           "Colonial Heights County, VA"
          ],
          [
           "Covington County, VA"
          ],
          [
           "Danville County, VA"
          ],
          [
           "Emporia County, VA"
          ],
          [
           "Fairfax County, VA"
          ],
          [
           "Falls Church County, VA"
          ],
          [
           "Franklin County, VA"
          ],
          [
           "Fredericksburg County, VA"
          ],
          [
           "Galax County, VA"
          ],
          [
           "Hampton County, VA"
          ],
          [
           "Harrisonburg County, VA"
          ],
          [
           "Hopewell County, VA"
          ],
          [
           "Lexington County, VA"
          ],
          [
           "Lynchburg County, VA"
          ],
          [
           "Manassas County, VA"
          ],
          [
           "Manassas Park County, VA"
          ],
          [
           "Martinsville County, VA"
          ],
          [
           "Newport News County, VA"
          ],
          [
           "Norfolk County, VA"
          ],
          [
           "Norton County, VA"
          ],
          [
           "Petersburg County, VA"
          ],
          [
           "Poquoson County, VA"
          ],
          [
           "Portsmouth County, VA"
          ],
          [
           "Radford County, VA"
          ],
          [
           "Richmond County, VA"
          ],
          [
           "Roanoke County, VA"
          ],
          [
           "Salem County, VA"
          ],
          [
           "Staunton County, VA"
          ],
          [
           "Suffolk County, VA"
          ],
          [
           "Virginia Beach County, VA"
          ],
          [
           "Waynesboro County, VA"
          ],
          [
           "Williamsburg County, VA"
          ],
          [
           "Winchester County, VA"
          ],
          [
           "Adams County, WA"
          ],
          [
           "Asotin County, WA"
          ],
          [
           "Benton County, WA"
          ],
          [
           "Chelan County, WA"
          ],
          [
           "Clallam County, WA"
          ],
          [
           "Clark County, WA"
          ],
          [
           "Columbia County, WA"
          ],
          [
           "Cowlitz County, WA"
          ],
          [
           "Douglas County, WA"
          ],
          [
           "Ferry County, WA"
          ],
          [
           "Franklin County, WA"
          ],
          [
           "Garfield County, WA"
          ],
          [
           "Grant County, WA"
          ],
          [
           "Grays Harbor County, WA"
          ],
          [
           "Island County, WA"
          ],
          [
           "Jefferson County, WA"
          ],
          [
           "King County, WA"
          ],
          [
           "Kitsap County, WA"
          ],
          [
           "Kittitas County, WA"
          ],
          [
           "Klickitat County, WA"
          ],
          [
           "Lewis County, WA"
          ],
          [
           "Lincoln County, WA"
          ],
          [
           "Mason County, WA"
          ],
          [
           "Okanogan County, WA"
          ],
          [
           "Pacific County, WA"
          ],
          [
           "Pend Oreille County, WA"
          ],
          [
           "Pierce County, WA"
          ],
          [
           "San Juan County, WA"
          ],
          [
           "Skagit County, WA"
          ],
          [
           "Skamania County, WA"
          ],
          [
           "Snohomish County, WA"
          ],
          [
           "Spokane County, WA"
          ],
          [
           "Stevens County, WA"
          ],
          [
           "Thurston County, WA"
          ],
          [
           "Wahkiakum County, WA"
          ],
          [
           "Walla Walla County, WA"
          ],
          [
           "Whatcom County, WA"
          ],
          [
           "Whitman County, WA"
          ],
          [
           "Yakima County, WA"
          ],
          [
           "Barbour County, WV"
          ],
          [
           "Berkeley County, WV"
          ],
          [
           "Boone County, WV"
          ],
          [
           "Braxton County, WV"
          ],
          [
           "Brooke County, WV"
          ],
          [
           "Cabell County, WV"
          ],
          [
           "Calhoun County, WV"
          ],
          [
           "Clay County, WV"
          ],
          [
           "Doddridge County, WV"
          ],
          [
           "Fayette County, WV"
          ],
          [
           "Gilmer County, WV"
          ],
          [
           "Grant County, WV"
          ],
          [
           "Greenbrier County, WV"
          ],
          [
           "Hampshire County, WV"
          ],
          [
           "Hancock County, WV"
          ],
          [
           "Hardy County, WV"
          ],
          [
           "Harrison County, WV"
          ],
          [
           "Jackson County, WV"
          ],
          [
           "Jefferson County, WV"
          ],
          [
           "Kanawha County, WV"
          ],
          [
           "Lewis County, WV"
          ],
          [
           "Lincoln County, WV"
          ],
          [
           "Logan County, WV"
          ],
          [
           "McDowell County, WV"
          ],
          [
           "Marion County, WV"
          ],
          [
           "Marshall County, WV"
          ],
          [
           "Mason County, WV"
          ],
          [
           "Mercer County, WV"
          ],
          [
           "Mineral County, WV"
          ],
          [
           "Mingo County, WV"
          ],
          [
           "Monongalia County, WV"
          ],
          [
           "Monroe County, WV"
          ],
          [
           "Morgan County, WV"
          ],
          [
           "Nicholas County, WV"
          ],
          [
           "Ohio County, WV"
          ],
          [
           "Pendleton County, WV"
          ],
          [
           "Pleasants County, WV"
          ],
          [
           "Pocahontas County, WV"
          ],
          [
           "Preston County, WV"
          ],
          [
           "Putnam County, WV"
          ],
          [
           "Raleigh County, WV"
          ],
          [
           "Randolph County, WV"
          ],
          [
           "Ritchie County, WV"
          ],
          [
           "Roane County, WV"
          ],
          [
           "Summers County, WV"
          ],
          [
           "Taylor County, WV"
          ],
          [
           "Tucker County, WV"
          ],
          [
           "Tyler County, WV"
          ],
          [
           "Upshur County, WV"
          ],
          [
           "Wayne County, WV"
          ],
          [
           "Webster County, WV"
          ],
          [
           "Wetzel County, WV"
          ],
          [
           "Wirt County, WV"
          ],
          [
           "Wood County, WV"
          ],
          [
           "Wyoming County, WV"
          ],
          [
           "Adams County, WI"
          ],
          [
           "Ashland County, WI"
          ],
          [
           "Barron County, WI"
          ],
          [
           "Bayfield County, WI"
          ],
          [
           "Brown County, WI"
          ],
          [
           "Buffalo County, WI"
          ],
          [
           "Burnett County, WI"
          ],
          [
           "Calumet County, WI"
          ],
          [
           "Chippewa County, WI"
          ],
          [
           "Clark County, WI"
          ],
          [
           "Columbia County, WI"
          ],
          [
           "Crawford County, WI"
          ],
          [
           "Dane County, WI"
          ],
          [
           "Dodge County, WI"
          ],
          [
           "Door County, WI"
          ],
          [
           "Douglas County, WI"
          ],
          [
           "Dunn County, WI"
          ],
          [
           "Eau Claire County, WI"
          ],
          [
           "Florence County, WI"
          ],
          [
           "Fond du Lac County, WI"
          ],
          [
           "Forest County, WI"
          ],
          [
           "Grant County, WI"
          ],
          [
           "Green County, WI"
          ],
          [
           "Green Lake County, WI"
          ],
          [
           "Iowa County, WI"
          ],
          [
           "Iron County, WI"
          ],
          [
           "Jackson County, WI"
          ],
          [
           "Jefferson County, WI"
          ],
          [
           "Juneau County, WI"
          ],
          [
           "Kenosha County, WI"
          ],
          [
           "Kewaunee County, WI"
          ],
          [
           "La Crosse County, WI"
          ],
          [
           "Lafayette County, WI"
          ],
          [
           "Langlade County, WI"
          ],
          [
           "Lincoln County, WI"
          ],
          [
           "Manitowoc County, WI"
          ],
          [
           "Marathon County, WI"
          ],
          [
           "Marinette County, WI"
          ],
          [
           "Marquette County, WI"
          ],
          [
           "Menominee County, WI"
          ],
          [
           "Milwaukee County, WI"
          ],
          [
           "Monroe County, WI"
          ],
          [
           "Oconto County, WI"
          ],
          [
           "Oneida County, WI"
          ],
          [
           "Outagamie County, WI"
          ],
          [
           "Ozaukee County, WI"
          ],
          [
           "Pepin County, WI"
          ],
          [
           "Pierce County, WI"
          ],
          [
           "Polk County, WI"
          ],
          [
           "Portage County, WI"
          ],
          [
           "Price County, WI"
          ],
          [
           "Racine County, WI"
          ],
          [
           "Richland County, WI"
          ],
          [
           "Rock County, WI"
          ],
          [
           "Rusk County, WI"
          ],
          [
           "St. Croix County, WI"
          ],
          [
           "Sauk County, WI"
          ],
          [
           "Sawyer County, WI"
          ],
          [
           "Shawano County, WI"
          ],
          [
           "Sheboygan County, WI"
          ],
          [
           "Taylor County, WI"
          ],
          [
           "Trempealeau County, WI"
          ],
          [
           "Vernon County, WI"
          ],
          [
           "Vilas County, WI"
          ],
          [
           "Walworth County, WI"
          ],
          [
           "Washburn County, WI"
          ],
          [
           "Washington County, WI"
          ],
          [
           "Waukesha County, WI"
          ],
          [
           "Waupaca County, WI"
          ],
          [
           "Waushara County, WI"
          ],
          [
           "Winnebago County, WI"
          ],
          [
           "Wood County, WI"
          ],
          [
           "Albany County, WY"
          ],
          [
           "Big Horn County, WY"
          ],
          [
           "Campbell County, WY"
          ],
          [
           "Carbon County, WY"
          ],
          [
           "Converse County, WY"
          ],
          [
           "Crook County, WY"
          ],
          [
           "Fremont County, WY"
          ],
          [
           "Goshen County, WY"
          ],
          [
           "Hot Springs County, WY"
          ],
          [
           "Johnson County, WY"
          ],
          [
           "Laramie County, WY"
          ],
          [
           "Lincoln County, WY"
          ],
          [
           "Natrona County, WY"
          ],
          [
           "Niobrara County, WY"
          ],
          [
           "Park County, WY"
          ],
          [
           "Platte County, WY"
          ],
          [
           "Sheridan County, WY"
          ],
          [
           "Sublette County, WY"
          ],
          [
           "Sweetwater County, WY"
          ],
          [
           "Teton County, WY"
          ],
          [
           "Uinta County, WY"
          ],
          [
           "Washakie County, WY"
          ],
          [
           "Weston County, WY"
          ]
         ],
         "geo": "geo",
         "geojson": "https://raw.githubusercontent.com/plotly/datasets/master/geojson-counties-fips.json",
         "hovertemplate": "%{customdata[0]}<br>Growth: %{z:.2%}<extra></extra>",
         "locations": [
          "01001",
          "01003",
          "01005",
          "01007",
          "01009",
          "01011",
          "01013",
          "01015",
          "01017",
          "01019",
          "01021",
          "01023",
          "01025",
          "01027",
          "01029",
          "01031",
          "01033",
          "01035",
          "01037",
          "01039",
          "01041",
          "01043",
          "01045",
          "01047",
          "01049",
          "01051",
          "01053",
          "01055",
          "01057",
          "01059",
          "01061",
          "01063",
          "01065",
          "01067",
          "01069",
          "01071",
          "01073",
          "01075",
          "01077",
          "01079",
          "01081",
          "01083",
          "01085",
          "01087",
          "01089",
          "01091",
          "01093",
          "01095",
          "01097",
          "01099",
          "01101",
          "01103",
          "01105",
          "01107",
          "01109",
          "01111",
          "01113",
          "01115",
          "01117",
          "01119",
          "01121",
          "01123",
          "01125",
          "01127",
          "01129",
          "01131",
          "01133",
          "02020",
          "02090",
          "02100",
          "02110",
          "02122",
          "02130",
          "02150",
          "02170",
          "02185",
          "02195",
          "02220",
          "02240",
          "02275",
          "04001",
          "04003",
          "04005",
          "04007",
          "04009",
          "04011",
          "04012",
          "04013",
          "04015",
          "04017",
          "04019",
          "04021",
          "04023",
          "04025",
          "04027",
          "05001",
          "05003",
          "05005",
          "05007",
          "05009",
          "05011",
          "05013",
          "05015",
          "05017",
          "05019",
          "05021",
          "05023",
          "05025",
          "05027",
          "05029",
          "05031",
          "05033",
          "05035",
          "05037",
          "05039",
          "05041",
          "05043",
          "05045",
          "05047",
          "05049",
          "05051",
          "05053",
          "05055",
          "05057",
          "05059",
          "05061",
          "05063",
          "05065",
          "05067",
          "05069",
          "05071",
          "05073",
          "05075",
          "05077",
          "05079",
          "05081",
          "05083",
          "05085",
          "05087",
          "05089",
          "05091",
          "05093",
          "05095",
          "05097",
          "05101",
          "05103",
          "05105",
          "05107",
          "05109",
          "05111",
          "05113",
          "05115",
          "05117",
          "05119",
          "05121",
          "05123",
          "05125",
          "05127",
          "05129",
          "05131",
          "05133",
          "05135",
          "05137",
          "05139",
          "05141",
          "05143",
          "05145",
          "05147",
          "05149",
          "06001",
          "06003",
          "06005",
          "06007",
          "06009",
          "06011",
          "06013",
          "06015",
          "06017",
          "06019",
          "06021",
          "06023",
          "06025",
          "06027",
          "06029",
          "06031",
          "06033",
          "06035",
          "06037",
          "06039",
          "06041",
          "06043",
          "06045",
          "06047",
          "06049",
          "06051",
          "06053",
          "06055",
          "06057",
          "06059",
          "06061",
          "06063",
          "06065",
          "06067",
          "06069",
          "06071",
          "06073",
          "06075",
          "06077",
          "06079",
          "06081",
          "06083",
          "06085",
          "06087",
          "06089",
          "06091",
          "06093",
          "06095",
          "06097",
          "06099",
          "06101",
          "06103",
          "06105",
          "06107",
          "06109",
          "06111",
          "06113",
          "06115",
          "08001",
          "08003",
          "08005",
          "08007",
          "08011",
          "08013",
          "08014",
          "08015",
          "08017",
          "08019",
          "08021",
          "08023",
          "08025",
          "08027",
          "08029",
          "08031",
          "08033",
          "08035",
          "08037",
          "08039",
          "08041",
          "08043",
          "08045",
          "08047",
          "08049",
          "08051",
          "08053",
          "08055",
          "08059",
          "08061",
          "08063",
          "08065",
          "08067",
          "08069",
          "08071",
          "08073",
          "08075",
          "08077",
          "08079",
          "08081",
          "08083",
          "08085",
          "08087",
          "08089",
          "08091",
          "08093",
          "08095",
          "08097",
          "08099",
          "08101",
          "08103",
          "08105",
          "08107",
          "08109",
          "08111",
          "08113",
          "08115",
          "08117",
          "08119",
          "08121",
          "08123",
          "08125",
          "09001",
          "09003",
          "09005",
          "09007",
          "09009",
          "09011",
          "09013",
          "09015",
          "10001",
          "10003",
          "10005",
          "11001",
          "12001",
          "12003",
          "12005",
          "12007",
          "12009",
          "12011",
          "12013",
          "12015",
          "12017",
          "12019",
          "12021",
          "12023",
          "12027",
          "12029",
          "12031",
          "12033",
          "12035",
          "12037",
          "12039",
          "12041",
          "12043",
          "12045",
          "12047",
          "12049",
          "12051",
          "12053",
          "12055",
          "12057",
          "12059",
          "12061",
          "12063",
          "12065",
          "12067",
          "12069",
          "12071",
          "12073",
          "12075",
          "12077",
          "12079",
          "12081",
          "12083",
          "12085",
          "12086",
          "12087",
          "12089",
          "12091",
          "12093",
          "12095",
          "12097",
          "12099",
          "12101",
          "12103",
          "12105",
          "12107",
          "12109",
          "12111",
          "12113",
          "12115",
          "12117",
          "12119",
          "12121",
          "12123",
          "12125",
          "12127",
          "12129",
          "12131",
          "12133",
          "13001",
          "13003",
          "13005",
          "13007",
          "13009",
          "13011",
          "13013",
          "13015",
          "13017",
          "13019",
          "13021",
          "13023",
          "13025",
          "13027",
          "13029",
          "13031",
          "13033",
          "13035",
          "13037",
          "13039",
          "13043",
          "13045",
          "13047",
          "13049",
          "13051",
          "13053",
          "13055",
          "13057",
          "13059",
          "13061",
          "13063",
          "13065",
          "13067",
          "13069",
          "13071",
          "13073",
          "13075",
          "13077",
          "13079",
          "13081",
          "13083",
          "13085",
          "13087",
          "13089",
          "13091",
          "13093",
          "13095",
          "13097",
          "13099",
          "13101",
          "13103",
          "13105",
          "13107",
          "13109",
          "13111",
          "13113",
          "13115",
          "13117",
          "13119",
          "13121",
          "13123",
          "13125",
          "13127",
          "13129",
          "13131",
          "13133",
          "13135",
          "13137",
          "13139",
          "13141",
          "13143",
          "13145",
          "13147",
          "13149",
          "13151",
          "13153",
          "13155",
          "13157",
          "13159",
          "13161",
          "13163",
          "13165",
          "13167",
          "13169",
          "13171",
          "13173",
          "13175",
          "13177",
          "13179",
          "13181",
          "13183",
          "13185",
          "13187",
          "13189",
          "13191",
          "13193",
          "13195",
          "13197",
          "13199",
          "13201",
          "13205",
          "13207",
          "13209",
          "13211",
          "13213",
          "13215",
          "13217",
          "13219",
          "13221",
          "13223",
          "13225",
          "13227",
          "13229",
          "13231",
          "13233",
          "13235",
          "13237",
          "13239",
          "13241",
          "13243",
          "13245",
          "13247",
          "13249",
          "13251",
          "13253",
          "13255",
          "13257",
          "13259",
          "13261",
          "13263",
          "13265",
          "13267",
          "13269",
          "13271",
          "13273",
          "13275",
          "13277",
          "13279",
          "13281",
          "13283",
          "13285",
          "13287",
          "13289",
          "13291",
          "13293",
          "13295",
          "13297",
          "13299",
          "13301",
          "13303",
          "13305",
          "13307",
          "13309",
          "13311",
          "13313",
          "13315",
          "13317",
          "13319",
          "13321",
          "15001",
          "15003",
          "15007",
          "15009",
          "16001",
          "16003",
          "16005",
          "16007",
          "16009",
          "16011",
          "16013",
          "16015",
          "16017",
          "16019",
          "16021",
          "16025",
          "16027",
          "16029",
          "16031",
          "16033",
          "16035",
          "16037",
          "16039",
          "16041",
          "16043",
          "16045",
          "16047",
          "16049",
          "16051",
          "16053",
          "16055",
          "16057",
          "16059",
          "16061",
          "16063",
          "16065",
          "16067",
          "16069",
          "16071",
          "16073",
          "16075",
          "16077",
          "16079",
          "16081",
          "16083",
          "16085",
          "16087",
          "17001",
          "17003",
          "17005",
          "17007",
          "17009",
          "17011",
          "17013",
          "17015",
          "17017",
          "17019",
          "17021",
          "17023",
          "17025",
          "17027",
          "17029",
          "17031",
          "17033",
          "17035",
          "17037",
          "17039",
          "17041",
          "17043",
          "17045",
          "17047",
          "17049",
          "17051",
          "17053",
          "17055",
          "17057",
          "17059",
          "17061",
          "17063",
          "17065",
          "17067",
          "17069",
          "17071",
          "17073",
          "17075",
          "17077",
          "17079",
          "17081",
          "17083",
          "17085",
          "17087",
          "17089",
          "17091",
          "17093",
          "17095",
          "17097",
          "17099",
          "17101",
          "17103",
          "17105",
          "17107",
          "17109",
          "17111",
          "17113",
          "17115",
          "17117",
          "17119",
          "17121",
          "17123",
          "17125",
          "17127",
          "17129",
          "17131",
          "17133",
          "17135",
          "17137",
          "17139",
          "17141",
          "17143",
          "17145",
          "17147",
          "17149",
          "17151",
          "17153",
          "17155",
          "17157",
          "17159",
          "17161",
          "17163",
          "17165",
          "17167",
          "17169",
          "17171",
          "17173",
          "17175",
          "17177",
          "17179",
          "17181",
          "17183",
          "17185",
          "17187",
          "17189",
          "17191",
          "17193",
          "17195",
          "17197",
          "17199",
          "17201",
          "17203",
          "18001",
          "18003",
          "18005",
          "18007",
          "18009",
          "18011",
          "18013",
          "18015",
          "18017",
          "18019",
          "18021",
          "18023",
          "18025",
          "18027",
          "18029",
          "18031",
          "18033",
          "18035",
          "18037",
          "18039",
          "18041",
          "18043",
          "18045",
          "18047",
          "18049",
          "18051",
          "18053",
          "18055",
          "18057",
          "18059",
          "18061",
          "18063",
          "18065",
          "18067",
          "18069",
          "18071",
          "18073",
          "18075",
          "18077",
          "18079",
          "18081",
          "18083",
          "18085",
          "18087",
          "18089",
          "18091",
          "18093",
          "18095",
          "18097",
          "18099",
          "18101",
          "18103",
          "18105",
          "18107",
          "18109",
          "18111",
          "18113",
          "18115",
          "18117",
          "18119",
          "18121",
          "18123",
          "18125",
          "18127",
          "18129",
          "18131",
          "18133",
          "18135",
          "18137",
          "18139",
          "18141",
          "18143",
          "18145",
          "18147",
          "18149",
          "18151",
          "18153",
          "18155",
          "18157",
          "18159",
          "18161",
          "18163",
          "18165",
          "18167",
          "18169",
          "18171",
          "18173",
          "18175",
          "18177",
          "18179",
          "18181",
          "18183",
          "19001",
          "19003",
          "19005",
          "19007",
          "19009",
          "19011",
          "19013",
          "19015",
          "19017",
          "19019",
          "19021",
          "19023",
          "19025",
          "19027",
          "19029",
          "19031",
          "19033",
          "19035",
          "19037",
          "19039",
          "19041",
          "19043",
          "19045",
          "19047",
          "19049",
          "19051",
          "19053",
          "19055",
          "19057",
          "19059",
          "19061",
          "19063",
          "19065",
          "19067",
          "19069",
          "19071",
          "19073",
          "19075",
          "19077",
          "19079",
          "19081",
          "19083",
          "19085",
          "19087",
          "19089",
          "19091",
          "19093",
          "19095",
          "19097",
          "19099",
          "19101",
          "19103",
          "19105",
          "19107",
          "19109",
          "19111",
          "19113",
          "19115",
          "19117",
          "19119",
          "19121",
          "19123",
          "19125",
          "19127",
          "19129",
          "19131",
          "19133",
          "19135",
          "19137",
          "19139",
          "19141",
          "19143",
          "19145",
          "19147",
          "19149",
          "19151",
          "19153",
          "19155",
          "19157",
          "19159",
          "19161",
          "19163",
          "19165",
          "19167",
          "19169",
          "19171",
          "19173",
          "19175",
          "19177",
          "19179",
          "19181",
          "19183",
          "19185",
          "19187",
          "19189",
          "19191",
          "19193",
          "19195",
          "19197",
          "20001",
          "20003",
          "20005",
          "20007",
          "20009",
          "20011",
          "20013",
          "20015",
          "20017",
          "20019",
          "20021",
          "20023",
          "20025",
          "20027",
          "20029",
          "20031",
          "20033",
          "20035",
          "20037",
          "20039",
          "20041",
          "20043",
          "20045",
          "20047",
          "20049",
          "20051",
          "20053",
          "20055",
          "20057",
          "20059",
          "20061",
          "20063",
          "20065",
          "20067",
          "20069",
          "20071",
          "20073",
          "20075",
          "20077",
          "20079",
          "20081",
          "20083",
          "20085",
          "20087",
          "20089",
          "20091",
          "20093",
          "20095",
          "20097",
          "20099",
          "20101",
          "20103",
          "20105",
          "20107",
          "20109",
          "20111",
          "20113",
          "20115",
          "20117",
          "20119",
          "20121",
          "20123",
          "20125",
          "20127",
          "20129",
          "20131",
          "20133",
          "20135",
          "20137",
          "20139",
          "20141",
          "20143",
          "20145",
          "20147",
          "20149",
          "20151",
          "20153",
          "20155",
          "20157",
          "20159",
          "20161",
          "20163",
          "20165",
          "20167",
          "20169",
          "20171",
          "20173",
          "20175",
          "20177",
          "20179",
          "20181",
          "20183",
          "20185",
          "20187",
          "20189",
          "20191",
          "20193",
          "20195",
          "20197",
          "20199",
          "20201",
          "20203",
          "20205",
          "20207",
          "20209",
          "21001",
          "21003",
          "21005",
          "21007",
          "21009",
          "21011",
          "21013",
          "21015",
          "21017",
          "21019",
          "21021",
          "21023",
          "21025",
          "21027",
          "21029",
          "21031",
          "21033",
          "21035",
          "21037",
          "21039",
          "21041",
          "21043",
          "21045",
          "21047",
          "21049",
          "21051",
          "21053",
          "21055",
          "21057",
          "21059",
          "21061",
          "21063",
          "21065",
          "21067",
          "21069",
          "21071",
          "21073",
          "21075",
          "21077",
          "21079",
          "21081",
          "21083",
          "21085",
          "21087",
          "21089",
          "21091",
          "21093",
          "21095",
          "21097",
          "21099",
          "21101",
          "21103",
          "21105",
          "21107",
          "21109",
          "21111",
          "21113",
          "21115",
          "21117",
          "21119",
          "21121",
          "21123",
          "21125",
          "21127",
          "21129",
          "21131",
          "21133",
          "21135",
          "21137",
          "21139",
          "21141",
          "21143",
          "21145",
          "21147",
          "21149",
          "21151",
          "21153",
          "21155",
          "21157",
          "21159",
          "21161",
          "21163",
          "21165",
          "21167",
          "21169",
          "21171",
          "21173",
          "21175",
          "21177",
          "21179",
          "21181",
          "21183",
          "21185",
          "21187",
          "21189",
          "21191",
          "21193",
          "21195",
          "21197",
          "21199",
          "21201",
          "21203",
          "21205",
          "21207",
          "21209",
          "21211",
          "21213",
          "21215",
          "21217",
          "21219",
          "21221",
          "21223",
          "21225",
          "21227",
          "21229",
          "21231",
          "21233",
          "21235",
          "21237",
          "21239",
          "22001",
          "22003",
          "22005",
          "22007",
          "22009",
          "22011",
          "22013",
          "22015",
          "22017",
          "22019",
          "22021",
          "22023",
          "22025",
          "22027",
          "22029",
          "22031",
          "22033",
          "22037",
          "22039",
          "22041",
          "22043",
          "22045",
          "22047",
          "22049",
          "22051",
          "22053",
          "22055",
          "22057",
          "22059",
          "22061",
          "22063",
          "22067",
          "22069",
          "22071",
          "22073",
          "22075",
          "22077",
          "22079",
          "22081",
          "22083",
          "22085",
          "22087",
          "22089",
          "22091",
          "22093",
          "22095",
          "22097",
          "22099",
          "22101",
          "22103",
          "22105",
          "22107",
          "22109",
          "22111",
          "22113",
          "22115",
          "22117",
          "22119",
          "22121",
          "22123",
          "22125",
          "22127",
          "23001",
          "23003",
          "23005",
          "23007",
          "23009",
          "23011",
          "23013",
          "23015",
          "23017",
          "23019",
          "23021",
          "23023",
          "23025",
          "23027",
          "23029",
          "23031",
          "24001",
          "24003",
          "24005",
          "24009",
          "24011",
          "24013",
          "24015",
          "24017",
          "24019",
          "24021",
          "24023",
          "24025",
          "24027",
          "24029",
          "24031",
          "24033",
          "24035",
          "24037",
          "24039",
          "24041",
          "24043",
          "24045",
          "24047",
          "24510",
          "25001",
          "25003",
          "25005",
          "25007",
          "25009",
          "25011",
          "25013",
          "25015",
          "25017",
          "25019",
          "25021",
          "25023",
          "25025",
          "25027",
          "26001",
          "26003",
          "26005",
          "26007",
          "26009",
          "26011",
          "26013",
          "26015",
          "26017",
          "26019",
          "26021",
          "26023",
          "26025",
          "26027",
          "26029",
          "26031",
          "26033",
          "26035",
          "26037",
          "26039",
          "26041",
          "26043",
          "26045",
          "26047",
          "26049",
          "26051",
          "26053",
          "26055",
          "26057",
          "26059",
          "26061",
          "26063",
          "26065",
          "26067",
          "26069",
          "26071",
          "26073",
          "26075",
          "26077",
          "26079",
          "26081",
          "26083",
          "26085",
          "26087",
          "26089",
          "26091",
          "26093",
          "26095",
          "26097",
          "26099",
          "26101",
          "26103",
          "26105",
          "26107",
          "26109",
          "26111",
          "26113",
          "26115",
          "26117",
          "26119",
          "26121",
          "26123",
          "26125",
          "26127",
          "26129",
          "26131",
          "26133",
          "26135",
          "26137",
          "26139",
          "26141",
          "26143",
          "26145",
          "26147",
          "26149",
          "26151",
          "26153",
          "26155",
          "26157",
          "26159",
          "26161",
          "26163",
          "26165",
          "27001",
          "27003",
          "27005",
          "27007",
          "27009",
          "27011",
          "27013",
          "27015",
          "27017",
          "27019",
          "27021",
          "27023",
          "27025",
          "27027",
          "27029",
          "27031",
          "27033",
          "27035",
          "27037",
          "27039",
          "27041",
          "27043",
          "27045",
          "27047",
          "27049",
          "27051",
          "27053",
          "27055",
          "27057",
          "27059",
          "27061",
          "27063",
          "27065",
          "27067",
          "27069",
          "27071",
          "27073",
          "27075",
          "27077",
          "27079",
          "27081",
          "27083",
          "27085",
          "27087",
          "27089",
          "27091",
          "27093",
          "27095",
          "27097",
          "27099",
          "27101",
          "27103",
          "27105",
          "27107",
          "27109",
          "27111",
          "27113",
          "27115",
          "27117",
          "27119",
          "27121",
          "27123",
          "27125",
          "27127",
          "27129",
          "27131",
          "27133",
          "27135",
          "27137",
          "27139",
          "27141",
          "27143",
          "27145",
          "27147",
          "27149",
          "27151",
          "27153",
          "27155",
          "27157",
          "27159",
          "27161",
          "27163",
          "27165",
          "27167",
          "27169",
          "27171",
          "27173",
          "28001",
          "28003",
          "28005",
          "28007",
          "28009",
          "28011",
          "28013",
          "28015",
          "28017",
          "28019",
          "28021",
          "28023",
          "28025",
          "28027",
          "28029",
          "28031",
          "28033",
          "28035",
          "28037",
          "28039",
          "28041",
          "28043",
          "28045",
          "28047",
          "28049",
          "28051",
          "28053",
          "28057",
          "28059",
          "28061",
          "28063",
          "28065",
          "28067",
          "28069",
          "28071",
          "28073",
          "28075",
          "28077",
          "28079",
          "28081",
          "28083",
          "28085",
          "28087",
          "28089",
          "28091",
          "28093",
          "28095",
          "28097",
          "28099",
          "28101",
          "28103",
          "28105",
          "28107",
          "28109",
          "28111",
          "28113",
          "28115",
          "28117",
          "28121",
          "28123",
          "28125",
          "28127",
          "28129",
          "28131",
          "28133",
          "28135",
          "28137",
          "28139",
          "28141",
          "28143",
          "28145",
          "28147",
          "28149",
          "28151",
          "28153",
          "28155",
          "28157",
          "28159",
          "28161",
          "28163",
          "29001",
          "29003",
          "29005",
          "29007",
          "29009",
          "29011",
          "29013",
          "29015",
          "29017",
          "29019",
          "29021",
          "29023",
          "29025",
          "29027",
          "29029",
          "29031",
          "29033",
          "29035",
          "29037",
          "29039",
          "29041",
          "29043",
          "29045",
          "29047",
          "29049",
          "29051",
          "29053",
          "29055",
          "29057",
          "29059",
          "29061",
          "29063",
          "29065",
          "29067",
          "29069",
          "29071",
          "29073",
          "29075",
          "29077",
          "29079",
          "29081",
          "29083",
          "29085",
          "29089",
          "29091",
          "29093",
          "29095",
          "29097",
          "29099",
          "29101",
          "29103",
          "29105",
          "29107",
          "29109",
          "29111",
          "29113",
          "29115",
          "29117",
          "29119",
          "29121",
          "29123",
          "29125",
          "29127",
          "29129",
          "29131",
          "29133",
          "29135",
          "29137",
          "29139",
          "29141",
          "29143",
          "29145",
          "29147",
          "29149",
          "29151",
          "29153",
          "29155",
          "29157",
          "29159",
          "29161",
          "29163",
          "29165",
          "29167",
          "29169",
          "29171",
          "29173",
          "29175",
          "29177",
          "29179",
          "29181",
          "29183",
          "29185",
          "29186",
          "29187",
          "29189",
          "29195",
          "29197",
          "29199",
          "29201",
          "29203",
          "29205",
          "29207",
          "29209",
          "29211",
          "29213",
          "29215",
          "29217",
          "29219",
          "29221",
          "29223",
          "29225",
          "29229",
          "29510",
          "30001",
          "30003",
          "30005",
          "30007",
          "30009",
          "30011",
          "30013",
          "30015",
          "30017",
          "30019",
          "30021",
          "30023",
          "30025",
          "30027",
          "30029",
          "30031",
          "30033",
          "30035",
          "30037",
          "30039",
          "30041",
          "30043",
          "30045",
          "30047",
          "30049",
          "30051",
          "30053",
          "30055",
          "30057",
          "30059",
          "30061",
          "30063",
          "30065",
          "30067",
          "30069",
          "30071",
          "30073",
          "30075",
          "30077",
          "30079",
          "30081",
          "30083",
          "30085",
          "30087",
          "30089",
          "30091",
          "30093",
          "30095",
          "30097",
          "30099",
          "30101",
          "30103",
          "30105",
          "30107",
          "30109",
          "30111",
          "31001",
          "31003",
          "31007",
          "31011",
          "31013",
          "31015",
          "31017",
          "31019",
          "31021",
          "31023",
          "31025",
          "31027",
          "31029",
          "31031",
          "31033",
          "31035",
          "31037",
          "31039",
          "31041",
          "31043",
          "31045",
          "31047",
          "31049",
          "31051",
          "31053",
          "31055",
          "31057",
          "31059",
          "31061",
          "31063",
          "31065",
          "31067",
          "31069",
          "31071",
          "31073",
          "31077",
          "31079",
          "31081",
          "31083",
          "31085",
          "31087",
          "31089",
          "31091",
          "31093",
          "31095",
          "31097",
          "31099",
          "31101",
          "31103",
          "31105",
          "31107",
          "31109",
          "31111",
          "31117",
          "31119",
          "31121",
          "31123",
          "31125",
          "31127",
          "31129",
          "31131",
          "31133",
          "31135",
          "31137",
          "31139",
          "31141",
          "31143",
          "31145",
          "31147",
          "31149",
          "31151",
          "31153",
          "31155",
          "31157",
          "31159",
          "31161",
          "31163",
          "31165",
          "31167",
          "31169",
          "31173",
          "31175",
          "31177",
          "31179",
          "31181",
          "31183",
          "31185",
          "32001",
          "32003",
          "32005",
          "32007",
          "32011",
          "32013",
          "32015",
          "32017",
          "32019",
          "32021",
          "32023",
          "32027",
          "32029",
          "32031",
          "32033",
          "32510",
          "33001",
          "33003",
          "33005",
          "33007",
          "33009",
          "33011",
          "33013",
          "33015",
          "33017",
          "33019",
          "34001",
          "34003",
          "34005",
          "34007",
          "34009",
          "34011",
          "34013",
          "34015",
          "34017",
          "34019",
          "34021",
          "34023",
          "34025",
          "34027",
          "34029",
          "34031",
          "34033",
          "34035",
          "34037",
          "34039",
          "34041",
          "35001",
          "35003",
          "35005",
          "35006",
          "35007",
          "35009",
          "35011",
          "35013",
          "35015",
          "35017",
          "35025",
          "35027",
          "35028",
          "35029",
          "35031",
          "35035",
          "35037",
          "35039",
          "35041",
          "35043",
          "35045",
          "35047",
          "35049",
          "35051",
          "35053",
          "35055",
          "35057",
          "35059",
          "35061",
          "36001",
          "36003",
          "36005",
          "36007",
          "36009",
          "36011",
          "36013",
          "36015",
          "36017",
          "36019",
          "36021",
          "36023",
          "36025",
          "36027",
          "36029",
          "36031",
          "36033",
          "36035",
          "36037",
          "36039",
          "36041",
          "36043",
          "36045",
          "36047",
          "36049",
          "36051",
          "36053",
          "36055",
          "36057",
          "36059",
          "36061",
          "36063",
          "36065",
          "36067",
          "36069",
          "36071",
          "36073",
          "36075",
          "36077",
          "36079",
          "36081",
          "36083",
          "36085",
          "36087",
          "36089",
          "36091",
          "36093",
          "36095",
          "36097",
          "36099",
          "36101",
          "36103",
          "36105",
          "36107",
          "36109",
          "36111",
          "36113",
          "36115",
          "36117",
          "36119",
          "36121",
          "36123",
          "37001",
          "37003",
          "37005",
          "37007",
          "37009",
          "37011",
          "37013",
          "37015",
          "37017",
          "37019",
          "37021",
          "37023",
          "37025",
          "37027",
          "37029",
          "37031",
          "37033",
          "37035",
          "37037",
          "37039",
          "37041",
          "37043",
          "37045",
          "37047",
          "37049",
          "37051",
          "37053",
          "37055",
          "37057",
          "37059",
          "37061",
          "37063",
          "37065",
          "37067",
          "37069",
          "37071",
          "37073",
          "37075",
          "37077",
          "37079",
          "37081",
          "37083",
          "37085",
          "37087",
          "37089",
          "37091",
          "37093",
          "37095",
          "37097",
          "37099",
          "37101",
          "37103",
          "37105",
          "37107",
          "37109",
          "37111",
          "37113",
          "37115",
          "37117",
          "37119",
          "37121",
          "37123",
          "37125",
          "37127",
          "37129",
          "37131",
          "37133",
          "37135",
          "37137",
          "37139",
          "37141",
          "37143",
          "37145",
          "37147",
          "37149",
          "37151",
          "37153",
          "37155",
          "37157",
          "37159",
          "37161",
          "37163",
          "37165",
          "37167",
          "37169",
          "37171",
          "37173",
          "37175",
          "37177",
          "37179",
          "37181",
          "37183",
          "37185",
          "37187",
          "37189",
          "37191",
          "37193",
          "37195",
          "37197",
          "37199",
          "38001",
          "38003",
          "38005",
          "38009",
          "38011",
          "38013",
          "38015",
          "38017",
          "38019",
          "38021",
          "38025",
          "38027",
          "38029",
          "38031",
          "38033",
          "38035",
          "38041",
          "38043",
          "38045",
          "38049",
          "38053",
          "38055",
          "38057",
          "38059",
          "38061",
          "38063",
          "38065",
          "38067",
          "38071",
          "38073",
          "38075",
          "38077",
          "38081",
          "38083",
          "38089",
          "38093",
          "38095",
          "38097",
          "38099",
          "38101",
          "38103",
          "38105",
          "39001",
          "39003",
          "39005",
          "39007",
          "39009",
          "39011",
          "39013",
          "39015",
          "39017",
          "39019",
          "39021",
          "39023",
          "39025",
          "39027",
          "39029",
          "39031",
          "39033",
          "39035",
          "39037",
          "39039",
          "39041",
          "39043",
          "39045",
          "39047",
          "39049",
          "39051",
          "39053",
          "39055",
          "39057",
          "39059",
          "39061",
          "39063",
          "39065",
          "39067",
          "39069",
          "39071",
          "39073",
          "39075",
          "39077",
          "39079",
          "39081",
          "39083",
          "39085",
          "39087",
          "39089",
          "39091",
          "39093",
          "39095",
          "39097",
          "39099",
          "39101",
          "39103",
          "39105",
          "39107",
          "39109",
          "39111",
          "39113",
          "39115",
          "39117",
          "39119",
          "39121",
          "39123",
          "39125",
          "39127",
          "39129",
          "39131",
          "39133",
          "39135",
          "39137",
          "39139",
          "39141",
          "39143",
          "39145",
          "39147",
          "39149",
          "39151",
          "39153",
          "39155",
          "39157",
          "39159",
          "39161",
          "39163",
          "39165",
          "39167",
          "39169",
          "39171",
          "39173",
          "39175",
          "40001",
          "40003",
          "40005",
          "40007",
          "40009",
          "40011",
          "40013",
          "40015",
          "40017",
          "40019",
          "40021",
          "40023",
          "40025",
          "40027",
          "40029",
          "40031",
          "40033",
          "40035",
          "40037",
          "40039",
          "40041",
          "40043",
          "40045",
          "40047",
          "40049",
          "40051",
          "40053",
          "40055",
          "40057",
          "40059",
          "40061",
          "40063",
          "40065",
          "40067",
          "40069",
          "40071",
          "40073",
          "40075",
          "40077",
          "40079",
          "40081",
          "40083",
          "40085",
          "40087",
          "40089",
          "40091",
          "40093",
          "40095",
          "40097",
          "40099",
          "40101",
          "40103",
          "40105",
          "40107",
          "40109",
          "40111",
          "40113",
          "40115",
          "40117",
          "40119",
          "40121",
          "40123",
          "40125",
          "40127",
          "40129",
          "40131",
          "40133",
          "40135",
          "40137",
          "40139",
          "40141",
          "40143",
          "40145",
          "40147",
          "40149",
          "40151",
          "40153",
          "41001",
          "41003",
          "41005",
          "41007",
          "41009",
          "41011",
          "41013",
          "41015",
          "41017",
          "41019",
          "41021",
          "41023",
          "41025",
          "41027",
          "41029",
          "41031",
          "41033",
          "41035",
          "41037",
          "41039",
          "41041",
          "41043",
          "41045",
          "41047",
          "41049",
          "41051",
          "41053",
          "41055",
          "41057",
          "41059",
          "41061",
          "41063",
          "41065",
          "41067",
          "41069",
          "41071",
          "42001",
          "42003",
          "42005",
          "42007",
          "42009",
          "42011",
          "42013",
          "42015",
          "42017",
          "42019",
          "42021",
          "42023",
          "42025",
          "42027",
          "42029",
          "42031",
          "42033",
          "42035",
          "42037",
          "42039",
          "42041",
          "42043",
          "42045",
          "42047",
          "42049",
          "42051",
          "42053",
          "42055",
          "42057",
          "42059",
          "42061",
          "42063",
          "42065",
          "42067",
          "42069",
          "42071",
          "42073",
          "42075",
          "42077",
          "42079",
          "42081",
          "42083",
          "42085",
          "42087",
          "42089",
          "42091",
          "42093",
          "42095",
          "42097",
          "42099",
          "42101",
          "42103",
          "42105",
          "42107",
          "42109",
          "42111",
          "42113",
          "42115",
          "42117",
          "42119",
          "42121",
          "42123",
          "42125",
          "42127",
          "42129",
          "42131",
          "42133",
          "44001",
          "44003",
          "44005",
          "44007",
          "44009",
          "45001",
          "45003",
          "45005",
          "45007",
          "45009",
          "45011",
          "45013",
          "45015",
          "45017",
          "45019",
          "45021",
          "45023",
          "45025",
          "45027",
          "45029",
          "45031",
          "45033",
          "45035",
          "45037",
          "45039",
          "45041",
          "45043",
          "45045",
          "45047",
          "45049",
          "45051",
          "45053",
          "45055",
          "45057",
          "45059",
          "45061",
          "45063",
          "45065",
          "45067",
          "45069",
          "45071",
          "45073",
          "45075",
          "45077",
          "45079",
          "45081",
          "45083",
          "45085",
          "45087",
          "45089",
          "45091",
          "46005",
          "46009",
          "46011",
          "46013",
          "46015",
          "46019",
          "46021",
          "46023",
          "46025",
          "46027",
          "46029",
          "46031",
          "46033",
          "46035",
          "46037",
          "46039",
          "46045",
          "46047",
          "46051",
          "46057",
          "46059",
          "46063",
          "46065",
          "46067",
          "46071",
          "46073",
          "46077",
          "46079",
          "46081",
          "46083",
          "46087",
          "46091",
          "46093",
          "46097",
          "46099",
          "46101",
          "46103",
          "46105",
          "46109",
          "46111",
          "46115",
          "46117",
          "46123",
          "46125",
          "46127",
          "46129",
          "46135",
          "47001",
          "47003",
          "47005",
          "47007",
          "47009",
          "47011",
          "47013",
          "47015",
          "47017",
          "47019",
          "47021",
          "47023",
          "47025",
          "47027",
          "47029",
          "47031",
          "47033",
          "47035",
          "47037",
          "47039",
          "47041",
          "47043",
          "47045",
          "47047",
          "47049",
          "47051",
          "47053",
          "47055",
          "47057",
          "47059",
          "47061",
          "47063",
          "47065",
          "47067",
          "47069",
          "47071",
          "47073",
          "47075",
          "47077",
          "47079",
          "47081",
          "47083",
          "47085",
          "47087",
          "47089",
          "47091",
          "47093",
          "47095",
          "47097",
          "47099",
          "47101",
          "47103",
          "47105",
          "47107",
          "47109",
          "47111",
          "47113",
          "47115",
          "47117",
          "47119",
          "47121",
          "47123",
          "47125",
          "47127",
          "47129",
          "47131",
          "47133",
          "47135",
          "47137",
          "47139",
          "47141",
          "47143",
          "47145",
          "47147",
          "47149",
          "47151",
          "47153",
          "47155",
          "47157",
          "47159",
          "47161",
          "47163",
          "47165",
          "47167",
          "47169",
          "47171",
          "47173",
          "47175",
          "47177",
          "47179",
          "47181",
          "47183",
          "47185",
          "47187",
          "47189",
          "48001",
          "48003",
          "48005",
          "48007",
          "48009",
          "48011",
          "48013",
          "48015",
          "48017",
          "48019",
          "48021",
          "48023",
          "48025",
          "48027",
          "48029",
          "48031",
          "48035",
          "48037",
          "48039",
          "48041",
          "48043",
          "48045",
          "48047",
          "48049",
          "48051",
          "48053",
          "48055",
          "48057",
          "48059",
          "48061",
          "48063",
          "48065",
          "48067",
          "48069",
          "48071",
          "48073",
          "48075",
          "48077",
          "48079",
          "48081",
          "48083",
          "48085",
          "48087",
          "48089",
          "48091",
          "48093",
          "48095",
          "48097",
          "48099",
          "48101",
          "48103",
          "48105",
          "48107",
          "48109",
          "48111",
          "48113",
          "48115",
          "48117",
          "48119",
          "48121",
          "48123",
          "48125",
          "48127",
          "48129",
          "48131",
          "48133",
          "48135",
          "48139",
          "48141",
          "48143",
          "48145",
          "48147",
          "48149",
          "48151",
          "48153",
          "48155",
          "48157",
          "48159",
          "48161",
          "48163",
          "48165",
          "48167",
          "48169",
          "48171",
          "48173",
          "48175",
          "48177",
          "48179",
          "48181",
          "48183",
          "48185",
          "48187",
          "48189",
          "48191",
          "48193",
          "48195",
          "48197",
          "48199",
          "48201",
          "48203",
          "48205",
          "48207",
          "48209",
          "48211",
          "48213",
          "48215",
          "48217",
          "48219",
          "48221",
          "48223",
          "48225",
          "48227",
          "48231",
          "48233",
          "48235",
          "48237",
          "48239",
          "48241",
          "48243",
          "48245",
          "48247",
          "48249",
          "48251",
          "48253",
          "48255",
          "48257",
          "48259",
          "48265",
          "48267",
          "48271",
          "48273",
          "48275",
          "48277",
          "48279",
          "48281",
          "48283",
          "48285",
          "48287",
          "48289",
          "48291",
          "48293",
          "48295",
          "48297",
          "48299",
          "48303",
          "48305",
          "48307",
          "48309",
          "48313",
          "48315",
          "48317",
          "48319",
          "48321",
          "48323",
          "48325",
          "48327",
          "48329",
          "48331",
          "48333",
          "48335",
          "48337",
          "48339",
          "48341",
          "48343",
          "48345",
          "48347",
          "48349",
          "48351",
          "48353",
          "48355",
          "48357",
          "48361",
          "48363",
          "48365",
          "48367",
          "48369",
          "48371",
          "48373",
          "48375",
          "48377",
          "48379",
          "48381",
          "48383",
          "48385",
          "48387",
          "48389",
          "48391",
          "48395",
          "48397",
          "48399",
          "48401",
          "48403",
          "48405",
          "48407",
          "48409",
          "48411",
          "48415",
          "48417",
          "48419",
          "48421",
          "48423",
          "48425",
          "48427",
          "48429",
          "48431",
          "48433",
          "48435",
          "48437",
          "48439",
          "48441",
          "48443",
          "48445",
          "48447",
          "48449",
          "48451",
          "48453",
          "48455",
          "48457",
          "48459",
          "48461",
          "48463",
          "48465",
          "48467",
          "48469",
          "48471",
          "48473",
          "48475",
          "48477",
          "48479",
          "48481",
          "48483",
          "48485",
          "48487",
          "48489",
          "48491",
          "48493",
          "48495",
          "48497",
          "48499",
          "48501",
          "48503",
          "48505",
          "48507",
          "49001",
          "49003",
          "49005",
          "49007",
          "49011",
          "49013",
          "49017",
          "49019",
          "49021",
          "49023",
          "49025",
          "49027",
          "49029",
          "49033",
          "49035",
          "49037",
          "49039",
          "49041",
          "49043",
          "49045",
          "49047",
          "49049",
          "49051",
          "49053",
          "49055",
          "49057",
          "50001",
          "50003",
          "50005",
          "50007",
          "50009",
          "50011",
          "50013",
          "50015",
          "50017",
          "50019",
          "50021",
          "50023",
          "50025",
          "50027",
          "51001",
          "51003",
          "51005",
          "51007",
          "51009",
          "51011",
          "51013",
          "51015",
          "51017",
          "51019",
          "51021",
          "51023",
          "51025",
          "51027",
          "51029",
          "51031",
          "51033",
          "51035",
          "51036",
          "51037",
          "51041",
          "51043",
          "51045",
          "51047",
          "51049",
          "51051",
          "51053",
          "51057",
          "51059",
          "51061",
          "51063",
          "51065",
          "51067",
          "51069",
          "51071",
          "51073",
          "51075",
          "51077",
          "51079",
          "51081",
          "51083",
          "51085",
          "51087",
          "51089",
          "51091",
          "51093",
          "51095",
          "51097",
          "51099",
          "51101",
          "51103",
          "51105",
          "51107",
          "51109",
          "51111",
          "51113",
          "51115",
          "51117",
          "51119",
          "51121",
          "51125",
          "51127",
          "51131",
          "51133",
          "51135",
          "51137",
          "51139",
          "51141",
          "51143",
          "51145",
          "51147",
          "51149",
          "51153",
          "51155",
          "51157",
          "51159",
          "51161",
          "51163",
          "51165",
          "51167",
          "51169",
          "51171",
          "51173",
          "51175",
          "51177",
          "51179",
          "51181",
          "51183",
          "51185",
          "51187",
          "51191",
          "51193",
          "51195",
          "51197",
          "51199",
          "51510",
          "51520",
          "51530",
          "51540",
          "51550",
          "51570",
          "51580",
          "51590",
          "51595",
          "51600",
          "51610",
          "51620",
          "51630",
          "51640",
          "51650",
          "51660",
          "51670",
          "51678",
          "51680",
          "51683",
          "51685",
          "51690",
          "51700",
          "51710",
          "51720",
          "51730",
          "51735",
          "51740",
          "51750",
          "51760",
          "51770",
          "51775",
          "51790",
          "51800",
          "51810",
          "51820",
          "51830",
          "51840",
          "53001",
          "53003",
          "53005",
          "53007",
          "53009",
          "53011",
          "53013",
          "53015",
          "53017",
          "53019",
          "53021",
          "53023",
          "53025",
          "53027",
          "53029",
          "53031",
          "53033",
          "53035",
          "53037",
          "53039",
          "53041",
          "53043",
          "53045",
          "53047",
          "53049",
          "53051",
          "53053",
          "53055",
          "53057",
          "53059",
          "53061",
          "53063",
          "53065",
          "53067",
          "53069",
          "53071",
          "53073",
          "53075",
          "53077",
          "54001",
          "54003",
          "54005",
          "54007",
          "54009",
          "54011",
          "54013",
          "54015",
          "54017",
          "54019",
          "54021",
          "54023",
          "54025",
          "54027",
          "54029",
          "54031",
          "54033",
          "54035",
          "54037",
          "54039",
          "54041",
          "54043",
          "54045",
          "54047",
          "54049",
          "54051",
          "54053",
          "54055",
          "54057",
          "54059",
          "54061",
          "54063",
          "54065",
          "54067",
          "54069",
          "54071",
          "54073",
          "54075",
          "54077",
          "54079",
          "54081",
          "54083",
          "54085",
          "54087",
          "54089",
          "54091",
          "54093",
          "54095",
          "54097",
          "54099",
          "54101",
          "54103",
          "54105",
          "54107",
          "54109",
          "55001",
          "55003",
          "55005",
          "55007",
          "55009",
          "55011",
          "55013",
          "55015",
          "55017",
          "55019",
          "55021",
          "55023",
          "55025",
          "55027",
          "55029",
          "55031",
          "55033",
          "55035",
          "55037",
          "55039",
          "55041",
          "55043",
          "55045",
          "55047",
          "55049",
          "55051",
          "55053",
          "55055",
          "55057",
          "55059",
          "55061",
          "55063",
          "55065",
          "55067",
          "55069",
          "55071",
          "55073",
          "55075",
          "55077",
          "55078",
          "55079",
          "55081",
          "55083",
          "55085",
          "55087",
          "55089",
          "55091",
          "55093",
          "55095",
          "55097",
          "55099",
          "55101",
          "55103",
          "55105",
          "55107",
          "55109",
          "55111",
          "55113",
          "55115",
          "55117",
          "55119",
          "55121",
          "55123",
          "55125",
          "55127",
          "55129",
          "55131",
          "55133",
          "55135",
          "55137",
          "55139",
          "55141",
          "56001",
          "56003",
          "56005",
          "56007",
          "56009",
          "56011",
          "56013",
          "56015",
          "56017",
          "56019",
          "56021",
          "56023",
          "56025",
          "56027",
          "56029",
          "56031",
          "56033",
          "56035",
          "56037",
          "56039",
          "56041",
          "56043",
          "56045"
         ],
         "marker": {
          "line": {
           "color": "rgba(0, 0, 0, 0.5)",
           "width": 0.25
          }
         },
         "name": "",
         "type": "choropleth",
         "z": {
          "_inputArray": {
           "0": 0.03474805,
           "1": -0.018239021,
           "10": 0.013234859,
           "100": 0.033049423,
           "1000": 0.021115137,
           "1001": 0.034664065,
           "1002": 0.002252481,
           "1003": 0.03692544,
           "1004": 0.06650223,
           "1005": 0.057695534,
           "1006": 0.011020027,
           "1007": 0.09985165,
           "1008": 0.09297768,
           "1009": 0.09732638,
           "101": 0.056949206,
           "1010": 0.008303161,
           "1011": 0.014856425,
           "1012": 0.060860053,
           "1013": 0.043685276,
           "1014": 0.075139575,
           "1015": 0.06233071,
           "1016": 0.0013872422,
           "1017": 0.07323468,
           "1018": -0.006697399,
           "1019": 0.059031986,
           "102": -0.0021564693,
           "1020": 0.060790055,
           "1021": 0.055352967,
           "1022": 0.07152627,
           "1023": 0.044092286,
           "1024": 0.04278744,
           "1025": 0.08065473,
           "1026": 0.063187145,
           "1027": 0.028512375,
           "1028": 0.046994254,
           "1029": 0.020923113,
           "103": 0.07649512,
           "1030": 0.060148202,
           "1031": 0.039880753,
           "1032": -0.020880226,
           "1033": 0.03610006,
           "1034": 0.003973999,
           "1035": 0.033528112,
           "1036": 0.10307071,
           "1037": 0.03499377,
           "1038": 0.06904637,
           "1039": 0.037617594,
           "104": 0.039731465,
           "1040": 0.029867357,
           "1041": 0.01641949,
           "1042": 0.07208248,
           "1043": 0.018914277,
           "1044": 0.075040154,
           "1045": 0.067195356,
           "1046": 0.05029755,
           "1047": 0.06166316,
           "1048": 0.055824265,
           "1049": 0.017618015,
           "105": 0.041367393,
           "1050": 0.082624726,
           "1051": -0.06904966,
           "1052": 0.02022176,
           "1053": 0.030692523,
           "1054": 0.03660797,
           "1055": 0.023784135,
           "1056": -0.017657658,
           "1057": -0.01242682,
           "1058": 0.0674482,
           "1059": 0.064921126,
           "106": 0.05831214,
           "1060": 0.013947992,
           "1061": 0.015567999,
           "1062": 0.021141373,
           "1063": 0.06149272,
           "1064": -0.02110281,
           "1065": 0.046232976,
           "1066": -0.012333929,
           "1067": 0.053226933,
           "1068": 0.020666925,
           "1069": 0.03955884,
           "107": 0.027913036,
           "1070": 0.0055654016,
           "1071": 0.008935543,
           "1072": -0.018706443,
           "1073": 0.06986288,
           "1074": 0.07674359,
           "1075": -0.007403751,
           "1076": 0.025564486,
           "1077": -0.003342786,
           "1078": -0.0019787913,
           "1079": 0.026374985,
           "108": 0.015570661,
           "1080": -0.009745171,
           "1081": 0.04777512,
           "1082": -0.05366788,
           "1083": 0.06929646,
           "1084": 0.04147991,
           "1085": 0.080105364,
           "1086": 0.011314899,
           "1087": 0.028504672,
           "1088": 0.02697336,
           "1089": -0.00058799254,
           "109": 0.07688375,
           "1090": -0.005919629,
           "1091": 0.047231667,
           "1092": 0.06148613,
           "1093": 0.079240896,
           "1094": 0.08743356,
           "1095": 0.049868066,
           "1096": -0.019046241,
           "1097": -0.01896585,
           "1098": 0.06638315,
           "1099": 0.07412382,
           "11": 0.039490543,
           "110": 0.03504586,
           "1100": 0.06199545,
           "1101": 0.011630228,
           "1102": 0.051958274,
           "1103": 0.033025026,
           "1104": 0.033545528,
           "1105": -0.002084948,
           "1106": 0.10200694,
           "1107": -0.014079506,
           "1108": 0.038715135,
           "1109": 0.03188874,
           "111": 0.06959126,
           "1110": 0.077190205,
           "1111": 0.066709146,
           "1112": 0.03332652,
           "1113": 0.03656129,
           "1114": 0.0890609,
           "1115": 0.079257056,
           "1116": -0.0065564886,
           "1117": 0.030537443,
           "1118": -0.0006032383,
           "1119": 0.023174426,
           "112": 0.03511853,
           "1120": 0.0084198555,
           "1121": 0.001224953,
           "1122": 0.015021859,
           "1123": -0.037141826,
           "1124": 0.013581745,
           "1125": 0.020959022,
           "1126": 0.07682376,
           "1127": -0.0024637457,
           "1128": 0.07177103,
           "1129": 0.040087193,
           "113": 0.070841275,
           "1130": 0.058420695,
           "1131": 0.047608554,
           "1132": -0.041037943,
           "1133": 0.0055148695,
           "1134": -0.040543698,
           "1135": 0.0318175,
           "1136": 0.033366963,
           "1137": 0.04147563,
           "1138": 0.040218852,
           "1139": 0.022868417,
           "114": 0.031652447,
           "1140": 0.055296794,
           "1141": -0.06663364,
           "1142": 0.04908508,
           "1143": 0.025508024,
           "1144": 0.08186504,
           "1145": 0.06740502,
           "1146": 0.032440435,
           "1147": -0.0002518287,
           "1148": 0.06542374,
           "1149": 0.059433963,
           "115": 0.024244232,
           "1150": 0.04477309,
           "1151": 0.028565355,
           "1152": 0.07944621,
           "1153": 0.1059366,
           "1154": 0.06658803,
           "1155": 0.059238397,
           "1156": 0.038264014,
           "1157": 0.029000526,
           "1158": 0.03541137,
           "1159": 0.03820452,
           "116": 0.03687702,
           "1160": 0.01507628,
           "1161": 0.018921062,
           "1162": 0.039653584,
           "1163": 0.04366098,
           "1164": 0.019449744,
           "1165": 0.03744198,
           "1166": 0.046881534,
           "1167": 0.0016494237,
           "1168": 0.007503568,
           "1169": 0.037795074,
           "117": 0.04446166,
           "1170": 0.047272097,
           "1171": 0.039552458,
           "1172": 0.05149911,
           "1173": 0.028864712,
           "1174": 0.053697575,
           "1175": 0.02700039,
           "1176": 0.06594859,
           "1177": 0.04803037,
           "1178": 0.070228346,
           "1179": 0.04712094,
           "118": 0.062256344,
           "1180": 0.05664001,
           "1181": 0.065488614,
           "1182": -0.0007885252,
           "1183": 0.063433215,
           "1184": 0.012429684,
           "1185": 0.018606791,
           "1186": 0.05124089,
           "1187": 0.047279805,
           "1188": 0.07365697,
           "1189": 0.056688625,
           "119": 0.033266895,
           "1190": 0.07102364,
           "1191": 0.072865516,
           "1192": 0.036087178,
           "1193": 0.048373263,
           "1194": 0.051430985,
           "1195": 0.07172448,
           "1196": 0.06516123,
           "1197": 0.01926918,
           "1198": 0.05454047,
           "1199": 0.061250694,
           "12": 0.01485092,
           "120": 0.0026621167,
           "1200": 0.066630535,
           "1201": 0.061676316,
           "1202": 0.063381046,
           "1203": 0.037054263,
           "1204": 0.052474122,
           "1205": 0.068141885,
           "1206": 0.033770256,
           "1207": 0.07284035,
           "1208": 0.02624974,
           "1209": -0.028444428,
           "121": 0.042726513,
           "1210": 0.037887517,
           "1211": 0.036501024,
           "1212": 0.0057142684,
           "1213": 0.029035648,
           "1214": 0.04713193,
           "1215": 0.05100105,
           "1216": 0.08203228,
           "1217": 0.046245713,
           "1218": 0.08702683,
           "1219": 0.057836574,
           "122": 0.068843625,
           "1220": 0.08228696,
           "1221": 0.027940884,
           "1222": 0.022322893,
           "1223": 0.037712358,
           "1224": 0.04850742,
           "1225": 0.06483215,
           "1226": 0.06438247,
           "1227": 0.04756481,
           "1228": 0.062072176,
           "1229": 0.07852028,
           "123": 0.05489392,
           "1230": 0.05431379,
           "1231": -0.0034657025,
           "1232": 0.081950925,
           "1233": 0.052602712,
           "1234": 0.01927573,
           "1235": 0.061765112,
           "1236": 0.026766365,
           "1237": 0.05067481,
           "1238": 0.024422932,
           "1239": 0.08640256,
           "124": 0.04349054,
           "1240": 0.052688204,
           "1241": 0.04258953,
           "1242": 0.04523683,
           "1243": 0.033394143,
           "1244": 0.029285328,
           "1245": 0.05844775,
           "1246": 0.062485706,
           "1247": 0.05471284,
           "1248": 0.056379754,
           "1249": 0.05823537,
           "125": -0.022452738,
           "1250": 0.035061646,
           "1251": 0.053985868,
           "1252": -0.02453575,
           "1253": 0.047261823,
           "1254": 0.053482823,
           "1255": 0.03807524,
           "1256": 0.023154719,
           "1257": 0.0555037,
           "1258": 0.01932606,
           "1259": 0.05397286,
           "126": 0.028288404,
           "1260": 0.021112446,
           "1261": 0.022056857,
           "1262": 0.046522275,
           "1263": 0.054766487,
           "1264": 0.06589576,
           "1265": 0.053532083,
           "1266": 0.043638393,
           "1267": 0.04791861,
           "1268": 0.04034459,
           "1269": 0.050007753,
           "127": 0.035901044,
           "1270": 0.05671686,
           "1271": 0.030905843,
           "1272": 0.04272853,
           "1273": 0.035004236,
           "1274": -0.01367477,
           "1275": 0.04684583,
           "1276": 0.058485623,
           "1277": -0.008864053,
           "1278": 0.04773277,
           "1279": 0.040449087,
           "128": 0.0073226565,
           "1280": 0.06636011,
           "1281": 0.08961127,
           "1282": 0.06438116,
           "1283": 0.040877957,
           "1284": -0.017326916,
           "1285": 0.073059484,
           "1286": 0.036369316,
           "1287": 0.052273028,
           "1288": 0.04407501,
           "1289": 0.059804827,
           "129": 0.06723244,
           "1290": 0.05007793,
           "1291": -0.0028204923,
           "1292": -0.0057267863,
           "1293": 0.03674567,
           "1294": 0.042531997,
           "1295": 0.049713623,
           "1296": 0.0029925446,
           "1297": 0.00014082946,
           "1298": 0.012756687,
           "1299": 0.061457284,
           "13": 0.027669553,
           "130": 0.028452003,
           "1300": -0.021185862,
           "1301": 0.012402043,
           "1302": -0.0032397867,
           "1303": -0.0005954286,
           "1304": -0.0009258694,
           "1305": 0.07211626,
           "1306": 0.050488852,
           "1307": 0.068115786,
           "1308": -0.0060346127,
           "1309": 0.009864544,
           "131": 0.009297618,
           "1310": 0.009390455,
           "1311": 0.041276775,
           "1312": 0.019349834,
           "1313": 0.049228217,
           "1314": 0.040963247,
           "1315": 0.04386751,
           "1316": -0.041824512,
           "1317": 0.019233499,
           "1318": 0.018887352,
           "1319": 0.020745523,
           "132": 0.0537927,
           "1320": 0.01873886,
           "1321": 0.016748961,
           "1322": 0.009798586,
           "1323": -0.02752333,
           "1324": 0.030640827,
           "1325": -0.007185105,
           "1326": 0.02228394,
           "1327": 0.018440602,
           "1328": 0.0116177155,
           "1329": -0.008525446,
           "133": 0.038703933,
           "1330": 0.016852789,
           "1331": 0.0022347788,
           "1332": 0.019890066,
           "1333": 0.053213987,
           "1334": 0.04129259,
           "1335": -0.03692006,
           "1336": 0.030958245,
           "1337": 0.012931284,
           "1338": 0.008700637,
           "1339": 0.023725435,
           "134": 0.036125414,
           "1340": 0.030376343,
           "1341": -0.0040414375,
           "1342": 0.031302754,
           "1343": -0.04203195,
           "1344": 0.014667461,
           "1345": 0.023342911,
           "1346": 0.029815348,
           "1347": -0.02980189,
           "1348": -0.0119613595,
           "1349": 0.038091194,
           "135": 0.076869026,
           "1350": 0.04212887,
           "1351": -0.02130779,
           "1352": 0.036719717,
           "1353": -0.06308715,
           "1354": 0.0031698497,
           "1355": 0.009706075,
           "1356": 0.042877097,
           "1357": 0.019067725,
           "1358": 0.008007685,
           "1359": 0.055021483,
           "136": 0.073772356,
           "1360": -0.02538913,
           "1361": 0.0079747215,
           "1362": -0.0014640365,
           "1363": 0.033981197,
           "1364": 0.032308314,
           "1365": 0.005559288,
           "1366": 0.028007545,
           "1367": 0.078015886,
           "1368": 0.014739307,
           "1369": 0.027621629,
           "137": 0.05434684,
           "1370": 0.00862062,
           "1371": 0.024375977,
           "1372": -0.023881001,
           "1373": -0.022548232,
           "1374": -0.042186044,
           "1375": 0.036984056,
           "1376": -0.0032051392,
           "1377": -0.039563697,
           "1378": 0.024264218,
           "1379": 0.016763886,
           "138": 0.045736134,
           "1380": 0.013986799,
           "1381": 0.057639353,
           "1382": -0.006610689,
           "1383": -0.07066767,
           "1384": 0.0350499,
           "1385": 0.012650279,
           "1386": 0.10876666,
           "1387": 0.047947235,
           "1388": -0.053303372,
           "1389": 0.06786863,
           "139": 0.03082739,
           "1390": 0.026794929,
           "1391": 0.13967536,
           "1392": 0.060694028,
           "1393": 0.055156227,
           "1394": 0.028132573,
           "1395": 0.064306185,
           "1396": -0.010274428,
           "1397": 0.03891532,
           "1398": 0.028808327,
           "1399": 0.043824535,
           "14": 0.057425234,
           "140": 0.03408129,
           "1400": 0.06947773,
           "1401": 0.044661082,
           "1402": 0.0064179595,
           "1403": 0.012523513,
           "1404": -0.049073335,
           "1405": 0.009194526,
           "1406": 0.050693538,
           "1407": 0.043841,
           "1408": -0.053214848,
           "1409": 0.0965019,
           "141": 0.07174722,
           "1410": 0.049164288,
           "1411": 0.044267632,
           "1412": 0.09339918,
           "1413": 0.0727765,
           "1414": 0.015710331,
           "1415": 0.048942816,
           "1416": 0.03622097,
           "1417": 0.056149602,
           "1418": 0.06359513,
           "1419": 0.028150268,
           "142": 0.045310937,
           "1420": 0.03593228,
           "1421": 0.07303825,
           "1422": -0.009156658,
           "1423": 0.0588492,
           "1424": 0.032278396,
           "1425": 0.05253415,
           "1426": 0.034407012,
           "1427": 0.02236346,
           "1428": -0.0022892645,
           "1429": 0.06538092,
           "143": 0.09618019,
           "1430": 0.013479252,
           "1431": 0.07551256,
           "1432": 0.029895188,
           "1433": 0.08347519,
           "1434": 0.017262056,
           "1435": 0.025842555,
           "1436": 0.054748256,
           "1437": 0.011348465,
           "1438": 0.03471982,
           "1439": -0.04462066,
           "144": 0.05489248,
           "1440": -0.015790712,
           "1441": 0.04266759,
           "1442": 0.0076769334,
           "1443": -0.012306901,
           "1444": 0.045715876,
           "1445": 0.027745137,
           "1446": 0.047097113,
           "1447": -0.01496063,
           "1448": 0.008022911,
           "1449": 0.068627305,
           "145": 0.0641888,
           "1450": 0.057070453,
           "1451": 0.029481275,
           "1452": 0.028542178,
           "1453": 0.018696813,
           "1454": -0.04792704,
           "1455": 0.041243866,
           "1456": 0.0024053708,
           "1457": 0.0775963,
           "1458": 0.031798054,
           "1459": 0.057288896,
           "146": 0.08455488,
           "1460": 0.055374205,
           "1461": 0.079992905,
           "1462": 0.02247597,
           "1463": 0.03678611,
           "1464": -0.025406346,
           "1465": -0.07084666,
           "1466": -0.059412166,
           "1467": -0.042609014,
           "1468": -0.009202231,
           "1469": 0.088523164,
           "147": 0.07483477,
           "1470": 0.05194161,
           "1471": 0.009895657,
           "1472": 0.071610264,
           "1473": 0.022243043,
           "1474": 0.0723954,
           "1475": -0.072460346,
           "1476": -0.0017071911,
           "1477": 0.022038804,
           "1478": -0.0024073303,
           "1479": -0.05242561,
           "148": 0.09010446,
           "1480": -0.033185806,
           "1481": 0.041503396,
           "1482": 0.026344556,
           "1483": -0.006663625,
           "1484": -0.033683103,
           "1485": -0.012170786,
           "1486": -0.05313519,
           "1487": -0.01956117,
           "1488": 0.05462062,
           "1489": -0.07940269,
           "149": 0.09622001,
           "1490": -0.030293649,
           "1491": -0.02223991,
           "1492": -0.005609054,
           "1493": 0.03438355,
           "1494": -0.024713617,
           "1495": 0.017655749,
           "1496": -0.009028235,
           "1497": 0.09987604,
           "1498": 0.047225468,
           "1499": -0.040456347,
           "15": 0.04430767,
           "150": 0.035168193,
           "1500": -0.033942495,
           "1501": 0.014131433,
           "1502": 0.047551077,
           "1503": -0.0014652268,
           "1504": 0.060330313,
           "1505": 0.019328583,
           "1506": 0.055969816,
           "1507": 0.02243781,
           "1508": -0.021747658,
           "1509": 0.03576558,
           "151": 0.05496127,
           "1510": 0.015878089,
           "1511": 0.010232302,
           "1512": -0.013826541,
           "1513": 0.0537778,
           "1514": 0.014953622,
           "1515": 0.049935758,
           "1516": -0.018059107,
           "1517": 0.015263723,
           "1518": 0.05609615,
           "1519": 0.069667496,
           "152": 0.0010712642,
           "1520": 0.049950365,
           "1521": 0.065281615,
           "1522": 0.031138165,
           "1523": 0.026362155,
           "1524": 0.06174996,
           "1525": 0.01578987,
           "1526": -0.05802885,
           "1527": -0.07905268,
           "1528": 0.04775158,
           "1529": 0.003758236,
           "153": 0.049840383,
           "1530": -0.007268815,
           "1531": 0.05178589,
           "1532": 0.024833027,
           "1533": -0.063977264,
           "1534": 0.0012730459,
           "1535": 0.06947512,
           "1536": 0.06877177,
           "1537": 0.033379626,
           "1538": -0.016374363,
           "1539": 0.038216863,
           "154": 0.050793447,
           "1540": -0.047789168,
           "1541": 0.07492208,
           "1542": 0.017456044,
           "1543": 0.052106038,
           "1544": 0.02979117,
           "1545": 0.026646823,
           "1546": 0.0010646329,
           "1547": -0.07196266,
           "1548": 0.028445417,
           "1549": -0.0028783372,
           "155": 0.0714281,
           "1550": 0.0410553,
           "1551": 0.07020607,
           "1552": 0.040688142,
           "1553": 0.0026705666,
           "1554": -0.12847497,
           "1555": 0.052293327,
           "1556": -0.013636746,
           "1557": -0.031467546,
           "1558": 0.019012257,
           "1559": 0.018310495,
           "156": -0.0032713374,
           "1560": 0.010545993,
           "1561": 0.005637941,
           "1562": 0.0061714216,
           "1563": 0.025129749,
           "1564": 0.06356478,
           "1565": 0.045491654,
           "1566": 0.049470726,
           "1567": 0.026507273,
           "1568": 0.0086562615,
           "1569": -0.07048575,
           "157": -0.05292051,
           "1570": 0.056573916,
           "1571": -0.090379335,
           "1572": 0.034534745,
           "1573": 0.018443001,
           "1574": -0.07326452,
           "1575": 0.00488508,
           "1576": 0.021293467,
           "1577": 0.05660841,
           "1578": -0.051135723,
           "1579": -0.043896466,
           "158": 0.07560314,
           "1580": -0.019219572,
           "1581": 0.060698185,
           "1582": -0.081113145,
           "1583": -0.1421426,
           "1584": -0.036737885,
           "1585": -0.045045566,
           "1586": -0.04739148,
           "1587": -0.040314443,
           "1588": 0.0060947835,
           "1589": -0.045436878,
           "159": 0.04896979,
           "1590": -0.06789227,
           "1591": -0.01012122,
           "1592": -0.08163396,
           "1593": -0.06863669,
           "1594": -0.05159411,
           "1595": -0.059275288,
           "1596": 0.0011129255,
           "1597": 0.016378965,
           "1598": -0.028957482,
           "1599": -0.028221264,
           "16": 0.06036974,
           "160": 0.05750071,
           "1600": -0.0072851055,
           "1601": 0.04056786,
           "1602": -0.013832924,
           "1603": -0.007505748,
           "1604": -0.06544275,
           "1605": 0.050315265,
           "1606": -0.009431395,
           "1607": -0.093420364,
           "1608": -0.044254113,
           "1609": -0.030939091,
           "161": 0.048813857,
           "1610": 0.07618413,
           "1611": -0.064448394,
           "1612": -0.07724537,
           "1613": 0.007483114,
           "1614": -0.03696988,
           "1615": -0.09249976,
           "1616": -0.024794698,
           "1617": -0.0519191,
           "1618": -0.03525148,
           "1619": -0.07104289,
           "162": 0.019121857,
           "1620": -0.05359975,
           "1621": 0.01748894,
           "1622": 0.017038392,
           "1623": -0.012951086,
           "1624": 0.024677446,
           "1625": -0.0810584,
           "1626": 0.034351714,
           "1627": 0.041339036,
           "1628": 0.016100766,
           "1629": 0.049179517,
           "163": 0.033409197,
           "1630": -0.006687685,
           "1631": 0.04294289,
           "1632": -0.0020669056,
           "1633": 0.060054112,
           "1634": 0.04827802,
           "1635": 0.051946428,
           "1636": 0.014306081,
           "1637": 0.0045998837,
           "1638": 0.015911805,
           "1639": 0.009386518,
           "164": 0.03609397,
           "1640": 0.028702695,
           "1641": -0.012562184,
           "1642": 0.060850076,
           "1643": 0.011130499,
           "1644": -0.064891204,
           "1645": 0.007524539,
           "1646": 0.019158226,
           "1647": 0.05570118,
           "1648": -0.011342496,
           "1649": 0.017546242,
           "165": -0.034990087,
           "1650": 0.02607939,
           "1651": 0.0012181716,
           "1652": 0.02853097,
           "1653": 0.030515635,
           "1654": 0.017469205,
           "1655": 0.063706465,
           "1656": 0.030977406,
           "1657": 0.016111126,
           "1658": -0.0025043236,
           "1659": 0.014362877,
           "166": 0.06006883,
           "1660": 2.385609e-05,
           "1661": 0.07606594,
           "1662": -0.056731462,
           "1663": 0.01865189,
           "1664": 0.0131452745,
           "1665": 0.030707162,
           "1666": 0.069018945,
           "1667": 0.038346797,
           "1668": 0.052979708,
           "1669": 0.083855025,
           "167": 0.039127924,
           "1670": 0.0016389431,
           "1671": 0.06855013,
           "1672": -0.0026880894,
           "1673": 0.012682515,
           "1674": -0.057931002,
           "1675": 0.030604647,
           "1676": -0.020985382,
           "1677": 0.06088456,
           "1678": -0.0029748615,
           "1679": 0.016756555,
           "168": -0.010554349,
           "1680": 0.009721366,
           "1681": 0.0047217356,
           "1682": 0.030562231,
           "1683": 0.0124475155,
           "1684": 0.0046334504,
           "1685": 0.064183205,
           "1686": 0.09484447,
           "1687": 0.012075064,
           "1688": 0.070484966,
           "1689": 0.02532577,
           "169": -0.017440286,
           "1690": 0.008367552,
           "1691": 0.01641703,
           "1692": -0.014037385,
           "1693": -0.03260575,
           "1694": -0.011309355,
           "1695": 0.071642816,
           "1696": 0.08344354,
           "1697": 0.031238144,
           "1698": 0.039413814,
           "1699": -8.265137e-05,
           "17": 0.030702617,
           "170": -0.06362839,
           "1700": 0.017374897,
           "1701": 0.026331108,
           "1702": 0.11907226,
           "1703": 0.039703842,
           "1704": 0.07191695,
           "1705": -0.023905473,
           "1706": 0.056100667,
           "1707": 0.029871805,
           "1708": 0.056123417,
           "1709": -0.003224447,
           "171": -0.047049645,
           "1710": -0.044720042,
           "1711": 0.062004,
           "1712": 0.05354289,
           "1713": 0.0022668203,
           "1714": -0.059456564,
           "1715": 0.015734056,
           "1716": -0.076109804,
           "1717": 0.04003804,
           "1718": -0.030556288,
           "1719": 0.047254704,
           "172": -0.023444967,
           "1720": 0.06472067,
           "1721": 0.010574044,
           "1722": -0.07196938,
           "1723": -0.11224729,
           "1724": -0.08682379,
           "1725": 0.13248664,
           "1726": -0.022735009,
           "1727": -0.06287172,
           "1728": -0.010635483,
           "1729": 0.010568807,
           "173": -0.036200363,
           "1730": 0.026443377,
           "1731": -0.011808013,
           "1732": 0.04343515,
           "1733": 0.0007875958,
           "1734": 0.0053829825,
           "1735": 0.051026233,
           "1736": 0.0224159,
           "1737": 0.044908613,
           "1738": 0.031555247,
           "1739": -0.007370259,
           "174": 0.030212004,
           "1740": 0.07804233,
           "1741": 0.0483185,
           "1742": 0.052801874,
           "1743": 0.08359993,
           "1744": 0.017269807,
           "1745": 0.101682775,
           "1746": 0.08001273,
           "1747": 0.05289159,
           "1748": 0.037976652,
           "1749": 0.061611325,
           "175": -0.063727066,
           "1750": 0.08385404,
           "1751": 0.080168486,
           "1752": 0.037743367,
           "1753": 0.07340512,
           "1754": 0.058005184,
           "1755": 0.073640294,
           "1756": 0.083041154,
           "1757": 0.07995602,
           "1758": 0.057840556,
           "1759": 0.0751982,
           "176": 0.0714788,
           "1760": 0.061037704,
           "1761": 0.060879815,
           "1762": 0.0572616,
           "1763": -0.02851832,
           "1764": 0.011309555,
           "1765": 0.0072533092,
           "1766": 0.026200341,
           "1767": 0.05278865,
           "1768": 0.050391875,
           "1769": -0.03084193,
           "177": -0.021227775,
           "1770": 0.055366397,
           "1771": -0.028491836,
           "1772": 0.020404203,
           "1773": 0.029519726,
           "1774": 0.021065691,
           "1775": 0.032047678,
           "1776": 0.03173552,
           "1777": 0.03047417,
           "1778": 0.042968277,
           "1779": 0.028165631,
           "178": 0.0052632885,
           "1780": 0.02496438,
           "1781": 0.06628286,
           "1782": 0.013008005,
           "1783": 0.05092284,
           "1784": 0.0008059174,
           "1785": 0.0036581818,
           "1786": -0.017412016,
           "1787": -0.0075817183,
           "1788": 0.03141073,
           "1789": 0.026284339,
           "179": -0.05356865,
           "1790": 0.050663106,
           "1791": 0.0638525,
           "1792": -0.0025832995,
           "1793": 0.10966751,
           "1794": 0.039994013,
           "1795": 0.069249764,
           "1796": 0.045776255,
           "1797": 0.056627315,
           "1798": 0.026000379,
           "1799": 0.045072574,
           "18": 0.024763394,
           "180": -0.07792054,
           "1800": -0.009206472,
           "1801": 0.040908545,
           "1802": -0.015749428,
           "1803": 0.037994597,
           "1804": 0.057382,
           "1805": 0.04219276,
           "1806": 0.05031865,
           "1807": 0.03557554,
           "1808": 0.06013264,
           "1809": 0.005580711,
           "181": 0.15320179,
           "1810": -0.02724109,
           "1811": 0.05724567,
           "1812": 0.061371174,
           "1813": -0.0052980497,
           "1814": 0.057365514,
           "1815": 0.047325205,
           "1816": 0.042638324,
           "1817": 0.08158268,
           "1818": 0.032428104,
           "1819": 0.033129938,
           "182": 0.041635405,
           "1820": 0.019606618,
           "1821": 0.05804002,
           "1822": 0.055925082,
           "1823": 0.0825258,
           "1824": 0.07052193,
           "1825": 0.04753209,
           "1826": 0.081813976,
           "1827": 0.080843896,
           "1828": 0.048278354,
           "1829": 0.054048225,
           "183": 0.015878988,
           "1830": -0.002903612,
           "1831": 0.032899655,
           "1832": 0.043049674,
           "1833": 0.035832282,
           "1834": 0.05253182,
           "1835": 0.034370176,
           "1836": 0.05753023,
           "1837": 0.05714945,
           "1838": 0.034147654,
           "1839": 0.04879722,
           "184": 0.0035025848,
           "1840": 0.027652757,
           "1841": 0.04305322,
           "1842": 0.013906014,
           "1843": 0.051040467,
           "1844": 0.037906427,
           "1845": 0.05694619,
           "1846": 0.054202233,
           "1847": 0.06736338,
           "1848": 0.07963128,
           "1849": 0.03998539,
           "185": -0.07038438,
           "1850": 0.03396657,
           "1851": 0.07649793,
           "1852": 0.04321417,
           "1853": 0.07824402,
           "1854": 0.039015483,
           "1855": 0.0731048,
           "1856": 0.057387084,
           "1857": -0.04751475,
           "1858": 0.0074701016,
           "1859": 0.059909564,
           "186": -0.014754392,
           "1860": 0.07125821,
           "1861": -0.03435355,
           "1862": 0.040518425,
           "1863": 0.075395234,
           "1864": -0.05475765,
           "1865": 0.03333743,
           "1866": 0.058986813,
           "1867": -0.015171918,
           "1868": 0.06698834,
           "1869": 0.025025807,
           "187": 0.051137876,
           "1870": -0.023548048,
           "1871": 0.021423731,
           "1872": 0.012571379,
           "1873": 0.03628667,
           "1874": 0.057911355,
           "1875": 0.07468415,
           "1876": 0.035349455,
           "1877": 0.078687765,
           "1878": -0.015033166,
           "1879": -0.025588745,
           "188": -0.011127868,
           "1880": 0.03612962,
           "1881": 0.006083653,
           "1882": 0.010635989,
           "1883": -0.03758961,
           "1884": 0.04476095,
           "1885": 0.020433644,
           "1886": -0.049446158,
           "1887": 0.0015328336,
           "1888": 0.017318422,
           "1889": 0.07625143,
           "189": -0.029045835,
           "1890": 0.045221433,
           "1891": 0.012664184,
           "1892": 0.03341037,
           "1893": 0.04907425,
           "1894": 0.028007666,
           "1895": 0.05851223,
           "1896": 0.007413426,
           "1897": 0.026415333,
           "1898": 0.09836572,
           "1899": 0.040025856,
           "19": -0.013040395,
           "190": -0.038185336,
           "1900": -0.042133328,
           "1901": -0.0020232722,
           "1902": -0.076713726,
           "1903": 0.057816803,
           "1904": 0.012662531,
           "1905": 0.002271403,
           "1906": -0.028250247,
           "1907": 0.055951666,
           "1908": -0.0068536806,
           "1909": 0.03370111,
           "191": -0.043053843,
           "1910": 0.03131891,
           "1911": -0.031952795,
           "1912": 0.03621984,
           "1913": 0.027771804,
           "1914": -0.024395091,
           "1915": 0.034948267,
           "1916": 0.016114209,
           "1917": 0.049635615,
           "1918": 0.015906615,
           "1919": -0.0012557766,
           "192": -0.04198889,
           "1920": 0.042787414,
           "1921": 0.04028534,
           "1922": 0.005518659,
           "1923": -0.014888129,
           "1924": 0.05862076,
           "1925": 0.015529419,
           "1926": -0.012192176,
           "1927": 0.06519465,
           "1928": 0.04135092,
           "1929": 0.0461599,
           "193": 0.028506119,
           "1930": 0.051644653,
           "1931": 0.0031091298,
           "1932": 0.056132473,
           "1933": 0.07285321,
           "1934": 0.044271376,
           "1935": 0.008034783,
           "1936": 0.07385937,
           "1937": 0.07552564,
           "1938": 0.09110796,
           "1939": -0.015436818,
           "194": 0.018973023,
           "1940": 0.032527935,
           "1941": -0.067597136,
           "1942": 0.06654805,
           "1943": -0.07091849,
           "1944": 0.039721966,
           "1945": 0.054713767,
           "1946": 0.015746022,
           "1947": 0.04301545,
           "1948": -0.019251285,
           "1949": 0.032378342,
           "195": 0.046962056,
           "1950": 0.058848526,
           "1951": -0.020028353,
           "1952": 0.015411916,
           "1953": -0.02660742,
           "1954": 0.012991229,
           "1955": -0.022058465,
           "1956": 0.03478719,
           "1957": 0.054585125,
           "1958": 0.034075484,
           "1959": 0.0085140355,
           "196": 0.015983328,
           "1960": 0.0058415565,
           "1961": -0.009628212,
           "1962": -0.09178732,
           "1963": 0.069573954,
           "1964": 0.056537155,
           "1965": 0.0042497218,
           "1966": 0.018330662,
           "1967": -0.0051007853,
           "1968": 0.05834571,
           "1969": 0.012723169,
           "197": -0.08166842,
           "1970": 0.017860351,
           "1971": -0.0035988514,
           "1972": -0.087068886,
           "1973": 0.03089784,
           "1974": 0.029213242,
           "1975": 0.05501358,
           "1976": -0.0529927,
           "1977": 0.025508514,
           "1978": -0.040291466,
           "1979": 0.0042475313,
           "198": 0.04587852,
           "1980": -0.04767892,
           "1981": -0.0008257824,
           "1982": -0.029828496,
           "1983": -0.004366191,
           "1984": 0.00361136,
           "1985": 0.058284894,
           "1986": 0.024254195,
           "1987": -0.011660074,
           "1988": -0.0016256848,
           "1989": -0.04707626,
           "199": -0.04290994,
           "1990": 0.07178229,
           "1991": 0.050524037,
           "1992": -0.0007360524,
           "1993": -0.027988177,
           "1994": 0.07670997,
           "1995": 0.06420742,
           "1996": 0.052203443,
           "1997": 0.07343077,
           "1998": 0.03808833,
           "1999": 0.048767105,
           "2": -0.0054119322,
           "20": 0.0146267265,
           "200": -0.018688397,
           "2000": 0.047626004,
           "2001": 0.058143348,
           "2002": 0.054991264,
           "2003": 0.047687277,
           "2004": 0.07879448,
           "2005": 0.07360586,
           "2006": 0.06497286,
           "2007": 0.049427867,
           "2008": 0.06638892,
           "2009": 0.0626519,
           "201": 0.009882938,
           "2010": 0.054233234,
           "2011": 0.07350735,
           "2012": 0.07502958,
           "2013": 0.056823026,
           "2014": 0.0077867154,
           "2015": 0.06331929,
           "2016": 0.02114576,
           "2017": 0.0653919,
           "2018": 0.05733184,
           "2019": 0.073997214,
           "202": -0.005007138,
           "2020": 0.047517512,
           "2021": 0.06352033,
           "2022": 0.061776187,
           "2023": 0.05316805,
           "2024": 0.068754286,
           "2025": 0.07086621,
           "2026": 0.06279975,
           "2027": 0.061012983,
           "2028": 0.029641762,
           "2029": 0.08197098,
           "203": -0.094599605,
           "2030": 0.083529904,
           "2031": 0.035310563,
           "2032": 0.043425173,
           "2033": 0.044140346,
           "2034": 0.056590054,
           "2035": 0.044154882,
           "2036": 0.06735561,
           "2037": 0.085859306,
           "2038": 0.049689326,
           "2039": 0.09117743,
           "204": 0.034643985,
           "2040": 0.08480262,
           "2041": 0.08463614,
           "2042": 0.061726604,
           "2043": 0.06582555,
           "2044": 0.0761445,
           "2045": 0.06929733,
           "2046": 0.048919678,
           "2047": 0.046514727,
           "2048": 0.0630967,
           "2049": 0.050358653,
           "205": 0.039142244,
           "2050": 0.075970665,
           "2051": 0.05478938,
           "2052": 0.03024263,
           "2053": 0.10172047,
           "2054": 0.04041948,
           "2055": 0.033117216,
           "2056": 0.06399927,
           "2057": 0.08647678,
           "2058": 0.06915837,
           "2059": 0.047695093,
           "206": -0.08487992,
           "2060": 0.038229384,
           "2061": 0.07047436,
           "2062": 0.06428547,
           "2063": 0.059191532,
           "2064": 0.092347674,
           "2065": 0.08910292,
           "2066": 0.08133171,
           "2067": 0.047918368,
           "2068": 0.060224194,
           "2069": 0.08511813,
           "207": 0.0015537106,
           "2070": 0.070468955,
           "2071": 0.0729991,
           "2072": 0.04967471,
           "2073": 0.042251006,
           "2074": 0.06684344,
           "2075": 0.070179954,
           "2076": 0.05191666,
           "2077": 0.048999008,
           "2078": -0.0752037,
           "2079": 0.06838103,
           "208": 0.028295483,
           "2080": 0.07714189,
           "2081": 0.07281105,
           "2082": -0.039705567,
           "2083": 0.0012695615,
           "2084": 0.05071083,
           "2085": 0.01574899,
           "2086": 0.053919155,
           "2087": 0.061048027,
           "2088": -0.03863951,
           "2089": 0.03727712,
           "209": -0.070713446,
           "2090": 0.008152374,
           "2091": 0.035269946,
           "2092": 0.040541366,
           "2093": 0.010664549,
           "2094": 0.04380241,
           "2095": -0.01667144,
           "2096": 0.03388515,
           "2097": 0.04109096,
           "2098": 0.07905495,
           "2099": -0.02067832,
           "21": -0.043130774,
           "210": 0.0049435454,
           "2100": 0.021711444,
           "2101": 0.057049867,
           "2102": -0.041330982,
           "2103": -0.0030113368,
           "2104": 0.038889825,
           "2105": 0.061087895,
           "2106": 0.039418522,
           "2107": 0.0020974712,
           "2108": 0.0656264,
           "2109": 0.039011396,
           "211": 0.047706,
           "2110": 0.02634847,
           "2111": 0.022286084,
           "2112": -0.004080656,
           "2113": 0.046558745,
           "2114": 0.033716433,
           "2115": 0.056755684,
           "2116": -0.0004384977,
           "2117": 0.055509944,
           "2118": 0.0056281723,
           "2119": 0.008010806,
           "212": -0.0136831105,
           "2120": 0.02183374,
           "2121": 0.011421005,
           "2122": -0.025084004,
           "2123": -0.01868293,
           "2124": -0.021066276,
           "2125": 0.032870706,
           "2126": -0.063980885,
           "2127": -0.006602038,
           "2128": 0.042230666,
           "2129": -0.017789012,
           "213": -0.010247603,
           "2130": 0.0037517124,
           "2131": 0.02197504,
           "2132": 0.023477893,
           "2133": 0.017599398,
           "2134": 0.026971675,
           "2135": 0.036932316,
           "2136": 0.009954272,
           "2137": 0.024418006,
           "2138": 0.0072095897,
           "2139": 0.022154002,
           "214": -0.0022729526,
           "2140": 0.03684285,
           "2141": 0.034168463,
           "2142": 0.039836988,
           "2143": -0.0014600025,
           "2144": 0.046720907,
           "2145": 0.017460527,
           "2146": 0.021360153,
           "2147": 0.002328284,
           "2148": 0.062101264,
           "2149": -0.0017210776,
           "215": -0.060549907,
           "2150": 0.09359549,
           "2151": -0.045051634,
           "2152": 0.03078482,
           "2153": -0.0022298866,
           "2154": -0.006505456,
           "2155": 0.010958082,
           "2156": 0.045282952,
           "2157": 0.052673835,
           "2158": 0.04808607,
           "2159": -0.0075032776,
           "216": -0.0098868245,
           "2160": 0.040127426,
           "2161": 0.016372133,
           "2162": 0.023500826,
           "2163": 0.003434415,
           "2164": 0.012595899,
           "2165": -0.045146763,
           "2166": 0.038769122,
           "2167": -0.008099986,
           "2168": -0.019493783,
           "2169": -0.038521826,
           "217": 0.011983,
           "2170": 0.0081589185,
           "2171": -0.052972957,
           "2172": 0.008327443,
           "2173": 0.0058215377,
           "2174": 0.013946511,
           "2175": -0.0016772918,
           "2176": 0.044195447,
           "2177": -0.046902545,
           "2178": 0.038180806,
           "2179": 0.024249185,
           "218": 0.012159797,
           "2180": 0.017349973,
           "2181": -0.086117215,
           "2182": 0.018300893,
           "2183": -0.017314186,
           "2184": -0.020771135,
           "2185": 0.004209359,
           "2186": -0.03597844,
           "2187": 0.007779857,
           "2188": -0.0012810633,
           "2189": 0.026995081,
           "219": -0.030627538,
           "2190": -0.021516753,
           "2191": 0.01604058,
           "2192": 0.021143468,
           "2193": -0.01855373,
           "2194": 0.010531165,
           "2195": 0.058532786,
           "2196": 0.048265405,
           "2197": 0.06342068,
           "2198": 0.0685739,
           "2199": 0.037523888,
           "22": 0.06765586,
           "220": -0.077918336,
           "2200": 0.073170796,
           "2201": 0.049625516,
           "2202": 0.05470063,
           "2203": 0.06597244,
           "2204": 0.044102915,
           "2205": 0.026731843,
           "2206": 0.07078237,
           "2207": 0.05484278,
           "2208": 0.036675513,
           "2209": 0.04466937,
           "221": -0.07599633,
           "2210": 0.033657394,
           "2211": 0.011612234,
           "2212": 0.059961904,
           "2213": 0.03647159,
           "2214": 0.050364602,
           "2215": 0.073044814,
           "2216": 0.08142221,
           "2217": 0.06488497,
           "2218": 0.038366456,
           "2219": 0.0683971,
           "222": -0.009147841,
           "2220": 0.057762284,
           "2221": 0.07227025,
           "2222": 0.077712074,
           "2223": 0.057904325,
           "2224": 0.056215584,
           "2225": 0.04838517,
           "2226": 0.06861678,
           "2227": 0.06796986,
           "2228": 0.030956136,
           "2229": 0.09097394,
           "223": -0.03436182,
           "2230": 0.061779898,
           "2231": 0.07058125,
           "2232": 0.07132952,
           "2233": 0.06613375,
           "2234": 0.070025705,
           "2235": 0.06910669,
           "2236": 0.047657616,
           "2237": 0.06592565,
           "2238": 0.07393844,
           "2239": -0.030319424,
           "224": 0.041053303,
           "2240": 0.067080945,
           "2241": 0.047483813,
           "2242": 0.05445051,
           "2243": 0.045446858,
           "2244": 0.066020295,
           "2245": 0.0142562855,
           "2246": 0.012432802,
           "2247": 0.033370245,
           "2248": 0.07952051,
           "2249": -0.013986094,
           "225": -0.027804727,
           "2250": 0.06195254,
           "2251": 0.08834035,
           "2252": 0.04002136,
           "2253": 0.045265336,
           "2254": 0.059927456,
           "2255": 0.06150518,
           "2256": 0.07327714,
           "2257": 0.053561088,
           "2258": 0.014078748,
           "2259": 0.037555836,
           "226": -0.0075323572,
           "2260": 0.03920921,
           "2261": 0.05521132,
           "2262": 0.056975354,
           "2263": 0.07014239,
           "2264": 0.068138815,
           "2265": 0.07797221,
           "2266": 0.06258898,
           "2267": 0.022278776,
           "2268": 0.012228054,
           "2269": 0.05851102,
           "227": 0.0040433495,
           "2270": 0.05539873,
           "2271": 0.04958731,
           "2272": 0.012077232,
           "2273": -0.068073176,
           "2274": -0.0148641225,
           "2275": 0.08904052,
           "2276": -0.000865976,
           "2277": -0.027942052,
           "2278": 0.021935042,
           "2279": 0.030484946,
           "228": -0.031646833,
           "2280": -0.008203635,
           "2281": 0.037925605,
           "2282": 0.040232792,
           "2283": 0.04806892,
           "2284": 0.03398092,
           "2285": 0.014359386,
           "2286": -0.048672866,
           "2287": -0.016986039,
           "2288": 0.034344375,
           "2289": -0.021520551,
           "229": 0.0058523337,
           "2290": 0.04497897,
           "2291": -0.013039155,
           "2292": -0.02824179,
           "2293": 0.046734396,
           "2294": 0.07353541,
           "2295": -0.04991764,
           "2296": -0.01604043,
           "2297": 0.015386232,
           "2298": -0.052980416,
           "2299": -0.0072398577,
           "23": 0.044626456,
           "230": -0.01266508,
           "2300": 0.052544888,
           "2301": -0.06162026,
           "2302": -0.040679045,
           "2303": -0.026593722,
           "2304": 0.035749514,
           "2305": -0.030975722,
           "2306": 0.007603179,
           "2307": 0.07316055,
           "2308": -0.005031142,
           "2309": 0.09662374,
           "231": -0.01652026,
           "2310": 0.03587435,
           "2311": 0.06570275,
           "2312": -0.0021626034,
           "2313": -0.056838464,
           "2314": 0.050000742,
           "2315": -0.012502566,
           "2316": 0.02174124,
           "2317": 0.00516368,
           "2318": -0.15548629,
           "2319": 0.033229794,
           "232": -0.02732203,
           "2320": 0.024454659,
           "2321": 0.0046167485,
           "2322": 0.027291251,
           "2323": -0.049100526,
           "2324": 0.065810814,
           "2325": -0.06447528,
           "2326": 0.019867064,
           "2327": -0.06892091,
           "2328": -0.030428223,
           "2329": 0.060563702,
           "233": -0.033745106,
           "2330": -0.069753125,
           "2331": -0.07597427,
           "2332": 0.039471496,
           "2333": -0.0440463,
           "2334": -0.0024967275,
           "2335": -0.018927207,
           "2336": -0.025924733,
           "2337": 0.021383427,
           "2338": -0.07391503,
           "2339": -0.026314052,
           "234": -0.03960026,
           "2340": -0.033996943,
           "2341": -0.06752835,
           "2342": -0.020530283,
           "2343": -0.07209278,
           "2344": -0.06887691,
           "2345": -0.07033083,
           "2346": 0.027643317,
           "2347": -0.04829884,
           "2348": -0.06358278,
           "2349": -0.08690476,
           "235": -0.006836985,
           "2350": 0.053253375,
           "2351": -0.05472113,
           "2352": -0.06273244,
           "2353": 0.049990997,
           "2354": -0.07304516,
           "2355": -0.04785217,
           "2356": -0.062978774,
           "2357": 0.016417282,
           "2358": 0.06164385,
           "2359": -0.014071597,
           "236": 0.025191326,
           "2360": 0.04586413,
           "2361": 0.007418285,
           "2362": 0.06375347,
           "2363": -0.00995384,
           "2364": 0.015732732,
           "2365": 0.038300417,
           "2366": 0.059776086,
           "2367": 0.038801003,
           "2368": 0.017056389,
           "2369": 0.06943369,
           "237": -0.01677739,
           "2370": -0.0065321405,
           "2371": 0.016927274,
           "2372": 0.08618739,
           "2373": 0.0406236,
           "2374": 0.073670566,
           "2375": 0.036760874,
           "2376": 0.05774716,
           "2377": 0.016756382,
           "2378": -0.0022566596,
           "2379": 0.056354314,
           "238": -0.07532245,
           "2380": 0.026137004,
           "2381": 0.04802463,
           "2382": 0.082485035,
           "2383": -0.015978485,
           "2384": 0.052405406,
           "2385": 0.040110696,
           "2386": 0.043239165,
           "2387": 0.0443342,
           "2388": 0.05887768,
           "2389": 0.088735156,
           "239": -0.04328105,
           "2390": 0.07709977,
           "2391": 0.07974014,
           "2392": 0.04428792,
           "2393": 0.059359852,
           "2394": 0.06643888,
           "2395": -0.0062346617,
           "2396": 0.0826419,
           "2397": 0.088118315,
           "2398": 0.081886806,
           "2399": 0.029781476,
           "24": 0.015800675,
           "240": -0.04146044,
           "2400": 0.0392042,
           "2401": 0.056213133,
           "2402": 0.053556815,
           "2403": 0.024843972,
           "2404": 0.07268131,
           "2405": 0.028846897,
           "2406": 0.0060471995,
           "2407": 0.073299296,
           "2408": 0.024632413,
           "2409": 0.0073267627,
           "241": -0.012696661,
           "2410": 0.024974858,
           "2411": 0.021343725,
           "2412": 0.017356372,
           "2413": 0.029870695,
           "2414": 0.047580663,
           "2415": 0.070398584,
           "2416": 0.016340254,
           "2417": 0.045697533,
           "2418": 0.0397215,
           "2419": -0.0061064116,
           "242": 0.010675472,
           "2420": 0.0013538125,
           "2421": 0.059426054,
           "2422": -0.046587765,
           "2423": 0.058793314,
           "2424": 0.10016705,
           "2425": 0.03532068,
           "2426": 0.05737463,
           "2427": 0.027797394,
           "2428": -0.025086103,
           "2429": 0.042330686,
           "243": -0.019530816,
           "2430": -0.04637341,
           "2431": 0.020645542,
           "2432": 0.06452098,
           "2433": -0.019422438,
           "2434": -0.018031552,
           "2435": 0.034394722,
           "2436": 0.082856186,
           "2437": -0.018948948,
           "2438": 0.016841345,
           "2439": -0.011000453,
           "244": -0.036503315,
           "2440": 0.05540623,
           "2441": 0.07328318,
           "2442": -0.012705702,
           "2443": 0.02468833,
           "2444": 0.045979954,
           "2445": 0.10275093,
           "2446": 0.07503269,
           "2447": 0.0656504,
           "2448": 0.06524541,
           "2449": 0.07610237,
           "245": 0.0631465,
           "2450": 0.06063864,
           "2451": 0.017490081,
           "2452": 0.026856342,
           "2453": -0.03748086,
           "2454": -0.05283245,
           "2455": 0.047880348,
           "2456": -0.02419881,
           "2457": 0.03362324,
           "2458": 0.009868922,
           "2459": -0.06728302,
           "246": -0.04725155,
           "2460": -0.04312997,
           "2461": -0.008724391,
           "2462": 0.02172264,
           "2463": 0.028091466,
           "2464": -0.08593528,
           "2465": -0.10356114,
           "2466": -0.016297283,
           "2467": -0.012479914,
           "2468": -0.04755503,
           "2469": -0.01879463,
           "247": 0.029792627,
           "2470": -0.07606122,
           "2471": -0.04566378,
           "2472": 0.05254804,
           "2473": 0.018056938,
           "2474": 0.04780039,
           "2475": -0.056382447,
           "2476": 0.04929589,
           "2477": 0.06303054,
           "2478": -0.005172647,
           "2479": -0.04052311,
           "248": -0.025407027,
           "2480": -0.10863174,
           "2481": -0.05989474,
           "2482": -0.014347423,
           "2483": -0.011303102,
           "2484": 0.058549438,
           "2485": -0.000977088,
           "2486": -0.011381125,
           "2487": -0.023043552,
           "2488": -0.010417706,
           "2489": 0.0025596381,
           "249": 0.026993943,
           "2490": 0.03398414,
           "2491": 0.047067817,
           "2492": -0.02382524,
           "2493": 0.04945681,
           "2494": -0.022610387,
           "2495": -0.02810311,
           "2496": -0.05606659,
           "2497": -0.019334048,
           "2498": -0.0017574779,
           "2499": -0.07645525,
           "25": 0.010540245,
           "250": 0.01578926,
           "2500": -0.054874066,
           "2501": 0.006533933,
           "2502": 0.0023448213,
           "2503": -0.051537,
           "2504": 0.061589707,
           "2505": -0.007338257,
           "2506": 0.047776178,
           "2507": 0.034398664,
           "2508": 0.050122783,
           "2509": 0.045568608,
           "251": -0.038230862,
           "2510": -0.017485963,
           "2511": 0.06830096,
           "2512": 0.004026291,
           "2513": -0.0856103,
           "2514": -0.07713867,
           "2515": 0.04071452,
           "2516": 0.037312068,
           "2517": 0.019341925,
           "2518": 0.038715634,
           "2519": 0.052341707,
           "252": -0.01773493,
           "2520": 0.014894383,
           "2521": 0.016251467,
           "2522": -0.058253672,
           "2523": 0.04832641,
           "2524": -0.05842058,
           "2525": 0.0011074824,
           "2526": -0.05833965,
           "2527": -0.038719658,
           "2528": 0.035001874,
           "2529": 0.025903905,
           "253": 0.0028892492,
           "2530": 0.049171574,
           "2531": -0.026841674,
           "2532": -0.10331425,
           "2533": 0.0029822201,
           "2534": -0.005936014,
           "2535": -0.029486623,
           "2536": 0.018160615,
           "2537": -0.00922912,
           "2538": -0.082286954,
           "2539": 0.050670713,
           "254": -0.044634596,
           "2540": 0.015715098,
           "2541": -0.039328456,
           "2542": 0.068041556,
           "2543": -0.018649695,
           "2544": 0.07375663,
           "2545": -0.0015404596,
           "2546": -0.08986672,
           "2547": 0.025235457,
           "2548": 0.04514139,
           "2549": -0.045907103,
           "255": 0.005895678,
           "2550": -0.028169844,
           "2551": 0.051908888,
           "2552": -0.004503241,
           "2553": 0.011869289,
           "2554": 0.007558325,
           "2555": -0.0457407,
           "2556": -0.0026735726,
           "2557": -0.08406653,
           "2558": -0.029099982,
           "2559": -0.067173585,
           "256": 0.0024907514,
           "2560": 0.056794435,
           "2561": 0.007650719,
           "2562": 0.02523809,
           "2563": -0.048470166,
           "2564": -0.05190048,
           "2565": -0.09396225,
           "2566": 0.02350376,
           "2567": -0.059902966,
           "2568": 0.020298604,
           "2569": -0.058074046,
           "257": -0.067212775,
           "2570": -0.047797464,
           "2571": -0.061733853,
           "2572": -0.022833377,
           "2573": -0.030651076,
           "2574": 0.034257624,
           "2575": 0.06739798,
           "2576": 0.005406073,
           "2577": -0.036360644,
           "2578": 0.033789866,
           "2579": -0.093515456,
           "258": -0.03370851,
           "2580": -0.10204459,
           "2581": -0.06042358,
           "2582": -0.015031753,
           "2583": -0.0457658,
           "2584": 0.0142544005,
           "2585": 0.030020643,
           "2586": 0.059478123,
           "2587": -0.003770327,
           "2588": -0.0059290193,
           "2589": -0.08976338,
           "259": 0.008344179,
           "2590": -0.0047984994,
           "2591": -0.08149034,
           "2592": -0.04682569,
           "2593": -0.049726475,
           "2594": 0.02807932,
           "2595": 0.026414428,
           "2596": 0.050324176,
           "2597": 0.011227859,
           "2598": -0.104096636,
           "2599": -0.010073145,
           "26": 0.051312774,
           "260": 0.0037282454,
           "2600": -0.023428975,
           "2601": -0.01976871,
           "2602": -0.04966625,
           "2603": -0.058423407,
           "2604": 0.057557195,
           "2605": 0.036173712,
           "2606": -0.05868207,
           "2607": 0.017056385,
           "2608": 0.05206102,
           "2609": -0.048010767,
           "261": -0.05053337,
           "2610": 0.040717695,
           "2611": 0.055208858,
           "2612": -0.015280878,
           "2613": -0.09254472,
           "2614": 0.011098571,
           "2615": -0.047958925,
           "2616": -0.006363873,
           "2617": -0.014751655,
           "2618": 0.0211705,
           "2619": 0.041180413,
           "262": -0.056926556,
           "2620": 0.020598197,
           "2621": -0.031243255,
           "2622": 0.040431835,
           "2623": -0.0058559696,
           "2624": 0.0575191,
           "2625": 0.009767125,
           "2626": 0.04193183,
           "2627": -0.06225629,
           "2628": 0.02651588,
           "2629": -0.030038409,
           "263": -0.018455775,
           "2630": -0.04823592,
           "2631": -0.049808826,
           "2632": -0.02302147,
           "2633": 0.06931137,
           "2634": -0.03750558,
           "2635": -0.062300265,
           "2636": 0.0014178249,
           "2637": 0.05129545,
           "2638": -0.07131849,
           "2639": -0.047126558,
           "264": 0.018223403,
           "2640": -0.07981406,
           "2641": -0.00076349213,
           "2642": -0.06669128,
           "2643": -0.10557723,
           "2644": -0.0154721765,
           "2645": 0.014817819,
           "2646": 0.02587096,
           "2647": -0.038500264,
           "2648": -0.071860515,
           "2649": 0.023058876,
           "265": 0.0031223574,
           "2650": -0.03159174,
           "2651": 0.008100451,
           "2652": -0.050434116,
           "2653": -0.026058525,
           "2654": 0.047230646,
           "2655": 0.016968386,
           "2656": -0.027721165,
           "2657": -0.022725964,
           "2658": -0.10390131,
           "2659": 0.049514115,
           "266": 0.035555094,
           "2660": 0.048830166,
           "2661": -0.038753122,
           "2662": -0.052814275,
           "2663": -0.031455383,
           "2664": -0.0040804488,
           "2665": 0.05570947,
           "2666": -0.0073353485,
           "2667": 0.05814339,
           "2668": 0.018144235,
           "2669": 0.032419898,
           "267": -0.03365895,
           "2670": -0.1721755,
           "2671": 0.025272135,
           "2672": 0.0061172443,
           "2673": 0.0092357015,
           "2674": 0.002242379,
           "2675": 0.010715865,
           "2676": -0.005268219,
           "2677": 0.0004860204,
           "2678": 0.061181135,
           "2679": -0.034760304,
           "268": -0.011713225,
           "2680": -0.022394773,
           "2681": -0.014070716,
           "2682": -0.05865549,
           "2683": 0.037124284,
           "2684": -0.01691732,
           "2685": -0.01555789,
           "2686": 0.02791347,
           "2687": 0.029097002,
           "2688": -0.07158176,
           "2689": -0.14474826,
           "269": -0.03292035,
           "2690": -0.012011385,
           "2691": -0.028473217,
           "2692": -0.0038260377,
           "2693": -0.034358036,
           "2694": -0.033264913,
           "2695": -0.040575482,
           "2696": -0.039413113,
           "2697": -0.0076990156,
           "2698": -0.0725959,
           "2699": -0.03415448,
           "27": 0.044815175,
           "270": -0.044232648,
           "2700": -0.07567162,
           "2701": -0.050251465,
           "2702": -0.068514325,
           "2703": 0.057200953,
           "2704": 0.031751297,
           "2705": -0.0032574725,
           "2706": -0.015001871,
           "2707": -0.052392136,
           "2708": -0.06743901,
           "2709": 0.038763452,
           "271": -0.008096238,
           "2710": -0.04497802,
           "2711": -0.070852555,
           "2712": -0.026432842,
           "2713": 0.06472656,
           "2714": -0.017911796,
           "2715": -0.08039196,
           "2716": -0.037865322,
           "2717": -0.04970973,
           "2718": 0.0791836,
           "2719": -0.060093924,
           "272": -0.010252302,
           "2720": -0.0228511,
           "2721": -0.06673291,
           "2722": 0.055580717,
           "2723": -0.054603122,
           "2724": 0.051632028,
           "2725": 0.03636574,
           "2726": 0.034563553,
           "2727": 0.016935756,
           "2728": 0.04307285,
           "2729": 0.046576433,
           "273": -0.06595454,
           "2730": 0.04583509,
           "2731": 0.024242502,
           "2732": 0.037772626,
           "2733": 0.056465704,
           "2734": 0.040356264,
           "2735": 0.025674358,
           "2736": 0.0675968,
           "2737": 0.009009599,
           "2738": 0.07231118,
           "2739": 0.039881706,
           "274": -0.0057079694,
           "2740": 0.03457372,
           "2741": -0.01910851,
           "2742": 0.033899307,
           "2743": 0.067992665,
           "2744": 0.02454347,
           "2745": 0.041764308,
           "2746": 0.07607087,
           "2747": 0.03552367,
           "2748": 0.033396862,
           "2749": 0.029168464,
           "275": -0.022996835,
           "2750": 0.026012009,
           "2751": 0.09194019,
           "2752": 0.071131736,
           "2753": 0.040953323,
           "2754": -0.0009667416,
           "2755": 0.10038354,
           "2756": 0.02317121,
           "2757": 0.061525695,
           "2758": 0.029953867,
           "2759": 0.033543102,
           "276": -0.044877864,
           "2760": 0.045235872,
           "2761": 0.057158116,
           "2762": 0.013395643,
           "2763": 0.0873652,
           "2764": -0.047561206,
           "2765": 0.02736281,
           "2766": 0.044886615,
           "2767": 0.052538034,
           "2768": 0.06110273,
           "2769": 0.03399103,
           "277": -0.024649099,
           "2770": 0.05185394,
           "2771": 0.04602644,
           "2772": 0.049474098,
           "2773": 0.05541634,
           "2774": 0.096433856,
           "2775": 0.041253485,
           "2776": 0.041607857,
           "2777": 0.06675792,
           "2778": 0.056023233,
           "2779": 0.06631883,
           "278": 0.028105423,
           "2780": 0.04768361,
           "2781": 0.035197783,
           "2782": 0.07701367,
           "2783": 0.03159162,
           "2784": 0.050671693,
           "2785": -0.00022656009,
           "2786": 0.029867189,
           "2787": 0.015498562,
           "2788": 0.01924895,
           "2789": 0.08671369,
           "279": 0.0052309553,
           "2790": 0.038813625,
           "2791": 0.030929483,
           "2792": 0.001112004,
           "2793": 0.004239915,
           "2794": 0.072375014,
           "2795": 0.09738961,
           "2796": 0.0074805976,
           "2797": 0.024654884,
           "2798": 0.0038542082,
           "2799": 0.036257815,
           "28": 0.023616247,
           "280": -0.09207471,
           "2800": 0.041764524,
           "2801": 0.0183809,
           "2802": 0.0023862224,
           "2803": 0.0668691,
           "2804": 0.018753115,
           "2805": 0.07424798,
           "2806": 0.04259394,
           "2807": 0.056244433,
           "2808": 0.07505523,
           "2809": -0.030880805,
           "281": -0.0017129674,
           "2810": 0.05119543,
           "2811": 0.08011527,
           "2812": 0.029598344,
           "2813": 0.02302543,
           "2814": 0.0279636,
           "2815": 0.047782537,
           "2816": 0.06247515,
           "2817": 0.054974984,
           "2818": 0.037643034,
           "2819": 0.015943924,
           "282": -0.0006359211,
           "2820": 0.084912166,
           "2821": 0.0023690888,
           "2822": 0.06536236,
           "2823": 0.039380103,
           "2824": 0.06459533,
           "2825": 0.050301734,
           "2826": 0.077536255,
           "2827": 0.07864403,
           "2828": 0.0514377,
           "2829": 0.0067210905,
           "283": -0.04278368,
           "2830": 0.10390326,
           "2831": 0.061587557,
           "2832": 0.047305744,
           "2833": 0.036712512,
           "2834": 0.0661792,
           "2835": 0.02103639,
           "2836": -0.0022573278,
           "2837": 0.04836268,
           "2838": -0.035578698,
           "2839": 0.06895805,
           "284": -0.04292588,
           "2840": 0.076658666,
           "2841": -0.012598593,
           "2842": 0.04989069,
           "2843": 0.040516544,
           "2844": 0.029061282,
           "2845": 0.048603565,
           "2846": 0.012207702,
           "2847": 0.07914353,
           "2848": 0.040298235,
           "2849": -0.026112417,
           "285": 0.0066980273,
           "2850": 0.018576689,
           "2851": 0.05066221,
           "2852": 0.052023012,
           "2853": 0.062213212,
           "2854": 0.05474219,
           "2855": 0.08326748,
           "2856": 0.08811242,
           "2857": 0.0717165,
           "2858": -0.0082664965,
           "2859": 0.04909043,
           "286": -0.031543106,
           "2860": 0.07036991,
           "2861": 0.06591825,
           "2862": 0.050472587,
           "2863": 0.07508901,
           "2864": 0.018820588,
           "2865": 0.052093945,
           "2866": 0.044538174,
           "2867": 0.0646632,
           "2868": 0.04822997,
           "2869": 0.052987467,
           "287": -0.027853573,
           "2870": 0.021502275,
           "2871": -0.014000051,
           "2872": 0.0061833626,
           "2873": 0.02775187,
           "2874": 0.01977299,
           "2875": 0.026163056,
           "2876": 0.022640156,
           "2877": 0.022389285,
           "2878": 0.033340883,
           "2879": 0.03459445,
           "288": 0.019274592,
           "2880": -0.026793266,
           "2881": -0.008360571,
           "2882": 0.059011735,
           "2883": -0.0007603106,
           "2884": 0.03414771,
           "2885": 0.025489809,
           "2886": -0.017713824,
           "2887": -0.010108763,
           "2888": 0.0029217813,
           "2889": 0.020650147,
           "289": 0.017594373,
           "2890": 0.004134451,
           "2891": 0.0027957791,
           "2892": -0.10328709,
           "2893": 0.01270259,
           "2894": 0.024835719,
           "2895": 0.030007219,
           "2896": 0.014314707,
           "2897": 0.028636165,
           "2898": 0.007907632,
           "2899": 0.02004532,
           "29": 0.058873385,
           "290": 0.034386683,
           "2900": 0.042024553,
           "2901": 0.011817508,
           "2902": 0.0040211966,
           "2903": 0.02254646,
           "2904": 0.018086525,
           "2905": -0.01202161,
           "2906": -0.013549178,
           "2907": 0.027529977,
           "2908": -0.01936551,
           "2909": 0.039395735,
           "291": 0.037240412,
           "2910": 0.036219098,
           "2911": 0.001238012,
           "2912": 0.07902662,
           "2913": 0.03824108,
           "2914": 0.02468386,
           "2915": 0.0792499,
           "2916": 0.030812588,
           "2917": 0.058228485,
           "2918": 0.040578566,
           "2919": 0.117551096,
           "292": 0.046349615,
           "2920": 0.06846199,
           "2921": 0.04743505,
           "2922": 0.052037504,
           "2923": 0.009161601,
           "2924": 0.010402776,
           "2925": 0.045328837,
           "2926": 0.05416806,
           "2927": 0.058454618,
           "2928": 0.03898196,
           "2929": 0.09409376,
           "293": 0.03322768,
           "2930": 0.038350593,
           "2931": 0.06697446,
           "2932": 0.08295774,
           "2933": 0.08069791,
           "2934": 0.050893404,
           "2935": 0.047070403,
           "2936": 0.050637927,
           "2937": 0.060323685,
           "2938": 0.016779805,
           "2939": 0.07363619,
           "294": 0.0494614,
           "2940": 0.0429001,
           "2941": 0.0589416,
           "2942": -0.034351353,
           "2943": 0.072339796,
           "2944": 0.07435475,
           "2945": 0.017133536,
           "2946": 0.0346897,
           "2947": 0.0880057,
           "2948": 0.049339794,
           "2949": 0.05947138,
           "295": 0.035222143,
           "2950": 0.09460731,
           "2951": 0.038420208,
           "2952": 0.050077286,
           "2953": 0.07073864,
           "2954": 0.048279405,
           "2955": 0.064378686,
           "2956": 0.08247337,
           "2957": 0.058441848,
           "2958": 0.055191044,
           "2959": 0.062326442,
           "296": 0.04662211,
           "2960": 0.056722555,
           "2961": 0.026834222,
           "2962": 0.035610285,
           "2963": 0.082307175,
           "2964": 0.0854514,
           "2965": 0.04308566,
           "2966": 0.07466935,
           "2967": 0.04378648,
           "2968": 0.045464113,
           "2969": 0.06369158,
           "297": 0.07020861,
           "2970": 0.028776258,
           "2971": 0.059739932,
           "2972": 0.08591278,
           "2973": 0.07003019,
           "2974": 0.07706698,
           "2975": 0.06689752,
           "2976": 0.07446412,
           "2977": 0.057262648,
           "2978": 0.07252969,
           "2979": 0.05607338,
           "298": 0.058050644,
           "2980": 0.051861815,
           "2981": 0.0376402,
           "2982": 0.041041262,
           "2983": 0.05985688,
           "2984": 0.048560426,
           "2985": 0.05015852,
           "2986": 0.034360666,
           "2987": 0.0658355,
           "2988": 0.010103023,
           "2989": 0.045732718,
           "299": 0.012689294,
           "2990": 0.010096415,
           "2991": 0.059340287,
           "2992": 0.0711901,
           "2993": 0.047353406,
           "2994": 0.08239486,
           "2995": 0.03265757,
           "2996": 0.042954832,
           "2997": 0.031425305,
           "2998": 0.04053269,
           "2999": 0.033294953,
           "3": 0.012650915,
           "30": 0.06160504,
           "300": -0.032421447,
           "3000": 0.063775435,
           "3001": 0.07444194,
           "3002": 0.05434294,
           "3003": 0.0635187,
           "3004": 0.06674866,
           "3005": 0.09256842,
           "3006": 0.04433335,
           "3007": 0.051492307,
           "3008": 0.04737652,
           "3009": 0.056135222,
           "301": -0.017900085,
           "3010": 0.04024236,
           "3011": 0.03251768,
           "3012": 0.016452452,
           "3013": 0.011255519,
           "3014": 0.0670253,
           "3015": -0.0012342316,
           "3016": 0.07028241,
           "3017": 0.032270823,
           "3018": 0.0640846,
           "3019": -0.00043801486,
           "302": -0.03265257,
           "3020": 0.038328953,
           "3021": 0.042392094,
           "3022": -0.02818314,
           "3023": 0.07780002,
           "3024": 0.06723223,
           "3025": -0.046547078,
           "3026": 0.043967206,
           "3027": 0.03329148,
           "3028": 0.028743433,
           "3029": 0.048559487,
           "303": -0.045173608,
           "3030": -0.03129614,
           "3031": 0.08230027,
           "3032": 0.07832485,
           "3033": 0.06094252,
           "3034": 0.083819136,
           "3035": 0.0378554,
           "3036": 0.06465512,
           "3037": -0.0017597729,
           "3038": -0.027903497,
           "3039": 0.05111181,
           "304": 0.0025196853,
           "3040": 0.01790323,
           "3041": 0.035506282,
           "3042": -0.039529253,
           "3043": 0.035982497,
           "3044": -0.0101128705,
           "3045": -0.006776035,
           "3046": -0.01612797,
           "3047": 0.01904781,
           "3048": -0.13466547,
           "3049": 0.044619184,
           "305": -0.054337434,
           "3050": -0.035659146,
           "3051": 0.002601088,
           "3052": 0.0066388645,
           "3053": 0.0038309277,
           "3054": 0.07127503,
           "3055": 0.053180467,
           "3056": 0.0056615253,
           "3057": -0.033534322,
           "3058": -0.03808884,
           "3059": 0.013622459,
           "306": 0.051066093,
           "307": -0.0062173284,
           "308": -0.058327656,
           "309": -0.047170322,
           "31": 0.0073972046,
           "310": -0.10472039,
           "311": -0.085640326,
           "312": -0.053810965,
           "313": -0.07179701,
           "314": -0.0228783,
           "315": -0.038293574,
           "316": -0.026969464,
           "317": -0.05991689,
           "318": -0.0082624415,
           "319": 0.039318755,
           "32": 0.04974256,
           "320": -0.012731565,
           "321": -0.049916163,
           "322": -0.040507887,
           "323": 0.014781207,
           "324": 0.0056301593,
           "325": 0.06249529,
           "326": -0.06594866,
           "327": 0.012206239,
           "328": -0.04839794,
           "329": 0.03350465,
           "33": 0.06481463,
           "330": -0.058788314,
           "331": -0.0027529544,
           "332": 0.040460173,
           "333": 0.033863805,
           "334": -0.032421004,
           "335": -0.06877525,
           "336": 0.0774207,
           "337": 0.045722105,
           "338": 0.061984405,
           "339": 0.014976317,
           "34": 0.02576372,
           "340": -0.07172283,
           "341": -0.062549345,
           "342": -0.06558983,
           "343": 0.04016583,
           "344": -0.06385839,
           "345": -0.08287007,
           "346": -0.04842647,
           "347": -0.0069854376,
           "348": -0.0019360493,
           "349": -0.028212393,
           "35": 0.044391688,
           "350": -0.037960637,
           "351": -0.058631428,
           "352": -0.040063642,
           "353": -0.0217006,
           "354": 0.042136304,
           "355": -0.09898487,
           "356": -0.055020116,
           "357": -0.07125364,
           "358": -0.08533378,
           "359": -0.013661624,
           "36": -0.00843936,
           "360": -0.011405412,
           "361": 0.033408288,
           "362": 0.002576107,
           "363": 0.033781003,
           "364": -0.046234217,
           "365": -0.021041235,
           "366": -0.06899299,
           "367": 0.03480884,
           "368": 0.034667294,
           "369": 0.009215534,
           "37": -0.0061618113,
           "370": 0.042506702,
           "371": 0.04906897,
           "372": 0.0069646304,
           "373": -0.046211604,
           "374": -0.0911185,
           "375": -0.06272583,
           "376": 0.03689893,
           "377": 0.037547454,
           "378": 0.0076249633,
           "379": -0.0076621687,
           "38": 0.043588616,
           "380": 0.04277734,
           "381": -0.0060204375,
           "382": 0.012139733,
           "383": 0.032564968,
           "384": -0.0011155475,
           "385": 0.06029484,
           "386": 0.062375214,
           "387": -0.0025627103,
           "388": 0.03348945,
           "389": -0.015210522,
           "39": 0.040399246,
           "390": 0.02730857,
           "391": 0.008702474,
           "392": 0.06342049,
           "393": 0.025596566,
           "394": 0.058520082,
           "395": -0.05433477,
           "396": 0.052529886,
           "397": 0.04780391,
           "398": 0.004191565,
           "399": 0.064001806,
           "4": 0.027413974,
           "40": 0.0664597,
           "400": -0.033297695,
           "401": 0.030265663,
           "402": 0.026161266,
           "403": -0.03212029,
           "404": 0.042164277,
           "405": 0.0004217773,
           "406": 0.033406243,
           "407": 0.054036353,
           "408": 0.022148712,
           "409": -0.039700452,
           "41": -0.016430164,
           "410": 0.062184777,
           "411": 0.024168134,
           "412": 0.0066569974,
           "413": 0.074767575,
           "414": 0.06977244,
           "415": -0.071529664,
           "416": 0.019416893,
           "417": 0.037570342,
           "418": 0.015836254,
           "419": 0.075168364,
           "42": -5.6085963e-05,
           "420": 0.08105094,
           "421": 0.008604949,
           "422": -0.038472876,
           "423": 0.020758165,
           "424": 0.017088315,
           "425": -0.047085717,
           "426": -0.0068476344,
           "427": 0.006777189,
           "428": -0.08316016,
           "429": 0.04209287,
           "43": 0.0558586,
           "430": 0.012603346,
           "431": -0.005371435,
           "432": 0.011624858,
           "433": -0.0037221692,
           "434": -0.06341822,
           "435": 0.025805583,
           "436": -0.01210048,
           "437": 0.031507105,
           "438": 0.009919885,
           "439": 0.058932606,
           "44": -0.040174004,
           "440": 0.01389745,
           "441": 0.05736504,
           "442": -0.08107866,
           "443": 0.006612277,
           "444": 0.069025725,
           "445": -0.08989166,
           "446": 0.021793934,
           "447": 0.044561334,
           "448": 0.05168687,
           "449": 0.022480572,
           "45": 0.031034267,
           "450": 0.06994164,
           "451": 0.00050100684,
           "452": -0.01219678,
           "453": 0.024448026,
           "454": 0.05200991,
           "455": 0.010576049,
           "456": 0.02864234,
           "457": -0.009175215,
           "458": 0.057065956,
           "459": 0.06084847,
           "46": 0.02012642,
           "460": 0.045076005,
           "461": 0.023858774,
           "462": 0.08570671,
           "463": 0.03893953,
           "464": 0.056351732,
           "465": 0.03583376,
           "466": 0.09200523,
           "467": 0.012597956,
           "468": 0.08672163,
           "469": 0.053889558,
           "47": -0.02736353,
           "470": 0.0706093,
           "471": 0.04684705,
           "472": 0.061630603,
           "473": 0.07577178,
           "474": -0.05332146,
           "475": 0.032637876,
           "476": 0.038277294,
           "477": -0.11261239,
           "478": 0.049415596,
           "479": 0.009651797,
           "48": 0.07550531,
           "480": 0.1048778,
           "481": 0.030851038,
           "482": -0.015479425,
           "483": 0.011790383,
           "484": 0.0054387175,
           "485": 0.048144512,
           "486": 0.011133841,
           "487": 0.074171424,
           "488": 0.019192807,
           "489": -0.06525059,
           "49": 0.043511212,
           "490": 0.09354285,
           "491": 0.08546648,
           "492": 0.056815527,
           "493": -0.0037400692,
           "494": 0.043559812,
           "495": 0.03829352,
           "496": 0.045130722,
           "497": 0.022152454,
           "498": 0.04923585,
           "499": 0.0013979265,
           "5": 0.030202452,
           "50": 0.08210072,
           "500": 0.050636247,
           "501": 0.027754057,
           "502": 0.071362525,
           "503": 0.015725939,
           "504": 0.07954816,
           "505": 0.08365221,
           "506": -0.0062383437,
           "507": 0.029802717,
           "508": 0.06448268,
           "509": 0.019911142,
           "51": 0.040431507,
           "510": 0.034404878,
           "511": 0.034782104,
           "512": -0.038072273,
           "513": 0.061422,
           "514": -0.04279668,
           "515": 0.030972883,
           "516": 0.029429939,
           "517": 0.023363918,
           "518": 0.074556604,
           "519": 0.036314104,
           "52": 0.03557295,
           "520": 0.061454657,
           "521": -0.02402154,
           "522": 0.033765513,
           "523": 0.0864505,
           "524": 0.020280343,
           "525": 0.043928653,
           "526": 0.07610043,
           "527": -0.010771509,
           "528": 0.051966637,
           "529": 0.0457163,
           "53": 0.063097194,
           "530": 0.014431505,
           "531": -0.05646361,
           "532": -0.07700219,
           "533": -0.060150836,
           "534": -0.08936648,
           "535": -0.095111966,
           "536": -0.11177821,
           "537": -0.009487103,
           "538": 0.0021878323,
           "539": -0.0046633137,
           "54": 0.0034709407,
           "540": -0.08204248,
           "541": -0.123246156,
           "542": -0.045070495,
           "543": -0.05843127,
           "544": -0.10043006,
           "545": -0.08796401,
           "546": -0.049470965,
           "547": -0.077811025,
           "548": -0.12594801,
           "549": -0.048250828,
           "55": -0.004972523,
           "550": -0.11098779,
           "551": -0.10860203,
           "552": -0.061598513,
           "553": -0.08561179,
           "554": -0.0314632,
           "555": -0.10931448,
           "556": -0.05194829,
           "557": -0.05022551,
           "558": -0.008885037,
           "559": -0.019309454,
           "56": 0.046778377,
           "560": -0.036524557,
           "561": -0.023948211,
           "562": -0.15042219,
           "563": -0.029502206,
           "564": -0.062534556,
           "565": -0.09676394,
           "566": -0.0699456,
           "567": -0.11303149,
           "568": -0.04646039,
           "569": -0.04309641,
           "57": -0.017522406,
           "570": -0.06087237,
           "571": -0.060790345,
           "572": -0.032588143,
           "573": -0.08454321,
           "574": 0.04129361,
           "575": 0.045590054,
           "576": 0.031817853,
           "577": 0.04440654,
           "578": 0.061728112,
           "579": 0.07320437,
           "58": -0.020005066,
           "580": 0.061379336,
           "581": 0.021456804,
           "582": 0.057681985,
           "583": 0.06337186,
           "584": 0.038287077,
           "585": 0.025825841,
           "586": 0.047026105,
           "587": 0.03141132,
           "588": 0.07523202,
           "589": 0.04854971,
           "59": 0.06168769,
           "590": 0.028493535,
           "591": 0.06010012,
           "592": 0.07080672,
           "593": 0.02742797,
           "594": 0.06954471,
           "595": 0.058576383,
           "596": 0.029316273,
           "597": 0.045796223,
           "598": 0.033448808,
           "599": 0.070275456,
           "6": 0.05605322,
           "60": 0.056960188,
           "600": 0.0635354,
           "601": 0.07455133,
           "602": 0.026484877,
           "603": 0.12056117,
           "604": 0.051627986,
           "605": 0.05002863,
           "606": 0.0849475,
           "607": 0.0458413,
           "608": 0.046158448,
           "609": 0.025514636,
           "61": 0.023653671,
           "610": 0.042581383,
           "611": 0.015728815,
           "612": 0.029497795,
           "613": 0.06522991,
           "614": 0.051123023,
           "615": 0.06109396,
           "616": 0.030899147,
           "617": 0.08940167,
           "618": 0.040336724,
           "619": 0.07777952,
           "62": 0.06886938,
           "620": 0.064852476,
           "621": 0.032765195,
           "622": 0.040742617,
           "623": 0.052077435,
           "624": 0.07906595,
           "625": 0.055839583,
           "626": 0.047395505,
           "627": 0.047586605,
           "628": 0.049514957,
           "629": 0.04948551,
           "63": 0.047963772,
           "630": 0.03165125,
           "631": 0.05108698,
           "632": 0.032785032,
           "633": 0.06281166,
           "634": 0.043995064,
           "635": 0.045951273,
           "636": -0.0069067227,
           "637": 0.055108894,
           "638": 0.036950864,
           "639": -0.004361172,
           "64": 0.06770879,
           "640": 0.05447883,
           "641": 0.015767653,
           "642": 0.06371454,
           "643": 0.070101015,
           "644": 0.023479382,
           "645": 0.059786104,
           "646": 0.045803882,
           "647": 0.008568425,
           "648": 0.008874475,
           "649": 0.050815657,
           "65": -0.047444656,
           "650": 0.009131882,
           "651": 0.10542805,
           "652": 0.069276154,
           "653": 0.028164482,
           "654": 0.0473778,
           "655": 0.06333717,
           "656": 0.07915868,
           "657": 0.06983003,
           "658": 0.028728845,
           "659": 0.035378803,
           "66": 0.02265573,
           "660": -0.0020096824,
           "661": 0.0110333925,
           "662": 0.029644359,
           "663": 0.029266397,
           "664": 0.045665555,
           "665": 0.062359743,
           "666": 0.029977474,
           "667": 0.056378152,
           "668": 0.03610415,
           "669": 0.04211377,
           "67": 0.034466404,
           "670": 0.081892,
           "671": 0.023095489,
           "672": 0.063601956,
           "673": 0.06438342,
           "674": 0.076947846,
           "675": 0.00910035,
           "676": 0.0739764,
           "677": 0.04161018,
           "678": 0.055729292,
           "679": 0.07121098,
           "68": -0.01288622,
           "680": 0.037554234,
           "681": -0.03133073,
           "682": 0.05323639,
           "683": 0.058161534,
           "684": 0.038452063,
           "685": 0.03639587,
           "686": 0.046954535,
           "687": 0.027361045,
           "688": 0.057990182,
           "689": 0.053756747,
           "69": 0.011928208,
           "690": 0.040388923,
           "691": 0.05295173,
           "692": 0.06018063,
           "693": 0.060944293,
           "694": 0.04532438,
           "695": 0.013644691,
           "696": 0.04555401,
           "697": 0.08304719,
           "698": 0.02363185,
           "699": 0.04096277,
           "7": 0.0411926,
           "70": 0.0027572366,
           "700": 0.024444865,
           "701": 0.051102247,
           "702": 0.03284044,
           "703": 0.021696033,
           "704": -0.01652706,
           "705": -0.042592578,
           "706": 0.058752194,
           "707": -0.034718752,
           "708": 0.018316403,
           "709": 0.06500406,
           "71": -0.025624473,
           "710": 0.07843549,
           "711": 0.06999267,
           "712": 0.037025303,
           "713": 0.06943542,
           "714": 0.049115565,
           "715": 0.05200724,
           "716": -0.028527498,
           "717": 0.06649133,
           "718": 0.029760877,
           "719": 0.0072676484,
           "72": -0.00031164315,
           "720": 0.073229015,
           "721": 0.045904625,
           "722": 0.03525337,
           "723": 0.041999944,
           "724": 0.006858247,
           "725": 0.08788676,
           "726": 0.045067016,
           "727": 0.05535414,
           "728": 0.038101394,
           "729": 0.0063610156,
           "73": -0.06842096,
           "730": 0.006485682,
           "731": 0.07550199,
           "732": 0.040149167,
           "733": 0.075385265,
           "734": 0.056779135,
           "735": 0.073379844,
           "736": 0.058542863,
           "737": 0.037432384,
           "738": 0.042711444,
           "739": 0.047553044,
           "74": 0.03579572,
           "740": 0.071163476,
           "741": 0.052958213,
           "742": 0.049484424,
           "743": 0.03556097,
           "744": 0.008359886,
           "745": 0.011648204,
           "746": 0.050577372,
           "747": 0.09126728,
           "748": -0.00084119046,
           "749": 0.03291847,
           "75": 0.006022887,
           "750": 0.074851274,
           "751": 0.020737898,
           "752": 0.0474609,
           "753": 0.06288032,
           "754": 0.07150264,
           "755": 0.0284885,
           "756": 0.033398192,
           "757": 0.086704366,
           "758": 0.045540303,
           "759": 0.07430889,
           "76": -0.031099051,
           "760": 0.06011353,
           "761": 0.05648442,
           "762": 0.05664855,
           "763": 0.088434935,
           "764": 0.039676435,
           "765": 0.044823624,
           "766": 0.04852111,
           "767": 0.043762956,
           "768": 0.022856316,
           "769": 0.04612415,
           "77": -0.0800071,
           "770": 0.03562457,
           "771": 0.04428822,
           "772": 0.034967408,
           "773": 0.037892777,
           "774": 0.051659703,
           "775": 0.004725631,
           "776": 0.040638223,
           "777": -0.012413648,
           "778": 0.04002105,
           "779": -0.0036235063,
           "78": -0.09429154,
           "780": 0.03558209,
           "781": -0.01687821,
           "782": 0.019165497,
           "783": -0.0026118902,
           "784": -0.014939619,
           "785": 0.028748874,
           "786": 0.01656031,
           "787": 0.057311542,
           "788": 0.015716711,
           "789": 0.00161765,
           "79": 0.04356925,
           "790": 0.04504736,
           "791": 0.011343032,
           "792": -0.002419627,
           "793": 0.054996625,
           "794": 0.026081443,
           "795": -0.00035440887,
           "796": 0.042529926,
           "797": 0.017527012,
           "798": 0.035257187,
           "799": 0.047454055,
           "8": 0.061345253,
           "80": 0.028883222,
           "800": 0.04427811,
           "801": -0.011982564,
           "802": 0.0307434,
           "803": 0.06643196,
           "804": -0.016918812,
           "805": 0.03396943,
           "806": -0.06405958,
           "807": 0.027358904,
           "808": -0.004896117,
           "809": 0.041514046,
           "81": -0.022012252,
           "810": 0.03722388,
           "811": -0.005926474,
           "812": 0.027296493,
           "813": 0.025324838,
           "814": 0.053283937,
           "815": -0.0051118596,
           "816": 0.015626965,
           "817": 0.0071720784,
           "818": 0.021297092,
           "819": 0.03152124,
           "82": 0.02444875,
           "820": 0.02922597,
           "821": 0.069060944,
           "822": 0.065204665,
           "823": 0.0155622065,
           "824": 0.029536797,
           "825": 0.042178705,
           "826": 0.026725776,
           "827": 0.03894358,
           "828": 0.012450495,
           "829": 0.007827055,
           "83": -0.026586369,
           "830": 0.04468821,
           "831": -0.012030526,
           "832": -0.006334296,
           "833": -0.033269882,
           "834": 0.025862321,
           "835": 0.04406774,
           "836": 0.05310358,
           "837": 0.009844631,
           "838": 0.03657622,
           "839": -0.006355003,
           "84": 0.020107372,
           "840": 0.058234427,
           "841": 0.033261552,
           "842": -0.020766525,
           "843": 0.044090703,
           "844": 0.055275083,
           "845": 0.046155922,
           "846": 0.04383168,
           "847": 0.05244162,
           "848": 0.06305669,
           "849": 0.040510245,
           "85": 0.013791439,
           "850": 0.008705627,
           "851": 0.021433296,
           "852": -0.005290181,
           "853": 0.0037062685,
           "854": 0.028124396,
           "855": 0.029992541,
           "856": 0.04324149,
           "857": 0.08615553,
           "858": -0.0010096603,
           "859": 0.0069910004,
           "86": -0.047675118,
           "860": 0.02570521,
           "861": 0.035019368,
           "862": -0.021359142,
           "863": -0.0028823474,
           "864": 0.04216087,
           "865": 0.013189697,
           "866": 0.044747517,
           "867": 0.012522931,
           "868": -0.035467677,
           "869": 0.026237633,
           "87": -0.01469388,
           "870": 0.106650494,
           "871": 0.04890792,
           "872": 0.01992888,
           "873": 0.06029429,
           "874": 0.029593622,
           "875": 0.034813557,
           "876": 0.079194695,
           "877": 0.09143861,
           "878": 0.06480994,
           "879": 0.0958128,
           "88": -0.017450573,
           "880": 0.021304978,
           "881": 0.072378255,
           "882": -0.002979126,
           "883": 0.07767501,
           "884": 0.042551804,
           "885": 0.040935095,
           "886": 0.034883484,
           "887": 0.028048033,
           "888": 0.06656495,
           "889": 0.038774453,
           "89": -0.03416933,
           "890": 0.09329839,
           "891": 0.07325498,
           "892": 0.049130507,
           "893": 0.06434456,
           "894": 0.022800568,
           "895": 0.06753017,
           "896": 0.003282618,
           "897": 0.03376908,
           "898": 0.061069723,
           "899": 0.0838904,
           "9": -0.003443092,
           "90": 0.0028486734,
           "900": 0.01909312,
           "901": -0.0003155144,
           "902": 0.05274842,
           "903": 0.022438927,
           "904": 0.046568707,
           "905": 0.055959262,
           "906": 0.066947214,
           "907": 0.0062204096,
           "908": 0.066045634,
           "909": 0.008625774,
           "91": -0.09802279,
           "910": 0.005108874,
           "911": 0.09274708,
           "912": 0.06099625,
           "913": 0.0073705087,
           "914": 0.015289315,
           "915": 0.04780833,
           "916": 0.11401738,
           "917": 0.07537802,
           "918": 0.041753247,
           "919": 0.08762488,
           "92": -0.014097143,
           "920": 0.056534894,
           "921": 0.09928221,
           "922": 0.02293233,
           "923": 0.031759076,
           "924": 0.032221366,
           "925": 0.025563955,
           "926": 0.05823728,
           "927": 0.02411903,
           "928": 0.07293212,
           "929": 0.10324449,
           "93": -0.026265012,
           "930": 0.038612902,
           "931": 0.08074539,
           "932": 0.010688629,
           "933": 0.041831944,
           "934": 0.06526353,
           "935": 0.0953875,
           "936": 0.012733147,
           "937": 0.066686235,
           "938": 0.05898638,
           "939": 0.12504627,
           "94": -0.043407522,
           "940": 0.071777165,
           "941": 0.050918955,
           "942": 0.05914929,
           "943": 0.1019316,
           "944": 0.051392414,
           "945": 0.07471534,
           "946": 0.07999583,
           "947": 0.07078619,
           "948": 0.048502512,
           "949": 0.0653823,
           "95": 0.023972267,
           "950": 0.059700463,
           "951": 0.023236295,
           "952": 0.05937874,
           "953": 0.07514322,
           "954": -0.01389542,
           "955": 0.03529406,
           "956": -0.07381197,
           "957": 0.02424213,
           "958": 0.081909716,
           "959": 0.11348855,
           "96": 0.022813274,
           "960": 0.030591188,
           "961": 0.033337004,
           "962": 0.046953555,
           "963": 0.0030001523,
           "964": -0.012430117,
           "965": 0.023491591,
           "966": 0.0743267,
           "967": 0.062888116,
           "968": 0.060219508,
           "969": 0.0917884,
           "97": 0.020677213,
           "970": 0.07721863,
           "971": 0.07680132,
           "972": -0.024246978,
           "973": 0.041348375,
           "974": 0.04195486,
           "975": 0.042910144,
           "976": 0.044061612,
           "977": 0.031435743,
           "978": 0.025613349,
           "979": -0.026849251,
           "98": -0.080135785,
           "980": 0.08141005,
           "981": -0.046446476,
           "982": 0.010258368,
           "983": -0.0051126443,
           "984": 0.06771379,
           "985": 0.014292886,
           "986": 0.029804932,
           "987": 0.064946696,
           "988": 0.05896775,
           "989": -0.0618969,
           "99": 0.07556515,
           "990": 0.013340082,
           "991": 0.042678148,
           "992": 0.021019394,
           "993": -0.005699568,
           "994": 0.11650938,
           "995": 0.026874432,
           "996": 0.105604924,
           "997": -0.04082564,
           "998": 0.013781304,
           "999": 0.034703642,
           "bdata": "bBWzFH/KoT+qANP6P62Sv2Mq6nzSKna/6QuEEbnoiT8eMiKnaBKcP9NiZT5k7Z4/jpJ49QGzrD+9pqxLMhelP5q4zB6laK8/rBQw8a80bL+HzpO04BqLP1JgX70aOKQ/hl65vShqjj8MdetEaFWcP/GD/RvXZq0/3VI5s36vpj+3oO9VyOiuP8Scqr+BcJ8/Mst4PZNbmT8KVmow7LSKvxRluP+d9I0/IvWPnzwVpr9nLxX65FGxPzveHGJH2aY/lNaEWQ0ukD/e3Ii8H5aFP0/iZPyqRao/8qH6vQPypj9muBOC2y6YP/gQXP6mJK4/EDYjILKKrz9Sz2v9h0x+P9Gw1ljbd6k/yf8mDLGXsD9zD0v7zWGaP2o1WeCBuqY/vOaXuadIgb9QL0igID15v3RTZUA/UaY/IMS0wDWvpD8vgQC+gAOxPwkRMaQR05C/+cHJA7tnDb+zk2aYf5msP5qjqOKvkaS/HwVIZ3LHnz+GA74uBZyUP1n9z2kvBZy/3dQf5VBUsz/VQBkBGkemPxfIYIONBLU/cwOWQHCzpD+plr4hnjaiP74Js0AjJ7A/LRJfGRdvbD85I556EV50v5P6v95V86c/o3LewmTxkb+LtOVANXyUv1ZIO2aHla8/LZ1EweIprT8UWoD9qjiYP1G5y3ZsobE/bv5DILWOqD+zpLP+XFWxPyyqx3uqSqi/pAOrTRAzlz8fQPublKWhPx6jwCsXZIq/4j4U+tBtiD+WWMcgWJZmP1WHDEZNPZq/FUkkI4FsNL+6mI85CYSxv1Q6eQ3RU6I/m34Ua3SreD8DMu37bdifvyCj8mVYe7S/4+eWiH0juL9/9bhvtU6mP9SKkjeQk50/XSTOOWGKlr+bWrbWFwmZP6BffwV1OZu//BGY5AaXlD93G8Kbrz6MP44vSYHfaKi/ZClpMNMXjr9palMhkN6Rv3ChwHWkfqG/fSjh4hlWZz+GC1CFBRi5v0xeN4H23oy/Z7RGHjflmr+T4se+gjmmv4KaGpsvjJg/Qo/65lxclz8YAW5GaCyVPyN10F/Hg7S/OqP31zxYsz89k9+d2uugP7Q4m0JyKK0/1FfJo3GqYb/WHrQmL5WzP30mmL2uV6Q/HI8cYBsupT8GAYW8FtutP88eAiM8lZw/KEQtvoLjjz/mBdhHp66zP9LRHu2H8aE/NZXJmbvQsT/zzKpTDvuhPy36VF+nIrI/jCBo4b80oD/3/jneetOYP8t0v3WL4aI/NnJAv63Dpj8tpeVCEOCvP60BIcRbCKE/jbFEBd3OZT8VpQPgP+ClPyPA6V28n7E/OmlMTg4brD+1g/hdZESmP9ihqb3Z/Za/g+YkqKL3nD95mL4jn2GiPyRa/6Jc/n0/lMAHKyU2sT8PEpCZhSKdP5z07CmhCoM/nO6GfreKqz+VU+x8ANGjP51xXr8Hf6I/z9C+QLCtsz85bl7AvuKyP3/D4VhZ06s/4gqN/7lqpz898XsfN5GfPzo26VMac6E/UJp6mwZesj8B2iHB/jKnP3i0ktJDn7g/TezK/N0arD/1/MRcrW6wP1A0UXxjpbU/TPHAGV8osz88euz8FRG3Pxa5K+Tfobg/tr2WvZABoj8nrGQy4iOsP2l9FC01jVE/Wp4Cvq2EqT/hpW5DmQGqP2jyg6kcSbI/Vra15H3Mar8TrHmnZRirv3dgxjW6WrM/bn8VfZESqT9ewOSpu3CtP5Yw0D4h/qg/+q3QGa6Ukz9wUQChAhuhPzwyd6noeqI/qMmyfjjqob+1zLd4V8GuP6N44UOTCKQ/FdlIvoSdhb+49ALI3duRv4qqJT7zSbC/RHcgHeQWqL9lTBUa9QGYv5ZsYJ7aiKK//KiBROXvnj9wDFfAalCwv6N5W0RvTLI/L0CR3bu8lb9rb6E/9Y51P5GGrp9Zbau/vZX8upnys79ojN7CHZzDP3ZTqV08UaU/JUOd2JRCkD8g41vlc7FsP/bNP/K1BLK/HR/m+Iw3jr/UiANivi6qPwnaEik1yoa/Otqj/TC+nb8mEZ1CB42jv3viTT8nC6a/mNCwWpF/pb/BEF1DtTCdP/Y+KgWqbZM/DIlYHWkLqD8bOyr87l2QPxMYBLk46LS/u076rWN9pz9LV/KpSvilv/n5txcNI5O/3Lb8e4E9hD+nEE5fXYJ0v0KEsAGuN7i/ov4nPdu8oT+hfb7DcwqkP1iyfMCwurW/XIa5Dbx0WT8NJ3C4ffmcPzsc9cFGGrK/IdEb3a4/dD8cXaW762yoP6km1wDkBYy/Y6j6/bH8hL+araIiup5iv8aCrrxlAK+/vz4cH4s/hL9UHt0Ii4qIP3Aqh1M854g/7ZpESNNcn78S9eDAdPKzv1RN99d+dLO/Rl5kbxq8gr+CF0Na35ehvwI5jkPwBKU/mIyOpNd4nL95ZV+9P9p+v66Y5l3Cj3A/CpKDgQM0oL/MZ4zdnfh3P8O0NUMm8Im/7Yev4a/qkL9hxz1lTvqbvzwRV90JR6G/2Oc5O3xGpL+s4aYvGQF8vyxiQEXBy5k/X+5ylRcukb+Nk2cDVUizv3q1kgzvKKa/GmvBg006pb/BcBv+tACKvxX635gF3YU/btDv3+L/k797vT0AkLCiv3BbW3heKrA/zODe61oxqL8L+YFa9YGePwjgNrhMBJq/GheA2Uykmz/46U9NDyuQP5vM+dv+kqO/dSxjARspkr8CKV7aMatnPxQrLoRY2qa/bvgpAxEmeD8VYcb5e2dkP5CXfz7bNLG/1AEY6D1Cob9c9FW/wBaBP4gTEIKyim4/7WkDh4Lfqb+2e5ZAeiWtv254MBgS5pK/mJeg3yepkj8F62vdDpRpP19W3/tGNKI/RXbv8r47ob9kDXJyGv2Hv0rpPqXv2qC/SqUmYamlpr9t73GrwpSAv+XEY64o/4S/CJ5SkGXisL8yomRePWF3vzIv8nh7jJe/+n9jPDv6pr+ezlIInT2Zv4tAgAKrx5w/uZ8L3w1tdT9oGj1MNZK3vztHk720EFy/SijmKX7WRL9RGM4Uvuelv9QIgYVh+qW/aS04A2Rvez+CV14BayagvzpucqSlhZy/lo0i+be8kz9htoNiQgSSP2xLzp0hm6E/eFZC3ywRoz++4TYBI7unP0MK2O03A6E/4ijULgFTqT/KYI8AowiiP0nncGva3qc/iP3YAzH5sT8qxfti0LitP1Yl6jXY/Ik/iaUbPYuZoL8Nt65eZlSSvyGKj3DWt6C/mzABwv4gp7/V9bW+KaRkP50F9bsd0qu/Yy69vlUlqj8BCFhiV3d5v0/W8V0f3a2/SuCpXLUmqL/QPEaa9M66v/2GYz+G7LW/2rGuXRyNq7+8jObxSWGyv5v9JrlobZe/kDP0Hzebo7+Ai3sX4p2bv+BZDjZtra6/Q404IObrgL/6WbB9liGkP6BJaroBE4q/nuxAf5yOqb/FRcojc72kvxWDSAWcRY4/iEwJYaYPdz9jd2j1Yf+vP/k+6ukC4rC/nE1/qpX/iD90z/xinceov1whB4CFJ6E/d7EIfIAZrr/vL7EjXY1mvzqoph8yt6Q/ZHr8vZhWoT8sWMRffJmgv4szhjlBm7G/r46IztfRsz9WyltD42inP72NrIBrvK8/NhPWPeerjj9XADppbVyyv8pFKd87A7C/49nMvn7KsL9WjIicnZCkP/0NoAAGWbC/b5x3EPk2tb+QStKxWsuov9rbpCDDnHy/owtTG2G4X79/ixulteOcv1WR5pyTb6O/AjmOQ/AErr8eHEzAOIOkvwzdNp2uOJa/PgJPv+OSpT9Q5XKLEle5vy8rr72YK6y/d12Fta09sr8+FFhCb9i1v+ptUiKg+ou/fptMfLhbh7/HLcAg5BqhPw2lHOp8GmU/M984Xr5LoT/VPPHjAqynv8IRxWDVi5W/hgi0S4apsb/nydLadtKhP+4O8Vvpv6E/EVIpCZjfgj+X0eY9cMOlP8L7y2qRH6k/OmW/vPGGfD8eXMAfDKmnv+mBj8GKU7e/keZ2zMwOsL9B/DajauSiP9vE9H1rOaM/tXEbgFo7fz/hGbq/XWJ/v6Cnnljp5qU/XMe44uKoeL+oxLxht9yIP4ROHAFbrKA/W4jlAfJGUr92ydUb996uP14IbOCk768/EBWvnWT+ZL9bpQV5hyWhP15XXLSxJo+/R70zHMf2mz+3WMtJmtKBP2RAckJTPLA/FItwd/w1mj9cz7IcWPatP7MRX1jE0au/1H7dfDLlqj+XUCQMwXmoPzdDgaksK3E/7KmnH2xisD8ORx0+ZQyhv0FmG0P2/Z4/G12R1wTKmj8JEy0WEnKgv0yJjF2OlqU/WJWutT+kOz8In1WCnxqhP5M33CGnqqs/HAzB5iaulj8I7fMdnlOkv6xQDN+u1q8/DpiKBIi/mD9c/vUhXkR7PzodbcH3I7M/pU32S5vcsT8N6ZKfxE+yvzMhs6EF4pM/wwphfGs8oz8iqBUEYTeQPx3mEuE7PrM/xyycIMG/tD8QW0+0eJ+BP+r3Z4C3sqO/0Ssz36BBlT9qZUZomX+RPxRXP32eG6i/ZPHY3EMMfL9tK9LRZcJ7P222h/f7SbW/V+0WWDKNpT+3Eh93yM+JP9d8hZpbAHa/d/VxB8bOhz/gY35f9H1uv0Lb3iwtPLC/micoXMdsmj8SXu3uIsiIv2MeIgOzIaA/Fps9beBQhD+ISOAeaiyuPw18+ylEdow/s6t3VfNerT8yfxoxksG0v4A2eZd5FXs/JSt1f6ursT81FuLLIwO3v0zuHycmUZY/h2tkQL7Qpj9psZCQs3aqP+c4JKYlBZc/FrltALLnsT+PcBb/v2pAP/Znuxmg+oi/Da58QOcImT+hKgn9CqGqPw5um0TlqIU/w9pS5mpUnT8Ywt6CdMqCv6ROeL2/N60/GsJS2Ycnrz/UYJ6+MxSnPzjrNThvbpg/82x//N/wtT/IQ77P4e+jP0KiBlwi2qw/ed6Vds1Yoj+MNOmdp423P/SuIQj1zIk/ILC0hGMztj8Xa2mCaZerP7kfS3pzE7I/4AFUJ1b8pz9fsaLgC46vP/NID4XHZbM/Wvy/TfNMq7+P0g9k6bWgP96Z0dsUmaM/UKUsZCrUvL9f9nZBAE2pP9Z3s0NSxIM/1pATgUXZuj9B1gcdapefP8VKFkGts4+/t3Uja44liD9lBbec6EZ2P8wzC8Flpqg/LXnK11bNhj8xtGAA5vyyP3akiHlHp5M/kD4YPkO0sL9jToaZbPK3P78VgZgh4bU/S3G9vOwWrT+9x8JcfqNuvxx56794TaY/FPIYUDWboz8u2hG+XxunP4MX0wUir5Y/tN4U+3A1qT9erWEmVOdWPw3gtoH+7Kk/4NSVPI9rnD+b9Ah/0ESyP8rI0OZ1GpA/ii+oqURdtD/oKDAyO2q1PxVpw6JgjXm/FkVje5qEnj+vKMLZ74GwP0Iy3R6WY5Q/7G2qI4SdoT87B1W+9c6hP3m51n41fqO/04OCUrRyrz/LavRJcumlv377MP5at58/G/QcxuEinj+1nt3+teyXP5p94T8kFrM/roggIsOXoj+1+AAc/HavP15YzEIamZi/tKQinLZJoT+RDDm2niG2P3Ykv8dexJQ/+hL8/9B9pj/owA9aUXuzP/mMEXdfD4a/O9TL/F6bqj+6ysl6IGinP7p1DtBDjo0/IGu6XMzorL+CN8Vfarazv/rk5CIXzK6/Tmn1vLjgtr+1om3/QVm4v9H8Wix/nby/wkTzaPltg79FKq+FN+xhP7vfUb3WGXO/dpR7aLwAtb/gsWBhD42/v3o9FNx6E6e/G3BtE7Tqrb/JPTzPyLW5v+nNLDLPhLa/W5mNIUJUqb9Gq6RfbOuzv7wf+XsQH8C/vaOHIFW0qL8uKU4gsmm8v/cTIbdXzbu/FWyiHdeJr7+StzN+p+q1v2wVDs7xG6C/eUmUpAj8u7/PKERd95iqv6T1v3Uot6m/icK1elEygr/vBbyF28WTvw68ocNYs6K/gbsrPOGFmL/wQ1LJCEHDv+cruIfTNZ6/N8/jwEMCsL9Ra7uFhcW4v9zEf3D057G/v9j3uKHvvL/9Azj/p8mnv8TNDI+7EKa/35DCzKkqr799B2B/6R+vvw5B2KBkr6C/GYIMsp+ktb/TsfegbySlPxnf512UV6c/J7wg/G1KoD+hmQ46dLymP4hRkbzTmq8/PwQTh4W9sj8PV4rBHG2vP3Gk073F+JU/0WZJPn6IrT/0yi9iIzmwPzAcJh9dmqM/a2Dy2RZymj+6BxE+zhOoP+2VPwAlFaA/mxOD2WdCsz81TlzxgduoPwzF48NoLZ0/Q3fFY3HFrj/xrbyiYyCyP0kqlegTFpw/U08Pn67NsT/vHptCuf2tP+84GscVBZ4/BHIhQJpypz9ofubAMyChP7tCO4GS/bE/N2YjIdtDsD9uKjnEyxWzP1veNgLaHps/cEdRyhjdvj8mUNu++26qPw1obUNanak/c4Bgjh6/tT9kvJzIgninPw0wMIEUoqc/duPBPIIgmj8Mkc4eOs2lP96MHug2G5A/0gJRg6s0nj8wyCtK6LKwP6ket//LLKo/gMNdILVHrz+LcFunBqSfP8GX2yAH47Y/UcjQ3AOnpD8B1rLOW+mzP2EQfP8rmrA/NLLxgZnGoD9bDCNfN9ykP2d/XsDkqao/5Cd6hao9tD98U519AZesP4+h5z85RKg/X8RngEVdqD9EqPRBBlqpP9/ZJi4qVqk/TUpBt5c0oD9/67OYEiiqPzkEeiAzyaA/pemByWwUsD+kfyFihYamP/43fd3shqc/WZfnQTlKfL8FwOWiOzesPzy94EA566I/pLLLMQXdcb+TQ1kypuSrP9Ly4EdlJZA/KWaUmZhPsD9ZZtfeI/KxP2L6R6f6Cpg/t9newkicrj9Fj3A+m3OnPwXQOYlSjIE/ZEIn38csgj9eJ+GBggSqP6vTU3S8s4I/4L/UKlX9uj/SmdL/FLyxP8MmZWQm15w/POQcK+dBqD/cbMVh3TawP0Vmy0W+Q7Q/afIgf2HgsT8vTOgmGGudP8aXtqMrHaI/F/rdBZx2YL82iJzfrJiGP03dqUEXW54/QG/ypwL4nT9csI7CeWGnP/0+i8Gd7a8/L2nJOWqynj+mCxnemN2sPxDw/z4+fKI/2fe4oe+PpT8L1c3F3/a0P9mwwgdYppc/K0z7wDdIsD9i/E2LbnuwPyVREaLasrM/jKYOTTSjgj8sAq0KHvCyP2i0j/TtTaU/snIjvYyIrD/9Ujf+4TqyPw1xtv1OOqM/tGtr2ZQKoL/NogPUzEGrPw6U1DxZx60/W/MYIv2voz8gDLi+eqKiP12hcsBsCqg/2GjWpYgEnD9osVue47CtP0HTmxwBhqs/9bLPXtutpD/ktTs5fRyrPzbFZ9v+z64/yiygIhc0rz/YeZ/TwTSnP8hI32y/8Ys/+6VN7tpSpz9tHxOllEK1P91uk5vyMpg/69MBexL5pD+FqOseEwiZP2L2O98SKqo/ZI+ST3bQoD9/csAgfDeWP3XOyzh47JC/mekfw7HOpb/js5h/xBSuPxW+ywCoxqG/9R92/4jBkj8Wps4nG6SwP+ROZShZFLQ/ohacJArrsT/32wQD+/SiP56CFQqFxrE/bJPM4qwlqT//EullsaCqPyRtyftPNp2/i0rRZ5MFsT/LPqmlonmeP8gzJoOuxH0/RxWLACO/sj/LZDiez4CnP0eUcs66DKI/tuHTQwSBpT/SjiqpZBd8PwOP8ye/f7Y/hlWyHwYTpz/JFP+5YFesPw7zUqIGgqM/6aGKHwIOej+J61ABu5B6Py861TEZVLM/egp0fm6OpD+iecbfckyzP2Mg158nEq0/kmMqfgXJsj9AmP+DVPmtP6rALmJWKqM/+jRKPkbepT+aSZxh31ioP1T1FgLFN7I/63nHwVYdqz90mHu9BVapP6z8UyYMNaI/6g2/5/wegT/Dp+V5A9uHP1+0UP1G5ak/7HzL3kpdtz/u3PjBapBLv9swK5Cw2qA/7tjk/XMpsz/Xh8rGUDyVP4xtrYrLTKg/mUb2tewYsD9srmA8/02yPxiWP98WLJ0/CWTFXJEZoT8y8mPgQTK2P2/iEQAPUac/syBaTOgFsz+kUstaM8euP9NdRKGG66w/3Uw76wkBrT9hHaYBrKO2P7dlfj14UKQ/Zx5WPh/zpj9bMjtJwteoP+2ylyEZaKY/lH3oZqVnlz+ckZynlZ2nP0UKKzZiPaI/0gD/EPKspj8DYJKDP+ehPypy8JuuZqM/0OjP/SNzqj93QpHpLltzP+ROgX2IzqQ/QPJ4oVNsib8AnM2Zo32kP0ptxSELr22/7iS/0dA3oj8/Ltx/hUiRv5dsTrseoJM/Tfmr34dlZb+XWCi4qZiOv1begUZYcJ0/+kxyly/1kD+RiyU98FetP3KU+54KGJA/iP8qduqAWj8TOfGTchCnP87h0fsDO4c/Ly+sWlPSY79d34eDhCisPzW13gIYtZo/x0yNgf45N7/Z54qCe8alP46tWN2Z8pE/fVg64joNoj9hPpPc5UuoP7vjwdSeq6Y/j48EhFCKiL+HeUWmMnufPzvzm1evAbE/3p/oQCpTkb+F2NPtcGShP2hyGGk1ZrC/S9S89/gDnD9aOkdm8w10vzQOyjtUQaU/guB1JgIPoz/vZCvAW0Z4v1cG7KKc85s/iyzyG8HumT8gXqI9CEirP0si3Fws8HS/8mRx3oMAkD/878EieGB9P8tCj6bnzpU//9XbTY0joD9TIWClae2dP+sv6V/6rbE/IL24v0CxsD9bz8T/E9+PP38Jk+TkPp4/QhEgfXKYpT/WWIV3AF6bPyNz+rRp8KM/HYnAJqV/iT8w8P2JoQeAP8/97oBf4aY/iBfK3XWjiL9sZpyi/fF5v4x4Q/6/CKG/ChqT+6Z7mj99njf8C5CmP+oQzXZkMKs/BFB9AWwphD+pL2xJHrqiP2LS0CC0B3q/y77uHufQrT+MwBt8qAehPwYB6ObRQ5W/56Lifg6Tpj8okYkDBE2sP7ZxA7+/oac/2ulBIBtxpj8l0rLFoNmqPw4RWLV7JLA/8BvbQsK9pD9EpQx6QdSBP2NCdiWc8pU/eqIoJiirdb8EHu2/m1xuPxG1KESkzJw/lTHgWl22nj8huMKivyOmPzk0uO9JDrY/Igv9fdKKUL/9YllhmKJ8PxayJXF3Upo/ybuSAA/uoT9hRnHBK9+Vv6PgMnq4nGe//k2kCxyWpT/gvBIqMwOLP141L4Ql6aY/N7HCWJ+liT8kaI/B0Siiv/VGo74J3po/9Q3VX3JNuz9BrdR5dQqpP9U1Yn88aJQ/FP9ep+Terj/UB6Rayk2ePzF8iyEV06E/gawKgRpGtD/CrIpPhWi3PwN3wVxil7A/vsaJCjCHuD8nDALf+NCVP+yiKp5hh7I/g4OzF65naL/5naprguKzP8ywIZ1ZyaU/+zqR3HH1pD8VreZ9P9yhP9j6zqGfuJw/+1NPi2YKsT/aThy/PtqjP7PH0T1n4rc/kn9en9bAsj9xD5pBoiepP2gh4JTieLA/6paPNwhZlz+ksKQ/qEmxP15/kR4m5Go/j5huTC5KoT9tHh/eh0SvP57HclzXebU/CxfqlyWNkz9p4IcHdK00v82foUXXAas/cUR95jr6lj+6/CmD2tenP/+GZUCxpqw/TjWw3nMjsT/bq8t8knp5P4PWEt5d6LA/DovcyWOqgT/Rev3rCu10P1lFZstFvrc/tHbbheY6rz8AYyTdiTB+PxHXOR8BUI8/txqnW1V6qD8EjkY2PjC9P127vFL5S7M/ic67fK5gpT8HeuqJlW62P9AqoEEk8qw/dUwGFY9quT9Q/HudknuXP+jXisG5QqA/DKdnolF/oD8Ixbn6by2aP+gXBNpG0a0/dLY+tKiymD/FWjrurauyP47NChw7bro/r1mW/hHFoz/WTlrZuqu0P73e83/r44U/7/LQHv9qpT8ztfhWHLWwP7N78rBQa7g/4HKFD9YTij9VGmteWRKxP8/TBHp2M64/M4IRJIQBwD/qS0YA/V+yP+Jn8ZwMEqo/rWND1NBIrj/nz214MBi6P8j0yEIbUKo/vzzPZYsgsz+Zl6pRm3q0PxL2DjMLH7I/oLCgPVLVqD8gvTz45LywP8M4SCAPka4/u7trXEHLlz8yYMHk42auP7OHagiWPLM/Raa2szN1jL/+2OIiEBKiP6QNNF1X5bK/yDokzu3SmD9y1HH/CPi0Px5wuOqVDb0/Mu0F4EtTnz8Ybto7jBGhPwPXT95LCqg/eV1egMaTaD/V7QAQ9nSJvwbVTfwtDpg/6je4GRMHsz8I7YaBbxmwP1Pm4WIX1a4/YfQm0HF/tz/D7n2imcSzP6SLsFVAqbM/J7clJjPUmL/xSLw8nSulP6ptN38be6U/yhVLglH4pT/sGxldPo+mP1aOOIBYGKA/niMvwWI6mj87Tt67Xn6bv1fTUP5J17Q/FnDeHtXHp7+2CpDYVgKFP+SFCAH/8HS/QMiJ4bBVsT990HuvlkWNP75KzCAvhZ4/DqJNv1igsD+Sk4lbBTGuP5uTclLzsK+/7uFTfwtSiz/c49MD6dmlP2k4P6cbhpU/zsyUIm5Yd7/4+MYIj9O9P2+AJ5r4hJs/mWbgnuwIuz9By0YpGeekv8NTz09fOYw/41ni/qzEoT8+VXbbNJ+VP1X3CgN9v6E/PwZbh8tzYj9zfWEq5OeiP7AI9kZKBrE/uX1P30SKrT9nPof8qpGGP5OeM7Pgj7k/06LbnmLNtz91WCOzYeq4P55elmc/AYE/3HQVnAttjj+UIImCDCmvPyk1eZ/qXaY/l6VC4Vg8sz9OEfmRz+mvP4JCXPiDulY/WHSIC4K/sj+Ir8Vau257v4trk8JwOa4//0hLxN8frz9szQBeOVesPxhydK6LT7I/K3PAnEOTpj8vifU+POilPz8intPJpbQ/2HdNYQgtsD/2CaAYWTKdP05RD4ChD6g/shVDWN5slT+qowHBvsuuP9nsvwNAa6Q/8Fw2P6Bhlb+S0ioCtXuiP7lS1DsKR3A/iMASwZgqoT/HIKCQ12K6PxtwbRO06qE/VrkO3QWtsT/T6ff/nEKjP2W/IWaMlZ4/ZZtEUkXQkD9U7jZW/3OyP5bnkaRDXpM/ChpR39Q1sz89jHYAtzOxPx1Ko7iZwKk/6dIiT1CSrz/6GP+A/5SsP/RT+/h0CpI/Vc4C4OQmtT+3+n8PPa2xv+ZheFcDtZQ/GCERWtxtnz/JjNijR76iP2Vg9EfeWpg/6iqJXtkUkr8dPPKLO3OJv6uPLAVJRLE/kE/9wKuesD9UA+HLw5CMPyGkjXQd4o8/K5mChhWmlT/IJa9K+XuvP5j9Npv5m5W/o2DVP9mrpz8UT33th0KJv0u1AIGPQKs/f3/v27UplT8iqSJoDkGkPyoXxx2/y3Y/hvCnR8xMgj/bUKMjyCeTv1vrzaCI4rE/IkY6yXelsz/wh5pGZVN+v5F3PJ2TLZo/n1aFkVRia7/1V2l90zVgv5urB0gLAps/4lLptUb1g7+XyewD+3WoP5As5Dpbequ/6LZtrWm9sT83NMjR2jylP586nf7IgbQ/ZuNMCUQshz+OwxcoVDCdP4/AQIznnps/DUVjXXBEQ7+V61lPLj94v+t8M8K/Lqg/vOQDKxx7rz+EY9OgIUm0P77ZxbgLYrY/6mYroU6IqT8qstOY24CTvy6f9qXIa5O//GVBcnz+sD/cLMFWx/myP0dpgBzeva8/9Hw9x5bRhz/EVyxfRpqqP541Pf2n6KA/UcVfI+EsoT+53SnvcxRhv0nZQ3cgHbo/VbyCTrfVjL/O1V5deNKjP1RA0o64U6A/w+kLvrzCsz/AAWrA2ROxP2ye+nIsEKE/FfuyUSm4oj8QMtr0scy2PylLf78wSrQ/6ErRAfraer/xL/QbNUWfP+S8lWJUxEO/SSMYZwm7lz+2jBPgbT6BP3ypvkTTEVQ/EX4KycfDjj96qvffQASjv4zox/S+0Is/gkAvKEh2lT8HecHQuKqzP1MPoWbZLmS/y3WmEpZfsj8lzdj9ToakP62C3jxR6a0/BDTh/CVgqD91BCne7AKlv+qsToLClnY/vhPwwSTCpL+YhuEjYkqgP6QktH15FaE/kqvcNEs8pT+kmgu8kJekP0dSgXzRapc/43ebg9xPrD88Cp345g6xv2ChpPqtIak/a1t2g8Yemj/sWHx1G/W0P015fJR0QbE/GTnJXgicoD8lk9sH/IAwvwOYrjecv7A/+5223iBurj827JSaf+ymP3wyGIY8QJ0/47u9OZZWtD8VDnM4qR67P3eyJ8PpC7E/MJ+Qw35Urj9uxHxBV5ejPxh78lpQsp0/2PQcaHAhoj+VM+v3io+jP6HaXAxQ4I4/g3v7+Qpgkz8V/OV8eU2kP9YwbGK7WqY/4xCVOaLqkz+y6TFfmCujP6jzoT7bAKg/QuBRNi8GWz8u7ZyyD7x+PwpPjz3gWaM/vrVBXQw0qD9mPixDOECkPwY7cmIXXqo/LJ8xCLaOnT9ov/+gP36rP4TyHYD9pZs/mm5EvQHisD9ixLrIb5eoP+R5UiF8+rE/cHiDYDwgqD+lsjBd6/+sPyTvY5/cw7A/9+EY+aDWSb8Jt+e/KD2wP4KmPPK7dIk/LWRQm6gNkz+SLon1PjyqP7f2eAAPNag/fb9F5S7bsj85RNycSgatPwT6CvOaLrI/7+U5gFCnsj+YPqHCBHqiP+DuK11hxKg/MvImfSlVqj/pL+wXiVyyP7Mv0QdorrA/wdWux0y7kz93vOp9uuyrPwmzLD9AXK8/jW+94LIOsT8fxlDACZSvPwSbwX+9ObA/C1eGv8b4oj8+rMBb492qPzMTkB+/cbE/yPExwlVKoT8IRhRJqqWyPxpjUDs24Zo/ur8NQIkgnb8rH+Ic/mWjPzF2syBDsKI/AIdgPthndz85C1BahbudP4oM5SOtIag/AZKfQ88cqj8D+tBHEQC1P12V1KGErac/OHy57GNHtj9EdK9jwZytP69WFhrCELU/kFwB/IicnD/dZYz9z9uWP9izh8AIT6M/BdQG7fbVqD/Ct/r71piwP4LwFZtee7A/junHLmpaqD97t9Kb7MevPzA6rLLnGbQ/7CqLXwTPqz/+MaXcGmRsv7d/wF68+rQ/sRpxH77uqj+Te9NXBL2TPx7GJUCtn68/rC87WaRomz/WrVx3DPKpP76H2ThTApk/D519aXoetj+WRCHC8vmqP5IHAX1LzqU/z3PZIkgppz+iOiCACRmhP7DvDBj5/J0/fbCMDd3srT/MlXlfIP6vP7JL8URSA6w/B00sn87drD/frD3DBtGtP4ju052Z86E/GSkDIwmkqz/p0VRP5h+Zv0vIRKCzMqg/RpJdvxliqz9HuSwNmX6jPyOLaePetZc/ei6dIPtqrD/2YqTuNcqTP/6mJKlUoqs/7itvRICelT8Uxd6dEpaWP3gvUoPE0ac/5OIpXVoKrD/6IiVmi96wP88ji6OOaKs/6OqRfcVXpj8EuqO9yYioP+61Pc0LqKQ/euZcv52aqT8T46kF/gmtP8PgwgPIpZ8/Io3pjYPgpT+d1K5BE+yhP55McY+EAYy/s6KbNy38pz9qciTc0/GtPyrI9Q1RJ4K/M+ox/G1wqD+Z2KIjvrWkP5J+Neb5/LA/T8YAosPwtj8Fta2gSHuwP2V04qD07aQ/+f09piW+kb+LUHG+BrSyP/qEmL3/nqI/8B5yw4fDqj/crwrt/5CmP59DNwC9nq4/ueczf9CjqT+14vxFABtnv3Y26n34dHe/59bWFVTQoj9iEUwAwcalP6q+5mEQdKk/LtMKJtKDaD85WZvZc3UiPwYxw4stIIo/WBDDQVR3rz+w1LUhv7GVv29stQg+Zok/xz+FPVOKar/k7Zou0YJDv/UNjWXBVk6/nbc1EjZ2sj+EH07ArNmpPwcaNkEJcLE/Q2UMA8C3eL/uqfWu3DOEP7Xb9IhNO4M/+i9rvToipT89JNpgcdCTPz1cHNxwNKk/s+tnfCL5pD/wKJ1hzXWmPxsdbL4FaqW/tEXFRPKxkz/Zl5e8NFeTP4MtS3tQPpU/+RB1m0cwkz++qvK+oyaRP+EaVvNHEYQ/zHboaBMvnL/1sIwXT2CfP+Op5O8gbn2/n6Ya5pnRlj/owQjaF+KSPziMA2EHy4c/pc8H/sl1gb9m0meG20GRP/hug7urTmI/pe3wuw9elD9NpLUb3T6rP1X5O2dNJKU/C2CIpC/nor8hJ0SnhLOfPweXAI+3e4o/+nb0uqPRgT+7LKL9ekuYP5g/B9/5Gp8/JuFCHsGNcL/K0mgh6gagP+oyRjU2haW/pJt7SvkJjj+qj1o9NOeXP2rAUCLqh54/Ic6i+2KEnr9FEvJ+Mn+Ivym+/WCwgKM/giC8TeqRpT8y1syUtdGVv8JJRD/tzKI/qT8MvnomsL/1eG4ZqPdpPwuHlFXH4IM/FI+5ovzzpT/G8CJdfYaTPyiKiElVZoA/g/UfnMYrrD9Fdxism/+Zv74zTAANVYA/OEPPOJ38V79tfpbD+2WhPx+tCSC3iqA/RX1iAlbFdj+Z1kOHAq6cPzI/8F7Z+LM/rOE+TKQvjj+Gdd4k2EicP1MbxQewp4E/8pkXIAT2mD+cuCnZQnSYv+ApFzziFpe/a72nvmiZpb8yo/z9ku+iPyRNYQGqQWq/55xyYbFBpL8fkRcbuNiYP17YfliNKpE/A+0+YhyljD+P+DHA54KtPz3G8VDPE3u/U9aIw0YXsr+lxXR8D/KhP2jiuLRj6Ik/11uYvyHYuz+zaoQ8ioyoP95WA1+USqu/ITpGqtZfsT+5ugM/IXCbPz/moNfh4ME/zh+lokkTrz9QgUXebz2sP1IH8wPJzpw/I2qBwV52sD9/+vVhwgqFv3Q/bXW17KM/2hdFGe5/nT+owCxhK3CmPz97JuJKybE/ZR0wPdHdpj/vho3it0l6P8jUIHbtpYk/cX7c4SMgqb8rHMdjlNSCP4M1qN+A9Kk/vady2lNypj8zqqT/+T6rvw56gDhZtLg/+Kcuwg8sqT/IN2w/P6qmP16+kjcC6bc/DtdqD3uhsj/K1mp3XhaQP9gzMGQID6k/vaYoE46Loj81/YsApL+sPyTtiDvFR7A/5gq8gWzTnD+KAfE+t2WiPxJpG3+isrI/iYs01bnAgr95ocp6eyGuP6rqXz7LhqA/OKhYkMHlqj+GDpa+y52hP8A2TWVy5pY/AsEZhe/AYr9DsS7RzbywP4LIHZQCm4s/BCKjh8pUsz+7MhIb2JyeP5bPE0uhXrU/KUjt9yStkT9jw0eCeHaaPxHqEKL2B6w/j0VHMN09hz9WlNjWy8ahPzMU2uaE2Ka/tHJ7vnArkL+jW0y/htilPx1kLx7ZcX8/yxp7Slw0ib967qdAEminP9fzJqA4aZw/RVwk4BwdqD/v1Z7EraOOv1Tl6OJQboA/Fm6WHo+RsT8t42eiVjitP8il4N9WMJ4/mDVEJCk6nT/2aX/hQSWTP1vFyZrkiai/1d5Cf+odpT++z3adbbRjPxRlyuJZ3bM/XUwDpNVHoD9j5nxd+FStPy+0CP8BWqw/uBTjPmp6tD+dLWLQ8AOXP0JLywah1aI/eTO5BB8Emr/EF7u3ASOyv0K36HtFa66/CCRKQ9nQpb+d2I+JntiCv5WFUT50qbY/9M+AOBeYqj8f3X+ZLESEP+4b8N0MVbI/e3z+WOHGlj+gfmFDgYiyPxOsU+DCjLK/6UhSfHr4W7/ZGrEZV5GWP2nrF52JuGO/3n/YkIfXqr+yPOzeuv2gv0Ri/ODuP6U/S2LKORH6mj+5OCo3UUt7v0EnoGPpPqG/BmOxPv/siL+QLKIeiTSrv7ucr+XXB5S/L6ss4Tv3qz9wscMUvFO0vyYP7V5MBZ+/WMR2GA/Glr/9LN33hPl2v1pvin24mqE/Spwfw4ZOmb/AYCpCWRSSP6NahjBlfYK/jDh05XmRuT+pUzLB7y2oP2+uj76xtqS/HnXwI+lgob+RGaXU8PCMPziLNWGdWKg/D3X7S5sBWL8tu5VineOuP+27cz/fypM/Z/eQYhOorD9/UJPw7/mWPz+Vf58ERZa/NU7YuN1Poj/lcumDWEKQPzFTn1Os9IQ/cV9L6xZRjL+ibICIw4irP6DvkisBoI4/6J0F/y2RqT/7ANcnFn6Svzw3zTiWQo8/7u5cc6K4rD+4CeqgutWxP4hPMiAYk6k/A390wUu2sD9BblThruKfP9HuTkau/po/4Wd11bCdrz8lSQg9OCuQP03w8hn1ta2/8dpC48s8tL8OWt0k5XKoP8SkvZaXyW4/EnFKq+fFfb8wdeMfroOqP16ATTvUbZk/fkuRYNBgsL8nhm+gittUPwgiSRgfybE/l7wJ1wabsT/RoAtkIhehP0+zT+ZwxJC/qT57ISmRoz9Be1Nj0neov+gpWesXLrM/v+BjSP/fkT8drUSCpK2qP8Y0cJOTgZ4/5CdPBU5Jmz97OTffZHFRP9uwOxclbLK/mL/xnssgnT9G7YGET5Rnv/6pp0UzBaU/r3ShZgb5sT+6M3N+E9WkPy9oroaV4GU/HZZAKd5xwL9wL4fiMMaqPw05wBCV7Yu//ibpoYMcoL8HECf48neTP1VWy4T8v5I/7o1POCOZhT/XcGNDzxd3Pzu6EV80R3k/hl5y6Jy7mT/5BUcLyEWwP3GGV5yuSqc/fQqPHDpUqT8BiJD6uCSbP8mOYsBfuoE/H4MVp1oLsr84pQ2eQfesP5QpD6AZI7e/446zwImuoT9sVorYuOKSP2RtW612wbK/ENtprWACdD99qIhh9M2VP4jSQQvH+6w/HXfiI3Yuqr81jML7mHmmvxuDu6RLrpO/LswAH9UTrz8Q+wzB1MO0vwwoL426McK/hMsy3U7Por+jgJlhNhCnvwoHazGyQ6i/I6B7PBikpL/Zb/D81/Z4P9atFaKAQ6e/khtNR2Nhsb9oOyonb7qEv6BmcZT25bS/hA7bkiySsb8MgjsOi2qqv9uK155UWa6/fkwGqPI7Uj+ZvhG8pcWQP/Z0qLgHp52/GSW69wjmnL/AMu2d/NZ9v076739PxaQ/MiKBoW9UjL/YgBLjWL5+v0ijAifbwLC/+EJUI+zCqT/7L6VoxFCDvwIRKaBl6re/etMYoHmopr93Rw1Af66fv5f/0prNgLM/L32CoLB/sL8B3OpBWsazv/GSbx6dpn4/fvcSU7ftor9FfRZ0EK63v//GGATIY5m/cVQT6SOVqr9QoHhjewyiv7LPKendL7K/+MWlKm1xq78+6F3lnuiRPxxsqiGDcpE/oJ2KVhmGir/iQRNeC0WZPwrrEEk+wLS/OxJiQIyWoT/xGVbfYyqlP+NmpB24fJA/n9BLwg4uqT9Bc8bFi2R7v4acSkic/KU//OOWfp3uYL9Bhg+eab+uPysBCIrlt6g/itvO4riYqj8RPjuwgUyNP54T6eBT13I/AJ5hKC9LkD86oaoePTmDP0AIVEE9ZJ0/zheSyzO6ib9MG8K8vSevP9eXi0mWy4Y/bWL6vrWcsL/EdsIODdJ+P/A9esg2npM/HrDldN2ErD+sBQALvDqHvyMWO16k95E/djiZPI60mj9J5bTLYfVTP7PpSvw4N50/hN9dmX0/nz+0AqaAcuORPzkBuB8RT7A/JFq9hoq4nz/HQRZdb3+QP0c+vX7yg2S/Iojut0hqjT9bhJIF0gP5Pii2o7QOebM/73bj++cLrb/f/jsmexmTP3F1mODo64o/XQEswrJxnz8MVZS/OauxP4LuCv4woqM/tlpsAiggqz968vrdhXe1P8il7cA52lo/cY58VoCMsT8ppfkBVQVmv12MP1lK+Yk/720H3iGprb9k6+EX01afP+FIiSUxfZW/Ew0Q1EIsrz+rvUibvF5ov07f316hKJE/G+5WqMvogz8Bvrc/GVdzP8EajZq0S58/PWDpPxV+iT+tX/hehvpyP0JubX5PbrA/g0DbKLpHuD9yHdGnz7qIP2Fl1H9NC7I/uYWVp//umT+gKYDRASOBP5Awyjugz5A/GIz466G/jL/yttJrs7Ggv1Qs6e5bKYe/0J22/y5Xsj+xylxLjly1P3mQeFvk/J8/QQBIJAwupD9Oane5o6oVvzCki5m5ypE/Eufovor2mj8tkY8GhXu+PyLD1N0PVKQ/aS9HNCZpsj/d8OsirXqYv4n6GAQ6uaw/CKEw5raWnj/fChxhNbysP9S3NM0namq/HkO7m4vlpr8HP3EA/b6vP29290L5aas/wLe94d2RYj9CN9M7F3Guv6FQ0J+WHJA/mMAVn+57s7+guMqw3X+kP2SwlsYlSp+/4zmGwMQxqD8NdAapiJGwP53rVCnYp4U/WtRp1ZVssr9AWJ0HPby8v+OUkHoVOra/iHz6fFL1wD84XoSg2EeXv+NGPm1cGLC/nxxMXQ7Ihb9Yw2FDGaWFP2OopP34E5s//HBTrcwuiL+zY37JIT2mP4s0CxrVzkk/59WtXHcMdj8DN/JDHCCqP5NBpJUx9JY/upVJAEP+pj//r8NjAiigPwuI49VGMH6/VLsNB5X6sz+qY5XSM72oP/y5/uPYCKs/eUJMFc5mtT8ZyhchLa+RP+AHMeHhB7o/Ahqd2rZ7tD8iH5FCmxSrP2ABtPyscaM/UV/gA4WLrz9r/m9XdXe1P40yigHshbQ/fNXPPRlToz/pSsKNrcqyP6KSjgDbsq0/3NdlHhfasj8A8KZgL0K1P7+wBGv/d7Q/yg7OAEedrT9B07dxMECzP9R/AX1VQK8/F7TSnKMrrz/NHaJ2ZFGtPySM8g7oM52/EcfbxnYphz/+EtRcpbV9P/vI9B5D1Jo/8TGzKh0Hqz+U3je+9sypP7s2yOIGlZ+/3h/TAPxYrD9Sv0q/9iydv/0BWOLW5JQ/yQsHR2s6nj+Bi6aXPpKVPzVx2KGNaKA/HgkLWaM/oD9JShfunjSfPwgA9iDw/6U/uZcQgHPXnD/e36guQ5CZP6w//Nvp97A/xlh94PCjij/swNb4jhKqPzHbKXCGaEo/EMszZsP3bT9HFhyddNSRvxL0VQICDn+/aN0vNBEVoD/zn5shSOqaP/5+xL6D8Kk/KpFEL6NYsD/H5Mhbkillv6I94oArE7w/Wdm9Yxh6pD9tvqI/WrqxPxoUUTz8b6c/9nf4Y0H+rD/rVPTl15+aP6OWjZ7AE6c/dFo2wdfagr+ly8399vGkP51IwzieIJC/hVMUHwd0oz+6FcJqLGGtP5nspxhKmqU/TftBuF3DqT8G0qwJ9TaiP4a8cZS0ya4/bh68s8zbdj+JK6GaFuWbv8yn+fBNT60/PId+4gpsrz9e9hpjaLN1v5+xGD0DX60/C8SAXwI7qD/PwkW+sNSlP+cghT6a4rQ/dnVNnGqaoD/0/nRAaPagP+pyYdzBE5Q/BLSE52u3rT8Op25cNqKsP0GEEyxpILU/gzQAp7kNsj+c/R5IIFaoPyuWRr/C8bQ/srZmgS+ytD+dxRG/8LeoP5dOkH01rKs/AJmR0lDJZ788o4w8OdigP6vu3VubCqY/UX+p3ptYoj+/eMxhc+WqP0xqwbv3mKE/XkHDMJp0rT+ZAXhVsUKtPxSLVCLNe6E/hEkSAPP7qD+4QdYbAVGcP4BlxlcSC6Y/cyDImsF6jD8DPBPh+SGqP13ii6B4aKM/LxVdDw0orT8a2TUkZcCrPxJLDPq5PrE/uq9WL7ditD//ULwM93ikP7xVnfYQZKE/ZcuPS16Vsz+pYL/tKiCmPxrwAdPMB7Q//ZcLX9b5oz8qPS4F/7ayP+tQ/AHXYa0/Sb2nctpTqL+/4x0h+Jh+Pxz7MWR3rK4/CYGFYfo9sj+2xIDbyZahv+xWhbzUvqQ/duRNIBpNsz+BYOnXMQmsv0BWKoeaEaE/pOV1AYUzrj/cTwVddBKPv4Fpg9klJrE/fel7el2gmT+jtS3A+hyYv3BhA0Aa8JU/pG5d7QW/iT+FityZKpSiPxCHlZ+Opq0/JJHHHYAesz/EFlDiUhmiP5M0RaHhJLQ/aEuaYrXJjr+px66b7zOav7RBouCUf6I/ZqvNKizreD9ZLlNHUsiFP0khPQPyPqO/rZnGQOjqpj9YV9+ijuyUP9WyC78BUam/51OpiysdWT9A7W6g67uRPzeMH7Y2hbM/+2Kgf0Mnpz+zW+IAru+JP82Y/vwpG6E/0sWmlUIgqT9UdwemCq6cPxg1iKRQ9a0/v4KKY4pdfj/kTGT9ngybP+mOcu5+Lrk/JGAH3UR+pD/czKnjf5KlvyvKwf0bk2C/pQVTwIKjs78sqxb8KZqtP62XPCTQ7ok/dLA7M3qbYj8eLeD7oe2cv87gQF+ypaw/ZjSM4JoSfL+D6pOaRUGhP0OKZDwICaA/u+IU4x1coL9gX4goaIuiP51DuTc2cJw/Vp0c2Ab7mL+TPaI/veShP5Omn0I+gJA/LaBI3tZpqT98Odzc0kmQP1uyZdsbk1S/Ze6eXzvopT+40Z2zR6CkP9aww767mnY/8KE62ap9jr/pISJOigOuPybY2FXjzY8/wSF/KTb4iL9fyZ+5mLCwP2Z4HqLyK6U/a/TFOUWipz/S6Uv/KnGqPwKt61lReGk/DqWOP2W9rD+IzlsKgqayP2RJI+C8qqY/ZkG5UYp0gD+5NaeacuiyP2Q5z/mlVbM/YfOa7NlStz8V5bajVp2Pv3cVEGKAp6A/DFtswAtOsb+S0VwCSwmxP+RQO9O2J7K/8D7OAXBWpD+F2s9fcQOsP+jdIKa5H5A/xgjy/R4Gpj/OhOzdm7aTv083+t/kk6A/3vQs3WQhrj8wz4IEUIKUv7F0gllIkI8/knrsuvk+m79kzoQ9JZuKP0iPGYd+lpa/VU69ZqDPoT9+NnLdlPKrP6owwIJXcqE/lmE8gM5vgT+z9wDiUO13PxKKRb30t4O/iGWWsV9/t79AWhVBmc+xP3+/dx9w8qw/RpxeAihocT+hUzfnRcWSP+c4wqCP5HS/YbGfKH3frT/sRQ3Wmg6KP5Gkwt37SZI/kwMeolZ7bb/DgN6BJUq2v02mRPGuo58/CCMAfBPqnT+fK99tvSqsP4992vLbIau/xSWZZecemj9gSI5BFaGkv4UUWwDcZXE/dpo3FF9pqL/pCGgzKg9Lv5VHPHtci56/anTZeEjicb9uuQIjkpVtPxtiKYOE160/1mJDeRfWmD801P2jPOGHv4S3LMOdolq/k2k8KmEaqL+OY/v7UmCyP6VeJ11J3qk/Ruk5fnQeSL/fAo/D7qicvx9ZbbxDo7M/T38PweVvsD8e4tjgaLqqP4qLq+NbzLI/jyNrR1CAoz878jCCAPioPzgDPYNvYqg/IqdHBPfErT8SM+Sg0CesPzTzTH53aqg/QJC0AuArtD/Oc35p1deyP7bc07QPorA/zlSNAJxOqT+bfTdA3f6wP1lCiHX0CbA/HcvFXHXEqz8KAESwYNGyP00mVXgjNbM/ANaoXOgXrT8auMd/9uR/P0aFwWexNbA/fKSY7junlT+MXewHhr2wPx2Wo1OZWq0/bgcgPnvxsj+i+A0gN1SoPy8r+0veQrA/Q1Ss3SChrz/9WeK31zirP8hv1IHhmbE/dWpXtkkksj8FbXL4pBOwP02ZO/0XPa8/OxOL+Whanj+mMVLWDPy0P1UD6z03YrU/TqKT4jkUoj9qXrcD0zumP5gcAj2QmaY/iPFqHl/5rD+HJ0z8d5umPwfyJp43PrE/FsdTH+D6tT9jtEIc4XCpP3i7+29nV7c/nN6D35+1tT/SE1zNtqq1P8U/8iKhmq8/H8B9ePHZsD+MMEW5NH6zP6XUDEZ4vbE/lR1IAgAMqT8Lp34+x9CnP0BL/PYaJ7A/BEZp/5vIqT8NYKFB0HKzP5BGiYZaDaw/8hsui+z3nj/71vtLWgq6P6dRcbHcsaQ/hyNPX730oD/8LJ6TQWKwP4ag9p1XI7Y/7ghl6Vy0sT8ltzrBfWuoP3NtDUTNkqM/YxJoj5sKsj+TC0I3A3WwPxnARzxaTq4/QRGx3xiktz9yy2Dvcs+2P9Tnk6on0rQ/ShngnsGIqD8P4FCftNWuP5eMpUBNyrU/RLkb4UAKsj/ZLiOrEbCyPy7Nxq32bqk/k3f8geyhpT8ijMDUphyxP+nIQz9Q97E/GJaiCdKUqj9++srhZRapPynHCbiMQLO/q0yET2uBsT/9nbMmkr+zP2mUiba+o7I/yOB3v0lUpL+2T9tH7cxUPxJYzhjF9qk/a+n604AgkD+BtrSeSpurP/+Q5t6vQa8/UiKRz47Io7+oAJSW/BWjP3bUtx0xsoA/MRA0AecOoj9d2DWC1sGkPzPlc4lL14U/Njnf/ERtpj9lFE9mURKRvyzeI/ZkWaE///S40t8JpT8TQNb48Ty0P/h9i5CyLJW/2Tq3V4Y7lj8LJgPiozWtPxbNAKBVKaW/IP5XIjuraL/6WAv9XemjPwC4aZ7pRq8/9nyxHaoupD+yaKpGty5hPzIUwUnkzLA/W4z7O035oz+sbczjF/uaP+Vevscp0pY/LkMPweC2cL++UDw+jNanP8lCJcJHQ6E/tMJIvRQPrT8dLedHxbw8v6NjKqTMa6w/86Bv/5ANdz+r3EYu+GeAPxNa/3yVW5Y/SRqzV+Vjhz8CuFQDn6+Zv0SzXzWeIZO/AcHf2WWSlb+kaYjebdSgPynmpCANYbC/203AFL0Ke7/8crcCQp+lP1KWEmNIN5K/iuL7Qem7bj/wXoP4n4CWPxi5dLqWCpg/Q25bm5MFkj+IYSx4dp6bPy1lxeLK6KI/SFyQxedihD+iatCkCAGZPytOqn/Nh30/ThdD6Imvlj9j0K7nEN2iP9N3R16HfqE/XSVDgYNlpD/4P1W/setXv3N7NX/N66c/H2O+ISzhkT8yTEqab9+VP2B5WPTDEmM/mizXo7zLrz/VTmAAuTJcv3BkmsDf9bc//51S/QERp7/z9nNMDoafP+1MqkBpRGK/KMM/DHeler+r+4jeMHGGP4IL0LtTL6c/4BtcnRD4qj/zGRbEvJ6oP2QZer7Bu36/JXGv/JSLpD8N+zM/28OQP7dcZbyZEJg/SXdjg30ibD80Viby4MuJPwPlNf15Hae/KlUr3ovZoz8elb63uZaAv1Re16Et9pO/41O0/SG5o78gnQaBn7WAPypbxntFH6u/hiLBevoNgT9L+4ogU9h3P0M/GwX9j4w/W35RWxJ7W78QhP4eyaCmP/2Sv0GcA6i/Jrg1Qm+Moz+OXR5Cx9SYPwtmfPowxJE/ji8MHscLtr/UvLAjeL2SP93ngVrPupG/kWsaRgdFlb+lvN8z1T1xP3h7Uh7Ea6K/v/MedsXdfz8SGJE+K/1UvxcFMTiZpJs/wO/N2XwIlr+oFQka8WyQPwAKVh6ippU/M3dGvr//kr+bOBwKXZGFP6A/OmMC+K0/wqIBQD62qD/3dX1yVjywP9ry2yEPjrE/h7qOv1Q2oz8poNc/UruyP5PEiACEaKk/bFjXkbgBrD8mwTzgkeOwPxWiKkOolKY/p4fJnZdfmz8Ji0gcyx6yP0MfC1VaFKw/uUzMASLHoj9a25BW596mP79G/7yKO6E/gaUbqifIhz8vLV+hU7OuPzD1kHxnrKI/657unGPJqT8zvEWfELOyPyQ4HgEW2LQ/neUmKE2csD/RHJGjxKSjP2kopOt4grE/mMxxoQSTrT9JRzmYTYCyP8eWVUDw5LM/gwpYvKKlrT/ab5z9ScisP0PWheXwxag/NYwOit6QsT+NTtAFeWaxP5kP7B73sp8/npgWcRFKtz9ooetinaGvP/32deCcEbI/Ra6jw6ZCsj9Zbmk1JO6wP0S22mA07bE/hhx83fmwsT/GKkA8lGaoP9ywt96A4LA/PJ63LaHtsj8F4g0aDgyfv8yz9YA3LLE/SkjZX8xPqD+vqmbv7+CrP/vEoYHPRKc/pLPlv7TmsD+0J+E/ZjKNP5Sx5m9edok/xXfenecVoT99rc/FdFu0P11YocK9pIy/+INoSj64rz8zzSoieZ22P4/RrgCufaQ/CmCGowQtpz+5EU6/z66uP2npRGGbfa8/eyvYZ0rCsj/LqpjiW2yrP4851JFR1Yw/b7LJvoQ6oz9x0k3FOhOkPye5iXuoRKw/w043pN8rrT/A/xwH2vSxP7NgA56LcbE/YWTym/z1sz+3ozDW1AWwP7B3Qlk/0JY/J5UwoAULiT90EbYKKPWtP9cLLus4Xaw/KUR+BYJjqT+Eybqj8ruIP2Okp2A+bbG/tH4rwBRxjr+zOGsJXMu2P1f+r0xVYEy/wa8XXtecnL8LBRvAI3aWP2x+XBhyN58/yD1EQBHNgL8U4U8i/GqjP1bJu3tkmaQ/xkS1Tn2cqD9UDS148mWhP4/KFSp0aI0/w11YX6brqL8ubfnHyWSRvxNm2v6VlaE/8JXyunsJlr+XxlDKewenPxL9VsJFtIq/89S4cWrrnL8mLdYcku2nP4pGDHU307I/0kWWDs6Oqb+iGw4J52yQvwBG/RnRgo8/vNEYxD8gq79rf8mAiqd9vw5gEN8p56o/Iynx0rCMr790pdA/4tOkv6ReE3liO5u/i670osJNoj8FB9eDGbifvy7/aNKCJH8/yXybWaa6sj8N4J/liJt0v3s0UVtVvLg/2M8HcB9eoj8O3IE65dGwP1YsEtxOt2G/69oRYO4Zrb8K21R/spmpP4RLsADymom/IRMZ61VDlj981KHLgiZ1PydgQ4n55sO/yzP33H4DoT8jMI9ipAqZP0xHJP0C6XI/qzYM2jzymz/r1cVCtCOpv1Bn2j362LA/Bh0As3OBsL9zFJcYCFiUPzjndf7MpLG/lz6kepMon784UtSeNAKvP3o2qz5X27G/F8v8vAxzs7+BbeOgmzWkPyIFBZQ8jaa/V2u0XgR0ZL8QS0dcp2GTv+bzkWEDjJq/DcyQfonllT9xaYhsGOyyv/ebDyMS8pq/AK2yHAxoob8Hh822iUmxv7UgQPjjBZW/crJgJKx0sr/zR+bL6qGxvxsjwIYzAbK/IDHfmYdOnD9nL3gkoLqov8RSsAj2RrC/JhUR7mM/tr+poQ3ABkSrP48VgG9oBKy/oMIysjsPsL/zOmuCa5ipPyTCVG0Ws7K/tKBiYhSAqL+rE6x+YB+wvxbpHSWxz5A/WMJ/X8iPrz/lBVfHkdGMvwCp0dSAe6c/JIB6t6Jifj+CEai8JVKwP8UsKMqtYoS/+LuqxT0ckD/UVuC8HJyjP1fg55z4mq4/ML7fnbndoz+Pe8XjOneRP+lkygNoxrE/ukMgHXLBer+SM/YgYlWRPzqqYHVgELY/Az7k0p3MpD/Z1qX/EtyyP7hqND9S0qI/DRVGJwmRrT9s08HClSiRPxs8xOWOfGK//q08/3jarD9K6ZSlqMOaP75HgS6vlqg/pQK8P70dtT9E+g76qVyQv/KkzqHh1Ko/aGAUn2OJpD9tpimfcSOmPyFLMOb4sqY/6vIgHDclrj9thAbhWLe2P+/arX7PvLM/c3x6jdlptD/LBgQA6KymP/kfEh5qZK4/EmrIcCMCsT8aZaZBhIl5v12AxwEFKLU/QIcaAeyOtj8CcL6hiPa0P9hTyQUJf54/zU+7qZISpD8EcK6/98esP9NLzoHMa6s/wpD4vLJwmT/4/XoJPpuyP8UG03wKip0/DbNbwfLEeD97yyMfvsOyPwq5BkE9OZk/DbDp4qoCfj/DN1RZApOZP5Y2ZiMh25U/7QV4aN7FkT9vAIlobJaePyWVAx9+XKg/Kff2P6QFsj/QQCfif7uQP95afMOqZac/pWjlXmBWpD/g+uJhCQN5vxQGZRpNLlY/X7DrfBdtrj8IMSP+Wdqnv5L4tEEoGq4/HQXjO4ykuT8R6fFajRWiPwOx8B41YK0/t3uTiOt2nD94WODfK7CZvy94+R9erKU/Zz+1bkG+p79788reGiSVP7SAAWtyhLA/pAgTwHnjk7/uY4v43HaSv/o+SlwvnKE/yCskIRA2tT+6fdBfWmeTv36M+4fbPpE/VG0Cz2eHhr+AdrCTNF6sP9Bmcr2vwrI/SHSAdHIFir/2e8XH5UeZPxI2Zz2viqc/P8z7i+JNuj/fT66lVzWzP0Al+PB2zrA/NAMqVuyzsD+6T0zmcXuzP7ULWR8HDK8/8/mYd+vokT+mHVKaOoCbP7cW2vewMKO/zMnV2doMq7827I/hxYOoP1xeNaaSx5i/mAFfuBA3oT8/6uRJKDaEP5riecJ1ObG/lUJBpSEVpr9BHS7wF96Bv9z3h7F1PpY/vRgRXwLEnD+0LyzB2v+1v/y8b537grq/4Z/+JTywkL/rJ+WzEY+Jvxh5OAUiWai/lv3CROY+k78V1GSEv3izvwppbDM+Yae/Pa2JopPnqj8KH7SYhH2SP4x0ku9Keag/mO3d+yjerL8fIsGWTz2pPxIA8/vEIrA/HRcu2+kvdb+0Sl3wcb+kvwqKmypKz7u/mD0B+4Wqrr9x94iELmKNv1uBd6sUJoe//3/RIjH6rT+8EFdANAJQv4VgVb38Toe/KQvlmLqYl7+xA47U4FWFv6Ymuz3z92Q/We/Dg15moT/WEGvdRRmoPyk3esqkZZi/rWoHK2dSqT+tD9xiLSeXvwSsdskPx5y/zH/llMK0rL/S6m//TcyTv4f/poZly1y/YoVbPpKSs78AsrwddBisv8m/yUhTw3o/zgSNWXI1Yz8oYhHDDmOqv0Giq6KviK8/77wxXbgOfr9QZBOEHnaoP13rz6GznKE/h/yJg7GpqT8GIivCxFSnP5Jx5RzX55G/ckN89St8sT8v9bRC331wP0Zks36O6rW/+yzoIFy/s78To76XiNikP9O8nD+RGqM/BUlEnV7Okz+QcL8bidKjP/ZJkD+IzKo/umQIP/KAjj/6qxt9OaSQP2NMOeBs062/Olf3PD2+qD8I1gZhTemtv4jdFiweJVI/pcOe0bHerb8hBaUhENOjv6LmQQDE66E/LzhBo42Gmj+ZGHI8BC2pPxXk/z9ifJu/5PT1fM1yur+bMZE5K25oPwxC+p9cUHi/k2PRxb0xnr/DQAA+spiSP8wekYS35oK/0kRRAMIQtb+rZmb+gvGpP7WO2l+eF5A/HvSkANwipL/M+MnhK2uxP1rna9jnGJO/eZK26bbhsj83bZTmJz1ZvwsXZl+BAbe/C/cO2lLXmT9I8X2zxRynP18FFMQigae/QIvaOo7YnL8a2KlAzZOqP4rXIo39cXK/XXinAO1OiD8bKQBrevV+PzU6MTVTa6e/8OcsXOPmZb+qxwlVYoW1vwlKBLxizJ2/Rea6vkkysb+779YBKRStP2CMVT5cVn8/w22njAPYmT9Dd5rjFNGov7xPfiCzkqq/1v7O9ugNuL9k0yGiXhGYP3CKzv+Zq66/UXtWQSjJlD8h/6Gg4butv9ZobMHoeKi/H9RhX5Sbr7+DkuP9oWGXvzBiB+T+Yp+/0vRvHTeKoT9Cnep3/kCxP7OxwautJHY/6Niuwdydor9g/M/C50yhP2DGMAGh8Le/caLIIJgfur/rtAPo1u+uv6vaSrz3yI6/FfGMbJ1up7/ozsU/aTGNP6w/jz+7vZ4/EZU5oupzrj/XkSDl8uJuv3uI2v8GSXi/xHl6nbv6tr+M0eJfl6dzv3BrPQmN3LS/zERTbon5p78JoL2fv3WpvzssYETTwJw/MzWcQWIMmz/ofTwkF8SpPzw8rLmh/oY/o10+vxOmur99ML6iOqGEvyt+neXD/Ze/2Ya8qz8+lL89D+7O2m2pv1qUxTys6a2/X1dZ/CJ4rT/0owdcXIWiPyzuBYeTC66/7ksNnzp3kT/+wZf0vaeqP3fjPQTelKi/MHnJIPPYpD/Udx7fVUSsPwEDHbqUS4+/LkbRwQKxt79/lNH72LqGPzJG2nwSjqi/KQmTJgERer8PhUueHTaOv8VTjzS4rZU/ZDwkXpkVpT8E4uKZsReVP1lIyFk7/p+/LKQVQnuzpD/0pLHebfx3v8lryrokc60/h4ibU8kAhD9g2gW9FnilP7FjCnMO4K+/Mtqylfommz+jkB2BY8KevyLyyOVgsqi/PL5x3YqAqb9D/AWz8JKXv6kVZNNjvrE/SvcIb+4zo79lDWoB0uWvv3HS7OTJOlc/PQFesGVDqj8nbSa27UGyv8IexOL4IKi/5wJ2ubFutL9zQlPdogRJv9dDhwKuErG/kmEN/hsHu79GBYZg4K+Pv7o9BgDOWI4/QOl2vOp9mj835Ih9Trajv794zGFzZbK/nsc1+b6clz8zWj/kyiygv3vWBSH4loA/DDWlHYDSqb8wxKACFq+av3q+4H+dLqg/r12+GylgkT8C/VPk72Kcv9SsmaB5RZe/pih2uEaZur98EzsB6lmpP+92DnxEAKk/bD43/3LXo79dHsb/eAqrv4hLiYLrGqC/Y1BiIqm2cL/6eXSf84WsP7qgmJ6rC36/LqEObfjErT+uZr7/ZpSSP7CfTENXmaA/xxLWxtgJxr845kxF8OCZP0q+XENlDnk/kVgv3yrqgj/aLgwPnF5iP0VsyQ0z8oU/K7oCxSCUdb9a5yK5Edo/PwAR6jsiU68/pQ7CQRrMob+2nYvGp+6WvwoSaYgb0Yy/O8yPphcIrr+Pt1VD9AGjP9w6iyDGUpG/lUf1pdDcj79hThJDWZWcP6WvAcCay50/xKswpi5Tsr/9K21pHIfCv8iNCc5smYi/0cFOPxUonb/wsm5ZyFdvv8MX82Fgl6G//+ngQhkIob9JO2tAT8akv+iyvJ70LaS/ow9qwwCJf78d3VIYpZWyvyJJOS2yfKG/nKUiHTdfs7+xjoBdj7qpv1G5LqEnirG/qLzefHFJrT8+8HC8tEGgP0cjXTtqr2q/ICqXCk25jr8LC2BdJNOqv7KzbNauQ7G/Q3k9nc3Yoz/XruDpWwenv3kjkJ5kI7K/zam4/zURm7/h8GF665GwPxZoIUh4V5K//bMPR5GUtL/79khfFWOjv/81ScGNc6m/5ylhXGBFtD/dX4l8ocSuv3zjtVxHZpe/TlQEcmgVsb8gQZtjE3WsPze+f77w9Ku/4U9fX4Nvqj+LW/2/h56iPwyBiWNQsqE/abWcWJtXkT8p5zAEpQ2mP9yo/8Dd2Kc/pVEeabJ3pz8giA3FBtOYP6NEtQLvVqM/lx0NoBLprD8sMiOEk6mkPy680v9gSpo/33JQHQZOsT/MynDon3OCPw40PEn8grI/dhb1/V9rpD988WaJpbOhP1nlGWYukZO/wRjY/T9boT9v+oqg92exP73i62PsIZk/VAkAoiFipT9XCdRqYXmzPw+OxJEoMKI//HUovGQZoT9vdtF7Vt6dP39B1V/kopo/Su88bWSJtz+I5NN/sDWyP/Ih5X3V96Q/dZwgx52tT780UVtVvLK5P+GOopQxupc/2f/Gv0uArz9ZbJ38OayeP1FaMbyPLKE/byyx/Scppz/zidcd1EOtPxlKwMQsb4s/zvnO1JBdtj9tGahA8Vmov2yAThj/BJw/XQLo3mD7pj9O+6bjQ+aqPwG3F2bbSK8/aypqtEVnoT+C/++AmYyqP9BEGg3HkKc/bXXRQatUqT+Xk+3Ph1+sP8FGv6Hjr7g/y5DXQS0fpT+criQCoE2lP9YjJgsMF7E/TzUawxOvrD/0f/VVRfqwPwKsAnP8aag/c9/AnXEFoj8mtP75KrezP8qPdN3GLKA/BTGJ4KPxqT/VoLBaGLItvwvv6R+BlZ4/RHVmx7W9jz9U6u0q/7WTPwtdqk7eMrY/RUYHJGHfoz+GZt53+qufPwGKCDQVOFI/lII0hN9dcT9ncy0+K4eyP9+R64WG7rg/oJy+oPmjfj+z391BIT+ZP5+geEXckm8/jIBMY2KQoj9ED23hKGKlP5bze1Fx0pI/Q05oZUWMYz+H6pxVVR6xPwQVfj4ENJM/QeHkZeoBsz8olp12386lPxtWogASzKw/7mY+ztE2sz89VTK+N5+fvwr8G5NJNqo/62mPMG+CtD/wp/s9B0+eP1wrTnP6k5c/Z+jpbX2inD8eRnjj83aoP3sZICy+/K8/X5nBXK4lrD/diOef8kWjP+GBmaCaU5A/W6UAwM28tT87r1rdVmhjP4Phlm6Wu7A/eAj//KAppD8kB9PNUYmwPzqX7Bwmwak/fLR6f2rZsz8iKuDgAyK0P2wbkM4KVqo/YVtB/pKHez881aVvZ5m6P2aiT35niK8/gjDJXnU4qD9cu8l8+8uiP9jprLse8bA/G7lNPJCKlT8fqnmi9X1iv9HR5EH+wqg/7UKwAF83or9BwosZPKexP/XLbP/mn7M/RfBIh0rNib8eidnDRYupP4qY2p6VvqQ/Ok8Unz3CnT+2u0kEkeKoPwhlywZaAIk/Gz0KGcBCtD8Ws9Ji+KGkP8BXI6Q2vZq/ZlDkfsQFkz+6qC+uZfCpP1vcW57Coqo/NZbW/Wjarz+d2IUXKwesPwSba38EUbU/intFGomOtj/DZRU2A1yyP8HB9WAG7oC/LQzLfmEiqT/1jBIuwwOyPzOl9bcE4LA/Ht8E/YrXqT83MD2KCDmzP2hTzke0RZM/ZHIwvA6sqj9K0oEhtc2mP340QXnEjbA/RpOsP5mxqD9Py7lbLCGrP3yMqD+xBJY/+Kd/CQ+sjL+pSFfCuVN5P50cNnj8apw/I5iT5V4/lD9bnoj3fMqaP3qmYib7Lpc/9Vxsezftlj9qozVkDhKhP+gHvx5dtqE/pWHkpLFvm79KxirYWB+Bv894zz/JNq4/te61lPLpSL942F0Dz3uhP0coJSAAGpo/o4IRm5Ijkr9UdOcz57OEvytkJWRr72c/fiIX6E8llT+ThU89Se9wP3GUpHks52Y/biWm0QVxur8Y+P7E0AOKP5a1guOIbpk/OOL+YDa6nj/qplVzB1GNPwOmoYDMUp0/gWOhZuAxgD+W9lmnwoaUP3UthwE+hKU/7a8KE8cziD+BXzS+h3hwP/O+XFFrFpc/yj5+JUaFkj+3tFwuyZ6Iv0N0LuOrv4u/lZ9/e9EwnD/nP3tgjdSTv1qQ2oKtK6Q/7x3NQk+Loj/P4FRDmUhUP93VaawWO7Q/qmztt1WUoz9flMHNuUaZP9EVtrC4SbQ/J3wPx1WNnz+Rj4q9H9CtP6Pzxru2xqQ/FtDtINQXvj8qrxGYuYaxP5tF3ihoSag/VuGw46ikqj+VWmRFUcOCP18xqfUMToU/PiD2YFc1pz/VImB86rurP5ZoOIHD7a0/c/+qhnH1oz8OKvVVhxa4P7I1b12woqM/wwRe+zwlsT+oBEDstzy1P504TkSeqLQ/BDSGQ7MOqj9iNP2inBmoP8zxzeA27ak/5pd//L7irj9lQdWmuS6RP3Ef2kPS2bI/oIH9fAD3pT+acb/oly2uPwytaiOAlqG/m/EEYtyEsj+mYI2z6QizP7+sIyN0i5E/SR8ELtnCoT/7kFyjioe2PyElPsMQQ6k/JcVLYAhzrj/Qm2lGLzi4Px4lu0HQq6M/uO1I47qjqT97D11x7RuyP6g2FwMUuKg/o/DtHh97sD9R3/CK+Ry1P2VvwQMX7K0/lTEGIgBCrD8b0CFcQOmvP89TVx29Cq0/S0qdJ256mz+l1fPigjuiP+Pk2UAVErU/87xlmCTgtT98zkDZUg+mP9J5Q9CHHbM/NsM2dy5rpj9EC/R8EkenP+JsIWUXTrA/UIcL/IV3nT9ZGGl8O5auP7aPaERh/rU/0VzIn3/tsT+XlLNeqbqzP6VglSQyILE/fhsgoBQQsz/8fOKgh1GtPxn9iUZOkbI/h2eNaqa1rD+zIqy+oY2qP96gB4iTRaM/3TMnPFwDpT8QyRScj6WuPxGDGYPp3Kg/8hEIpmCuqT9CQXqhuJehP2VyameY2rA/xoEBy+SwhD//mVVgR2qnP/HQ2uFtrYQ/SSEAoNlhrj9GiUyvgzmyP3qYP6S0Pqg/w/kOXdQXtT880Ts2frigP0hUSv0s/qU/htB7QvoWoD97FPBjs8CkP8aCgzwJDKE/9ficP5ZTsD8NNMCBoA6zPycRI3zW0qs/JTcv88JCsD9/d8CvcBaxPznaimCQsrc/uYa+YNyypj/mBR8dM12qP9sf/ze8Qag/ApNJfcG9rD+rSzqIpZqkPyGZSEgopqA/vrQdXenYkD/FOgkwIg2HP7ssge+RKLE/kGPkFr44VL/HHm8sB/6xP2fNzCLNhaA/tV8tLdlnsD/Xa7V/q7Q8v6j1Pz/an6M/4Yutomq0pT+h9GSCCtycv5I0h72z6rM/eE8WpSE2sT8t/nfDBNWnvzulu5/egqY/ir6rs5QLoT80zdYi626dP86sJgHK3Kg/3AKVMwwGoL+zGhpooRG1P6DPNu0YDbQ/YPGrpNszrz9PI+a/K3W1PyI59HHIYaM/q0Dr6TyNsD/K4nLDBdVcv3BzPPy7kpy/81rHwFMrqj8S/l5tOVWSP/gv/B/hLaI/Qpm9oS09pL+A1K8/TGyiPwqLh4AOtoS/cHmLCzDBe7+isM2+2YOQvwCsCuREgZM/xnXG1rc8wb/zwBtgU9imP8Qfv2PqQaK/vcubfOBOZT83q4+eWjF7P5826qUJYm8/TxXfkhQ/sj+fHRpdeDqrP6PEJCCKMHc/RyuRIGkrob/O/0hkYYCjv+42K38X5os/",
           "dtype": "f8",
           "shape": "3060"
          },
          "bdata": "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",
          "dtype": "f8"
         }
        }
       ],
       "layout": {
        "autosize": true,
        "coloraxis": {
         "cmax": 0.08934789500000005,
         "cmid": 0,
         "cmin": -0.08934789500000005,
         "colorbar": {
          "tickformat": ".1%",
          "title": {
           "text": "Predicted Growth"
          }
         },
         "colorscale": [
          [
           0,
           "rgb(0,104,55)"
          ],
          [
           0.1,
           "rgb(26,152,80)"
          ],
          [
           0.2,
           "rgb(102,189,99)"
          ],
          [
           0.3,
           "rgb(166,217,106)"
          ],
          [
           0.4,
           "rgb(217,239,139)"
          ],
          [
           0.5,
           "rgb(255,255,191)"
          ],
          [
           0.6,
           "rgb(254,224,139)"
          ],
          [
           0.7,
           "rgb(253,174,97)"
          ],
          [
           0.8,
           "rgb(244,109,67)"
          ],
          [
           0.9,
           "rgb(215,48,39)"
          ],
          [
           1,
           "rgb(165,0,38)"
          ]
         ]
        },
        "geo": {
         "center": {
          "lat": 35.241183928662956,
          "lon": -94.99553337110271
         },
         "domain": {
          "x": [
           0,
           1
          ],
          "y": [
           0,
           1
          ]
         },
         "projection": {
          "scale": 1.292119796868966
         },
         "scope": "usa"
        },
        "legend": {
         "tracegroupgap": 0
        },
        "margin": {
         "b": 0,
         "l": 0,
         "r": 0,
         "t": 60
        },
        "template": {
         "data": {
          "bar": [
           {
            "error_x": {
             "color": "#2a3f5f"
            },
            "error_y": {
             "color": "#2a3f5f"
            },
            "marker": {
             "line": {
              "color": "#E5ECF6",
              "width": 0.5
             },
             "pattern": {
              "fillmode": "overlay",
              "size": 10,
              "solidity": 0.2
             }
            },
            "type": "bar"
           }
          ],
          "barpolar": [
           {
            "marker": {
             "line": {
              "color": "#E5ECF6",
              "width": 0.5
             },
             "pattern": {
              "fillmode": "overlay",
              "size": 10,
              "solidity": 0.2
             }
            },
            "type": "barpolar"
           }
          ],
          "carpet": [
           {
            "aaxis": {
             "endlinecolor": "#2a3f5f",
             "gridcolor": "white",
             "linecolor": "white",
             "minorgridcolor": "white",
             "startlinecolor": "#2a3f5f"
            },
            "baxis": {
             "endlinecolor": "#2a3f5f",
             "gridcolor": "white",
             "linecolor": "white",
             "minorgridcolor": "white",
             "startlinecolor": "#2a3f5f"
            },
            "type": "carpet"
           }
          ],
          "choropleth": [
           {
            "colorbar": {
             "outlinewidth": 0,
             "ticks": ""
            },
            "type": "choropleth"
           }
          ],
          "contour": [
           {
            "colorbar": {
             "outlinewidth": 0,
             "ticks": ""
            },
            "colorscale": [
             [
              0,
              "#0d0887"
             ],
             [
              0.1111111111111111,
              "#46039f"
             ],
             [
              0.2222222222222222,
              "#7201a8"
             ],
             [
              0.3333333333333333,
              "#9c179e"
             ],
             [
              0.4444444444444444,
              "#bd3786"
             ],
             [
              0.5555555555555556,
              "#d8576b"
             ],
             [
              0.6666666666666666,
              "#ed7953"
             ],
             [
              0.7777777777777778,
              "#fb9f3a"
             ],
             [
              0.8888888888888888,
              "#fdca26"
             ],
             [
              1,
              "#f0f921"
             ]
            ],
            "type": "contour"
           }
          ],
          "contourcarpet": [
           {
            "colorbar": {
             "outlinewidth": 0,
             "ticks": ""
            },
            "type": "contourcarpet"
           }
          ],
          "heatmap": [
           {
            "colorbar": {
             "outlinewidth": 0,
             "ticks": ""
            },
            "colorscale": [
             [
              0,
              "#0d0887"
             ],
             [
              0.1111111111111111,
              "#46039f"
             ],
             [
              0.2222222222222222,
              "#7201a8"
             ],
             [
              0.3333333333333333,
              "#9c179e"
             ],
             [
              0.4444444444444444,
              "#bd3786"
             ],
             [
              0.5555555555555556,
              "#d8576b"
             ],
             [
              0.6666666666666666,
              "#ed7953"
             ],
             [
              0.7777777777777778,
              "#fb9f3a"
             ],
             [
              0.8888888888888888,
              "#fdca26"
             ],
             [
              1,
              "#f0f921"
             ]
            ],
            "type": "heatmap"
           }
          ],
          "histogram": [
           {
            "marker": {
             "pattern": {
              "fillmode": "overlay",
              "size": 10,
              "solidity": 0.2
             }
            },
            "type": "histogram"
           }
          ],
          "histogram2d": [
           {
            "colorbar": {
             "outlinewidth": 0,
             "ticks": ""
            },
            "colorscale": [
             [
              0,
              "#0d0887"
             ],
             [
              0.1111111111111111,
              "#46039f"
             ],
             [
              0.2222222222222222,
              "#7201a8"
             ],
             [
              0.3333333333333333,
              "#9c179e"
             ],
             [
              0.4444444444444444,
              "#bd3786"
             ],
             [
              0.5555555555555556,
              "#d8576b"
             ],
             [
              0.6666666666666666,
              "#ed7953"
             ],
             [
              0.7777777777777778,
              "#fb9f3a"
             ],
             [
              0.8888888888888888,
              "#fdca26"
             ],
             [
              1,
              "#f0f921"
             ]
            ],
            "type": "histogram2d"
           }
          ],
          "histogram2dcontour": [
           {
            "colorbar": {
             "outlinewidth": 0,
             "ticks": ""
            },
            "colorscale": [
             [
              0,
              "#0d0887"
             ],
             [
              0.1111111111111111,
              "#46039f"
             ],
             [
              0.2222222222222222,
              "#7201a8"
             ],
             [
              0.3333333333333333,
              "#9c179e"
             ],
             [
              0.4444444444444444,
              "#bd3786"
             ],
             [
              0.5555555555555556,
              "#d8576b"
             ],
             [
              0.6666666666666666,
              "#ed7953"
             ],
             [
              0.7777777777777778,
              "#fb9f3a"
             ],
             [
              0.8888888888888888,
              "#fdca26"
             ],
             [
              1,
              "#f0f921"
             ]
            ],
            "type": "histogram2dcontour"
           }
          ],
          "mesh3d": [
           {
            "colorbar": {
             "outlinewidth": 0,
             "ticks": ""
            },
            "type": "mesh3d"
           }
          ],
          "parcoords": [
           {
            "line": {
             "colorbar": {
              "outlinewidth": 0,
              "ticks": ""
             }
            },
            "type": "parcoords"
           }
          ],
          "pie": [
           {
            "automargin": true,
            "type": "pie"
           }
          ],
          "scatter": [
           {
            "fillpattern": {
             "fillmode": "overlay",
             "size": 10,
             "solidity": 0.2
            },
            "type": "scatter"
           }
          ],
          "scatter3d": [
           {
            "line": {
             "colorbar": {
              "outlinewidth": 0,
              "ticks": ""
             }
            },
            "marker": {
             "colorbar": {
              "outlinewidth": 0,
              "ticks": ""
             }
            },
            "type": "scatter3d"
           }
          ],
          "scattercarpet": [
           {
            "marker": {
             "colorbar": {
              "outlinewidth": 0,
              "ticks": ""
             }
            },
            "type": "scattercarpet"
           }
          ],
          "scattergeo": [
           {
            "marker": {
             "colorbar": {
              "outlinewidth": 0,
              "ticks": ""
             }
            },
            "type": "scattergeo"
           }
          ],
          "scattergl": [
           {
            "marker": {
             "colorbar": {
              "outlinewidth": 0,
              "ticks": ""
             }
            },
            "type": "scattergl"
           }
          ],
          "scattermap": [
           {
            "marker": {
             "colorbar": {
              "outlinewidth": 0,
              "ticks": ""
             }
            },
            "type": "scattermap"
           }
          ],
          "scattermapbox": [
           {
            "marker": {
             "colorbar": {
              "outlinewidth": 0,
              "ticks": ""
             }
            },
            "type": "scattermapbox"
           }
          ],
          "scatterpolar": [
           {
            "marker": {
             "colorbar": {
              "outlinewidth": 0,
              "ticks": ""
             }
            },
            "type": "scatterpolar"
           }
          ],
          "scatterpolargl": [
           {
            "marker": {
             "colorbar": {
              "outlinewidth": 0,
              "ticks": ""
             }
            },
            "type": "scatterpolargl"
           }
          ],
          "scatterternary": [
           {
            "marker": {
             "colorbar": {
              "outlinewidth": 0,
              "ticks": ""
             }
            },
            "type": "scatterternary"
           }
          ],
          "surface": [
           {
            "colorbar": {
             "outlinewidth": 0,
             "ticks": ""
            },
            "colorscale": [
             [
              0,
              "#0d0887"
             ],
             [
              0.1111111111111111,
              "#46039f"
             ],
             [
              0.2222222222222222,
              "#7201a8"
             ],
             [
              0.3333333333333333,
              "#9c179e"
             ],
             [
              0.4444444444444444,
              "#bd3786"
             ],
             [
              0.5555555555555556,
              "#d8576b"
             ],
             [
              0.6666666666666666,
              "#ed7953"
             ],
             [
              0.7777777777777778,
              "#fb9f3a"
             ],
             [
              0.8888888888888888,
              "#fdca26"
             ],
             [
              1,
              "#f0f921"
             ]
            ],
            "type": "surface"
           }
          ],
          "table": [
           {
            "cells": {
             "fill": {
              "color": "#EBF0F8"
             },
             "line": {
              "color": "white"
             }
            },
            "header": {
             "fill": {
              "color": "#C8D4E3"
             },
             "line": {
              "color": "white"
             }
            },
            "type": "table"
           }
          ]
         },
         "layout": {
          "annotationdefaults": {
           "arrowcolor": "#2a3f5f",
           "arrowhead": 0,
           "arrowwidth": 1
          },
          "autotypenumbers": "strict",
          "coloraxis": {
           "colorbar": {
            "outlinewidth": 0,
            "ticks": ""
           }
          },
          "colorscale": {
           "diverging": [
            [
             0,
             "#8e0152"
            ],
            [
             0.1,
             "#c51b7d"
            ],
            [
             0.2,
             "#de77ae"
            ],
            [
             0.3,
             "#f1b6da"
            ],
            [
             0.4,
             "#fde0ef"
            ],
            [
             0.5,
             "#f7f7f7"
            ],
            [
             0.6,
             "#e6f5d0"
            ],
            [
             0.7,
             "#b8e186"
            ],
            [
             0.8,
             "#7fbc41"
            ],
            [
             0.9,
             "#4d9221"
            ],
            [
             1,
             "#276419"
            ]
           ],
           "sequential": [
            [
             0,
             "#0d0887"
            ],
            [
             0.1111111111111111,
             "#46039f"
            ],
            [
             0.2222222222222222,
             "#7201a8"
            ],
            [
             0.3333333333333333,
             "#9c179e"
            ],
            [
             0.4444444444444444,
             "#bd3786"
            ],
            [
             0.5555555555555556,
             "#d8576b"
            ],
            [
             0.6666666666666666,
             "#ed7953"
            ],
            [
             0.7777777777777778,
             "#fb9f3a"
            ],
            [
             0.8888888888888888,
             "#fdca26"
            ],
            [
             1,
             "#f0f921"
            ]
           ],
           "sequentialminus": [
            [
             0,
             "#0d0887"
            ],
            [
             0.1111111111111111,
             "#46039f"
            ],
            [
             0.2222222222222222,
             "#7201a8"
            ],
            [
             0.3333333333333333,
             "#9c179e"
            ],
            [
             0.4444444444444444,
             "#bd3786"
            ],
            [
             0.5555555555555556,
             "#d8576b"
            ],
            [
             0.6666666666666666,
             "#ed7953"
            ],
            [
             0.7777777777777778,
             "#fb9f3a"
            ],
            [
             0.8888888888888888,
             "#fdca26"
            ],
            [
             1,
             "#f0f921"
            ]
           ]
          },
          "colorway": [
           "#636efa",
           "#EF553B",
           "#00cc96",
           "#ab63fa",
           "#FFA15A",
           "#19d3f3",
           "#FF6692",
           "#B6E880",
           "#FF97FF",
           "#FECB52"
          ],
          "font": {
           "color": "#2a3f5f"
          },
          "geo": {
           "bgcolor": "white",
           "lakecolor": "white",
           "landcolor": "#E5ECF6",
           "showlakes": true,
           "showland": true,
           "subunitcolor": "white"
          },
          "hoverlabel": {
           "align": "left"
          },
          "hovermode": "closest",
          "mapbox": {
           "style": "light"
          },
          "paper_bgcolor": "white",
          "plot_bgcolor": "#E5ECF6",
          "polar": {
           "angularaxis": {
            "gridcolor": "white",
            "linecolor": "white",
            "ticks": ""
           },
           "bgcolor": "#E5ECF6",
           "radialaxis": {
            "gridcolor": "white",
            "linecolor": "white",
            "ticks": ""
           }
          },
          "scene": {
           "xaxis": {
            "backgroundcolor": "#E5ECF6",
            "gridcolor": "white",
            "gridwidth": 2,
            "linecolor": "white",
            "showbackground": true,
            "ticks": "",
            "zerolinecolor": "white"
           },
           "yaxis": {
            "backgroundcolor": "#E5ECF6",
            "gridcolor": "white",
            "gridwidth": 2,
            "linecolor": "white",
            "showbackground": true,
            "ticks": "",
            "zerolinecolor": "white"
           },
           "zaxis": {
            "backgroundcolor": "#E5ECF6",
            "gridcolor": "white",
            "gridwidth": 2,
            "linecolor": "white",
            "showbackground": true,
            "ticks": "",
            "zerolinecolor": "white"
           }
          },
          "shapedefaults": {
           "line": {
            "color": "#2a3f5f"
           }
          },
          "ternary": {
           "aaxis": {
            "gridcolor": "white",
            "linecolor": "white",
            "ticks": ""
           },
           "baxis": {
            "gridcolor": "white",
            "linecolor": "white",
            "ticks": ""
           },
           "bgcolor": "#E5ECF6",
           "caxis": {
            "gridcolor": "white",
            "linecolor": "white",
            "ticks": ""
           }
          },
          "title": {
           "x": 0.05
          },
          "xaxis": {
           "automargin": true,
           "gridcolor": "white",
           "linecolor": "white",
           "ticks": "",
           "title": {
            "standoff": 15
           },
           "zerolinecolor": "white",
           "zerolinewidth": 2
          },
          "yaxis": {
           "automargin": true,
           "gridcolor": "white",
           "linecolor": "white",
           "ticks": "",
           "title": {
            "standoff": 15
           },
           "zerolinecolor": "white",
           "zerolinewidth": 2
          }
         }
        },
        "title": {
         "text": "Predicted County-Level Real Estate Growth (2026)",
         "x": 0.5,
         "xanchor": "center"
        }
       }
      },
      "image/png": "[encoded data removed]"
     },
     "metadata": {},
     "output_type": "display_data"
    }
   ],
   "source": [
    "import json\n",
    "import requests\n",
    "import numpy as np\n",
    "import plotly.express as px\n",
    "\n",
    "\n",
    "\n",
    "# 1) Filter to 2026 and normalize FIPS to 5-char strings\n",
    "df2026 = pred.loc[pred[\"year\"] == 2026, [county_col, \"yhat\"]].copy()\n",
    "if df2026.empty:\n",
    "    raise ValueError(\"No rows found for year 2026 in 'pred'.\")\n",
    "df2026[county_col] = df2026[county_col].astype(str).str.zfill(5)\n",
    "\n",
    "# 2) Load the same GeoJSON from GitHub and build FIPS -> 'County, ST' mapping\n",
    "GEOJSON_URL = \"https://raw.githubusercontent.com/plotly/datasets/master/geojson-counties-fips.json\"\n",
    "gj = requests.get(GEOJSON_URL, timeout=30).json()\n",
    "\n",
    "# State FIPS -> USPS abbreviation\n",
    "state_fips_to_abbr = {\n",
    "    '01':'AL','02':'AK','04':'AZ','05':'AR','06':'CA','08':'CO','09':'CT','10':'DE','11':'DC','12':'FL',\n",
    "    '13':'GA','15':'HI','16':'ID','17':'IL','18':'IN','19':'IA','20':'KS','21':'KY','22':'LA','23':'ME',\n",
    "    '24':'MD','25':'MA','26':'MI','27':'MN','28':'MS','29':'MO','30':'MT','31':'NE','32':'NV','33':'NH',\n",
    "    '34':'NJ','35':'NM','36':'NY','37':'NC','38':'ND','39':'OH','40':'OK','41':'OR','42':'PA','44':'RI',\n",
    "    '45':'SC','46':'SD','47':'TN','48':'TX','49':'UT','50':'VT','51':'VA','53':'WA','54':'WV','55':'WI','56':'WY'\n",
    "}\n",
    "\n",
    "name_map = {}\n",
    "for feat in gj[\"features\"]:\n",
    "    fips = feat.get(\"id\")\n",
    "    props = feat.get(\"properties\", {})\n",
    "    name = props.get(\"NAME\") or props.get(\"name\") or \"\"\n",
    "    state_fips = props.get(\"STATE\") or props.get(\"state\")\n",
    "    st = state_fips_to_abbr.get(str(state_fips).zfill(2), \"\")\n",
    "\n",
    "    # Handle special naming by state\n",
    "    if state_fips == '22':   # Louisiana\n",
    "        suffix = \"Parish\"\n",
    "    elif state_fips == '02': # Alaska\n",
    "        suffix = \"Borough\"   # (Some are Census Areas; this keeps it simple/consistent)\n",
    "    elif state_fips == '11': # DC\n",
    "        suffix = \"\"          # Just \"District of Columbia\"\n",
    "    else:\n",
    "        suffix = \"County\"\n",
    "\n",
    "    if name == \"District of Columbia\":\n",
    "        label = \"District of Columbia, DC\"\n",
    "    else:\n",
    "        label = f\"{name} {suffix}, {st}\".strip().replace(\"  \", \" \")\n",
    "\n",
    "    if fips:\n",
    "        name_map[fips] = label\n",
    "\n",
    "# Add readable labels to df2026\n",
    "df2026[\"county_label\"] = df2026[county_col].map(name_map).fillna(df2026[county_col])\n",
    "\n",
    "# 3) Robust symmetric color scaling using 2nd–98th percentiles\n",
    "finite_vals = df2026[\"yhat\"].replace([np.inf, -np.inf], np.nan).dropna()\n",
    "if finite_vals.empty:\n",
    "    raise ValueError(\"All 'yhat' values are NaN/Inf for 2026.\")\n",
    "lo, hi = np.nanpercentile(finite_vals, [2, 98])\n",
    "vmax = float(max(abs(lo), abs(hi))) if np.isfinite([lo, hi]).all() else float(np.nanmax(np.abs(finite_vals)))\n",
    "if not np.isfinite(vmax) or vmax == 0:\n",
    "    vmax = float(np.nanmax(np.abs(finite_vals))) or 1.0\n",
    "\n",
    "# 4) Choropleth (single, polished 2026 map)\n",
    "fig = px.choropleth(\n",
    "    df2026,\n",
    "    geojson=GEOJSON_URL,\n",
    "    locations=county_col,                   # FIPS drives geometry\n",
    "    color=\"yhat\",\n",
    "    color_continuous_scale=px.colors.diverging.RdYlGn_r,\n",
    "    range_color=(-vmax, vmax),              # symmetric around 0\n",
    "    color_continuous_midpoint=0,\n",
    "    scope=\"usa\",\n",
    "    labels={\"yhat\": \"Predicted Growth (%)\"},\n",
    "    title=\"Predicted County-Level Real Estate Growth (2026)\",\n",
    "    custom_data=[\"county_label\"]            # for cleaner hover\n",
    ")\n",
    "\n",
    "# Presentation tweaks\n",
    "fig.update_layout(\n",
    "    coloraxis_colorbar=dict(title=\"Predicted Growth\", tickformat=\".1%\"),\n",
    "    margin=dict(l=0, r=0, t=60, b=0),\n",
    "    title=dict(x=0.5, xanchor=\"center\")\n",
    ")\n",
    "fig.update_traces(\n",
    "    marker_line_width=0.25,\n",
    "    marker_line_color=\"rgba(0,0,0,0.5)\",\n",
    "    hovertemplate=\"%{customdata[0]}<br>Growth: %{z:.2%}<extra></extra>\"\n",
    ")\n",
    "\n",
    "fig.show()\n"
   ]
  },
  {
   "cell_type": "code",
   "execution_count": 29,
   "id": "8121f60d-93ab-42b1-90aa-45b96c9800d5",
   "metadata": {},
   "outputs": [
    {
     "name": "stdout",
     "output_type": "stream",
     "text": [
      "Saved: artifacts\\growth_2026.png\n",
      "Saved: artifacts\\growth_2026.html\n",
      "\n",
      "Top 10 Counties by Predicted Growth (2026):\n"
     ]
    },
    {
     "data": {
      "text/html": [
       "<div>\n",
       "<style scoped>\n",
       "    .dataframe tbody tr th:only-of-type {\n",
       "        vertical-align: middle;\n",
       "    }\n",
       "\n",
       "    .dataframe tbody tr th {\n",
       "        vertical-align: top;\n",
       "    }\n",
       "\n",
       "    .dataframe thead th {\n",
       "        text-align: right;\n",
       "    }\n",
       "</style>\n",
       "<table border=\"1\" class=\"dataframe\">\n",
       "  <thead>\n",
       "    <tr style=\"text-align: right;\">\n",
       "      <th></th>\n",
       "      <th>county_label</th>\n",
       "      <th>Predicted_Growth</th>\n",
       "    </tr>\n",
       "  </thead>\n",
       "  <tbody>\n",
       "    <tr>\n",
       "      <th>6301</th>\n",
       "      <td>Imperial County, CA</td>\n",
       "      <td>15.32%</td>\n",
       "    </tr>\n",
       "    <tr>\n",
       "      <th>7511</th>\n",
       "      <td>Coahoma County, MS</td>\n",
       "      <td>13.97%</td>\n",
       "    </tr>\n",
       "    <tr>\n",
       "      <th>7845</th>\n",
       "      <td>Pershing County, NV</td>\n",
       "      <td>13.25%</td>\n",
       "    </tr>\n",
       "    <tr>\n",
       "      <th>7059</th>\n",
       "      <td>Pawnee County, KS</td>\n",
       "      <td>12.5%</td>\n",
       "    </tr>\n",
       "    <tr>\n",
       "      <th>6723</th>\n",
       "      <td>Gallatin County, IL</td>\n",
       "      <td>12.06%</td>\n",
       "    </tr>\n",
       "    <tr>\n",
       "      <th>7822</th>\n",
       "      <td>Sheridan County, NE</td>\n",
       "      <td>11.91%</td>\n",
       "    </tr>\n",
       "    <tr>\n",
       "      <th>9039</th>\n",
       "      <td>Fayette County, WV</td>\n",
       "      <td>11.76%</td>\n",
       "    </tr>\n",
       "    <tr>\n",
       "      <th>7114</th>\n",
       "      <td>Casey County, KY</td>\n",
       "      <td>11.65%</td>\n",
       "    </tr>\n",
       "    <tr>\n",
       "      <th>7036</th>\n",
       "      <td>Labette County, KS</td>\n",
       "      <td>11.4%</td>\n",
       "    </tr>\n",
       "    <tr>\n",
       "      <th>7079</th>\n",
       "      <td>Stafford County, KS</td>\n",
       "      <td>11.35%</td>\n",
       "    </tr>\n",
       "  </tbody>\n",
       "</table>\n",
       "</div>"
      ],
      "text/plain": [
       "             county_label Predicted_Growth\n",
       "6301  Imperial County, CA           15.32%\n",
       "7511   Coahoma County, MS           13.97%\n",
       "7845  Pershing County, NV           13.25%\n",
       "7059    Pawnee County, KS            12.5%\n",
       "6723  Gallatin County, IL           12.06%\n",
       "7822  Sheridan County, NE           11.91%\n",
       "9039   Fayette County, WV           11.76%\n",
       "7114     Casey County, KY           11.65%\n",
       "7036   Labette County, KS            11.4%\n",
       "7079  Stafford County, KS           11.35%"
      ]
     },
     "metadata": {},
     "output_type": "display_data"
    },
    {
     "name": "stdout",
     "output_type": "stream",
     "text": [
      "\n",
      "Bottom 10 Counties by Predicted Growth (2026):\n"
     ]
    },
    {
     "data": {
      "text/html": [
       "<div>\n",
       "<style scoped>\n",
       "    .dataframe tbody tr th:only-of-type {\n",
       "        vertical-align: middle;\n",
       "    }\n",
       "\n",
       "    .dataframe tbody tr th {\n",
       "        vertical-align: top;\n",
       "    }\n",
       "\n",
       "    .dataframe thead th {\n",
       "        text-align: right;\n",
       "    }\n",
       "</style>\n",
       "<table border=\"1\" class=\"dataframe\">\n",
       "  <thead>\n",
       "    <tr style=\"text-align: right;\">\n",
       "      <th></th>\n",
       "      <th>county_label</th>\n",
       "      <th>Predicted_Growth</th>\n",
       "    </tr>\n",
       "  </thead>\n",
       "  <tbody>\n",
       "    <tr>\n",
       "      <th>6687</th>\n",
       "      <td>Payette County, ID</td>\n",
       "      <td>-11.3%</td>\n",
       "    </tr>\n",
       "    <tr>\n",
       "      <th>6661</th>\n",
       "      <td>Boundary County, ID</td>\n",
       "      <td>-12.32%</td>\n",
       "    </tr>\n",
       "    <tr>\n",
       "      <th>6668</th>\n",
       "      <td>Custer County, ID</td>\n",
       "      <td>-12.59%</td>\n",
       "    </tr>\n",
       "    <tr>\n",
       "      <th>7674</th>\n",
       "      <td>Schuyler County, MO</td>\n",
       "      <td>-12.85%</td>\n",
       "    </tr>\n",
       "    <tr>\n",
       "      <th>9168</th>\n",
       "      <td>Lincoln County, WY</td>\n",
       "      <td>-13.47%</td>\n",
       "    </tr>\n",
       "    <tr>\n",
       "      <th>7703</th>\n",
       "      <td>Fallon County, MT</td>\n",
       "      <td>-14.21%</td>\n",
       "    </tr>\n",
       "    <tr>\n",
       "      <th>8809</th>\n",
       "      <td>Williamson County, TX</td>\n",
       "      <td>-14.47%</td>\n",
       "    </tr>\n",
       "    <tr>\n",
       "      <th>6682</th>\n",
       "      <td>Madison County, ID</td>\n",
       "      <td>-15.04%</td>\n",
       "    </tr>\n",
       "    <tr>\n",
       "      <th>8438</th>\n",
       "      <td>Butte County, SD</td>\n",
       "      <td>-15.55%</td>\n",
       "    </tr>\n",
       "    <tr>\n",
       "      <th>8790</th>\n",
       "      <td>Travis County, TX</td>\n",
       "      <td>-17.22%</td>\n",
       "    </tr>\n",
       "  </tbody>\n",
       "</table>\n",
       "</div>"
      ],
      "text/plain": [
       "               county_label Predicted_Growth\n",
       "6687     Payette County, ID           -11.3%\n",
       "6661    Boundary County, ID          -12.32%\n",
       "6668      Custer County, ID          -12.59%\n",
       "7674    Schuyler County, MO          -12.85%\n",
       "9168     Lincoln County, WY          -13.47%\n",
       "7703      Fallon County, MT          -14.21%\n",
       "8809  Williamson County, TX          -14.47%\n",
       "6682     Madison County, ID          -15.04%\n",
       "8438       Butte County, SD          -15.55%\n",
       "8790      Travis County, TX          -17.22%"
      ]
     },
     "metadata": {},
     "output_type": "display_data"
    },
    {
     "name": "stdout",
     "output_type": "stream",
     "text": [
      "Saved: artifacts\\top10_2026.csv, artifacts\\bottom10_2026.csv\n",
      "\n",
      "National average predicted growth (2026): 2.23%\n"
     ]
    }
   ],
   "source": [
    "# 2026 Map + Exports + Top/Bottom 10 Tables (artifacts folder) \n",
    "import os\n",
    "import json\n",
    "import requests\n",
    "import numpy as np\n",
    "import pandas as pd\n",
    "import plotly.express as px\n",
    "\n",
    "#  Ensure artifacts folder exists \n",
    "ARTIFACTS_DIR = \"artifacts\"\n",
    "os.makedirs(ARTIFACTS_DIR, exist_ok=True)\n",
    "\n",
    "# \"County, ST\" map from Plotly GeoJSON \n",
    "def build_county_label_map(geojson_url: str):\n",
    "    state_fips_to_abbr = {\n",
    "        '01':'AL','02':'AK','04':'AZ','05':'AR','06':'CA','08':'CO','09':'CT','10':'DE','11':'DC','12':'FL',\n",
    "        '13':'GA','15':'HI','16':'ID','17':'IL','18':'IN','19':'IA','20':'KS','21':'KY','22':'LA','23':'ME',\n",
    "        '24':'MD','25':'MA','26':'MI','27':'MN','28':'MS','29':'MO','30':'MT','31':'NE','32':'NV','33':'NH',\n",
    "        '34':'NJ','35':'NM','36':'NY','37':'NC','38':'ND','39':'OH','40':'OK','41':'OR','42':'PA','44':'RI',\n",
    "        '45':'SC','46':'SD','47':'TN','48':'TX','49':'UT','50':'VT','51':'VA','53':'WA','54':'WV','55':'WI','56':'WY'\n",
    "    }\n",
    "    resp = requests.get(geojson_url, timeout=30)\n",
    "    resp.raise_for_status()\n",
    "    gj = resp.json()\n",
    "    name_map = {}\n",
    "    for feat in gj[\"features\"]:\n",
    "        fips = feat.get(\"id\")\n",
    "        props = feat.get(\"properties\", {})\n",
    "        name = props.get(\"NAME\") or props.get(\"name\") or \"\"\n",
    "        state_fips = str(props.get(\"STATE\") or props.get(\"state\") or \"\").zfill(2)\n",
    "        st = state_fips_to_abbr.get(state_fips, \"\")\n",
    "\n",
    "        if state_fips == '22':\n",
    "            suffix = \"Parish\"\n",
    "        elif state_fips == '02':\n",
    "            suffix = \"Borough\"\n",
    "        elif state_fips == '11':\n",
    "            suffix = \"\"\n",
    "        else:\n",
    "            suffix = \"County\"\n",
    "\n",
    "        if name == \"District of Columbia\":\n",
    "            label = \"District of Columbia, DC\"\n",
    "        else:\n",
    "            label = f\"{name} {suffix}, {st}\".strip().replace(\"  \", \" \")\n",
    "        if fips:\n",
    "            name_map[fips] = label\n",
    "    return name_map\n",
    "\n",
    "# Build 2026 frame\n",
    "required = {county_col, \"year\", \"yhat\"}\n",
    "missing = [c for c in required if c not in pred.columns]\n",
    "if missing:\n",
    "    raise ValueError(f\"Missing required columns in pred: {missing}\")\n",
    "\n",
    "df2026 = pred.loc[pred[\"year\"] == 2026, [county_col, \"yhat\"]].copy()\n",
    "if df2026.empty:\n",
    "    raise ValueError(\"No rows found for 2026.\")\n",
    "\n",
    "df2026[county_col] = df2026[county_col].astype(str).str.zfill(5)\n",
    "\n",
    "# Add labels from GeoJSON\n",
    "GEOJSON_URL = \"https://raw.githubusercontent.com/plotly/datasets/master/geojson-counties-fips.json\"\n",
    "name_map = build_county_label_map(GEOJSON_URL)\n",
    "df2026[\"county_label\"] = df2026[county_col].map(name_map).fillna(df2026[county_col])\n",
    "\n",
    "# Symmetric color scaling \n",
    "finite_vals = df2026[\"yhat\"].replace([np.inf, -np.inf], np.nan).dropna()\n",
    "lo, hi = np.nanpercentile(finite_vals, [2, 98])\n",
    "vmax = float(max(abs(lo), abs(hi))) if np.isfinite([lo, hi]).all() else float(np.nanmax(np.abs(finite_vals)))\n",
    "if not np.isfinite(vmax) or vmax == 0:\n",
    "    vmax = float(np.nanmax(np.abs(finite_vals))) or 1.0\n",
    "\n",
    "#Choropleth\n",
    "fig = px.choropleth(\n",
    "    df2026,\n",
    "    geojson=GEOJSON_URL,\n",
    "    locations=county_col,\n",
    "    color=\"yhat\",\n",
    "    color_continuous_scale=px.colors.diverging.RdYlGn_r,\n",
    "    range_color=(-vmax, vmax),\n",
    "    color_continuous_midpoint=0,\n",
    "    scope=\"usa\",\n",
    "    labels={\"yhat\": \"Predicted Growth (%)\"},\n",
    "    title=\"Predicted County-Level Real Estate Growth (2026)\",\n",
    "    custom_data=[\"county_label\"]\n",
    ")\n",
    "fig.update_layout(\n",
    "    coloraxis_colorbar=dict(title=\"Predicted Growth\", tickformat=\".1%\"),\n",
    "    margin=dict(l=0, r=0, t=60, b=0),\n",
    "    title=dict(x=0.5, xanchor=\"center\")\n",
    ")\n",
    "fig.update_traces(\n",
    "    marker_line_width=0.25,\n",
    "    marker_line_color=\"rgba(0,0,0,0.5)\",\n",
    "    hovertemplate=\"%{customdata[0]}<br>Growth: %{z:.2%}<extra></extra>\"\n",
    ")\n",
    "\n",
    "#Save PNG + HTML in artifacts\n",
    "png_path = os.path.join(ARTIFACTS_DIR, \"growth_2026.png\")\n",
    "html_path = os.path.join(ARTIFACTS_DIR, \"growth_2026.html\")\n",
    "\n",
    "try:\n",
    "    fig.write_image(png_path, scale=3, width=1200, height=750)\n",
    "    print(f\"Saved: {png_path}\")\n",
    "except Exception as e:\n",
    "    print(\"PNG export failed. Install kaleido via: pip install -U kaleido\")\n",
    "    print(f\"Error: {e}\")\n",
    "\n",
    "fig.write_html(html_path, include_plotlyjs=\"cdn\")\n",
    "print(f\"Saved: {html_path}\")\n",
    "\n",
    "# -------- Top / Bottom 10 tables + CSV --------\n",
    "df_show = df2026[[\"county_label\", \"yhat\"]].copy().sort_values(\"yhat\", ascending=False)\n",
    "\n",
    "top10 = df_show.head(10).copy()\n",
    "bot10 = df_show.tail(10).copy()\n",
    "\n",
    "def _fmt_pct(s): return (s*100).round(2).astype(str) + \"%\"\n",
    "\n",
    "print(\"\\nTop 10 Counties by Predicted Growth (2026):\")\n",
    "display(top10.assign(Predicted_Growth=_fmt_pct(top10[\"yhat\"]))[[\"county_label\", \"Predicted_Growth\"]])\n",
    "\n",
    "print(\"\\nBottom 10 Counties by Predicted Growth (2026):\")\n",
    "display(bot10.assign(Predicted_Growth=_fmt_pct(bot10[\"yhat\"]))[[\"county_label\", \"Predicted_Growth\"]])\n",
    "\n",
    "top_path = os.path.join(ARTIFACTS_DIR, \"top10_2026.csv\")\n",
    "bot_path = os.path.join(ARTIFACTS_DIR, \"bottom10_2026.csv\")\n",
    "top10.to_csv(top_path, index=False)\n",
    "bot10.to_csv(bot_path, index=False)\n",
    "print(f\"Saved: {top_path}, {bot_path}\")\n",
    "\n",
    "# -------- National average --------\n",
    "national_avg = float(df2026[\"yhat\"].mean())\n",
    "print(f\"\\nNational average predicted growth (2026): {national_avg:.2%}\")\n"
   ]
  },
  {
   "cell_type": "code",
   "execution_count": 7,
   "id": "1e196ce6-42c1-45bd-af71-7f3c0ad2a485",
   "metadata": {},
   "outputs": [
    {
     "name": "stdout",
     "output_type": "stream",
     "text": [
      "Requirement already satisfied: plotly>=6.1.1 in c:\\users\\wesle\\anaconda3\\lib\\site-packages (6.3.0)\n",
      "Requirement already satisfied: kaleido in c:\\users\\wesle\\anaconda3\\lib\\site-packages (1.0.0)\n",
      "Requirement already satisfied: narwhals>=1.15.1 in c:\\users\\wesle\\anaconda3\\lib\\site-packages (from plotly>=6.1.1) (2.2.0)\n",
      "Requirement already satisfied: packaging in c:\\users\\wesle\\anaconda3\\lib\\site-packages (from plotly>=6.1.1) (24.1)\n",
      "Requirement already satisfied: choreographer>=1.0.5 in c:\\users\\wesle\\anaconda3\\lib\\site-packages (from kaleido) (1.0.10)\n",
      "Requirement already satisfied: logistro>=1.0.8 in c:\\users\\wesle\\anaconda3\\lib\\site-packages (from kaleido) (1.1.0)\n",
      "Requirement already satisfied: orjson>=3.10.15 in c:\\users\\wesle\\anaconda3\\lib\\site-packages (from kaleido) (3.11.3)\n",
      "Requirement already satisfied: simplejson>=3.19.3 in c:\\users\\wesle\\anaconda3\\lib\\site-packages (from choreographer>=1.0.5->kaleido) (3.20.1)\n"
     ]
    }
   ],
   "source": [
    "\n",
    "!pip install -U \"plotly>=6.1.1\" kaleido\n"
   ]
  },
  {
   "cell_type": "code",
   "execution_count": 9,
   "id": "092e07f5-9515-4096-95c8-2137a428d5bd",
   "metadata": {},
   "outputs": [
    {
     "name": "stdout",
     "output_type": "stream",
     "text": [
      "6.3.0\n",
      "Saved: artifacts/map_2026.png\n"
     ]
    }
   ],
   "source": [
    "import plotly, kaleido\n",
    "print(plotly.__version__)   # should be 6.1.1+\n",
    "out_png = \"artifacts/map_2026.png\"\n",
    "fig.write_image(out_png, scale=2)\n",
    "print(\"Saved:\", out_png)\n"
   ]
  },
  {
   "cell_type": "code",
   "execution_count": 35,
   "id": "e6fb6831-bc3d-4a04-abe3-dca73081ae6e",
   "metadata": {},
   "outputs": [
    {
     "name": "stdout",
     "output_type": "stream",
     "text": [
      "Saved: artifacts\\top10_bar_2026.png\n",
      "Saved: artifacts\\top10_bar_2026.html\n"
     ]
    }
   ],
   "source": [
    "# === Top 10 Bar Chart (saved to artifacts) ===\n",
    "import os\n",
    "import numpy as np\n",
    "import pandas as pd\n",
    "import plotly.express as px\n",
    "\n",
    "ARTIFACTS_DIR = \"artifacts\"\n",
    "os.makedirs(ARTIFACTS_DIR, exist_ok=True)\n",
    "\n",
    "# Reuse existing top10 if available; otherwise rebuild from df2026\n",
    "if \"top10\" not in globals():\n",
    "    if \"df2026\" not in globals():\n",
    "        raise RuntimeError(\"df2026 not found. Run the 2026 map block first.\")\n",
    "    df_show = df2026[[\"county_label\", \"yhat\"]].copy().sort_values(\"yhat\", ascending=False)\n",
    "    top10 = df_show.head(10).copy()\n",
    "\n",
    "# For a clean label ordering (descending)\n",
    "top10_plot = top10.sort_values(\"yhat\", ascending=True)  # ascending for horizontal bar (smallest at top)\n",
    "\n",
    "fig_bar = px.bar(\n",
    "    top10_plot,\n",
    "    x=\"yhat\",\n",
    "    y=\"county_label\",\n",
    "    orientation=\"h\",\n",
    "    labels={\"yhat\": \"Predicted Growth (%)\", \"county_label\": \"\"},\n",
    "    title=\"Top 10 Counties by Predicted Real Estate Growth (2026)\",\n",
    "    text=top10_plot[\"yhat\"].map(lambda v: f\"{v:.2%}\")  # on-bar percent labels\n",
    ")\n",
    "\n",
    "# Polished layout: percent axis ticks, margin for long labels\n",
    "fig_bar.update_layout(\n",
    "    xaxis=dict(tickformat=\".1%\"),\n",
    "    margin=dict(l=160, r=40, t=70, b=40),\n",
    "    title=dict(x=0.5, xanchor=\"center\")\n",
    ")\n",
    "fig_bar.update_traces(\n",
    "    textposition=\"outside\",\n",
    "    cliponaxis=False\n",
    ")\n",
    "\n",
    "# Save PNG + HTML\n",
    "bar_png = os.path.join(ARTIFACTS_DIR, \"top10_bar_2026.png\")\n",
    "bar_html = os.path.join(ARTIFACTS_DIR, \"top10_bar_2026.html\")\n",
    "try:\n",
    "    fig_bar.write_image(bar_png, scale=3, width=1100, height=650)\n",
    "    print(f\"Saved: {bar_png}\")\n",
    "except Exception as e:\n",
    "    print(\"PNG export failed. Install kaleido via: pip install -U kaleido\")\n",
    "    print(f\"Error: {e}\")\n",
    "\n",
    "fig_bar.write_html(bar_html, include_plotlyjs=\"cdn\")\n",
    "print(f\"Saved: {bar_html}\")\n"
   ]
  },
  {
   "cell_type": "code",
   "execution_count": 37,
   "id": "217aba99-b5b2-49f6-9bd8-5e20cedab935",
   "metadata": {},
   "outputs": [
    {
     "name": "stdout",
     "output_type": "stream",
     "text": [
      "Saved: artifacts\\bottom10_bar_2026.png\n",
      "Saved: artifacts\\bottom10_bar_2026.html\n"
     ]
    }
   ],
   "source": [
    "# === Bottom 10 Bar Chart (saved to artifacts) ===\n",
    "import os\n",
    "import numpy as np\n",
    "import pandas as pd\n",
    "import plotly.express as px\n",
    "\n",
    "ARTIFACTS_DIR = \"artifacts\"\n",
    "os.makedirs(ARTIFACTS_DIR, exist_ok=True)\n",
    "\n",
    "# Reuse existing bot10 if available; otherwise rebuild from df2026\n",
    "if \"bot10\" not in globals():\n",
    "    if \"df2026\" not in globals():\n",
    "        raise RuntimeError(\"df2026 not found. Run the 2026 map block first.\")\n",
    "    # Build bottom 10 from scratch to avoid ordering surprises\n",
    "    df_show = df2026[[\"county_label\", \"yhat\"]].copy()\n",
    "    bot10 = df_show.sort_values(\"yhat\", ascending=True).head(10).copy()\n",
    "\n",
    "# For a clean horizontal plot with the *lowest* at the top\n",
    "bot10_plot = bot10.sort_values(\"yhat\", ascending=True)\n",
    "\n",
    "fig_bar_bot = px.bar(\n",
    "    bot10_plot,\n",
    "    x=\"yhat\",\n",
    "    y=\"county_label\",\n",
    "    orientation=\"h\",\n",
    "    labels={\"yhat\": \"Predicted Growth (%)\", \"county_label\": \"\"},\n",
    "    title=\"Bottom 10 Counties by Predicted Real Estate Growth (2026)\",\n",
    "    text=bot10_plot[\"yhat\"].map(lambda v: f\"{v:.2%}\")\n",
    ")\n",
    "\n",
    "# Polished layout: percent ticks, extra left margin for long names\n",
    "fig_bar_bot.update_layout(\n",
    "    xaxis=dict(tickformat=\".1%\"),\n",
    "    margin=dict(l=180, r=40, t=70, b=40),\n",
    "    title=dict(x=0.5, xanchor=\"center\")\n",
    ")\n",
    "fig_bar_bot.update_traces(\n",
    "    textposition=\"outside\",\n",
    "    cliponaxis=False\n",
    ")\n",
    "\n",
    "# Save PNG + HTML\n",
    "bot_bar_png = os.path.join(ARTIFACTS_DIR, \"bottom10_bar_2026.png\")\n",
    "bot_bar_html = os.path.join(ARTIFACTS_DIR, \"bottom10_bar_2026.html\")\n",
    "try:\n",
    "    fig_bar_bot.write_image(bot_bar_png, scale=3, width=1100, height=650)\n",
    "    print(f\"Saved: {bot_bar_png}\")\n",
    "except Exception as e:\n",
    "    print(\"PNG export failed. Install kaleido via: pip install -U kaleido\")\n",
    "    print(f\"Error: {e}\")\n",
    "\n",
    "fig_bar_bot.write_html(bot_bar_html, include_plotlyjs=\"cdn\")\n",
    "print(f\"Saved: {bot_bar_html}\")\n"
   ]
  },
  {
   "cell_type": "code",
   "execution_count": null,
   "id": "5bb48a20-a858-48df-8b8a-5695ad841645",
   "metadata": {},
   "outputs": [],
   "source": []
  }
 ],
 "metadata": {
  "kernelspec": {
   "display_name": "Python [conda env:base] *",
   "language": "python",
   "name": "conda-base-py"
  },
  "language_info": {
   "codemirror_mode": {
    "name": "ipython",
    "version": 3
   },
   "file_extension": ".py",
   "mimetype": "text/x-python",
   "name": "python",
   "nbconvert_exporter": "python",
   "pygments_lexer": "ipython3",
   "version": "3.12.7"
  }
 },
 "nbformat": 4,
 "nbformat_minor": 5
}
